{
  "nbformat": 4,
  "nbformat_minor": 0,
  "metadata": {
    "colab": {
      "name": "Copy of CS6271_Kaggle Competition",
      "provenance": [],
      "collapsed_sections": [],
      "include_colab_link": true
    },
    "kernelspec": {
      "display_name": "Python 3",
      "name": "python3"
    },
    "language_info": {
      "name": "python"
    }
  },
  "cells": [
    {
      "cell_type": "markdown",
      "metadata": {
        "id": "view-in-github",
        "colab_type": "text"
      },
      "source": [
        "<a href=\"https://colab.research.google.com/github/conorlime/CS6271/blob/main/Copy%20of%20CS6271%20Kaggle%20Competition.ipynb\" target=\"_parent\"><img src=\"https://colab.research.google.com/assets/colab-badge.svg\" alt=\"Open In Colab\"/></a>"
      ]
    },
    {
      "cell_type": "markdown",
      "metadata": {
        "id": "-XOdi_QPFAhs"
      },
      "source": [
        "<div>\n",
        "<img src=\"http://hive.csis.ul.ie/UL_logo.jpeg\" width=\"350\"/>\n",
        "</div> \n",
        "\n",
        "#**Artificial Intelligence - MSc**\n",
        "##CS6271 - Evolutionary Algorithms and Humanoid Robotics \n",
        "### Kaggle Competition\n",
        "\n",
        "\n",
        "Leader: Conor Ryan\n",
        "\n",
        "Developer: Enrique Naredo\n",
        "\n",
        "Tester: Allan De Lima"
      ]
    },
    {
      "cell_type": "markdown",
      "metadata": {
        "id": "bTCSqsLKpNUm"
      },
      "source": [
        "## Introduction"
      ]
    },
    {
      "cell_type": "markdown",
      "metadata": {
        "id": "lix_hvw6pPfW"
      },
      "source": [
        "This notebook contains bare-bones functionality to generate either GP or GE models and submit the results to Kaggle. We will be using the **United States census dataset**.\n",
        "\n",
        "The [United States census](https://en.wikipedia.org/wiki/United_States_census) is a census that is legally mandated by the US Constitution, and takes place every 10 years. \n",
        "* The first census after the American Revolution was taken in 1790, under Secretary of State Thomas Jefferson; there have been 23 federal censuses since that time."
      ]
    },
    {
      "cell_type": "code",
      "metadata": {
        "id": "HIEqtVydu7fj"
      },
      "source": [
        "# Libraries\n",
        "import numpy as np\n",
        "import pandas as pd\n",
        "import matplotlib.pyplot as plt"
      ],
      "execution_count": null,
      "outputs": []
    },
    {
      "cell_type": "markdown",
      "metadata": {
        "id": "4vQB8et9rEpq"
      },
      "source": [
        "## Dataset"
      ]
    },
    {
      "cell_type": "markdown",
      "metadata": {
        "id": "QscZZ7V1p-hE"
      },
      "source": [
        "This one of the availables USA census dataset and provides 14 input variables that are a mixture of categorical, ordinal, and numerical data types:\n",
        "\n",
        "1. Age\n",
        "2. Workclass\n",
        "3. Final Weight\n",
        "4. Education\n",
        "5. Education Number of Years\n",
        "6. Marital-status\n",
        "7. Occupation\n",
        "8. Relationship\n",
        "9. Race\n",
        "10. Sex\n",
        "11. Capital-gain\n",
        "12.Capital-loss\n",
        "13. Hours-per-week\n",
        "14. Native-country\n"
      ]
    },
    {
      "cell_type": "markdown",
      "metadata": {
        "id": "CKQt8K-Iqq7z"
      },
      "source": [
        "This is a binary classification problem where the task is to predict whether a given adult makes more than $\\$50,000$. \n",
        "* Class 0 $<= \\$50,000$, \n",
        "* Class 1 $> \\$50,000$."
      ]
    },
    {
      "cell_type": "markdown",
      "metadata": {
        "id": "BIGPTYpVreAH"
      },
      "source": [
        "### Load the dataset"
      ]
    },
    {
      "cell_type": "code",
      "metadata": {
        "id": "S5YbcZQU7xfz"
      },
      "source": [
        "# Suppressing Warnings:\n",
        "import warnings\n",
        "warnings.filterwarnings(\"ignore\")"
      ],
      "execution_count": null,
      "outputs": []
    },
    {
      "cell_type": "code",
      "metadata": {
        "id": "qkRwXuzOZ_ci",
        "colab": {
          "base_uri": "https://localhost:8080/"
        },
        "outputId": "420b1869-4da9-4615-e2bc-d2511f7709b6"
      },
      "source": [
        "## mount your Google drive\n",
        "# 1) click on the link\n",
        "# 2) sign in\n",
        "# 3) copy the provided code\n",
        "# 4) paste it in the text box bellow\n",
        "# 5) click the folder icon at the right\n",
        "# 6) verify your drive is mounted\n",
        "\n",
        "from google.colab import drive\n",
        "drive.mount('/content/drive', force_remount=True)"
      ],
      "execution_count": null,
      "outputs": [
        {
          "output_type": "stream",
          "name": "stdout",
          "text": [
            "Mounted at /content/drive\n"
          ]
        }
      ]
    },
    {
      "cell_type": "markdown",
      "metadata": {
        "id": "xrYC0mfKFkh7"
      },
      "source": [
        "Clone the GRAPE repository at first because the dataset to be used is already there."
      ]
    },
    {
      "cell_type": "code",
      "metadata": {
        "id": "lSDPe5O9FOt0",
        "colab": {
          "base_uri": "https://localhost:8080/"
        },
        "outputId": "416f978f-94ca-4004-b0cb-4333f156d1b1"
      },
      "source": [
        "import os\n",
        "# Get the library from our BDS research Group\n",
        "# copy the path from your drive\n",
        "PATH = '/content/drive/MyDrive/grape/'\n",
        "\n",
        "# check if 'grape' already exists\n",
        "if os.path.exists(PATH):\n",
        "    print('grape directory already exists')\n",
        "else:\n",
        "    %cd /content/drive/MyDrive/\n",
        "    !git clone https://github.com/UL-BDS/grape.git \n",
        "    print('Cloning grape in your Drive')\n",
        "\n",
        "# change directory to 'grape'\n",
        "%cd /content/drive/MyDrive/grape/"
      ],
      "execution_count": null,
      "outputs": [
        {
          "output_type": "stream",
          "name": "stdout",
          "text": [
            "grape directory already exists\n",
            "/content/drive/MyDrive/grape\n"
          ]
        }
      ]
    },
    {
      "cell_type": "markdown",
      "metadata": {
        "id": "CpHKEV4avk8j"
      },
      "source": [
        "### Train set"
      ]
    },
    {
      "cell_type": "code",
      "metadata": {
        "id": "NjzisImfFrNS"
      },
      "source": [
        "train_file = 'datasets/USA_census_train.csv'"
      ],
      "execution_count": null,
      "outputs": []
    },
    {
      "cell_type": "code",
      "metadata": {
        "colab": {
          "base_uri": "https://localhost:8080/",
          "height": 343
        },
        "id": "Iu2IFnaMtrH6",
        "outputId": "22439f21-f3a7-42ca-97d0-f95bfc913b28"
      },
      "source": [
        "# load train set\n",
        "df_train = pd.read_csv(PATH+train_file)\n",
        "df_train.head()"
      ],
      "execution_count": null,
      "outputs": [
        {
          "output_type": "execute_result",
          "data": {
            "text/html": [
              "<div>\n",
              "<style scoped>\n",
              "    .dataframe tbody tr th:only-of-type {\n",
              "        vertical-align: middle;\n",
              "    }\n",
              "\n",
              "    .dataframe tbody tr th {\n",
              "        vertical-align: top;\n",
              "    }\n",
              "\n",
              "    .dataframe thead th {\n",
              "        text-align: right;\n",
              "    }\n",
              "</style>\n",
              "<table border=\"1\" class=\"dataframe\">\n",
              "  <thead>\n",
              "    <tr style=\"text-align: right;\">\n",
              "      <th></th>\n",
              "      <th>id</th>\n",
              "      <th>age</th>\n",
              "      <th>workclass</th>\n",
              "      <th>fnlwgt</th>\n",
              "      <th>education</th>\n",
              "      <th>education-num</th>\n",
              "      <th>marital-status</th>\n",
              "      <th>occupation</th>\n",
              "      <th>relationship</th>\n",
              "      <th>race</th>\n",
              "      <th>sex</th>\n",
              "      <th>capital-gain</th>\n",
              "      <th>capital-loss</th>\n",
              "      <th>hours-per-week:</th>\n",
              "      <th>native-country</th>\n",
              "      <th>class_label</th>\n",
              "    </tr>\n",
              "  </thead>\n",
              "  <tbody>\n",
              "    <tr>\n",
              "      <th>0</th>\n",
              "      <td>0</td>\n",
              "      <td>39</td>\n",
              "      <td>State-gov</td>\n",
              "      <td>77516</td>\n",
              "      <td>Bachelors</td>\n",
              "      <td>13</td>\n",
              "      <td>Never-married</td>\n",
              "      <td>Adm-clerical</td>\n",
              "      <td>Not-in-family</td>\n",
              "      <td>White</td>\n",
              "      <td>Male</td>\n",
              "      <td>2174</td>\n",
              "      <td>0</td>\n",
              "      <td>40</td>\n",
              "      <td>United-States</td>\n",
              "      <td>&lt;=50K</td>\n",
              "    </tr>\n",
              "    <tr>\n",
              "      <th>1</th>\n",
              "      <td>1</td>\n",
              "      <td>50</td>\n",
              "      <td>Self-emp-not-inc</td>\n",
              "      <td>83311</td>\n",
              "      <td>Bachelors</td>\n",
              "      <td>13</td>\n",
              "      <td>Married-civ-spouse</td>\n",
              "      <td>Exec-managerial</td>\n",
              "      <td>Husband</td>\n",
              "      <td>White</td>\n",
              "      <td>Male</td>\n",
              "      <td>0</td>\n",
              "      <td>0</td>\n",
              "      <td>13</td>\n",
              "      <td>United-States</td>\n",
              "      <td>&lt;=50K</td>\n",
              "    </tr>\n",
              "    <tr>\n",
              "      <th>2</th>\n",
              "      <td>2</td>\n",
              "      <td>38</td>\n",
              "      <td>Private</td>\n",
              "      <td>215646</td>\n",
              "      <td>HS-grad</td>\n",
              "      <td>9</td>\n",
              "      <td>Divorced</td>\n",
              "      <td>Handlers-cleaners</td>\n",
              "      <td>Not-in-family</td>\n",
              "      <td>White</td>\n",
              "      <td>Male</td>\n",
              "      <td>0</td>\n",
              "      <td>0</td>\n",
              "      <td>40</td>\n",
              "      <td>United-States</td>\n",
              "      <td>&lt;=50K</td>\n",
              "    </tr>\n",
              "    <tr>\n",
              "      <th>3</th>\n",
              "      <td>3</td>\n",
              "      <td>53</td>\n",
              "      <td>Private</td>\n",
              "      <td>234721</td>\n",
              "      <td>11th</td>\n",
              "      <td>7</td>\n",
              "      <td>Married-civ-spouse</td>\n",
              "      <td>Handlers-cleaners</td>\n",
              "      <td>Husband</td>\n",
              "      <td>Black</td>\n",
              "      <td>Male</td>\n",
              "      <td>0</td>\n",
              "      <td>0</td>\n",
              "      <td>40</td>\n",
              "      <td>United-States</td>\n",
              "      <td>&lt;=50K</td>\n",
              "    </tr>\n",
              "    <tr>\n",
              "      <th>4</th>\n",
              "      <td>4</td>\n",
              "      <td>28</td>\n",
              "      <td>Private</td>\n",
              "      <td>338409</td>\n",
              "      <td>Bachelors</td>\n",
              "      <td>13</td>\n",
              "      <td>Married-civ-spouse</td>\n",
              "      <td>Prof-specialty</td>\n",
              "      <td>Wife</td>\n",
              "      <td>Black</td>\n",
              "      <td>Female</td>\n",
              "      <td>0</td>\n",
              "      <td>0</td>\n",
              "      <td>40</td>\n",
              "      <td>Cuba</td>\n",
              "      <td>&lt;=50K</td>\n",
              "    </tr>\n",
              "  </tbody>\n",
              "</table>\n",
              "</div>"
            ],
            "text/plain": [
              "   id  age         workclass  ...  hours-per-week: native-country  class_label\n",
              "0   0   39         State-gov  ...               40  United-States        <=50K\n",
              "1   1   50  Self-emp-not-inc  ...               13  United-States        <=50K\n",
              "2   2   38           Private  ...               40  United-States        <=50K\n",
              "3   3   53           Private  ...               40  United-States        <=50K\n",
              "4   4   28           Private  ...               40           Cuba        <=50K\n",
              "\n",
              "[5 rows x 16 columns]"
            ]
          },
          "metadata": {},
          "execution_count": 7
        }
      ]
    },
    {
      "cell_type": "code",
      "metadata": {
        "id": "SBQDVfs4vQNP",
        "colab": {
          "base_uri": "https://localhost:8080/",
          "height": 297
        },
        "outputId": "706f40d0-25e9-4cd4-badf-66f589ada8e0"
      },
      "source": [
        "df_train.describe()"
      ],
      "execution_count": null,
      "outputs": [
        {
          "output_type": "execute_result",
          "data": {
            "text/html": [
              "<div>\n",
              "<style scoped>\n",
              "    .dataframe tbody tr th:only-of-type {\n",
              "        vertical-align: middle;\n",
              "    }\n",
              "\n",
              "    .dataframe tbody tr th {\n",
              "        vertical-align: top;\n",
              "    }\n",
              "\n",
              "    .dataframe thead th {\n",
              "        text-align: right;\n",
              "    }\n",
              "</style>\n",
              "<table border=\"1\" class=\"dataframe\">\n",
              "  <thead>\n",
              "    <tr style=\"text-align: right;\">\n",
              "      <th></th>\n",
              "      <th>id</th>\n",
              "      <th>age</th>\n",
              "      <th>fnlwgt</th>\n",
              "      <th>education-num</th>\n",
              "      <th>capital-gain</th>\n",
              "      <th>capital-loss</th>\n",
              "      <th>hours-per-week:</th>\n",
              "    </tr>\n",
              "  </thead>\n",
              "  <tbody>\n",
              "    <tr>\n",
              "      <th>count</th>\n",
              "      <td>1000.000000</td>\n",
              "      <td>1000.000000</td>\n",
              "      <td>1.000000e+03</td>\n",
              "      <td>1000.00000</td>\n",
              "      <td>1000.000000</td>\n",
              "      <td>1000.000000</td>\n",
              "      <td>1000.000000</td>\n",
              "    </tr>\n",
              "    <tr>\n",
              "      <th>mean</th>\n",
              "      <td>541.981000</td>\n",
              "      <td>37.940000</td>\n",
              "      <td>1.921667e+05</td>\n",
              "      <td>10.19800</td>\n",
              "      <td>567.717000</td>\n",
              "      <td>102.534000</td>\n",
              "      <td>40.706000</td>\n",
              "    </tr>\n",
              "    <tr>\n",
              "      <th>std</th>\n",
              "      <td>314.257019</td>\n",
              "      <td>12.896927</td>\n",
              "      <td>1.079408e+05</td>\n",
              "      <td>2.50181</td>\n",
              "      <td>2432.128661</td>\n",
              "      <td>431.964552</td>\n",
              "      <td>11.802918</td>\n",
              "    </tr>\n",
              "    <tr>\n",
              "      <th>min</th>\n",
              "      <td>0.000000</td>\n",
              "      <td>17.000000</td>\n",
              "      <td>2.117400e+04</td>\n",
              "      <td>1.00000</td>\n",
              "      <td>0.000000</td>\n",
              "      <td>0.000000</td>\n",
              "      <td>1.000000</td>\n",
              "    </tr>\n",
              "    <tr>\n",
              "      <th>25%</th>\n",
              "      <td>270.750000</td>\n",
              "      <td>28.000000</td>\n",
              "      <td>1.154045e+05</td>\n",
              "      <td>9.00000</td>\n",
              "      <td>0.000000</td>\n",
              "      <td>0.000000</td>\n",
              "      <td>40.000000</td>\n",
              "    </tr>\n",
              "    <tr>\n",
              "      <th>50%</th>\n",
              "      <td>543.500000</td>\n",
              "      <td>37.000000</td>\n",
              "      <td>1.808920e+05</td>\n",
              "      <td>10.00000</td>\n",
              "      <td>0.000000</td>\n",
              "      <td>0.000000</td>\n",
              "      <td>40.000000</td>\n",
              "    </tr>\n",
              "    <tr>\n",
              "      <th>75%</th>\n",
              "      <td>816.250000</td>\n",
              "      <td>46.000000</td>\n",
              "      <td>2.471522e+05</td>\n",
              "      <td>13.00000</td>\n",
              "      <td>0.000000</td>\n",
              "      <td>0.000000</td>\n",
              "      <td>45.000000</td>\n",
              "    </tr>\n",
              "    <tr>\n",
              "      <th>max</th>\n",
              "      <td>1084.000000</td>\n",
              "      <td>90.000000</td>\n",
              "      <td>1.033222e+06</td>\n",
              "      <td>16.00000</td>\n",
              "      <td>25236.000000</td>\n",
              "      <td>2415.000000</td>\n",
              "      <td>99.000000</td>\n",
              "    </tr>\n",
              "  </tbody>\n",
              "</table>\n",
              "</div>"
            ],
            "text/plain": [
              "                id          age  ...  capital-loss  hours-per-week:\n",
              "count  1000.000000  1000.000000  ...   1000.000000      1000.000000\n",
              "mean    541.981000    37.940000  ...    102.534000        40.706000\n",
              "std     314.257019    12.896927  ...    431.964552        11.802918\n",
              "min       0.000000    17.000000  ...      0.000000         1.000000\n",
              "25%     270.750000    28.000000  ...      0.000000        40.000000\n",
              "50%     543.500000    37.000000  ...      0.000000        40.000000\n",
              "75%     816.250000    46.000000  ...      0.000000        45.000000\n",
              "max    1084.000000    90.000000  ...   2415.000000        99.000000\n",
              "\n",
              "[8 rows x 7 columns]"
            ]
          },
          "metadata": {},
          "execution_count": 8
        }
      ]
    },
    {
      "cell_type": "code",
      "metadata": {
        "id": "6NtyRPmvx4sq"
      },
      "source": [
        "X_train = df_train.copy()\n",
        "# warning: cannot drop it more than once\n",
        "X_train.drop(['class_label'], axis=1, inplace=True)"
      ],
      "execution_count": null,
      "outputs": []
    },
    {
      "cell_type": "code",
      "metadata": {
        "id": "iV-mN0J2xMdk"
      },
      "source": [
        "# class labels\n",
        "l, _ = X_train.shape\n",
        "\n",
        "y_train = np.zeros([l,], dtype=float)\n",
        "\n",
        "for i in range(l):\n",
        "  y_train[i] = 1 if df_train['class_label'].iloc[i] == \">50K\" else 0"
      ],
      "execution_count": null,
      "outputs": []
    },
    {
      "cell_type": "code",
      "metadata": {
        "id": "te26rlaBjLXd",
        "colab": {
          "base_uri": "https://localhost:8080/"
        },
        "outputId": "eee160e6-07be-402d-afa7-bbf41da8ae60"
      },
      "source": [
        "#y_train.head()\n",
        "print(y_train[0:5])"
      ],
      "execution_count": null,
      "outputs": [
        {
          "output_type": "stream",
          "name": "stdout",
          "text": [
            "[0. 0. 0. 0. 0.]\n"
          ]
        }
      ]
    },
    {
      "cell_type": "markdown",
      "metadata": {
        "id": "CwAxKV7nvpZ8"
      },
      "source": [
        "### Test set"
      ]
    },
    {
      "cell_type": "code",
      "metadata": {
        "id": "1IzzBvGUvtkI"
      },
      "source": [
        "test_file = 'datasets/USA_census_test.csv'"
      ],
      "execution_count": null,
      "outputs": []
    },
    {
      "cell_type": "code",
      "metadata": {
        "colab": {
          "base_uri": "https://localhost:8080/",
          "height": 343
        },
        "id": "DbAn0FpFvPhO",
        "outputId": "025ed793-6010-4876-e3f6-2ace65064a5a"
      },
      "source": [
        "# load test set\n",
        "df_test = pd.read_csv(PATH+test_file)\n",
        "df_test.head()"
      ],
      "execution_count": null,
      "outputs": [
        {
          "output_type": "execute_result",
          "data": {
            "text/html": [
              "<div>\n",
              "<style scoped>\n",
              "    .dataframe tbody tr th:only-of-type {\n",
              "        vertical-align: middle;\n",
              "    }\n",
              "\n",
              "    .dataframe tbody tr th {\n",
              "        vertical-align: top;\n",
              "    }\n",
              "\n",
              "    .dataframe thead th {\n",
              "        text-align: right;\n",
              "    }\n",
              "</style>\n",
              "<table border=\"1\" class=\"dataframe\">\n",
              "  <thead>\n",
              "    <tr style=\"text-align: right;\">\n",
              "      <th></th>\n",
              "      <th>id</th>\n",
              "      <th>age</th>\n",
              "      <th>workclass</th>\n",
              "      <th>fnlwgt</th>\n",
              "      <th>education</th>\n",
              "      <th>education-num</th>\n",
              "      <th>marital-status</th>\n",
              "      <th>occupation</th>\n",
              "      <th>relationship</th>\n",
              "      <th>race</th>\n",
              "      <th>sex</th>\n",
              "      <th>capital-gain</th>\n",
              "      <th>capital-loss</th>\n",
              "      <th>hours-per-week:</th>\n",
              "      <th>native-country</th>\n",
              "    </tr>\n",
              "  </thead>\n",
              "  <tbody>\n",
              "    <tr>\n",
              "      <th>0</th>\n",
              "      <td>1085</td>\n",
              "      <td>30</td>\n",
              "      <td>Private</td>\n",
              "      <td>241259</td>\n",
              "      <td>Assoc-voc</td>\n",
              "      <td>11</td>\n",
              "      <td>Married-civ-spouse</td>\n",
              "      <td>Transport-moving</td>\n",
              "      <td>Husband</td>\n",
              "      <td>White</td>\n",
              "      <td>Male</td>\n",
              "      <td>0</td>\n",
              "      <td>0</td>\n",
              "      <td>40</td>\n",
              "      <td>United-States</td>\n",
              "    </tr>\n",
              "    <tr>\n",
              "      <th>1</th>\n",
              "      <td>1086</td>\n",
              "      <td>32</td>\n",
              "      <td>Private</td>\n",
              "      <td>118161</td>\n",
              "      <td>HS-grad</td>\n",
              "      <td>9</td>\n",
              "      <td>Married-civ-spouse</td>\n",
              "      <td>Protective-serv</td>\n",
              "      <td>Husband</td>\n",
              "      <td>White</td>\n",
              "      <td>Male</td>\n",
              "      <td>0</td>\n",
              "      <td>0</td>\n",
              "      <td>40</td>\n",
              "      <td>United-States</td>\n",
              "    </tr>\n",
              "    <tr>\n",
              "      <th>2</th>\n",
              "      <td>1087</td>\n",
              "      <td>29</td>\n",
              "      <td>Private</td>\n",
              "      <td>201954</td>\n",
              "      <td>Bachelors</td>\n",
              "      <td>13</td>\n",
              "      <td>Never-married</td>\n",
              "      <td>Exec-managerial</td>\n",
              "      <td>Not-in-family</td>\n",
              "      <td>White</td>\n",
              "      <td>Male</td>\n",
              "      <td>0</td>\n",
              "      <td>0</td>\n",
              "      <td>35</td>\n",
              "      <td>United-States</td>\n",
              "    </tr>\n",
              "    <tr>\n",
              "      <th>3</th>\n",
              "      <td>1088</td>\n",
              "      <td>42</td>\n",
              "      <td>Private</td>\n",
              "      <td>150533</td>\n",
              "      <td>Some-college</td>\n",
              "      <td>10</td>\n",
              "      <td>Married-civ-spouse</td>\n",
              "      <td>Exec-managerial</td>\n",
              "      <td>Husband</td>\n",
              "      <td>White</td>\n",
              "      <td>Male</td>\n",
              "      <td>7298</td>\n",
              "      <td>0</td>\n",
              "      <td>52</td>\n",
              "      <td>United-States</td>\n",
              "    </tr>\n",
              "    <tr>\n",
              "      <th>4</th>\n",
              "      <td>1089</td>\n",
              "      <td>38</td>\n",
              "      <td>Private</td>\n",
              "      <td>412296</td>\n",
              "      <td>HS-grad</td>\n",
              "      <td>9</td>\n",
              "      <td>Divorced</td>\n",
              "      <td>Craft-repair</td>\n",
              "      <td>Own-child</td>\n",
              "      <td>White</td>\n",
              "      <td>Male</td>\n",
              "      <td>0</td>\n",
              "      <td>0</td>\n",
              "      <td>28</td>\n",
              "      <td>United-States</td>\n",
              "    </tr>\n",
              "  </tbody>\n",
              "</table>\n",
              "</div>"
            ],
            "text/plain": [
              "     id  age workclass  ...  capital-loss hours-per-week:  native-country\n",
              "0  1085   30   Private  ...             0              40   United-States\n",
              "1  1086   32   Private  ...             0              40   United-States\n",
              "2  1087   29   Private  ...             0              35   United-States\n",
              "3  1088   42   Private  ...             0              52   United-States\n",
              "4  1089   38   Private  ...             0              28   United-States\n",
              "\n",
              "[5 rows x 15 columns]"
            ]
          },
          "metadata": {},
          "execution_count": 13
        }
      ]
    },
    {
      "cell_type": "code",
      "metadata": {
        "id": "_Q0uvjTzvfLU",
        "colab": {
          "base_uri": "https://localhost:8080/",
          "height": 297
        },
        "outputId": "b6714046-b280-403a-80c1-7bbeeb02d8c2"
      },
      "source": [
        "df_test.describe()"
      ],
      "execution_count": null,
      "outputs": [
        {
          "output_type": "execute_result",
          "data": {
            "text/html": [
              "<div>\n",
              "<style scoped>\n",
              "    .dataframe tbody tr th:only-of-type {\n",
              "        vertical-align: middle;\n",
              "    }\n",
              "\n",
              "    .dataframe tbody tr th {\n",
              "        vertical-align: top;\n",
              "    }\n",
              "\n",
              "    .dataframe thead th {\n",
              "        text-align: right;\n",
              "    }\n",
              "</style>\n",
              "<table border=\"1\" class=\"dataframe\">\n",
              "  <thead>\n",
              "    <tr style=\"text-align: right;\">\n",
              "      <th></th>\n",
              "      <th>id</th>\n",
              "      <th>age</th>\n",
              "      <th>fnlwgt</th>\n",
              "      <th>education-num</th>\n",
              "      <th>capital-gain</th>\n",
              "      <th>capital-loss</th>\n",
              "      <th>hours-per-week:</th>\n",
              "    </tr>\n",
              "  </thead>\n",
              "  <tbody>\n",
              "    <tr>\n",
              "      <th>count</th>\n",
              "      <td>430.000000</td>\n",
              "      <td>430.000000</td>\n",
              "      <td>430.000000</td>\n",
              "      <td>430.000000</td>\n",
              "      <td>430.000000</td>\n",
              "      <td>430.000000</td>\n",
              "      <td>430.000000</td>\n",
              "    </tr>\n",
              "    <tr>\n",
              "      <th>mean</th>\n",
              "      <td>1321.360465</td>\n",
              "      <td>40.020930</td>\n",
              "      <td>192969.458140</td>\n",
              "      <td>10.258140</td>\n",
              "      <td>1534.923256</td>\n",
              "      <td>94.181395</td>\n",
              "      <td>41.979070</td>\n",
              "    </tr>\n",
              "    <tr>\n",
              "      <th>std</th>\n",
              "      <td>136.103528</td>\n",
              "      <td>12.586189</td>\n",
              "      <td>105554.118494</td>\n",
              "      <td>2.362462</td>\n",
              "      <td>9868.029117</td>\n",
              "      <td>408.643454</td>\n",
              "      <td>11.289248</td>\n",
              "    </tr>\n",
              "    <tr>\n",
              "      <th>min</th>\n",
              "      <td>1085.000000</td>\n",
              "      <td>17.000000</td>\n",
              "      <td>22154.000000</td>\n",
              "      <td>2.000000</td>\n",
              "      <td>0.000000</td>\n",
              "      <td>0.000000</td>\n",
              "      <td>5.000000</td>\n",
              "    </tr>\n",
              "    <tr>\n",
              "      <th>25%</th>\n",
              "      <td>1204.250000</td>\n",
              "      <td>30.000000</td>\n",
              "      <td>120862.500000</td>\n",
              "      <td>9.000000</td>\n",
              "      <td>0.000000</td>\n",
              "      <td>0.000000</td>\n",
              "      <td>40.000000</td>\n",
              "    </tr>\n",
              "    <tr>\n",
              "      <th>50%</th>\n",
              "      <td>1321.500000</td>\n",
              "      <td>40.000000</td>\n",
              "      <td>182582.000000</td>\n",
              "      <td>10.000000</td>\n",
              "      <td>0.000000</td>\n",
              "      <td>0.000000</td>\n",
              "      <td>40.000000</td>\n",
              "    </tr>\n",
              "    <tr>\n",
              "      <th>75%</th>\n",
              "      <td>1439.750000</td>\n",
              "      <td>49.000000</td>\n",
              "      <td>241324.250000</td>\n",
              "      <td>13.000000</td>\n",
              "      <td>0.000000</td>\n",
              "      <td>0.000000</td>\n",
              "      <td>45.000000</td>\n",
              "    </tr>\n",
              "    <tr>\n",
              "      <th>max</th>\n",
              "      <td>1552.000000</td>\n",
              "      <td>88.000000</td>\n",
              "      <td>795830.000000</td>\n",
              "      <td>16.000000</td>\n",
              "      <td>99999.000000</td>\n",
              "      <td>2339.000000</td>\n",
              "      <td>99.000000</td>\n",
              "    </tr>\n",
              "  </tbody>\n",
              "</table>\n",
              "</div>"
            ],
            "text/plain": [
              "                id         age  ...  capital-loss  hours-per-week:\n",
              "count   430.000000  430.000000  ...    430.000000       430.000000\n",
              "mean   1321.360465   40.020930  ...     94.181395        41.979070\n",
              "std     136.103528   12.586189  ...    408.643454        11.289248\n",
              "min    1085.000000   17.000000  ...      0.000000         5.000000\n",
              "25%    1204.250000   30.000000  ...      0.000000        40.000000\n",
              "50%    1321.500000   40.000000  ...      0.000000        40.000000\n",
              "75%    1439.750000   49.000000  ...      0.000000        45.000000\n",
              "max    1552.000000   88.000000  ...   2339.000000        99.000000\n",
              "\n",
              "[8 rows x 7 columns]"
            ]
          },
          "metadata": {},
          "execution_count": 14
        }
      ]
    },
    {
      "cell_type": "code",
      "metadata": {
        "id": "4Vu3FBV70F-M"
      },
      "source": [
        "X_test = df_test.copy()"
      ],
      "execution_count": null,
      "outputs": []
    },
    {
      "cell_type": "markdown",
      "metadata": {
        "id": "xogSlXT5v6GQ"
      },
      "source": [
        "We need to prepare both training and test datasets before working with a Machine Learning method. \n",
        "\n",
        "Consider the following tips:\n",
        "\n",
        "1.   Normalise real data;\n",
        "2.   Ignore columns that you think does not influence the class label (for example 'id');\n",
        "3.   Use some encoding method with categorical data.\n",
        "\n",
        "You are free to use other pre-processing ideas, and these don't only have to be ones we used in the module.\n",
        "\n",
        "You are **strongly** advised to familiarise yourself with Segment 5.04 on Sulis before attempting this.\n",
        "\n",
        "\n"
      ]
    },
    {
      "cell_type": "markdown",
      "metadata": {
        "id": "efkMdpZoT3tg"
      },
      "source": [
        "Number of categories on each categorical data:\n",
        "\n",
        "\n",
        "\n",
        "1.   workclass: 7\n",
        "2.   education: 16\n",
        "3.   marital-status: 7\n",
        "4. occupation: 14\n",
        "5. relationship: 6\n",
        "6. race: 5\n",
        "7. native-country: 41\n",
        "\n"
      ]
    },
    {
      "cell_type": "code",
      "metadata": {
        "colab": {
          "base_uri": "https://localhost:8080/"
        },
        "id": "CaLJCR4Bjcov",
        "outputId": "5494850d-09f1-491d-efe2-ce88d0dd84fc"
      },
      "source": [
        "X_train.dtypes"
      ],
      "execution_count": null,
      "outputs": [
        {
          "output_type": "execute_result",
          "data": {
            "text/plain": [
              "id                  int64\n",
              "age                 int64\n",
              "workclass          object\n",
              "fnlwgt              int64\n",
              "education          object\n",
              "education-num       int64\n",
              "marital-status     object\n",
              "occupation         object\n",
              "relationship       object\n",
              "race               object\n",
              "sex                object\n",
              "capital-gain        int64\n",
              "capital-loss        int64\n",
              "hours-per-week:     int64\n",
              "native-country     object\n",
              "dtype: object"
            ]
          },
          "metadata": {},
          "execution_count": 16
        }
      ]
    },
    {
      "cell_type": "code",
      "metadata": {
        "colab": {
          "base_uri": "https://localhost:8080/",
          "height": 343
        },
        "id": "X3s4x6Yuj6uh",
        "outputId": "3312cb14-f868-4434-b57b-6c005d353981"
      },
      "source": [
        "X_train.head()"
      ],
      "execution_count": null,
      "outputs": [
        {
          "output_type": "execute_result",
          "data": {
            "text/html": [
              "<div>\n",
              "<style scoped>\n",
              "    .dataframe tbody tr th:only-of-type {\n",
              "        vertical-align: middle;\n",
              "    }\n",
              "\n",
              "    .dataframe tbody tr th {\n",
              "        vertical-align: top;\n",
              "    }\n",
              "\n",
              "    .dataframe thead th {\n",
              "        text-align: right;\n",
              "    }\n",
              "</style>\n",
              "<table border=\"1\" class=\"dataframe\">\n",
              "  <thead>\n",
              "    <tr style=\"text-align: right;\">\n",
              "      <th></th>\n",
              "      <th>id</th>\n",
              "      <th>age</th>\n",
              "      <th>workclass</th>\n",
              "      <th>fnlwgt</th>\n",
              "      <th>education</th>\n",
              "      <th>education-num</th>\n",
              "      <th>marital-status</th>\n",
              "      <th>occupation</th>\n",
              "      <th>relationship</th>\n",
              "      <th>race</th>\n",
              "      <th>sex</th>\n",
              "      <th>capital-gain</th>\n",
              "      <th>capital-loss</th>\n",
              "      <th>hours-per-week:</th>\n",
              "      <th>native-country</th>\n",
              "    </tr>\n",
              "  </thead>\n",
              "  <tbody>\n",
              "    <tr>\n",
              "      <th>0</th>\n",
              "      <td>0</td>\n",
              "      <td>39</td>\n",
              "      <td>State-gov</td>\n",
              "      <td>77516</td>\n",
              "      <td>Bachelors</td>\n",
              "      <td>13</td>\n",
              "      <td>Never-married</td>\n",
              "      <td>Adm-clerical</td>\n",
              "      <td>Not-in-family</td>\n",
              "      <td>White</td>\n",
              "      <td>Male</td>\n",
              "      <td>2174</td>\n",
              "      <td>0</td>\n",
              "      <td>40</td>\n",
              "      <td>United-States</td>\n",
              "    </tr>\n",
              "    <tr>\n",
              "      <th>1</th>\n",
              "      <td>1</td>\n",
              "      <td>50</td>\n",
              "      <td>Self-emp-not-inc</td>\n",
              "      <td>83311</td>\n",
              "      <td>Bachelors</td>\n",
              "      <td>13</td>\n",
              "      <td>Married-civ-spouse</td>\n",
              "      <td>Exec-managerial</td>\n",
              "      <td>Husband</td>\n",
              "      <td>White</td>\n",
              "      <td>Male</td>\n",
              "      <td>0</td>\n",
              "      <td>0</td>\n",
              "      <td>13</td>\n",
              "      <td>United-States</td>\n",
              "    </tr>\n",
              "    <tr>\n",
              "      <th>2</th>\n",
              "      <td>2</td>\n",
              "      <td>38</td>\n",
              "      <td>Private</td>\n",
              "      <td>215646</td>\n",
              "      <td>HS-grad</td>\n",
              "      <td>9</td>\n",
              "      <td>Divorced</td>\n",
              "      <td>Handlers-cleaners</td>\n",
              "      <td>Not-in-family</td>\n",
              "      <td>White</td>\n",
              "      <td>Male</td>\n",
              "      <td>0</td>\n",
              "      <td>0</td>\n",
              "      <td>40</td>\n",
              "      <td>United-States</td>\n",
              "    </tr>\n",
              "    <tr>\n",
              "      <th>3</th>\n",
              "      <td>3</td>\n",
              "      <td>53</td>\n",
              "      <td>Private</td>\n",
              "      <td>234721</td>\n",
              "      <td>11th</td>\n",
              "      <td>7</td>\n",
              "      <td>Married-civ-spouse</td>\n",
              "      <td>Handlers-cleaners</td>\n",
              "      <td>Husband</td>\n",
              "      <td>Black</td>\n",
              "      <td>Male</td>\n",
              "      <td>0</td>\n",
              "      <td>0</td>\n",
              "      <td>40</td>\n",
              "      <td>United-States</td>\n",
              "    </tr>\n",
              "    <tr>\n",
              "      <th>4</th>\n",
              "      <td>4</td>\n",
              "      <td>28</td>\n",
              "      <td>Private</td>\n",
              "      <td>338409</td>\n",
              "      <td>Bachelors</td>\n",
              "      <td>13</td>\n",
              "      <td>Married-civ-spouse</td>\n",
              "      <td>Prof-specialty</td>\n",
              "      <td>Wife</td>\n",
              "      <td>Black</td>\n",
              "      <td>Female</td>\n",
              "      <td>0</td>\n",
              "      <td>0</td>\n",
              "      <td>40</td>\n",
              "      <td>Cuba</td>\n",
              "    </tr>\n",
              "  </tbody>\n",
              "</table>\n",
              "</div>"
            ],
            "text/plain": [
              "   id  age         workclass  ...  capital-loss hours-per-week:  native-country\n",
              "0   0   39         State-gov  ...             0              40   United-States\n",
              "1   1   50  Self-emp-not-inc  ...             0              13   United-States\n",
              "2   2   38           Private  ...             0              40   United-States\n",
              "3   3   53           Private  ...             0              40   United-States\n",
              "4   4   28           Private  ...             0              40            Cuba\n",
              "\n",
              "[5 rows x 15 columns]"
            ]
          },
          "metadata": {},
          "execution_count": 17
        }
      ]
    },
    {
      "cell_type": "markdown",
      "metadata": {
        "id": "4BVoHuYuC5y0"
      },
      "source": [
        "Normalise the data. Note that there is non-numeric data here, so that is why we will get NaN when we examine the results later on. For this example, we will ignore non-numeric data."
      ]
    },
    {
      "cell_type": "code",
      "metadata": {
        "id": "DpnC8E9RasIw",
        "colab": {
          "base_uri": "https://localhost:8080/",
          "height": 258
        },
        "outputId": "83282f6b-e380-4b36-b55e-62ab705b5674"
      },
      "source": [
        "# normalising numeric data    \n",
        "features = ['age', 'fnlwgt', 'education-num', 'capital-gain', 'capital-loss', 'hours-per-week:', 'workclass', 'education', 'marital-status', 'occupation', 'relationship', 'race', 'sex', 'native-country']\n",
        "\n",
        "X_train.loc[:, features] = (X_train.loc[:, features] - X_train.loc[:, features].mean())/X_train.loc[:, features].std()\n",
        "X_test.loc[:, features] = (X_test.loc[:, features] - X_test.loc[:, features].mean())/X_test.loc[:, features].std()\n",
        "\n",
        "X_train.head()"
      ],
      "execution_count": null,
      "outputs": [
        {
          "output_type": "execute_result",
          "data": {
            "text/html": [
              "<div>\n",
              "<style scoped>\n",
              "    .dataframe tbody tr th:only-of-type {\n",
              "        vertical-align: middle;\n",
              "    }\n",
              "\n",
              "    .dataframe tbody tr th {\n",
              "        vertical-align: top;\n",
              "    }\n",
              "\n",
              "    .dataframe thead th {\n",
              "        text-align: right;\n",
              "    }\n",
              "</style>\n",
              "<table border=\"1\" class=\"dataframe\">\n",
              "  <thead>\n",
              "    <tr style=\"text-align: right;\">\n",
              "      <th></th>\n",
              "      <th>id</th>\n",
              "      <th>age</th>\n",
              "      <th>workclass</th>\n",
              "      <th>fnlwgt</th>\n",
              "      <th>education</th>\n",
              "      <th>education-num</th>\n",
              "      <th>marital-status</th>\n",
              "      <th>occupation</th>\n",
              "      <th>relationship</th>\n",
              "      <th>race</th>\n",
              "      <th>sex</th>\n",
              "      <th>capital-gain</th>\n",
              "      <th>capital-loss</th>\n",
              "      <th>hours-per-week:</th>\n",
              "      <th>native-country</th>\n",
              "    </tr>\n",
              "  </thead>\n",
              "  <tbody>\n",
              "    <tr>\n",
              "      <th>0</th>\n",
              "      <td>0</td>\n",
              "      <td>0.082190</td>\n",
              "      <td>NaN</td>\n",
              "      <td>-1.062162</td>\n",
              "      <td>NaN</td>\n",
              "      <td>1.119989</td>\n",
              "      <td>NaN</td>\n",
              "      <td>NaN</td>\n",
              "      <td>NaN</td>\n",
              "      <td>NaN</td>\n",
              "      <td>NaN</td>\n",
              "      <td>0.660443</td>\n",
              "      <td>-0.237367</td>\n",
              "      <td>-0.059816</td>\n",
              "      <td>NaN</td>\n",
              "    </tr>\n",
              "    <tr>\n",
              "      <th>1</th>\n",
              "      <td>1</td>\n",
              "      <td>0.935106</td>\n",
              "      <td>NaN</td>\n",
              "      <td>-1.008476</td>\n",
              "      <td>NaN</td>\n",
              "      <td>1.119989</td>\n",
              "      <td>NaN</td>\n",
              "      <td>NaN</td>\n",
              "      <td>NaN</td>\n",
              "      <td>NaN</td>\n",
              "      <td>NaN</td>\n",
              "      <td>-0.233424</td>\n",
              "      <td>-0.237367</td>\n",
              "      <td>-2.347386</td>\n",
              "      <td>NaN</td>\n",
              "    </tr>\n",
              "    <tr>\n",
              "      <th>2</th>\n",
              "      <td>2</td>\n",
              "      <td>0.004652</td>\n",
              "      <td>NaN</td>\n",
              "      <td>0.217520</td>\n",
              "      <td>NaN</td>\n",
              "      <td>-0.478853</td>\n",
              "      <td>NaN</td>\n",
              "      <td>NaN</td>\n",
              "      <td>NaN</td>\n",
              "      <td>NaN</td>\n",
              "      <td>NaN</td>\n",
              "      <td>-0.233424</td>\n",
              "      <td>-0.237367</td>\n",
              "      <td>-0.059816</td>\n",
              "      <td>NaN</td>\n",
              "    </tr>\n",
              "    <tr>\n",
              "      <th>3</th>\n",
              "      <td>3</td>\n",
              "      <td>1.167720</td>\n",
              "      <td>NaN</td>\n",
              "      <td>0.394237</td>\n",
              "      <td>NaN</td>\n",
              "      <td>-1.278274</td>\n",
              "      <td>NaN</td>\n",
              "      <td>NaN</td>\n",
              "      <td>NaN</td>\n",
              "      <td>NaN</td>\n",
              "      <td>NaN</td>\n",
              "      <td>-0.233424</td>\n",
              "      <td>-0.237367</td>\n",
              "      <td>-0.059816</td>\n",
              "      <td>NaN</td>\n",
              "    </tr>\n",
              "    <tr>\n",
              "      <th>4</th>\n",
              "      <td>4</td>\n",
              "      <td>-0.770726</td>\n",
              "      <td>NaN</td>\n",
              "      <td>1.354837</td>\n",
              "      <td>NaN</td>\n",
              "      <td>1.119989</td>\n",
              "      <td>NaN</td>\n",
              "      <td>NaN</td>\n",
              "      <td>NaN</td>\n",
              "      <td>NaN</td>\n",
              "      <td>NaN</td>\n",
              "      <td>-0.233424</td>\n",
              "      <td>-0.237367</td>\n",
              "      <td>-0.059816</td>\n",
              "      <td>NaN</td>\n",
              "    </tr>\n",
              "  </tbody>\n",
              "</table>\n",
              "</div>"
            ],
            "text/plain": [
              "   id       age workclass  ...  capital-loss hours-per-week:  native-country\n",
              "0   0  0.082190       NaN  ...     -0.237367       -0.059816             NaN\n",
              "1   1  0.935106       NaN  ...     -0.237367       -2.347386             NaN\n",
              "2   2  0.004652       NaN  ...     -0.237367       -0.059816             NaN\n",
              "3   3  1.167720       NaN  ...     -0.237367       -0.059816             NaN\n",
              "4   4 -0.770726       NaN  ...     -0.237367       -0.059816             NaN\n",
              "\n",
              "[5 rows x 15 columns]"
            ]
          },
          "metadata": {},
          "execution_count": 18
        }
      ]
    },
    {
      "cell_type": "markdown",
      "metadata": {
        "id": "2OqYdgmy_GDa"
      },
      "source": [
        "Convert the datasets to NumPy to easily use them."
      ]
    },
    {
      "cell_type": "code",
      "metadata": {
        "id": "lW9tL2ydv9kl"
      },
      "source": [
        "# data features\n",
        "X_train = X_train.to_numpy()\n",
        "X_test = X_test.to_numpy()\n"
      ],
      "execution_count": null,
      "outputs": []
    },
    {
      "cell_type": "markdown",
      "metadata": {
        "id": "K8b5xrjIrqD_"
      },
      "source": [
        "## GRAPE"
      ]
    },
    {
      "cell_type": "markdown",
      "metadata": {
        "id": "UJ05U2S409Dl"
      },
      "source": [
        "<div>\n",
        "<img src=\"http://hive.csis.ul.ie/GRAPE.png\" width=\"150\"/>\n",
        "</div> \n",
        "\n",
        "GRammatical Algorithms in Python for Evolution (GRAPE)\n"
      ]
    },
    {
      "cell_type": "markdown",
      "metadata": {
        "id": "uM8P0xAVWnJM"
      },
      "source": [
        "Import adapted functions and classes from PonyGE2.\n",
        "\n",
        "Import our algorithms, adapted from deap.algorithms.\n",
        "\n",
        "Import DEAP (maybe it can be necessary to run the installation before that).\n",
        "\n"
      ]
    },
    {
      "cell_type": "code",
      "metadata": {
        "colab": {
          "base_uri": "https://localhost:8080/"
        },
        "id": "be7FcJqpWnJM",
        "outputId": "520aa5ae-35d9-4411-bcad-a61336d4c730"
      },
      "source": [
        "!pip install deap==1.3 \n",
        "\n",
        "from ponyge2_adapted_files import Grammar, ge\n",
        "import algorithms\n",
        "\n",
        "from os import path\n",
        "\n",
        "from deap import creator, base, tools"
      ],
      "execution_count": null,
      "outputs": [
        {
          "output_type": "stream",
          "name": "stdout",
          "text": [
            "Collecting deap==1.3\n",
            "  Downloading deap-1.3.0-cp37-cp37m-manylinux2010_x86_64.whl (152 kB)\n",
            "\u001b[?25l\r\u001b[K     |██▏                             | 10 kB 25.9 MB/s eta 0:00:01\r\u001b[K     |████▎                           | 20 kB 27.4 MB/s eta 0:00:01\r\u001b[K     |██████▍                         | 30 kB 11.5 MB/s eta 0:00:01\r\u001b[K     |████████▋                       | 40 kB 9.3 MB/s eta 0:00:01\r\u001b[K     |██████████▊                     | 51 kB 5.2 MB/s eta 0:00:01\r\u001b[K     |████████████▉                   | 61 kB 5.7 MB/s eta 0:00:01\r\u001b[K     |███████████████                 | 71 kB 5.4 MB/s eta 0:00:01\r\u001b[K     |█████████████████▏              | 81 kB 6.1 MB/s eta 0:00:01\r\u001b[K     |███████████████████▎            | 92 kB 4.7 MB/s eta 0:00:01\r\u001b[K     |█████████████████████▍          | 102 kB 5.0 MB/s eta 0:00:01\r\u001b[K     |███████████████████████▋        | 112 kB 5.0 MB/s eta 0:00:01\r\u001b[K     |█████████████████████████▊      | 122 kB 5.0 MB/s eta 0:00:01\r\u001b[K     |███████████████████████████▉    | 133 kB 5.0 MB/s eta 0:00:01\r\u001b[K     |██████████████████████████████  | 143 kB 5.0 MB/s eta 0:00:01\r\u001b[K     |████████████████████████████████| 152 kB 5.0 MB/s \n",
            "\u001b[?25hRequirement already satisfied: numpy in /usr/local/lib/python3.7/dist-packages (from deap==1.3) (1.19.5)\n",
            "Installing collected packages: deap\n",
            "Successfully installed deap-1.3.0\n"
          ]
        }
      ]
    },
    {
      "cell_type": "markdown",
      "metadata": {
        "id": "HKB9j6fmlFEr"
      },
      "source": [
        "You can import functions to be used with your grammar from [functions.py](https://github.com/UL-BDS/grape/blob/main/functions.py) on GRAPE repository and / or you can define your own functions."
      ]
    },
    {
      "cell_type": "code",
      "metadata": {
        "id": "FMu0U8j-loXC"
      },
      "source": [
        "from functions import add, sub, mul, pdiv#, psqrt, plog, neg, and_, or_, not_, less_than_or_equal, greater_than_or_equal"
      ],
      "execution_count": null,
      "outputs": []
    },
    {
      "cell_type": "markdown",
      "metadata": {
        "id": "W7sMFCXtoCyb"
      },
      "source": [
        "'example7.bnf' is a simple grammar just to check if everything is working well.\n",
        "\n",
        "Write your own grammar in a text file and save it in your Drive account.\n",
        "\n",
        "Put the whole address on GRAMMAR_FILE and print to check it."
      ]
    },
    {
      "cell_type": "code",
      "metadata": {
        "colab": {
          "base_uri": "https://localhost:8080/"
        },
        "id": "7Xc60pTemiIb",
        "outputId": "c2553c0b-9669-48ba-a8ae-e507515ff6a3"
      },
      "source": [
        "#GRAMMAR_FILE = '/content/drive/MyDrive/data/example.bnf' #put the whole address of your own grammar and remove the # in the beginning of this line\n",
        "GRAMMAR_FILE = 'example7.bnf' #remove this line when you are using your own grammar\n",
        "\n",
        "#f = open(GRAMMAR_FILE, \"r\") #remove the # in the beginning of this line when you are using your own grammar\n",
        "f = open(\"grammars/\" + GRAMMAR_FILE, \"r\") #remove this line when you are using your own grammar\n",
        "print(f.read())\n",
        "f.close() \n"
      ],
      "execution_count": null,
      "outputs": [
        {
          "output_type": "stream",
          "name": "stdout",
          "text": [
            "<e>   ::= add(<e>,<e>)|sub(<e>,<e>)|mul(<e>,<e>)|pdiv(<e>,<e>)|x[1]|x[2]|x[3]|x[4]|x[5]|x[6]|x[7]|x[8]|x[9]|x[10]|x[11]|x[12]|x[13]|x[14]|<c><c>.<c><c>\n",
            "<c>  ::= 0 | 1 | 2 | 3 | 4 | 5 | 6 | 7 | 8 | 9\n",
            "\n"
          ]
        }
      ]
    },
    {
      "cell_type": "markdown",
      "metadata": {
        "id": "A9diTOljAbTD"
      },
      "source": [
        "x[0] refers to `id` column, so it is not being used by 'example7.bnf'.\n",
        "\n",
        "If you remove the `id` column, you need to consider it when writing your own grammar."
      ]
    },
    {
      "cell_type": "markdown",
      "metadata": {
        "id": "082ga8rppORi"
      },
      "source": [
        "Run the following cell to put your grammar on the class Grammar."
      ]
    },
    {
      "cell_type": "code",
      "metadata": {
        "id": "JEJcyIJKnUoz"
      },
      "source": [
        "#BNF_GRAMMAR = Grammar(GRAMMAR_FILE) #remove the # in the beginning of this line when you are using your own grammar\n",
        "BNF_GRAMMAR = Grammar(path.join(\"grammars\", GRAMMAR_FILE)) #remove this line when you are using your own grammar"
      ],
      "execution_count": null,
      "outputs": []
    },
    {
      "cell_type": "markdown",
      "metadata": {
        "id": "FOZl1P-spq3Y"
      },
      "source": [
        "The fitness function is the percentage of outputs wrongly predicted.\n",
        "\n",
        "You can use any other fitness function, but you need to maintain the comma at the end of the returning lines.\n",
        "\n",
        "Remember that for now, GRAPE is being used only for minimisation problems, so the fitness function needs to consider it."
      ]
    },
    {
      "cell_type": "code",
      "metadata": {
        "id": "Mt5IJHTFprTz"
      },
      "source": [
        "def fitness_eval(individual, points):\n",
        "    \"\"\"\n",
        "    Fitness Function\n",
        "    \"\"\"\n",
        "\n",
        "    x = points[0]\n",
        "    Y = points[1]\n",
        "    \n",
        "    if individual.invalid == True:\n",
        "        return np.NaN,\n",
        "\n",
        "    # Evaluate the expression\n",
        "    try:\n",
        "        pred = eval(individual.phenotype)\n",
        "    except (FloatingPointError, ZeroDivisionError, OverflowError,\n",
        "            MemoryError):\n",
        "        return np.NaN,\n",
        "    assert np.isrealobj(pred)\n",
        "    \n",
        "    try:\n",
        "        Y_class = [1 if pred[i] > 0 else 0 for i in range(len(Y))]\n",
        "    except (IndexError, TypeError):\n",
        "        return np.NaN,\n",
        "\n",
        "    compare = np.equal(Y,Y_class)\n",
        "    fitness = 1 - np.mean(compare)\n",
        "   \n",
        "    return fitness,"
      ],
      "execution_count": null,
      "outputs": []
    },
    {
      "cell_type": "markdown",
      "metadata": {
        "id": "EJ5ZUKRYWXRi"
      },
      "source": [
        "To use properly the fitness function above with GRAPE, the features must be in the lines, and the samples must be in the columns, so we need to transpose the matrix.\n",
        "\n",
        "Take a look at the print. If you run this cell two times, the matrix will be transposed again and will not work properly."
      ]
    },
    {
      "cell_type": "code",
      "metadata": {
        "id": "UPJQ-iGUVutk",
        "colab": {
          "base_uri": "https://localhost:8080/"
        },
        "outputId": "1d7d57ab-9475-4fc5-a92c-f7f800e22075"
      },
      "source": [
        "X_train = np.transpose(X_train)\n",
        "X_test = np.transpose(X_test) \n",
        "\n",
        "print('Training (X,Y):\\t', X_train.shape, y_train.shape)\n",
        "print('Test (X):\\t', X_test.shape)"
      ],
      "execution_count": null,
      "outputs": [
        {
          "output_type": "stream",
          "name": "stdout",
          "text": [
            "Training (X,Y):\t (15, 1000) (1000,)\n",
            "Test (X):\t (15, 430)\n"
          ]
        }
      ]
    },
    {
      "cell_type": "markdown",
      "metadata": {
        "id": "1FZt9KkAqtUS"
      },
      "source": [
        "Set the Grammatical Evolution parameters."
      ]
    },
    {
      "cell_type": "code",
      "metadata": {
        "id": "YHxhHk5uqwFa"
      },
      "source": [
        "## GE parameters\n",
        "POPULATION_SIZE = 1000\n",
        "MAX_GENERATIONS = 200\n",
        "P_CROSSOVER = 0.8\n",
        "P_MUTATION = 0.01\n",
        "ELITE_SIZE = round(0.01*POPULATION_SIZE)\n",
        "TOURNAMENT_SIZE = 3\n",
        "HALL_OF_FAME_SIZE = 1\n",
        "MAX_INIT_TREE_DEPTH = 10\n",
        "MIN_INIT_TREE_DEPTH = 2\n",
        "MAX_TREE_DEPTH = 17\n",
        "MAX_WRAPS = 0\n",
        "CODON_SIZE = 255"
      ],
      "execution_count": null,
      "outputs": []
    },
    {
      "cell_type": "markdown",
      "metadata": {
        "id": "FfpeXPO_q9By"
      },
      "source": [
        "Create a toolbox."
      ]
    },
    {
      "cell_type": "code",
      "metadata": {
        "id": "Mh3DJnexq-oy"
      },
      "source": [
        "# create a toolbox for DEAP\n",
        "toolbox = base.Toolbox()\n",
        "\n",
        "# define a single objective, minimising fitness strategy:\n",
        "creator.create(\"FitnessMin\", base.Fitness, weights=(-1.0,))\n",
        "\n",
        "creator.create('Individual', ge.Individual, fitness=creator.FitnessMin)\n",
        "\n",
        "toolbox.register(\"populationCreator\", ge.initialisation_PI_Grow, creator.Individual) \n",
        "\n",
        "toolbox.register(\"evaluate\", fitness_eval)\n",
        "\n",
        "# Tournament selection:\n",
        "toolbox.register(\"select\", ge.selTournament, tournsize=TOURNAMENT_SIZE)\n",
        "\n",
        "# Single-point crossover:\n",
        "toolbox.register(\"mate\", ge.crossover_onepoint)\n",
        "\n",
        "# Flip-int mutation:\n",
        "toolbox.register(\"mutate\", ge.mutation_int_flip_per_codon)"
      ],
      "execution_count": null,
      "outputs": []
    },
    {
      "cell_type": "code",
      "metadata": {
        "id": "yhCmqPRHrMHJ"
      },
      "source": [
        "# create initial population (generation 0):\n",
        "population = toolbox.populationCreator(size=POPULATION_SIZE, \n",
        "              bnf_grammar=BNF_GRAMMAR, \n",
        "              min_init_tree_depth=MIN_INIT_TREE_DEPTH,\n",
        "              max_init_tree_depth=MAX_INIT_TREE_DEPTH,\n",
        "              max_tree_depth=MAX_TREE_DEPTH, \n",
        "              max_wraps=MAX_WRAPS,\n",
        "              codon_size=CODON_SIZE\n",
        "              )\n",
        "\n",
        "# define the hall-of-fame object:\n",
        "hof = tools.HallOfFame(HALL_OF_FAME_SIZE)\n",
        "\n",
        "# prepare the statistics object:\n",
        "stats = tools.Statistics(key=lambda ind: ind.fitness.values)\n",
        "stats.register(\"avg\", np.nanmean)\n",
        "stats.register(\"std\", np.nanstd)\n",
        "stats.register(\"min\", np.nanmin)\n",
        "stats.register(\"max\", np.nanmax)"
      ],
      "execution_count": null,
      "outputs": []
    },
    {
      "cell_type": "markdown",
      "metadata": {
        "id": "ByAiFpujrXmL"
      },
      "source": [
        "Run Grammatical Evolution."
      ]
    },
    {
      "cell_type": "code",
      "metadata": {
        "id": "Si071Z_2raLB",
        "colab": {
          "base_uri": "https://localhost:8080/"
        },
        "outputId": "47db7701-3ca0-49f8-bf0d-92b096aea85b"
      },
      "source": [
        "population, logbook = algorithms.ge_eaSimpleWithElitism(population, toolbox, cxpb=P_CROSSOVER, mutpb=P_MUTATION,\n",
        "                      ngen=MAX_GENERATIONS, elite_size=ELITE_SIZE,\n",
        "                      bnf_grammar=BNF_GRAMMAR, codon_size=CODON_SIZE, \n",
        "                      max_tree_depth=MAX_TREE_DEPTH, max_wraps=MAX_WRAPS,\n",
        "                      points_train=[X_train, y_train], \n",
        "                      stats=stats, halloffame=hof, verbose=True\n",
        "                      )"
      ],
      "execution_count": null,
      "outputs": [
        {
          "output_type": "stream",
          "name": "stdout",
          "text": [
            "gen\tinvalid\tavg     \tstd      \tmin  \tmax \tbest_ind_length\tavg_length\tmax_length\tselection_time\tgeneration_time\n",
            "0  \t0      \t0.250643\t0.0534016\t0.226\t0.77\t4              \t45.676    \t229       \t0             \t1.05449        \n",
            "1  \t334    \t0.248468\t0.0379415\t0.226\t0.77\t4              \t45.352    \t193       \t0.0087564     \t2.55683        \n",
            "2  \t108    \t0.251581\t0.0553547\t0.226\t0.756\t4              \t39.707    \t153       \t0.0079217     \t0.826865       \n",
            "3  \t69     \t0.252622\t0.0595899\t0.226\t0.775\t4              \t42.45     \t159       \t0.00760627    \t0.811168       \n",
            "4  \t48     \t0.250598\t0.0544379\t0.226\t0.788\t4              \t41.839    \t150       \t0.00705099    \t0.69063        \n",
            "5  \t41     \t0.247875\t0.0486676\t0.226\t0.77 \t4              \t41.716    \t150       \t0.00713658    \t0.61828        \n",
            "6  \t11     \t0.250001\t0.0700594\t0.225\t0.77 \t96             \t42.221    \t140       \t0.00732684    \t0.63036        \n",
            "7  \t8      \t0.245929\t0.0662541\t0.225\t0.77 \t96             \t43.174    \t139       \t0.00854897    \t0.555969       \n",
            "8  \t1      \t0.240688\t0.0564098\t0.225\t0.77 \t96             \t44.337    \t127       \t0.00721335    \t0.453158       \n",
            "9  \t2      \t0.243209\t0.0731457\t0.225\t0.77 \t96             \t42.953    \t126       \t0.00720644    \t0.421128       \n",
            "10 \t3      \t0.238206\t0.0562662\t0.225\t0.77 \t96             \t43.813    \t127       \t0.00917315    \t0.451889       \n",
            "11 \t3      \t0.237748\t0.058025 \t0.225\t0.756\t96             \t45.858    \t128       \t0.00744557    \t0.470992       \n",
            "12 \t1      \t0.23434 \t0.0446121\t0.225\t0.756\t96             \t46.77     \t129       \t0.00782371    \t0.455783       \n",
            "13 \t3      \t0.233943\t0.041688 \t0.225\t0.77 \t96             \t47.097    \t129       \t0.00680757    \t0.487729       \n",
            "14 \t1      \t0.236658\t0.0526828\t0.219\t0.756\t10             \t47.208    \t131       \t0.00822282    \t0.477268       \n",
            "15 \t2      \t0.236413\t0.0580741\t0.219\t0.77 \t10             \t47.239    \t132       \t0.0067482     \t0.520362       \n",
            "16 \t1      \t0.233637\t0.0387664\t0.219\t0.756\t10             \t50.804    \t133       \t0.00779009    \t0.491676       \n",
            "17 \t1      \t0.233018\t0.041495 \t0.213\t0.771\t103            \t50.067    \t133       \t0.00769901    \t0.503965       \n",
            "18 \t0      \t0.232206\t0.03841  \t0.213\t0.776\t103            \t50.636    \t132       \t0.00780725    \t0.940058       \n",
            "19 \t0      \t0.231096\t0.0407572\t0.211\t0.771\t106            \t52.809    \t138       \t0.0080018     \t0.57548        \n",
            "20 \t2      \t0.231171\t0.0482802\t0.211\t0.775\t106            \t53.44     \t139       \t0.00859928    \t0.513911       \n",
            "21 \t1      \t0.229221\t0.0413127\t0.208\t0.776\t16             \t54.96     \t141       \t0.00819898    \t0.573687       \n",
            "22 \t2      \t0.227281\t0.0345687\t0.208\t0.77 \t16             \t57.464    \t141       \t0.00711846    \t0.62432        \n",
            "23 \t2      \t0.22624 \t0.0414372\t0.208\t0.776\t16             \t58.505    \t144       \t0.00650287    \t0.54591        \n",
            "24 \t5      \t0.227218\t0.0489406\t0.207\t0.792\t86             \t61.058    \t147       \t0.00739145    \t0.60944        \n",
            "25 \t2      \t0.226683\t0.0518098\t0.2  \t0.775\t32             \t64.976    \t133       \t0.0117817     \t0.772774       \n",
            "26 \t4      \t0.230819\t0.068642 \t0.2  \t0.775\t32             \t66.197    \t144       \t0.00698972    \t0.741737       \n",
            "27 \t1      \t0.230272\t0.0684282\t0.2  \t0.79 \t32             \t69.337    \t158       \t0.00699043    \t0.748053       \n",
            "28 \t5      \t0.225077\t0.049271 \t0.2  \t0.792\t32             \t72.909    \t148       \t0.00890923    \t0.722983       \n",
            "29 \t6      \t0.225424\t0.0530701\t0.2  \t0.796\t32             \t74.86     \t157       \t0.0077064     \t0.881832       \n",
            "30 \t6      \t0.224198\t0.0485364\t0.2  \t0.786\t32             \t73.159    \t157       \t0.00771999    \t0.903572       \n",
            "31 \t7      \t0.228633\t0.0664822\t0.2  \t0.794\t32             \t76.285    \t149       \t0.00874853    \t0.850623       \n",
            "32 \t4      \t0.22822 \t0.0624692\t0.2  \t0.787\t32             \t76.113    \t158       \t0.00828576    \t1.00007        \n",
            "33 \t3      \t0.226388\t0.0575767\t0.2  \t0.79 \t32             \t74.597    \t164       \t0.00903773    \t0.905921       \n",
            "34 \t4      \t0.226547\t0.0529377\t0.2  \t0.792\t32             \t74.474    \t185       \t0.0084908     \t0.950985       \n",
            "35 \t6      \t0.22793 \t0.0627625\t0.2  \t0.792\t32             \t75.503    \t176       \t0.00720477    \t0.833069       \n",
            "36 \t6      \t0.227998\t0.0675988\t0.2  \t0.781\t32             \t77.153    \t193       \t0.00783849    \t0.96487        \n",
            "37 \t10     \t0.231103\t0.0782991\t0.2  \t0.771\t32             \t76.652    \t206       \t0.00848436    \t0.819471       \n",
            "38 \t7      \t0.22777 \t0.0627147\t0.2  \t0.756\t32             \t75.81     \t196       \t0.00900912    \t0.854949       \n",
            "39 \t12     \t0.226675\t0.0583051\t0.2  \t0.792\t32             \t74.737    \t223       \t0.00730658    \t0.82171        \n",
            "40 \t8      \t0.228686\t0.0670082\t0.2  \t0.776\t32             \t74.455    \t189       \t0.00685096    \t0.939878       \n",
            "41 \t10     \t0.225282\t0.0499606\t0.2  \t0.787\t32             \t77.786    \t193       \t0.00826693    \t0.88338        \n",
            "42 \t12     \t0.228277\t0.0591588\t0.2  \t0.773\t32             \t81.27     \t198       \t0.00675344    \t0.993812       \n",
            "43 \t22     \t0.230704\t0.0740553\t0.199\t0.775\t62             \t84.06     \t203       \t0.00703478    \t0.885535       \n",
            "44 \t12     \t0.229404\t0.0689021\t0.199\t0.79 \t62             \t83.051    \t216       \t0.00810742    \t0.978599       \n",
            "45 \t26     \t0.230049\t0.0677796\t0.199\t0.788\t62             \t82.338    \t208       \t0.00806594    \t0.927807       \n",
            "46 \t16     \t0.232488\t0.0786124\t0.198\t0.792\t81             \t83.065    \t254       \t0.0067966     \t1.04203        \n",
            "47 \t20     \t0.230178\t0.0698308\t0.198\t0.788\t81             \t84.12     \t225       \t0.0076232     \t1.01678        \n",
            "48 \t23     \t0.226756\t0.0590795\t0.198\t0.791\t81             \t82.319    \t239       \t0.00646996    \t0.957534       \n",
            "49 \t20     \t0.233138\t0.0822771\t0.198\t0.789\t81             \t84.783    \t231       \t0.00745583    \t1.13045        \n",
            "50 \t11     \t0.227358\t0.0634295\t0.195\t0.756\t55             \t85.02     \t220       \t0.00670195    \t0.921669       \n",
            "51 \t13     \t0.231649\t0.0742217\t0.195\t0.783\t55             \t85.75     \t229       \t0.00721407    \t0.980404       \n",
            "52 \t15     \t0.23327 \t0.0756975\t0.195\t0.801\t55             \t89.279    \t246       \t0.00646853    \t1.06482        \n",
            "53 \t17     \t0.233591\t0.0719569\t0.195\t0.785\t55             \t90.785    \t254       \t0.00657678    \t1.0744         \n",
            "54 \t23     \t0.228772\t0.0598913\t0.195\t0.756\t55             \t87.979    \t276       \t0.00642776    \t1.09202        \n",
            "55 \t31     \t0.230228\t0.0619228\t0.195\t0.756\t55             \t89.658    \t291       \t0.00642037    \t1.09828        \n",
            "56 \t15     \t0.234481\t0.0784092\t0.195\t0.797\t55             \t90.839    \t292       \t0.00688052    \t1.14881        \n",
            "57 \t38     \t0.235313\t0.0822701\t0.193\t0.782\t93             \t95.746    \t361       \t0.00731349    \t1.21285        \n",
            "58 \t30     \t0.231095\t0.0692083\t0.192\t0.801\t88             \t96.695    \t323       \t0.00662398    \t1.23815        \n",
            "59 \t42     \t0.231835\t0.0697255\t0.192\t0.801\t88             \t102.74    \t323       \t0.00679374    \t1.17004        \n",
            "60 \t39     \t0.233991\t0.0802807\t0.192\t0.791\t88             \t108.227   \t347       \t0.00742698    \t1.15879        \n",
            "61 \t32     \t0.23005 \t0.0667731\t0.192\t0.756\t88             \t112.786   \t296       \t0.00779414    \t1.29529        \n",
            "62 \t60     \t0.233736\t0.0744444\t0.192\t0.797\t88             \t113.369   \t334       \t0.00802112    \t1.26059        \n",
            "63 \t46     \t0.231078\t0.0645927\t0.192\t0.795\t88             \t115.153   \t295       \t0.00788045    \t1.41163        \n",
            "64 \t56     \t0.235314\t0.078096 \t0.192\t0.784\t88             \t115.4     \t319       \t0.00630879    \t1.21726        \n",
            "65 \t38     \t0.232462\t0.0730148\t0.192\t0.757\t88             \t117.829   \t274       \t0.00735927    \t1.18413        \n",
            "66 \t67     \t0.231466\t0.0716402\t0.188\t0.775\t76             \t119.594   \t295       \t0.00730491    \t1.36511        \n",
            "67 \t52     \t0.23407 \t0.077442 \t0.188\t0.757\t76             \t125.982   \t315       \t0.0104394     \t1.41354        \n",
            "68 \t73     \t0.231297\t0.0618395\t0.188\t0.756\t76             \t127.086   \t301       \t0.00672007    \t1.36148        \n",
            "69 \t56     \t0.235138\t0.0800321\t0.188\t0.798\t76             \t127.916   \t302       \t0.00743055    \t1.25698        \n",
            "70 \t43     \t0.237829\t0.0838512\t0.188\t0.776\t76             \t131.977   \t302       \t0.00747705    \t1.29432        \n",
            "71 \t55     \t0.234655\t0.0804126\t0.188\t0.783\t76             \t131.768   \t287       \t0.00649643    \t1.42434        \n",
            "72 \t57     \t0.238942\t0.0869157\t0.188\t0.756\t76             \t133.069   \t307       \t0.00721383    \t1.416          \n",
            "73 \t63     \t0.237407\t0.0842687\t0.188\t0.775\t76             \t134.839   \t307       \t0.00685692    \t1.31843        \n",
            "74 \t54     \t0.237684\t0.0857319\t0.188\t0.785\t76             \t137.864   \t328       \t0.00674915    \t1.37098        \n",
            "75 \t68     \t0.232598\t0.0692515\t0.188\t0.767\t76             \t136.738   \t376       \t0.00750709    \t1.24907        \n",
            "76 \t54     \t0.236693\t0.0782333\t0.188\t0.796\t76             \t136.278   \t346       \t0.00824833    \t1.19747        \n",
            "77 \t48     \t0.239741\t0.0812577\t0.188\t0.793\t76             \t141.598   \t333       \t0.00727391    \t1.16433        \n",
            "78 \t47     \t0.235693\t0.0736897\t0.188\t0.756\t76             \t145.181   \t333       \t0.0064919     \t1.36804        \n",
            "79 \t54     \t0.239095\t0.0872894\t0.188\t0.785\t76             \t144.836   \t387       \t0.00772476    \t1.38809        \n",
            "80 \t74     \t0.236853\t0.0778435\t0.188\t0.766\t76             \t145.453   \t369       \t0.0063529     \t1.29955        \n",
            "81 \t69     \t0.232674\t0.0680209\t0.188\t0.756\t76             \t148.719   \t356       \t0.00730753    \t1.39054        \n",
            "82 \t62     \t0.241025\t0.0927683\t0.188\t0.803\t76             \t147.325   \t395       \t0.00678182    \t1.38544        \n",
            "83 \t63     \t0.240422\t0.089698 \t0.188\t0.799\t76             \t148.797   \t370       \t0.00638413    \t1.28515        \n",
            "84 \t52     \t0.24199 \t0.0932234\t0.188\t0.783\t76             \t148.752   \t404       \t0.00662279    \t1.39906        \n",
            "85 \t57     \t0.234196\t0.0666291\t0.188\t0.774\t76             \t144.775   \t371       \t0.00704885    \t1.25765        \n",
            "86 \t53     \t0.234146\t0.0664209\t0.188\t0.791\t76             \t145.108   \t381       \t0.00658941    \t1.30738        \n",
            "87 \t53     \t0.23689 \t0.0812385\t0.188\t0.793\t76             \t142.97    \t385       \t0.00646234    \t1.3494         \n",
            "88 \t58     \t0.233426\t0.0666889\t0.188\t0.801\t76             \t143.84    \t388       \t0.00814462    \t1.3978         \n",
            "89 \t57     \t0.241452\t0.0893495\t0.185\t0.807\t112            \t145.26    \t382       \t0.00729752    \t1.34871        \n",
            "90 \t45     \t0.23845 \t0.0843661\t0.185\t0.794\t112            \t147.532   \t382       \t0.00793195    \t1.42146        \n",
            "91 \t68     \t0.237471\t0.0793889\t0.185\t0.778\t112            \t149.966   \t397       \t0.0110502     \t1.25543        \n",
            "92 \t57     \t0.233683\t0.0675051\t0.185\t0.756\t112            \t148.943   \t397       \t0.00756741    \t1.26792        \n",
            "93 \t52     \t0.241576\t0.0859077\t0.185\t0.756\t112            \t155.319   \t406       \t0.00757265    \t1.22209        \n",
            "94 \t50     \t0.24251 \t0.0883259\t0.185\t0.78 \t112            \t151.873   \t416       \t0.00757837    \t1.19872        \n",
            "95 \t53     \t0.243695\t0.0915096\t0.185\t0.77 \t112            \t152.018   \t400       \t0.0121448     \t1.23516        \n",
            "96 \t45     \t0.234675\t0.0682162\t0.185\t0.776\t112            \t148.839   \t414       \t0.00733352    \t1.16625        \n",
            "97 \t67     \t0.233705\t0.0644802\t0.185\t0.793\t112            \t146.107   \t447       \t0.00706005    \t1.25301        \n",
            "98 \t53     \t0.239918\t0.0891642\t0.185\t0.791\t112            \t142.871   \t456       \t0.00843525    \t1.29803        \n",
            "99 \t60     \t0.237931\t0.0829657\t0.185\t0.776\t112            \t139.563   \t397       \t0.00657463    \t1.26568        \n",
            "100\t46     \t0.23918 \t0.0867901\t0.185\t0.8  \t112            \t143.382   \t401       \t0.00668216    \t1.41211        \n",
            "101\t61     \t0.241004\t0.0868939\t0.185\t0.791\t112            \t142.241   \t443       \t0.00825286    \t1.41289        \n",
            "102\t52     \t0.237938\t0.0822767\t0.185\t0.756\t112            \t144.903   \t436       \t0.00691938    \t1.40579        \n",
            "103\t53     \t0.24333 \t0.0971535\t0.185\t0.77 \t112            \t145.377   \t406       \t0.00645256    \t1.2171         \n",
            "104\t60     \t0.239568\t0.0890207\t0.185\t0.775\t112            \t149.689   \t420       \t0.00656533    \t1.43806        \n",
            "105\t54     \t0.240759\t0.0839168\t0.185\t0.766\t112            \t152.679   \t444       \t0.00713658    \t1.27553        \n",
            "106\t54     \t0.244811\t0.093514 \t0.185\t0.766\t112            \t154.964   \t419       \t0.0128722     \t1.29774        \n",
            "107\t42     \t0.239535\t0.0796157\t0.185\t0.756\t112            \t154.519   \t439       \t0.00989962    \t1.24765        \n",
            "108\t35     \t0.241097\t0.0798364\t0.185\t0.756\t112            \t150.697   \t449       \t0.00723433    \t1.21475        \n",
            "109\t32     \t0.240775\t0.080649 \t0.185\t0.791\t112            \t144.545   \t437       \t0.00771308    \t1.15289        \n",
            "110\t34     \t0.241801\t0.0848548\t0.185\t0.784\t112            \t148.747   \t454       \t0.00799465    \t1.24076        \n",
            "111\t43     \t0.244332\t0.0863477\t0.185\t0.784\t112            \t145.525   \t395       \t0.00701928    \t1.11845        \n",
            "112\t34     \t0.236708\t0.0646279\t0.185\t0.756\t112            \t142.781   \t438       \t0.0120802     \t1.1267         \n",
            "113\t30     \t0.244923\t0.0914623\t0.185\t0.77 \t112            \t142.488   \t442       \t0.00831366    \t1.01239        \n",
            "114\t32     \t0.243392\t0.0850034\t0.185\t0.798\t112            \t137.022   \t471       \t0.00760961    \t1.12015        \n",
            "115\t35     \t0.241191\t0.0787232\t0.185\t0.76 \t112            \t138.755   \t480       \t0.00801182    \t0.980038       \n",
            "116\t32     \t0.242098\t0.0766127\t0.185\t0.756\t112            \t131.658   \t430       \t0.00694752    \t1.02663        \n",
            "117\t47     \t0.236443\t0.0595437\t0.185\t0.756\t112            \t135.064   \t486       \t0.00650859    \t0.982936       \n",
            "118\t39     \t0.239731\t0.0675864\t0.185\t0.769\t112            \t131.215   \t463       \t0.00682735    \t0.995691       \n",
            "119\t38     \t0.241133\t0.0752678\t0.185\t0.758\t112            \t129.305   \t483       \t0.00861526    \t0.939957       \n",
            "120\t38     \t0.242246\t0.0775853\t0.185\t0.756\t112            \t132.739   \t490       \t0.00673461    \t1.00374        \n",
            "121\t43     \t0.243635\t0.0799496\t0.185\t0.801\t112            \t135.296   \t565       \t0.00729227    \t1.01323        \n",
            "122\t36     \t0.247036\t0.0864647\t0.185\t0.801\t112            \t135.288   \t524       \t0.00795341    \t0.970526       \n",
            "123\t24     \t0.243255\t0.0703694\t0.185\t0.776\t112            \t132.748   \t511       \t0.00752425    \t1.0221         \n",
            "124\t26     \t0.244107\t0.076065 \t0.185\t0.793\t112            \t133.32    \t526       \t0.00819826    \t0.954968       \n",
            "125\t46     \t0.244477\t0.0766685\t0.185\t0.774\t112            \t134.207   \t450       \t0.00749063    \t0.875765       \n",
            "126\t28     \t0.249922\t0.0888989\t0.185\t0.778\t112            \t136.531   \t450       \t0.0137947     \t0.973871       \n",
            "127\t29     \t0.252526\t0.0914521\t0.185\t0.77 \t112            \t139.593   \t476       \t0.00816607    \t0.963933       \n",
            "128\t23     \t0.249423\t0.087327 \t0.185\t0.771\t112            \t140.231   \t479       \t0.0101953     \t0.912217       \n",
            "129\t36     \t0.252875\t0.0918393\t0.185\t0.756\t112            \t139.755   \t465       \t0.00793576    \t0.813278       \n",
            "130\t27     \t0.248584\t0.08529  \t0.185\t0.775\t112            \t133.801   \t464       \t0.00717902    \t0.84786        \n",
            "131\t29     \t0.246618\t0.0804273\t0.185\t0.756\t112            \t135.77    \t437       \t0.00779271    \t0.802196       \n",
            "132\t30     \t0.248291\t0.0827284\t0.185\t0.756\t112            \t136.377   \t438       \t0.00711155    \t0.731234       \n",
            "133\t20     \t0.242193\t0.0671861\t0.185\t0.756\t112            \t136.867   \t524       \t0.007622      \t0.879699       \n",
            "134\t24     \t0.247889\t0.0830987\t0.185\t0.793\t112            \t142.947   \t504       \t0.00933743    \t0.680057       \n",
            "135\t21     \t0.243879\t0.0736591\t0.185\t0.798\t112            \t147.106   \t507       \t0.00799799    \t0.773583       \n",
            "136\t27     \t0.244624\t0.0785561\t0.185\t0.759\t112            \t149.917   \t464       \t0.00977492    \t0.794687       \n",
            "137\t19     \t0.24775 \t0.083374 \t0.185\t0.794\t112            \t144.919   \t439       \t0.00795841    \t0.75412        \n",
            "138\t24     \t0.251857\t0.0995111\t0.185\t0.787\t112            \t142.291   \t418       \t0.0109329     \t0.767843       \n",
            "139\t18     \t0.253622\t0.105911 \t0.185\t0.781\t112            \t139.076   \t432       \t0.00656199    \t0.809455       \n",
            "140\t29     \t0.251311\t0.0945002\t0.185\t0.793\t112            \t137.716   \t447       \t0.00666308    \t0.707943       \n",
            "141\t31     \t0.250336\t0.0895781\t0.185\t0.8  \t112            \t134.151   \t450       \t0.00836587    \t0.706512       \n",
            "142\t25     \t0.248987\t0.0882583\t0.185\t0.788\t112            \t134.747   \t468       \t0.0080111     \t0.760929       \n",
            "143\t18     \t0.248078\t0.0885064\t0.185\t0.792\t112            \t131.183   \t453       \t0.00718474    \t0.647635       \n",
            "144\t20     \t0.241474\t0.0580262\t0.185\t0.756\t112            \t126.45    \t475       \t0.00675893    \t0.631997       \n",
            "145\t14     \t0.240057\t0.0634416\t0.185\t0.756\t112            \t127.747   \t440       \t0.00810242    \t0.690719       \n",
            "146\t26     \t0.243615\t0.0786556\t0.185\t0.756\t112            \t135.25    \t458       \t0.00795817    \t0.712848       \n",
            "147\t27     \t0.245342\t0.0819327\t0.185\t0.77 \t112            \t137.755   \t474       \t0.0074029     \t0.705646       \n",
            "148\t33     \t0.244448\t0.070738 \t0.185\t0.762\t112            \t139.535   \t513       \t0.00786376    \t0.742938       \n",
            "149\t28     \t0.242701\t0.0698961\t0.185\t0.775\t112            \t137.796   \t508       \t0.00804567    \t0.738621       \n",
            "150\t27     \t0.240988\t0.0619513\t0.185\t0.756\t112            \t136.917   \t508       \t0.00845504    \t0.735799       \n",
            "151\t22     \t0.242263\t0.070033 \t0.185\t0.775\t112            \t133.566   \t461       \t0.00723672    \t0.692512       \n",
            "152\t19     \t0.248632\t0.0896744\t0.185\t0.776\t112            \t129.835   \t461       \t0.00683141    \t0.745259       \n",
            "153\t25     \t0.248728\t0.0881761\t0.185\t0.775\t112            \t126.422   \t499       \t0.00652957    \t0.669399       \n",
            "154\t19     \t0.248341\t0.084323 \t0.185\t0.779\t112            \t133.289   \t488       \t0.00785375    \t0.699172       \n",
            "155\t22     \t0.247942\t0.0864395\t0.185\t0.756\t112            \t134.731   \t490       \t0.00769448    \t0.68355        \n",
            "156\t11     \t0.244894\t0.0782296\t0.185\t0.756\t112            \t132.262   \t475       \t0.0074265     \t0.686704       \n",
            "157\t23     \t0.244329\t0.0775666\t0.185\t0.771\t112            \t130.728   \t463       \t0.00773859    \t0.784306       \n",
            "158\t19     \t0.243187\t0.0717978\t0.185\t0.776\t112            \t133.43    \t488       \t0.00673151    \t0.75341        \n",
            "159\t38     \t0.2466  \t0.078992 \t0.185\t0.776\t112            \t137.095   \t489       \t0.00741315    \t0.719698       \n",
            "160\t24     \t0.2471  \t0.0742554\t0.185\t0.756\t112            \t133.256   \t485       \t0.00762725    \t0.732896       \n",
            "161\t24     \t0.246244\t0.0816009\t0.185\t0.792\t112            \t129.19    \t387       \t0.00925064    \t0.713081       \n",
            "162\t19     \t0.242447\t0.066735 \t0.185\t0.756\t112            \t129.466   \t410       \t0.0088892     \t0.703183       \n",
            "163\t32     \t0.243084\t0.0713804\t0.185\t0.77 \t112            \t130.286   \t418       \t0.00825143    \t0.664406       \n",
            "164\t13     \t0.251173\t0.095939 \t0.185\t0.77 \t112            \t130.244   \t394       \t0.00768256    \t0.765333       \n",
            "165\t20     \t0.248274\t0.0881359\t0.185\t0.782\t112            \t129.701   \t409       \t0.00771475    \t0.761215       \n",
            "166\t16     \t0.253078\t0.093415 \t0.185\t0.791\t112            \t128.199   \t391       \t0.00711679    \t0.704484       \n",
            "167\t17     \t0.251953\t0.0916196\t0.185\t0.791\t112            \t132.055   \t388       \t0.00806117    \t0.808018       \n",
            "168\t28     \t0.248753\t0.0864438\t0.185\t0.787\t112            \t128.794   \t399       \t0.00677419    \t0.82149        \n",
            "169\t29     \t0.247528\t0.0823522\t0.185\t0.77 \t112            \t128.825   \t436       \t0.00686336    \t0.61359        \n",
            "170\t22     \t0.246238\t0.0759522\t0.185\t0.756\t112            \t130.851   \t386       \t0.00840187    \t0.686648       \n",
            "171\t23     \t0.250992\t0.0922753\t0.185\t0.786\t112            \t129.858   \t387       \t0.00773239    \t0.773707       \n",
            "172\t24     \t0.250942\t0.0969761\t0.185\t0.776\t112            \t130.498   \t410       \t0.00790334    \t0.618509       \n",
            "173\t18     \t0.246014\t0.0835103\t0.185\t0.776\t112            \t124.263   \t408       \t0.00674844    \t0.581016       \n",
            "174\t28     \t0.248297\t0.0834075\t0.185\t0.756\t112            \t125.722   \t416       \t0.00695729    \t0.613527       \n",
            "175\t17     \t0.245324\t0.0742772\t0.185\t0.756\t112            \t120.318   \t461       \t0.00710988    \t0.602116       \n",
            "176\t12     \t0.245495\t0.0751069\t0.185\t0.756\t112            \t122.389   \t407       \t0.00872874    \t0.552458       \n",
            "177\t13     \t0.243762\t0.0761144\t0.185\t0.756\t112            \t125.301   \t400       \t0.00685763    \t0.699615       \n",
            "178\t14     \t0.250714\t0.0935221\t0.185\t0.77 \t112            \t121.915   \t409       \t0.00704193    \t0.523818       \n",
            "179\t5      \t0.245678\t0.0722064\t0.185\t0.756\t112            \t119.984   \t393       \t0.00771213    \t0.612213       \n",
            "180\t15     \t0.24185 \t0.064621 \t0.185\t0.784\t112            \t118.745   \t397       \t0.0068481     \t0.585122       \n",
            "181\t8      \t0.243706\t0.0732525\t0.185\t0.787\t112            \t118.133   \t420       \t0.00673246    \t0.557492       \n",
            "182\t8      \t0.244827\t0.0763077\t0.185\t0.787\t112            \t116.591   \t409       \t0.00778604    \t0.592847       \n",
            "183\t13     \t0.248378\t0.0824588\t0.185\t0.77 \t112            \t116.225   \t429       \t0.0124657     \t0.549978       \n",
            "184\t10     \t0.246175\t0.0793203\t0.185\t0.775\t112            \t114.598   \t412       \t0.0068028     \t0.530347       \n",
            "185\t9      \t0.242395\t0.0637606\t0.185\t0.756\t112            \t118.629   \t432       \t0.00734925    \t0.591775       \n",
            "186\t14     \t0.246052\t0.0795893\t0.185\t0.791\t112            \t117.928   \t443       \t0.00668192    \t0.613144       \n",
            "187\t11     \t0.243777\t0.0724556\t0.185\t0.792\t112            \t119.702   \t443       \t0.00704002    \t0.617749       \n",
            "188\t15     \t0.248238\t0.0823115\t0.185\t0.775\t112            \t117.859   \t444       \t0.00751209    \t0.628446       \n",
            "189\t21     \t0.247744\t0.082498 \t0.185\t0.773\t112            \t118.797   \t493       \t0.00772786    \t0.740206       \n",
            "190\t11     \t0.240403\t0.0583523\t0.185\t0.788\t112            \t116.994   \t465       \t0.00757408    \t0.747015       \n",
            "191\t21     \t0.242952\t0.0624443\t0.185\t0.756\t112            \t111.675   \t441       \t0.00820613    \t0.68315        \n",
            "192\t23     \t0.248559\t0.0879945\t0.185\t0.796\t112            \t112.86    \t414       \t0.0079155     \t0.671201       \n",
            "193\t18     \t0.246337\t0.0801767\t0.185\t0.771\t112            \t113.283   \t429       \t0.00764227    \t0.821055       \n",
            "194\t17     \t0.240393\t0.0629322\t0.185\t0.763\t112            \t112.14    \t454       \t0.00875354    \t0.676019       \n",
            "195\t13     \t0.243271\t0.074193 \t0.185\t0.782\t112            \t107.626   \t447       \t0.00698304    \t0.652414       \n",
            "196\t15     \t0.247765\t0.0826744\t0.185\t0.776\t112            \t105.588   \t419       \t0.00658107    \t0.749492       \n",
            "197\t14     \t0.24686 \t0.0837009\t0.185\t0.756\t112            \t107.274   \t466       \t0.00654173    \t0.606438       \n",
            "198\t19     \t0.245737\t0.0749257\t0.185\t0.756\t112            \t106.834   \t468       \t0.00689316    \t0.523425       \n",
            "199\t9      \t0.253342\t0.0963949\t0.185\t0.785\t112            \t104.763   \t397       \t0.00661206    \t0.542854       \n",
            "200\t12     \t0.239929\t0.056216 \t0.185\t0.776\t112            \t103.026   \t397       \t0.00662112    \t0.54844        \n"
          ]
        }
      ]
    },
    {
      "cell_type": "markdown",
      "metadata": {
        "id": "tLXak5uTuVuh"
      },
      "source": [
        "Show the best individual as an expression. The final fitness isn't entirely awful, given that we are ignoring a significant amount of the data, so you should consider this a baseline that you want to exceed."
      ]
    },
    {
      "cell_type": "code",
      "metadata": {
        "id": "00RD1VvMtr5J",
        "colab": {
          "base_uri": "https://localhost:8080/"
        },
        "outputId": "b450c16f-10ac-4674-bb12-fff2dcc95583"
      },
      "source": [
        "# Best individual\n",
        "import textwrap\n",
        "best = hof.items[0].phenotype\n",
        "print(\"Best individual: \\n\",\"\\n\".join(textwrap.wrap(best,80)))\n",
        "print(\"\\nTraining Fitness: \", hof.items[0].fitness.values[0])\n",
        "print(\"Depth: \", hof.items[0].depth)\n",
        "print(\"Length of the genome: \", len(hof.items[0].genome))\n",
        "print(f'Used portion of the genome: {hof.items[0].used_codons/len(hof.items[0].genome):.2f}')"
      ],
      "execution_count": null,
      "outputs": [
        {
          "output_type": "stream",
          "name": "stdout",
          "text": [
            "Best individual: \n",
            " add(add(x[12],add(add(x[12],x[5]),add(add(x[12],x[12]),add(add(add(x[12],add(x[1\n",
            "2],add(x[13],mul(x[11],add(x[12],x[12]))))),add(add(add(add(x[12],x[11]),add(x[1\n",
            "2],add(x[13],mul(x[11],add(x[12],x[11]))))),x[12]),x[12])),add(x[12],add(x[12],a\n",
            "dd(add(add(x[1],add(add(add(x[12],x[12]),x[3]),x[1])),add(add(add(x[12],x[12]),x\n",
            "[12]),add(x[12],x[5]))),add(x[12],x[11])))))))),add(add(x[12],add(add(add(add(x[\n",
            "12],x[12]),x[12]),add(x[12],x[5])),add(x[12],x[11]))),add(add(x[12],add(x[12],ad\n",
            "d(mul(x[12],x[12]),x[12]))),x[5])))\n",
            "\n",
            "Training Fitness:  0.18500000000000005\n",
            "Depth:  15\n",
            "Length of the genome:  112\n",
            "Used portion of the genome: 0.85\n"
          ]
        }
      ]
    },
    {
      "cell_type": "markdown",
      "metadata": {
        "id": "gnwyfFGmunWR"
      },
      "source": [
        "Define a function to predict values. We will need this to produce the predictions that will be uploaded to Kaggle."
      ]
    },
    {
      "cell_type": "code",
      "metadata": {
        "id": "BJgW2-ZFt2-Z"
      },
      "source": [
        "def predict(individual, X):\n",
        "    x = X\n",
        "    \n",
        "    if individual.invalid == True:\n",
        "        return np.NaN,\n",
        "\n",
        "    # Evaluate the expression\n",
        "    try:\n",
        "        pred = eval(individual.phenotype)\n",
        "    except (FloatingPointError, ZeroDivisionError, OverflowError,\n",
        "            MemoryError):\n",
        "        return np.NaN,\n",
        "    assert np.isrealobj(pred)\n",
        "    \n",
        "    _, c = x.shape\n",
        "    \n",
        "    try:\n",
        "        Y_class = [1 if pred[i] > 0 else 0 for i in range(c)]\n",
        "    except (IndexError, TypeError):\n",
        "        return np.NaN,\n",
        "   \n",
        "    return Y_class"
      ],
      "execution_count": null,
      "outputs": []
    },
    {
      "cell_type": "markdown",
      "metadata": {
        "id": "U87HYdwKud_x"
      },
      "source": [
        "Predict the classes of the test set."
      ]
    },
    {
      "cell_type": "code",
      "metadata": {
        "id": "Um-DsUo4uefK",
        "colab": {
          "base_uri": "https://localhost:8080/"
        },
        "outputId": "292f5c4e-827a-4c68-8cb9-2371a63e5afe"
      },
      "source": [
        "y_pred = predict(hof.items[0], X_test)\n",
        "print(\"Predicted classes of the test set: \", y_pred)"
      ],
      "execution_count": null,
      "outputs": [
        {
          "output_type": "stream",
          "name": "stdout",
          "text": [
            "Predicted classes of the test set:  [0, 0, 0, 0, 0, 0, 0, 1, 0, 0, 0, 0, 1, 0, 1, 1, 0, 0, 0, 0, 0, 0, 0, 1, 0, 0, 0, 0, 0, 0, 1, 1, 0, 0, 0, 0, 0, 0, 0, 0, 0, 0, 0, 0, 0, 0, 1, 0, 0, 0, 0, 0, 0, 0, 0, 1, 0, 0, 0, 0, 0, 0, 0, 0, 0, 0, 1, 0, 0, 0, 0, 0, 1, 0, 1, 1, 0, 0, 0, 1, 0, 0, 0, 0, 0, 0, 0, 0, 0, 0, 0, 0, 0, 0, 0, 0, 0, 0, 0, 0, 1, 1, 0, 0, 0, 0, 0, 0, 1, 0, 0, 0, 0, 0, 0, 1, 0, 0, 0, 1, 0, 0, 0, 0, 0, 1, 0, 0, 1, 1, 0, 0, 0, 0, 0, 0, 0, 0, 0, 0, 0, 0, 0, 0, 0, 1, 0, 0, 0, 1, 0, 0, 1, 0, 0, 0, 0, 0, 0, 0, 0, 0, 0, 1, 0, 0, 1, 0, 0, 1, 0, 0, 0, 1, 0, 0, 0, 1, 0, 0, 0, 0, 1, 0, 0, 0, 0, 0, 1, 0, 1, 0, 0, 0, 0, 0, 0, 0, 1, 0, 0, 0, 0, 0, 0, 0, 0, 0, 0, 0, 1, 0, 0, 0, 0, 0, 0, 0, 0, 0, 0, 0, 0, 0, 1, 0, 0, 0, 0, 0, 0, 0, 1, 0, 0, 0, 0, 1, 0, 1, 0, 0, 0, 1, 0, 0, 0, 0, 0, 0, 0, 0, 0, 0, 0, 0, 1, 0, 0, 0, 0, 0, 0, 0, 0, 1, 0, 0, 0, 0, 0, 0, 0, 0, 1, 0, 0, 1, 0, 0, 0, 0, 1, 0, 0, 0, 0, 0, 0, 0, 0, 0, 0, 0, 0, 0, 0, 0, 0, 0, 0, 1, 0, 0, 0, 0, 0, 0, 0, 0, 0, 0, 1, 0, 0, 0, 0, 0, 0, 0, 0, 0, 1, 0, 0, 1, 0, 0, 0, 0, 0, 0, 0, 1, 0, 0, 0, 0, 1, 0, 0, 0, 0, 0, 0, 1, 1, 0, 0, 0, 0, 0, 0, 0, 0, 0, 0, 0, 0, 0, 0, 1, 0, 0, 0, 1, 0, 0, 1, 0, 0, 0, 0, 0, 0, 0, 1, 0, 0, 1, 0, 0, 1, 0, 0, 0, 0, 0, 0, 1, 0, 1, 0, 0, 0, 1, 1, 0, 0, 0, 0, 0, 1, 0, 0, 0, 1, 0, 0, 0, 0, 0, 0, 0, 0, 0, 0, 0, 0, 1, 0, 0, 0, 0, 0, 1, 0, 0, 0, 0]\n"
          ]
        }
      ]
    },
    {
      "cell_type": "markdown",
      "metadata": {
        "id": "cvilz5ApvV05"
      },
      "source": [
        "Save it in a .csv file and submit it in the [Kaggle competition](https://www.kaggle.com/c/cs6271-kagglecompetition/submit).\n",
        "\n",
        "The format is as follows:\n",
        "1. First column is the original `id` column in the test set;\n",
        "2. Second column is named `class_label` and contains the predictions (only 0's or 1's)."
      ]
    },
    {
      "cell_type": "code",
      "metadata": {
        "id": "8ap20PzQz3aq"
      },
      "source": [
        "df_id = df_test['id']\n",
        "df_class = pd.DataFrame(data=y_pred, columns = ['class_label'])\n",
        "df_pred = pd.concat([df_id, df_class], axis=1)\n",
        "\n",
        "df_pred.to_csv('predictions.csv', sep=',', index=False)"
      ],
      "execution_count": null,
      "outputs": []
    },
    {
      "cell_type": "markdown",
      "metadata": {
        "id": "nAl7VAL3J-CB"
      },
      "source": [
        "## Genetic Programming"
      ]
    },
    {
      "cell_type": "code",
      "metadata": {
        "id": "KiVlsJdaeHp7"
      },
      "source": [
        "from deap import gp\n",
        "from deap import algorithms\n",
        "#base, creator and tools were already imported"
      ],
      "execution_count": null,
      "outputs": []
    },
    {
      "cell_type": "markdown",
      "metadata": {
        "id": "bBtUbsNgbpmY"
      },
      "source": [
        "Set GP parameters."
      ]
    },
    {
      "cell_type": "code",
      "metadata": {
        "id": "7Uq-lDzSb2jx",
        "colab": {
          "base_uri": "https://localhost:8080/",
          "height": 132
        },
        "outputId": "4e3bc157-9bf8-41e9-a056-cbd5d80ada45"
      },
      "source": [
        "POPULATION_SIZE = \n",
        "P_CROSSOVER =\n",
        "P_MUTATION = \n",
        "MAX_GENERATIONS = \n",
        "HALL_OF_FAME_SIZE = \n",
        "\n",
        "MIN_TREE_HEIGHT = \n",
        "MAX_TREE_HEIGHT = \n",
        "LIMIT_TREE_HEIGHT = \n",
        "MUT_MIN_TREE_HEIGHT = \n",
        "MUT_MAX_TREE_HEIGHT = "
      ],
      "execution_count": null,
      "outputs": [
        {
          "output_type": "error",
          "ename": "SyntaxError",
          "evalue": "ignored",
          "traceback": [
            "\u001b[0;36m  File \u001b[0;32m\"<ipython-input-35-fa1e763e0a4c>\"\u001b[0;36m, line \u001b[0;32m1\u001b[0m\n\u001b[0;31m    POPULATION_SIZE =\u001b[0m\n\u001b[0m                      ^\u001b[0m\n\u001b[0;31mSyntaxError\u001b[0m\u001b[0;31m:\u001b[0m invalid syntax\n"
          ]
        }
      ]
    },
    {
      "cell_type": "markdown",
      "metadata": {
        "id": "BTdFeqi8cHLp"
      },
      "source": [
        "Next steps:\n",
        "\n",
        "1. Define a fitness function;\n",
        "2. Add functions and terminals to `gp.PrimitiveSet`. Maybe you will need to define some functions before that;\n",
        "3. Create the toolbox;\n",
        "4. Run GP;\n",
        "5. Define a function to predict samples using a GP individual;\n",
        "6. Predict the test set, save a .csv file and submit it in the [Kaggle competition](https://www.kaggle.com/c/cs6271-kagglecompetition/submit) to see if the results are better than when using GRAPE. \n",
        "\n",
        "Hint: \n",
        "    \n",
        "    Maybe you will need to change the format of the data on X_train and X_test."
      ]
    },
    {
      "cell_type": "code",
      "metadata": {
        "id": "zVtudXsjKBRR"
      },
      "source": [
        "# your code here"
      ],
      "execution_count": null,
      "outputs": []
    },
    {
      "cell_type": "markdown",
      "metadata": {
        "id": "oJK4hMZrYSG2"
      },
      "source": [
        "## Summary\n",
        "\n"
      ]
    },
    {
      "cell_type": "markdown",
      "metadata": {
        "id": "d6phFI_7YcWf"
      },
      "source": [
        "Your summary here."
      ]
    }
  ]
}