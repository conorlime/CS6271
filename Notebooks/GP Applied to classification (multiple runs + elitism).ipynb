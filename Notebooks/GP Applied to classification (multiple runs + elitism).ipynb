{
 "cells": [
  {
   "cell_type": "markdown",
   "metadata": {},
   "source": [
    "# GP Multiple runs on an arbitrary Classification Problem."
   ]
  },
  {
   "cell_type": "markdown",
   "metadata": {},
   "source": [
    "In this notebook we tackle classification with GP. It isn't that straightforward to create a notebook that is general enough to be applied to an classification problem as some will have different types. For now, we're going to focus on binary classification with numeric types, and will look at mixed types when we move to Grammatical Evolution."
   ]
  },
  {
   "cell_type": "code",
   "execution_count": 1,
   "metadata": {},
   "outputs": [
    {
     "data": {
      "text/html": [
       "<style>.container { width:100% !important; }</style>"
      ],
      "text/plain": [
       "<IPython.core.display.HTML object>"
      ]
     },
     "metadata": {},
     "output_type": "display_data"
    }
   ],
   "source": [
    "from IPython.core.display import display, HTML\n",
    "display(HTML(\"<style>.container { width:100% !important; }</style>\"))\n"
   ]
  },
  {
   "cell_type": "markdown",
   "metadata": {},
   "source": [
    "Install DEAP. "
   ]
  },
  {
   "cell_type": "code",
   "execution_count": 2,
   "metadata": {},
   "outputs": [
    {
     "name": "stdout",
     "output_type": "stream",
     "text": [
      "Requirement already satisfied: deap in /Library/Frameworks/Python.framework/Versions/3.8/lib/python3.8/site-packages (1.3.1)\n",
      "Requirement already satisfied: numpy in /Library/Frameworks/Python.framework/Versions/3.8/lib/python3.8/site-packages (from deap) (1.19.1)\n",
      "\u001b[33mWARNING: You are using pip version 20.2.3; however, version 21.2.4 is available.\n",
      "You should consider upgrading via the '/Library/Frameworks/Python.framework/Versions/3.8/bin/python3.8 -m pip install --upgrade pip' command.\u001b[0m\n"
     ]
    }
   ],
   "source": [
    "!pip install deap"
   ]
  },
  {
   "cell_type": "markdown",
   "metadata": {},
   "source": [
    "Import our tools. "
   ]
  },
  {
   "cell_type": "code",
   "execution_count": 3,
   "metadata": {},
   "outputs": [],
   "source": [
    "import random\n",
    "import operator\n",
    "import csv\n",
    "import itertools\n",
    "import math\n",
    "\n",
    "import numpy\n",
    "\n",
    "from deap import algorithms\n",
    "from deap import base\n",
    "from deap import creator\n",
    "from deap import tools\n",
    "from deap import gp\n",
    "\n",
    "import csv\n",
    "from elitism import eaSimpleWithElitism\n",
    "\n",
    "\n",
    "import matplotlib.pyplot as plt\n",
    "\n",
    "import networkx as nx\n",
    "\n"
   ]
  },
  {
   "cell_type": "markdown",
   "metadata": {},
   "source": [
    "Set our Genetic Programming parameters, one of which is now the number of runs."
   ]
  },
  {
   "cell_type": "code",
   "execution_count": 4,
   "metadata": {},
   "outputs": [],
   "source": [
    "# Genetic Programming constants:\n",
    "POPULATION_SIZE = 200\n",
    "P_CROSSOVER = 0.9\n",
    "P_MUTATION = 0.01\n",
    "MAX_GENERATIONS = 50\n",
    "HALL_OF_FAME_SIZE = 10\n",
    "\n",
    "N_RUNS = 30\n",
    "\n",
    "\n"
   ]
  },
  {
   "cell_type": "markdown",
   "metadata": {},
   "source": [
    "Set the random seed. "
   ]
  },
  {
   "cell_type": "code",
   "execution_count": 5,
   "metadata": {},
   "outputs": [],
   "source": [
    "RANDOM_SEED = 412\n",
    "random.seed(RANDOM_SEED)"
   ]
  },
  {
   "cell_type": "markdown",
   "metadata": {},
   "source": [
    "GP-Specific constants."
   ]
  },
  {
   "cell_type": "code",
   "execution_count": 6,
   "metadata": {},
   "outputs": [],
   "source": [
    "MIN_TREE_HEIGHT = 5\n",
    "MAX_TREE_HEIGHT = 12\n",
    "LIMIT_TREE_HEIGHT = 17\n",
    "MUT_MIN_TREE_HEIGHT = 0\n",
    "MUT_MAX_TREE_HEIGHT = 2"
   ]
  },
  {
   "cell_type": "markdown",
   "metadata": {},
   "source": [
    "Read in the data."
   ]
  },
  {
   "cell_type": "code",
   "execution_count": 7,
   "metadata": {},
   "outputs": [],
   "source": [
    "with open(\"spambase.csv\") as classificationData:\n",
    "    n_rows = sum(1 for line in classificationData)\n",
    "with open(\"spambase.csv\") as classificationData:\n",
    "    reader = csv.reader(classificationData)\n",
    "    data = list(list(float(elem) for elem in row) for row in reader)"
   ]
  },
  {
   "cell_type": "markdown",
   "metadata": {},
   "source": [
    "This is a helpful function to turn numeric values into Boolean. We're going to assume that a value greater than 0 is **True** and anything else is **False**."
   ]
  },
  {
   "cell_type": "code",
   "execution_count": 8,
   "metadata": {},
   "outputs": [],
   "source": [
    "def turnBool(pred):\n",
    "    return (pred>0)"
   ]
  },
  {
   "cell_type": "markdown",
   "metadata": {},
   "source": [
    "Define our fitness function. This time there's an extra step. First we get all our predictions, which will be in numeric form, then we convert them to Boolean, and only then do we evaluate the fitness."
   ]
  },
  {
   "cell_type": "code",
   "execution_count": 9,
   "metadata": {},
   "outputs": [],
   "source": [
    "def evalClassification(individual):\n",
    "    # Transform the tree expression in a callable function\n",
    "    func = toolbox.compile(expr=individual)\n",
    "    #predictions = map(func,data)\n",
    "    spam_samp = random.sample(data, 400)\n",
    "    result = sum(bool(func(*mail[:57])) is bool(mail[57]) for mail in spam_samp)\n",
    "    nodes, edges, labels = gp.graph(individual)\n",
    "    return result, len(nodes)"
   ]
  },
  {
   "cell_type": "markdown",
   "metadata": {},
   "source": [
    "Define a protected division function."
   ]
  },
  {
   "cell_type": "code",
   "execution_count": 10,
   "metadata": {},
   "outputs": [],
   "source": [
    "def protectedDiv(left, right):\n",
    "    try:\n",
    "        return left / right\n",
    "    except ZeroDivisionError:\n",
    "        return 1"
   ]
  },
  {
   "cell_type": "markdown",
   "metadata": {},
   "source": [
    "Add our functions and terminals. "
   ]
  },
  {
   "cell_type": "code",
   "execution_count": 11,
   "metadata": {},
   "outputs": [],
   "source": [
    "pset = gp.PrimitiveSet(\"MAIN\", 57) # number of inputs!!!\n",
    "pset.addPrimitive(operator.add, 2)\n",
    "pset.addPrimitive(operator.sub, 2)\n",
    "pset.addPrimitive(operator.mul, 2)\n",
    "pset.addPrimitive(protectedDiv, 2)\n",
    "pset.addPrimitive(operator.neg, 1)\n",
    "\n",
    "pset.addEphemeralConstant(\"rand101\", lambda: random.random())\n"
   ]
  },
  {
   "cell_type": "markdown",
   "metadata": {},
   "source": [
    "Create our toolbox. This is very similar to the Symbolic Regression notebook except we are using the parameters declared up above."
   ]
  },
  {
   "cell_type": "code",
   "execution_count": 12,
   "metadata": {},
   "outputs": [],
   "source": [
    "toolbox = base.Toolbox()\n",
    "\n",
    "#creator.create(\"FitnessMin\", base.Fitness, weights=(-1.0,-1.0))\n",
    "#creator.create(\"Individual\", gp.PrimitiveTree, fitness=creator.FitnessMin)\n",
    "\n",
    "creator.create(\"FitnessMax\", base.Fitness, weights=(1.0,))\n",
    "creator.create(\"Individual\", gp.PrimitiveTree, fitness=creator.FitnessMax)\n",
    "\n",
    "\n",
    "toolbox.register(\"expr\", gp.genHalfAndHalf, pset=pset, min_=MIN_TREE_HEIGHT, max_=MAX_TREE_HEIGHT)\n",
    "toolbox.register(\"individual\", tools.initIterate, creator.Individual, toolbox.expr)\n",
    "toolbox.register(\"population\", tools.initRepeat, list, toolbox.individual)\n",
    "toolbox.register(\"compile\", gp.compile, pset=pset)\n",
    "\n",
    "toolbox.register(\"evaluate\", evalClassification)\n",
    "#toolbox.register(\"select\", tools.selNSGA2)\n",
    "toolbox.register(\"select\", tools.selTournament, tournsize=5)\n",
    "\n",
    "toolbox.register(\"mate\", gp.cxOnePoint)\n",
    "toolbox.register(\"expr_mut\", gp.genFull, min_=0, max_=5)\n",
    "toolbox.register(\"mutate\", gp.mutUniform, expr=toolbox.expr_mut, pset=pset)\n",
    "\n",
    "toolbox.decorate(\"mate\", gp.staticLimit(key=operator.attrgetter(\"height\"), max_value=17))\n",
    "toolbox.decorate(\"mutate\", gp.staticLimit(key=operator.attrgetter(\"height\"), max_value=17))"
   ]
  },
  {
   "cell_type": "markdown",
   "metadata": {},
   "source": [
    "Create our statistics. These are a bit more complex than the GA ones because we want to keep track of fitness and size for all runs."
   ]
  },
  {
   "cell_type": "code",
   "execution_count": 13,
   "metadata": {},
   "outputs": [],
   "source": [
    "maxListFitness = []\n",
    "avgListFitness = []\n",
    "minListFitness = []\n",
    "stdListFitness = []\n",
    "\n",
    "maxListSize = []\n",
    "avgListSize = []\n",
    "minListSize = []\n",
    "stdListSize = []"
   ]
  },
  {
   "cell_type": "markdown",
   "metadata": {},
   "source": [
    "Conduct **N_RUNS** times. "
   ]
  },
  {
   "cell_type": "code",
   "execution_count": null,
   "metadata": {},
   "outputs": [
    {
     "name": "stdout",
     "output_type": "stream",
     "text": [
      "\n",
      "\n",
      "Currently on run 0 of 30\n",
      "-- Best Individual =  mul(neg(add(ARG31, mul(mul(mul(mul(add(add(ARG23, ARG51), ARG51), protectedDiv(mul(protectedDiv(mul(neg(ARG15), protectedDiv(ARG49, 0.19661718882847368)), ARG40), protectedDiv(ARG49, neg(ARG32))), ARG40)), protectedDiv(ARG23, ARG40)), protectedDiv(ARG23, ARG40)), protectedDiv(ARG52, ARG40)))), sub(add(sub(add(ARG52, ARG39), sub(ARG39, ARG52)), mul(sub(ARG55, mul(add(ARG23, ARG51), protectedDiv(ARG23, ARG40))), ARG23)), add(mul(sub(ARG55, protectedDiv(mul(sub(ARG55, sub(ARG1, add(sub(add(ARG37, ARG31), sub(ARG39, ARG52)), mul(add(ARG23, ARG51), protectedDiv(ARG23, ARG40))))), ARG22), ARG40)), mul(sub(add(ARG40, ARG31), sub(mul(add(sub(add(ARG37, ARG31), mul(sub(ARG55, ARG52), ARG51)), ARG52), protectedDiv(ARG49, 0.19661718882847368)), ARG52)), ARG23)), ARG15)))\n",
      "-- length=108, height=12\n",
      "-- Best Fitness =  368.0\n",
      "\n",
      "\n",
      "Currently on run 1 of 30\n",
      "-- Best Individual =  neg(mul(add(mul(protectedDiv(ARG22, ARG25), add(add(mul(protectedDiv(mul(mul(ARG15, ARG6), neg(add(mul(protectedDiv(protectedDiv(ARG6, ARG40), ARG25), ARG19), protectedDiv(add(add(mul(protectedDiv(ARG51, ARG29), add(ARG23, ARG22)), protectedDiv(add(ARG22, ARG15), 0.2990430175688886)), ARG6), ARG37)))), ARG29), mul(add(mul(protectedDiv(ARG51, ARG6), add(ARG23, sub(ARG19, ARG15))), protectedDiv(add(ARG22, ARG15), 0.2990430175688886)), protectedDiv(ARG6, ARG40))), ARG23), ARG23)), protectedDiv(add(ARG22, ARG6), 0.2990430175688886)), protectedDiv(add(ARG22, ARG15), mul(neg(ARG15), protectedDiv(ARG6, ARG40)))))\n",
      "-- length=78, height=16\n",
      "-- Best Fitness =  368.0\n",
      "\n",
      "\n",
      "Currently on run 2 of 30\n",
      "-- Best Individual =  mul(neg(add(ARG6, protectedDiv(mul(add(ARG15, ARG21), protectedDiv(ARG35, ARG28)), protectedDiv(add(ARG24, ARG6), mul(protectedDiv(protectedDiv(ARG33, sub(ARG44, ARG49)), protectedDiv(ARG24, neg(sub(ARG20, ARG49)))), neg(ARG52)))))), sub(sub(neg(neg(neg(ARG25))), sub(sub(sub(mul(neg(ARG4), add(ARG6, add(ARG6, ARG33))), sub(neg(neg(sub(ARG20, ARG49))), add(ARG24, ARG46))), sub(protectedDiv(mul(ARG25, ARG1), ARG40), sub(neg(ARG46), add(ARG24, ARG13)))), add(mul(neg(ARG28), neg(sub(ARG7, ARG25))), neg(mul(neg(ARG4), add(protectedDiv(protectedDiv(mul(ARG0, ARG47), sub(ARG44, ARG49)), protectedDiv(add(ARG49, ARG22), mul(ARG35, ARG19))), ARG33)))))), ARG4))\n",
      "-- length=99, height=11\n",
      "-- Best Fitness =  372.0\n",
      "\n",
      "\n",
      "Currently on run 3 of 30\n",
      "-- Best Individual =  neg(add(mul(sub(add(mul(sub(mul(ARG1, ARG27), add(protectedDiv(ARG22, sub(neg(ARG36), sub(mul(sub(ARG22, add(protectedDiv(ARG22, sub(ARG17, ARG56)), ARG6)), protectedDiv(mul(ARG40, neg(ARG9)), ARG8)), ARG56))), ARG6)), protectedDiv(ARG8, ARG42)), mul(sub(mul(neg(ARG42), ARG51), ARG51), add(ARG52, neg(ARG8)))), add(protectedDiv(ARG22, sub(neg(neg(neg(ARG52))), sub(mul(sub(ARG22, add(neg(ARG46), ARG6)), protectedDiv(add(protectedDiv(ARG48, ARG33), mul(ARG13, ARG12)), ARG17)), ARG56))), ARG6)), protectedDiv(ARG8, ARG42)), mul(sub(neg(ARG46), ARG51), add(ARG52, neg(ARG8)))))\n",
      "-- length=88, height=16\n",
      "-- Best Fitness =  363.0\n",
      "\n",
      "\n",
      "Currently on run 4 of 30\n",
      "-- Best Individual =  mul(protectedDiv(mul(sub(neg(add(ARG22, ARG15)), mul(ARG16, neg(mul(protectedDiv(protectedDiv(ARG13, neg(neg(ARG25))), mul(sub(ARG11, protectedDiv(ARG0, ARG38)), protectedDiv(neg(ARG19), ARG19))), neg(neg(add(ARG52, ARG5))))))), neg(sub(protectedDiv(mul(sub(ARG23, add(ARG33, ARG30)), ARG46), mul(sub(ARG23, ARG22), sub(ARG29, ARG30))), sub(protectedDiv(sub(ARG14, ARG29), neg(ARG37)), protectedDiv(protectedDiv(ARG22, neg(ARG25)), add(mul(ARG42, ARG54), protectedDiv(ARG21, sub(sub(ARG22, ARG22), sub(ARG22, ARG6))))))))), neg(add(mul(ARG42, ARG54), protectedDiv(ARG21, sub(sub(ARG22, ARG22), sub(ARG22, ARG6)))))), neg(sub(sub(neg(ARG25), add(ARG37, ARG38)), protectedDiv(add(ARG22, neg(sub(ARG22, ARG6))), add(ARG45, ARG36)))))\n",
      "-- length=107, height=11\n",
      "-- Best Fitness =  373.0\n",
      "\n",
      "\n",
      "Currently on run 5 of 30\n",
      "-- Best Individual =  neg(neg(mul(add(add(mul(add(add(ARG44, ARG15), neg(ARG51)), neg(mul(add(neg(ARG7), neg(ARG55)), neg(add(sub(mul(ARG51, neg(ARG55)), ARG6), neg(neg(mul(add(ARG51, neg(ARG28)), neg(add(ARG15, ARG7)))))))))), ARG15), neg(protectedDiv(mul(add(ARG51, ARG15), neg(add(ARG15, ARG55))), neg(add(ARG15, ARG7))))), neg(add(neg(mul(add(ARG34, neg(ARG55)), add(sub(mul(neg(protectedDiv(mul(add(ARG51, ARG15), neg(add(ARG15, ARG7))), ARG7)), ARG7), ARG6), add(neg(mul(add(ARG15, ARG7), mul(ARG51, neg(add(ARG15, ARG7))))), ARG7)))), ARG7)))))\n",
      "-- length=91, height=15\n",
      "-- Best Fitness =  364.0\n",
      "\n",
      "\n",
      "Currently on run 6 of 30\n",
      "-- Best Individual =  add(neg(add(ARG6, mul(neg(ARG15), ARG51))), protectedDiv(ARG23, sub(add(sub(add(protectedDiv(neg(sub(ARG17, protectedDiv(protectedDiv(ARG31, add(ARG6, mul(neg(ARG15), ARG51))), ARG47))), ARG48), sub(ARG51, protectedDiv(ARG54, ARG31))), neg(sub(add(ARG23, sub(ARG51, ARG30)), neg(protectedDiv(ARG31, ARG30))))), add(ARG6, mul(neg(add(ARG6, mul(neg(ARG15), ARG51))), add(ARG24, ARG42)))), ARG17)))\n",
      "-- length=59, height=14\n",
      "-- Best Fitness =  367.0\n",
      "\n",
      "\n",
      "Currently on run 7 of 30\n",
      "-- Best Individual =  mul(protectedDiv(protectedDiv(protectedDiv(ARG6, ARG24), add(mul(add(neg(ARG42), protectedDiv(sub(add(ARG39, ARG20), sub(ARG32, 0.1810616507351357)), protectedDiv(ARG30, ARG48))), sub(protectedDiv(ARG20, ARG47), ARG6)), protectedDiv(neg(ARG26), neg(ARG20)))), neg(protectedDiv(neg(add(ARG20, ARG55)), mul(protectedDiv(neg(protectedDiv(protectedDiv(ARG6, ARG24), add(mul(add(add(sub(ARG10, ARG24), ARG23), protectedDiv(sub(add(ARG39, ARG20), sub(ARG42, 0.1810616507351357)), protectedDiv(ARG30, ARG48))), ARG42), protectedDiv(neg(ARG26), ARG51)))), neg(sub(ARG40, ARG47))), protectedDiv(ARG42, ARG35))))), add(ARG52, ARG6))\n",
      "-- length=79, height=14\n",
      "-- Best Fitness =  367.0\n",
      "\n",
      "\n",
      "Currently on run 8 of 30\n",
      "-- Best Individual =  neg(mul(sub(protectedDiv(ARG21, ARG30), ARG6), neg(mul(sub(ARG19, mul(protectedDiv(protectedDiv(ARG50, ARG30), ARG6), sub(ARG43, sub(sub(protectedDiv(ARG15, ARG20), 0.31126492181643883), sub(ARG52, ARG6))))), mul(sub(ARG51, ARG6), neg(mul(sub(ARG19, mul(sub(ARG52, ARG6), neg(sub(ARG43, sub(ARG19, mul(sub(ARG35, 0.31126492181643883), sub(ARG43, ARG56))))))), sub(ARG43, mul(sub(ARG19, sub(ARG52, ARG6)), sub(sub(sub(protectedDiv(ARG15, ARG20), 0.31126492181643883), neg(ARG9)), ARG56))))))))))\n",
      "-- length=70, height=14\n",
      "-- Best Fitness =  367.0\n",
      "\n",
      "\n",
      "Currently on run 9 of 30\n",
      "-- Best Individual =  neg(neg(neg(add(neg(add(neg(ARG6), add(neg(ARG6), mul(protectedDiv(ARG31, ARG26), neg(add(mul(protectedDiv(ARG31, ARG45), neg(ARG52)), add(mul(protectedDiv(ARG31, ARG45), neg(ARG52)), ARG15))))))), mul(mul(neg(neg(add(ARG6, mul(protectedDiv(ARG31, ARG26), neg(ARG52))))), neg(add(sub(add(ARG31, neg(sub(ARG43, ARG13))), ARG34), add(mul(add(neg(ARG6), mul(protectedDiv(ARG52, ARG26), neg(add(mul(protectedDiv(ARG31, ARG45), neg(ARG52)), add(mul(ARG46, neg(ARG52)), ARG15))))), neg(add(mul(protectedDiv(ARG31, ARG45), neg(ARG52)), add(mul(ARG46, neg(ARG52)), ARG15)))), ARG15)))), ARG46)))))\n",
      "-- length=92, height=17\n",
      "-- Best Fitness =  367.0\n",
      "\n",
      "\n",
      "Currently on run 10 of 30\n",
      "-- Best Individual =  neg(mul(mul(ARG51, neg(protectedDiv(neg(protectedDiv(sub(ARG17, ARG37), ARG25)), ARG25))), sub(neg(neg(mul(add(neg(mul(add(ARG6, add(sub(ARG52, ARG3), neg(mul(add(ARG6, add(sub(ARG52, ARG3), neg(ARG14))), sub(add(neg(ARG48), sub(ARG6, ARG35)), protectedDiv(add(sub(ARG52, ARG3), mul(ARG3, ARG2)), add(add(ARG11, ARG15), ARG21))))))), sub(add(neg(ARG48), mul(ARG32, sub(protectedDiv(ARG20, 0.2015783169744838), neg(neg(sub(ARG6, ARG35)))))), protectedDiv(add(sub(ARG52, ARG3), mul(ARG3, ARG2)), neg(ARG32))))), add(sub(ARG52, ARG3), neg(ARG14))), sub(add(neg(ARG48), sub(ARG6, ARG35)), protectedDiv(add(sub(ARG52, ARG3), mul(ARG3, ARG2)), add(add(ARG11, ARG3), ARG21)))))), sub(add(ARG6, sub(ARG52, ARG3)), ARG15))))\n",
      "-- length=114, height=17\n",
      "-- Best Fitness =  365.0\n",
      "\n",
      "\n",
      "Currently on run 11 of 30\n",
      "-- Best Individual =  mul(add(0.24133161758525234, ARG23), neg(add(ARG15, add(mul(add(mul(ARG8, ARG22), sub(ARG22, ARG25)), ARG22), ARG6))))\n",
      "-- length=18, height=7\n",
      "-- Best Fitness =  358.0\n",
      "\n",
      "\n",
      "Currently on run 12 of 30\n",
      "-- Best Individual =  protectedDiv(mul(add(protectedDiv(add(neg(mul(ARG6, ARG24)), neg(protectedDiv(ARG15, ARG28))), protectedDiv(sub(mul(ARG12, ARG54), mul(ARG6, ARG29)), neg(mul(ARG0, ARG29)))), neg(protectedDiv(ARG15, ARG28))), neg(sub(mul(sub(neg(ARG2), protectedDiv(ARG22, sub(sub(ARG15, ARG53), ARG30))), neg(neg(ARG52))), sub(ARG15, neg(add(ARG6, ARG6)))))), mul(add(protectedDiv(sub(add(ARG53, ARG37), protectedDiv(ARG22, ARG47)), protectedDiv(mul(ARG6, add(ARG16, 0.23313503687564063)), neg(mul(ARG15, ARG13)))), sub(mul(protectedDiv(sub(ARG43, ARG23), neg(ARG36)), sub(add(ARG53, ARG37), mul(ARG12, ARG2))), neg(sub(add(ARG29, 0.4572633104516257), add(ARG35, ARG54))))), add(mul(protectedDiv(mul(sub(ARG15, ARG53), neg(ARG47)), neg(add(ARG37, protectedDiv(ARG32, 0.4572633104516257)))), mul(neg(mul(ARG16, ARG20)), protectedDiv(neg(0.1139338609469378), protectedDiv(ARG55, ARG53)))), add(ARG35, ARG54))))\n",
      "-- length=123, height=9\n",
      "-- Best Fitness =  360.0\n",
      "\n",
      "\n",
      "Currently on run 13 of 30\n"
     ]
    },
    {
     "name": "stdout",
     "output_type": "stream",
     "text": [
      "-- Best Individual =  add(neg(mul(add(ARG52, add(add(ARG52, add(neg(neg(mul(mul(ARG21, ARG54), add(ARG24, neg(ARG22))))), ARG15)), neg(neg(mul(add(add(ARG15, ARG22), add(ARG22, ARG15)), add(ARG51, mul(add(ARG52, add(mul(mul(ARG21, ARG54), neg(mul(add(add(ARG6, ARG15), add(ARG9, ARG22)), add(ARG51, neg(ARG52))))), ARG15)), add(ARG51, ARG22)))))))), add(ARG51, ARG51))), ARG6)\n",
      "-- length=61, height=17\n",
      "-- Best Fitness =  371.0\n",
      "\n",
      "\n",
      "Currently on run 14 of 30\n",
      "-- Best Individual =  protectedDiv(sub(mul(protectedDiv(neg(mul(ARG3, ARG3)), neg(ARG24)), add(add(ARG52, add(ARG15, ARG6)), add(ARG15, ARG6))), neg(neg(mul(ARG3, ARG53)))), add(sub(add(mul(ARG5, ARG5), ARG52), add(mul(add(sub(neg(ARG18), neg(neg(0.7017024104430308))), ARG7), add(sub(ARG7, ARG24), ARG1)), mul(ARG52, neg(ARG18)))), 0.17171326449514446))\n",
      "-- length=51, height=9\n",
      "-- Best Fitness =  371.0\n",
      "\n",
      "\n",
      "Currently on run 15 of 30\n",
      "-- Best Individual =  mul(mul(add(neg(protectedDiv(ARG0, protectedDiv(mul(ARG23, ARG39), ARG26))), protectedDiv(ARG15, mul(ARG23, ARG39))), sub(mul(protectedDiv(ARG34, ARG14), add(ARG15, ARG6)), neg(sub(ARG23, neg(ARG15))))), sub(neg(ARG14), protectedDiv(ARG17, ARG25)))\n",
      "-- length=35, height=7\n",
      "-- Best Fitness =  370.0\n",
      "\n",
      "\n",
      "Currently on run 16 of 30\n",
      "-- Best Individual =  mul(neg(mul(mul(protectedDiv(neg(add(ARG41, neg(mul(sub(neg(ARG13), protectedDiv(ARG23, ARG30)), add(ARG9, ARG6))))), neg(protectedDiv(mul(ARG47, ARG41), add(add(sub(neg(ARG25), ARG18), add(mul(ARG47, ARG45), sub(ARG25, ARG55))), ARG40)))), add(protectedDiv(protectedDiv(ARG54, ARG20), neg(ARG6)), neg(protectedDiv(ARG31, ARG15)))), protectedDiv(protectedDiv(protectedDiv(sub(ARG25, ARG21), mul(ARG27, ARG35)), neg(mul(protectedDiv(neg(add(ARG41, neg(mul(sub(neg(ARG13), protectedDiv(ARG23, ARG30)), ARG15)))), neg(protectedDiv(mul(ARG47, ARG41), add(add(sub(neg(ARG25), protectedDiv(ARG20, ARG8)), add(mul(ARG41, ARG16), sub(ARG32, ARG55))), ARG40)))), add(protectedDiv(protectedDiv(ARG54, ARG23), neg(ARG6)), neg(add(ARG41, ARG16)))))), sub(ARG15, ARG20)))), protectedDiv(protectedDiv(ARG23, neg(sub(ARG24, ARG26))), sub(neg(add(neg(sub(ARG24, ARG26)), sub(add(ARG28, ARG51), mul(ARG44, ARG24)))), add(protectedDiv(mul(neg(ARG11), protectedDiv(ARG6, ARG53)), protectedDiv(add(ARG33, ARG30), neg(ARG19))), protectedDiv(neg(ARG15), add(mul(ARG50, sub(ARG32, ARG55)), sub(ARG33, ARG19)))))))\n",
      "-- length=155, height=14\n",
      "-- Best Fitness =  361.0\n",
      "\n",
      "\n",
      "Currently on run 17 of 30\n",
      "-- Best Individual =  neg(mul(add(sub(sub(add(ARG52, ARG6), ARG30), add(add(add(mul(add(sub(sub(ARG47, ARG30), add(add(add(add(sub(sub(ARG47, ARG23), ARG52), add(ARG42, ARG29)), ARG52), sub(ARG29, add(ARG6, sub(sub(ARG14, ARG52), ARG15)))), ARG41)), protectedDiv(neg(ARG52), ARG23)), add(ARG52, sub(ARG14, ARG21))), neg(ARG48)), ARG13), ARG41)), protectedDiv(neg(ARG52), add(ARG23, ARG52))), add(ARG52, ARG6)))\n",
      "-- length=63, height=16\n",
      "-- Best Fitness =  362.0\n",
      "\n",
      "\n",
      "Currently on run 18 of 30\n",
      "-- Best Individual =  neg(mul(add(neg(mul(mul(ARG52, ARG14), protectedDiv(ARG3, ARG23))), protectedDiv(ARG14, neg(sub(ARG24, ARG25)))), sub(mul(protectedDiv(protectedDiv(ARG42, ARG24), add(0.6338924686037561, ARG39)), mul(add(neg(mul(mul(mul(ARG34, ARG14), ARG14), protectedDiv(ARG3, ARG23))), add(ARG6, protectedDiv(neg(neg(protectedDiv(ARG3, ARG23))), sub(ARG15, ARG52)))), sub(mul(protectedDiv(protectedDiv(ARG42, ARG24), mul(add(neg(mul(mul(mul(ARG34, ARG14), ARG14), protectedDiv(ARG3, ARG23))), add(ARG6, protectedDiv(neg(neg(ARG51)), sub(ARG15, ARG52)))), sub(mul(protectedDiv(protectedDiv(ARG42, ARG24), add(0.6338924686037561, add(neg(ARG5), sub(ARG14, ARG14)))), neg(mul(neg(ARG15), mul(sub(ARG51, ARG16), neg(ARG15))))), sub(mul(protectedDiv(protectedDiv(sub(0.6578275828722414, ARG16), ARG24), ARG39), ARG6), ARG52)))), neg(mul(neg(ARG15), mul(sub(ARG51, ARG16), neg(ARG15))))), sub(mul(protectedDiv(protectedDiv(mul(sub(0.6578275828722414, ARG16), sub(0.6578275828722414, ARG16)), mul(add(neg(mul(mul(mul(ARG34, ARG14), ARG14), protectedDiv(ARG3, ARG23))), add(ARG6, protectedDiv(neg(neg(ARG51)), sub(ARG15, ARG52)))), sub(mul(protectedDiv(protectedDiv(ARG42, ARG24), add(0.6338924686037561, add(neg(ARG5), sub(ARG14, ARG14)))), neg(mul(neg(ARG15), mul(sub(ARG51, ARG16), neg(ARG15))))), sub(mul(protectedDiv(protectedDiv(sub(0.6578275828722414, ARG16), ARG24), ARG39), ARG6), ARG52)))), ARG39), ARG6), ARG52)))), mul(add(neg(mul(mul(ARG52, ARG14), protectedDiv(ARG3, ARG23))), protectedDiv(ARG24, neg(sub(ARG24, ARG25)))), sub(mul(protectedDiv(protectedDiv(neg(sub(ARG24, ARG25)), ARG24), add(0.6338924686037561, ARG39)), neg(mul(protectedDiv(ARG42, ARG24), mul(sub(0.6578275828722414, ARG16), neg(neg(mul(mul(ARG52, ARG14), protectedDiv(0.6578275828722414, ARG23)))))))), ARG52)))))\n",
      "-- length=238, height=17\n",
      "-- Best Fitness =  375.0\n",
      "\n",
      "\n",
      "Currently on run 19 of 30\n",
      "-- Best Individual =  mul(sub(protectedDiv(neg(sub(protectedDiv(ARG19, ARG48), add(ARG21, ARG39))), neg(protectedDiv(add(ARG37, ARG55), neg(ARG36)))), protectedDiv(ARG51, add(add(add(neg(ARG46), mul(ARG22, ARG12)), sub(add(ARG34, ARG48), protectedDiv(ARG42, ARG36))), neg(ARG51)))), sub(mul(mul(sub(ARG6, ARG52), protectedDiv(ARG9, ARG34)), protectedDiv(neg(protectedDiv(add(ARG37, ARG55), neg(ARG13))), protectedDiv(ARG9, ARG8))), mul(mul(neg(ARG4), neg(ARG10)), protectedDiv(protectedDiv(sub(sub(ARG21, ARG1), ARG45), ARG52), mul(ARG46, ARG28)))))\n",
      "-- length=74, height=7\n",
      "-- Best Fitness =  365.0\n",
      "\n",
      "\n",
      "Currently on run 20 of 30\n",
      "-- Best Individual =  protectedDiv(neg(neg(sub(neg(sub(ARG3, neg(ARG52))), sub(ARG6, ARG3)))), protectedDiv(sub(add(sub(ARG50, neg(ARG52)), sub(ARG53, ARG0)), protectedDiv(sub(add(add(sub(ARG2, ARG55), ARG19), sub(sub(ARG19, sub(ARG6, ARG3)), ARG0)), protectedDiv(neg(ARG28), add(ARG0, ARG0))), ARG11)), neg(add(neg(neg(sub(sub(add(add(sub(ARG55, neg(ARG52)), ARG19), sub(sub(ARG2, ARG17), ARG0)), neg(ARG52)), ARG3))), sub(sub(ARG29, ARG46), protectedDiv(ARG39, ARG56))))))\n",
      "-- length=72, height=12\n",
      "-- Best Fitness =  357.0\n",
      "\n",
      "\n",
      "Currently on run 21 of 30\n",
      "-- Best Individual =  mul(sub(protectedDiv(neg(sub(ARG22, ARG6)), neg(add(add(ARG51, 0.5282091562083665), ARG26))), mul(ARG15, protectedDiv(mul(mul(sub(ARG54, ARG4), add(ARG51, ARG1)), sub(neg(mul(mul(sub(ARG54, ARG4), neg(add(sub(ARG22, ARG6), add(mul(sub(ARG54, ARG4), add(ARG51, ARG37)), ARG37)))), sub(add(add(ARG12, 0.5282091562083665), ARG26), neg(ARG51)))), add(ARG12, ARG48))), add(sub(ARG16, neg(sub(ARG54, ARG4))), sub(ARG54, protectedDiv(ARG37, ARG30)))))), neg(ARG54))\n",
      "-- length=70, height=14\n",
      "-- Best Fitness =  363.0\n",
      "\n",
      "\n",
      "Currently on run 22 of 30\n",
      "-- Best Individual =  mul(mul(mul(add(protectedDiv(protectedDiv(ARG10, ARG45), ARG30), add(ARG14, ARG8)), sub(ARG46, add(ARG6, add(ARG51, ARG45)))), sub(sub(mul(ARG30, mul(ARG35, ARG1)), protectedDiv(ARG10, ARG45)), sub(ARG17, add(ARG6, ARG17)))), add(neg(add(mul(mul(mul(ARG13, protectedDiv(protectedDiv(ARG9, sub(mul(sub(ARG5, ARG7), neg(ARG10)), protectedDiv(protectedDiv(ARG54, ARG23), ARG14))), neg(mul(protectedDiv(add(ARG43, ARG49), sub(ARG9, ARG45)), protectedDiv(neg(ARG26), sub(ARG4, ARG35)))))), mul(ARG35, ARG1)), mul(ARG30, ARG35)), sub(ARG23, ARG15))), protectedDiv(mul(add(ARG6, ARG14), add(ARG55, ARG2)), protectedDiv(add(ARG13, ARG35), sub(ARG14, ARG52)))))\n",
      "-- length=95, height=12\n",
      "-- Best Fitness =  371.0\n",
      "\n",
      "\n",
      "Currently on run 23 of 30\n",
      "-- Best Individual =  mul(neg(mul(add(neg(ARG51), sub(ARG6, ARG43)), add(ARG6, mul(mul(neg(ARG51), sub(mul(add(neg(ARG51), sub(ARG6, ARG43)), sub(mul(add(neg(ARG51), add(protectedDiv(ARG24, sub(ARG6, ARG15)), mul(ARG54, ARG54))), sub(neg(neg(ARG52)), ARG6)), ARG15)), ARG15)), sub(protectedDiv(ARG33, ARG28), mul(mul(add(neg(ARG51), sub(ARG6, ARG43)), protectedDiv(ARG9, sub(protectedDiv(ARG33, ARG28), ARG15))), neg(ARG11))))))), add(ARG6, ARG51))\n",
      "-- length=68, height=14\n",
      "-- Best Fitness =  368.0\n",
      "\n",
      "\n",
      "Currently on run 24 of 30\n",
      "-- Best Individual =  mul(mul(mul(protectedDiv(neg(sub(ARG46, neg(ARG23))), mul(ARG11, neg(ARG24))), mul(protectedDiv(mul(protectedDiv(neg(sub(ARG46, neg(ARG23))), mul(ARG24, neg(ARG24))), mul(protectedDiv(0.8267271006536234, ARG16), sub(add(sub(ARG24, ARG15), mul(ARG23, ARG8)), ARG52))), ARG16), sub(add(sub(ARG24, ARG15), mul(ARG4, ARG8)), ARG52))), protectedDiv(neg(neg(ARG22)), neg(add(sub(ARG31, ARG24), ARG45)))), add(sub(add(sub(ARG31, ARG24), mul(ARG4, ARG8)), neg(0.8267271006536234)), sub(sub(protectedDiv(add(ARG56, ARG42), mul(ARG11, ARG40)), ARG25), neg(mul(neg(ARG23), ARG45)))))\n",
      "-- length=85, height=10\n",
      "-- Best Fitness =  372.0\n",
      "\n",
      "\n",
      "Currently on run 25 of 30\n"
     ]
    },
    {
     "name": "stdout",
     "output_type": "stream",
     "text": [
      "-- Best Individual =  neg(neg(mul(neg(add(sub(mul(neg(protectedDiv(neg(add(neg(ARG11), neg(ARG27))), sub(sub(sub(ARG54, ARG26), add(ARG34, ARG18)), add(neg(ARG49), add(ARG36, ARG20))))), add(protectedDiv(protectedDiv(neg(add(ARG17, ARG26)), protectedDiv(sub(ARG55, ARG22), add(ARG33, ARG35))), add(add(protectedDiv(ARG46, ARG26), neg(ARG5)), add(protectedDiv(ARG25, ARG11), neg(ARG2)))), protectedDiv(protectedDiv(mul(protectedDiv(ARG15, ARG0), add(ARG23, ARG55)), add(protectedDiv(ARG9, ARG11), neg(ARG11))), neg(mul(sub(ARG20, ARG24), add(ARG22, ARG28)))))), mul(protectedDiv(protectedDiv(protectedDiv(add(ARG34, ARG9), add(protectedDiv(ARG4, ARG35), add(ARG28, ARG20))), sub(neg(sub(ARG11, ARG30)), neg(protectedDiv(ARG43, ARG34)))), protectedDiv(add(sub(neg(ARG43), protectedDiv(ARG15, ARG15)), sub(neg(ARG16), neg(ARG14))), protectedDiv(sub(add(ARG7, ARG41), sub(ARG7, ARG34)), mul(mul(neg(mul(ARG5, ARG54)), ARG50), neg(ARG15))))), mul(add(protectedDiv(protectedDiv(sub(ARG17, ARG25), sub(ARG0, ARG43)), sub(add(ARG30, ARG25), sub(ARG24, ARG9))), sub(sub(sub(ARG54, ARG26), add(ARG34, ARG18)), add(neg(ARG49), add(ARG36, ARG20)))), add(sub(mul(add(ARG40, ARG52), mul(ARG50, ARG38)), neg(add(ARG37, ARG30))), sub(protectedDiv(neg(ARG15), mul(ARG55, ARG7)), protectedDiv(sub(ARG22, ARG32), add(ARG40, ARG48))))))), protectedDiv(neg(mul(protectedDiv(add(sub(neg(ARG20), protectedDiv(ARG49, ARG34)), sub(add(0.2482163956800334, ARG18), sub(ARG32, ARG1))), neg(sub(sub(ARG29, ARG18), neg(ARG28)))), protectedDiv(add(add(sub(ARG20, ARG4), add(ARG40, ARG23)), add(protectedDiv(ARG50, ARG27), sub(ARG41, ARG34))), neg(protectedDiv(add(ARG4, ARG18), mul(ARG47, ARG30)))))), add(mul(neg(mul(sub(sub(0.2065545446851067, ARG17), mul(ARG2, ARG18)), protectedDiv(sub(ARG24, ARG25), protectedDiv(ARG6, ARG51)))), add(sub(add(sub(ARG27, ARG29), mul(ARG41, ARG7)), neg(protectedDiv(ARG36, ARG55))), protectedDiv(mul(add(ARG13, ARG56), neg(ARG46)), mul(mul(ARG31, ARG4), add(ARG19, ARG22))))), mul(mul(mul(sub(mul(ARG46, ARG3), neg(ARG54)), sub(sub(ARG16, ARG6), neg(mul(ARG5, ARG28)))), sub(protectedDiv(neg(ARG1), protectedDiv(ARG41, ARG56)), neg(neg(ARG48)))), add(add(neg(protectedDiv(ARG44, ARG24)), sub(sub(ARG25, ARG52), mul(ARG34, ARG1))), mul(protectedDiv(neg(ARG12), protectedDiv(ARG33, ARG24)), protectedDiv(sub(ARG50, ARG8), sub(ARG14, ARG33))))))))), mul(mul(ARG51, mul(neg(protectedDiv(neg(sub(add(add(ARG47, ARG7), mul(ARG47, ARG33)), sub(protectedDiv(ARG0, ARG24), neg(ARG29)))), neg(protectedDiv(mul(add(ARG5, ARG42), mul(ARG29, ARG0)), neg(neg(ARG32)))))), mul(sub(add(protectedDiv(mul(mul(ARG17, ARG52), neg(ARG21)), add(protectedDiv(ARG52, ARG10), mul(ARG56, ARG50))), sub(neg(neg(ARG22)), neg(neg(ARG34)))), add(mul(sub(neg(ARG11), protectedDiv(ARG18, ARG8)), neg(mul(ARG26, ARG9))), add(mul(mul(ARG31, ARG16), sub(ARG55, ARG53)), sub(neg(ARG11), neg(neg(protectedDiv(ARG39, ARG50))))))), protectedDiv(add(mul(neg(mul(ARG5, ARG54)), add(add(ARG2, ARG34), mul(ARG29, ARG33))), neg(add(add(ARG53, ARG52), add(ARG10, ARG23)))), add(protectedDiv(add(add(ARG51, ARG38), protectedDiv(ARG33, ARG30)), mul(add(ARG34, ARG53), protectedDiv(ARG16, ARG10))), neg(mul(neg(ARG33), mul(ARG14, ARG32)))))))), sub(add(add(protectedDiv(sub(mul(protectedDiv(sub(ARG36, ARG55), neg(ARG12)), add(neg(ARG25), neg(ARG34))), neg(neg(mul(ARG10, ARG35)))), add(sub(mul(mul(ARG12, ARG36), protectedDiv(ARG26, ARG13)), add(sub(ARG30, ARG46), neg(0.8516630774385613))), sub(protectedDiv(protectedDiv(ARG53, ARG55), sub(ARG38, ARG13)), add(sub(ARG22, ARG50), protectedDiv(ARG27, ARG0))))), neg(neg(protectedDiv(mul(protectedDiv(ARG37, ARG54), add(ARG19, ARG11)), neg(protectedDiv(ARG37, ARG54)))))), add(neg(neg(sub(sub(protectedDiv(ARG24, ARG19), add(ARG51, ARG12)), protectedDiv(protectedDiv(ARG12, ARG45), sub(ARG1, ARG43))))), protectedDiv(sub(protectedDiv(protectedDiv(sub(ARG28, ARG10), protectedDiv(ARG11, ARG46)), protectedDiv(add(ARG46, ARG28), protectedDiv(ARG20, ARG9))), protectedDiv(mul(sub(ARG37, ARG54), add(ARG0, ARG32)), neg(mul(ARG54, ARG29)))), neg(mul(protectedDiv(mul(ARG0, ARG26), neg(ARG30)), protectedDiv(protectedDiv(ARG2, ARG30), protectedDiv(ARG23, ARG27))))))), add(sub(mul(sub(add(neg(protectedDiv(ARG43, ARG1)), neg(protectedDiv(ARG39, ARG53))), neg(ARG11)), protectedDiv(protectedDiv(add(mul(ARG3, ARG55), protectedDiv(ARG11, ARG7)), neg(sub(ARG9, ARG24))), neg(protectedDiv(mul(ARG40, ARG29), add(ARG40, ARG46))))), add(mul(sub(mul(mul(ARG1, ARG40), add(ARG49, ARG48)), protectedDiv(protectedDiv(ARG47, ARG0), add(ARG28, ARG14))), sub(sub(protectedDiv(ARG24, ARG19), add(ARG51, ARG12)), protectedDiv(protectedDiv(ARG12, ARG45), sub(ARG1, ARG44)))), sub(sub(add(add(ARG52, ARG20), sub(ARG48, ARG32)), sub(neg(ARG2), sub(ARG50, ARG55))), add(neg(protectedDiv(ARG30, ARG3)), add(neg(ARG20), neg(ARG22)))))), add(add(ARG28, ARG20), neg(protectedDiv(protectedDiv(add(neg(ARG23), protectedDiv(ARG29, ARG55)), neg(add(ARG32, ARG56))), neg(add(protectedDiv(ARG5, ARG21), add(ARG28, ARG48))))))))))))\n",
      "-- length=714, height=14\n",
      "-- Best Fitness =  354.0\n",
      "\n",
      "\n",
      "Currently on run 26 of 30\n",
      "-- Best Individual =  sub(sub(neg(ARG21), mul(sub(sub(neg(neg(ARG6)), mul(sub(sub(sub(ARG20, ARG51), ARG20), mul(ARG16, ARG46)), sub(sub(ARG52, neg(mul(mul(neg(ARG6), sub(mul(sub(sub(sub(ARG23, ARG51), ARG20), mul(ARG16, ARG46)), sub(sub(ARG52, ARG23), neg(neg(ARG6)))), ARG33)), neg(protectedDiv(ARG23, ARG28))))), ARG23))), ARG23), sub(sub(ARG52, ARG23), neg(neg(ARG6))))), sub(ARG21, neg(mul(mul(neg(ARG6), sub(mul(sub(sub(sub(ARG23, ARG51), ARG20), mul(ARG16, mul(sub(sub(sub(ARG23, ARG51), ARG20), mul(ARG16, ARG46)), sub(sub(ARG52, ARG23), ARG23)))), sub(sub(ARG52, ARG6), neg(neg(ARG6)))), ARG33)), neg(ARG23)))))\n",
      "-- length=102, height=16\n",
      "-- Best Fitness =  369.0\n",
      "\n",
      "\n",
      "Currently on run 27 of 30\n",
      "-- Best Individual =  mul(neg(protectedDiv(ARG37, ARG36)), protectedDiv(add(mul(add(mul(protectedDiv(sub(mul(neg(ARG51), neg(ARG8)), protectedDiv(ARG44, ARG26)), neg(neg(add(ARG50, ARG2)))), neg(neg(mul(protectedDiv(ARG32, ARG30), add(ARG52, ARG4))))), mul(add(neg(mul(sub(ARG52, ARG55), sub(ARG8, ARG29))), protectedDiv(neg(neg(ARG34)), mul(add(ARG49, ARG20), add(ARG45, ARG51)))), add(sub(add(sub(ARG4, ARG40), neg(ARG4)), neg(neg(ARG4))), sub(protectedDiv(add(ARG55, ARG45), mul(ARG46, 0.3072929239993142)), sub(protectedDiv(ARG19, ARG3), protectedDiv(ARG46, ARG54)))))), protectedDiv(neg(add(mul(sub(add(ARG28, ARG30), neg(ARG37)), protectedDiv(mul(ARG46, ARG2), mul(ARG32, ARG18))), protectedDiv(protectedDiv(add(ARG52, ARG20), protectedDiv(ARG28, ARG20)), protectedDiv(neg(ARG56), mul(ARG42, ARG19))))), mul(neg(neg(sub(mul(ARG45, ARG45), protectedDiv(ARG44, ARG26)))), sub(protectedDiv(sub(add(ARG33, ARG20), neg(ARG2)), sub(add(ARG37, ARG25), neg(ARG14))), neg(add(sub(ARG4, ARG17), add(ARG11, ARG42))))))), mul(mul(mul(protectedDiv(mul(sub(neg(ARG5), add(ARG34, ARG13)), protectedDiv(protectedDiv(ARG6, ARG48), protectedDiv(ARG14, ARG7))), neg(add(mul(ARG48, ARG23), mul(ARG46, ARG26)))), mul(mul(protectedDiv(mul(ARG55, protectedDiv(sub(mul(neg(ARG51), neg(ARG8)), protectedDiv(ARG44, ARG26)), neg(neg(add(ARG50, ARG2))))), mul(ARG45, ARG30)), sub(protectedDiv(ARG5, ARG54), neg(ARG15))), mul(protectedDiv(sub(ARG3, ARG41), mul(ARG3, ARG22)), neg(protectedDiv(ARG37, ARG45))))), protectedDiv(sub(sub(neg(sub(add(ARG40, ARG44), add(ARG36, ARG33))), sub(add(ARG44, ARG48), add(ARG54, ARG44))), sub(protectedDiv(add(ARG39, ARG3), neg(ARG38)), add(protectedDiv(ARG1, ARG17), sub(ARG53, ARG52)))), neg(mul(neg(protectedDiv(ARG17, ARG21)), sub(neg(ARG6), sub(ARG47, ARG56)))))), sub(add(add(neg(add(mul(ARG44, ARG49), add(ARG14, ARG34))), sub(sub(protectedDiv(ARG28, add(neg(sub(sub(protectedDiv(ARG22, ARG25), add(ARG23, ARG43)), sub(mul(ARG21, ARG31), neg(ARG12)))), mul(neg(add(neg(ARG20), sub(ARG31, 0.5389681901610175))), sub(add(add(ARG52, ARG37), protectedDiv(ARG21, ARG23)), add(neg(ARG52), neg(ARG33)))))), neg(ARG8)), mul(mul(ARG13, ARG39), add(ARG22, ARG36)))), add(add(neg(add(ARG6, sub(mul(neg(ARG51), neg(ARG8)), protectedDiv(ARG44, ARG26)))), add(neg(ARG10), protectedDiv(ARG38, ARG34))), neg(mul(add(ARG52, ARG3), sub(ARG31, ARG40))))), sub(mul(neg(mul(mul(ARG46, ARG29), ARG45)), protectedDiv(add(sub(ARG50, ARG22), add(ARG2, ARG51)), neg(protectedDiv(ARG47, ARG7)))), add(neg(mul(neg(ARG17), mul(ARG52, ARG14))), ARG39))))), add(neg(neg(mul(protectedDiv(neg(sub(neg(ARG8), mul(ARG16, ARG41))), neg(mul(ARG12, ARG33))), add(mul(mul(neg(ARG36), mul(ARG23, ARG28)), add(neg(mul(sub(ARG52, ARG55), sub(ARG8, ARG42))), protectedDiv(neg(neg(ARG34)), mul(add(ARG49, ARG20), add(ARG45, ARG51))))), sub(sub(mul(ARG24, ARG51), protectedDiv(ARG51, ARG53)), sub(neg(ARG23), add(ARG47, ARG30))))))), protectedDiv(add(mul(sub(sub(sub(add(ARG38, ARG42), sub(ARG55, ARG51)), sub(add(ARG45, 0.17537478656171446), neg(ARG25))), sub(neg(add(ARG16, ARG1)), sub(add(ARG12, ARG29), protectedDiv(ARG51, ARG52)))), protectedDiv(sub(protectedDiv(protectedDiv(ARG35, ARG5), protectedDiv(ARG24, ARG22)), mul(neg(ARG12), add(ARG4, ARG28))), protectedDiv(neg(sub(ARG23, ARG3)), add(add(ARG49, ARG15), mul(ARG20, ARG7))))), sub(mul(neg(mul(add(ARG47, ARG30), mul(ARG7, ARG36))), mul(mul(add(ARG47, ARG30), mul(mul(mul(neg(ARG36), mul(ARG23, ARG28)), neg(sub(ARG13, ARG2))), ARG36)), mul(protectedDiv(ARG23, ARG54), neg(ARG56)))), protectedDiv(add(neg(neg(ARG24)), add(neg(ARG24), sub(ARG14, ARG36))), neg(sub(add(ARG40, ARG44), add(ARG36, ARG33)))))), add(add(neg(sub(sub(protectedDiv(ARG22, ARG25), add(ARG23, ARG43)), sub(mul(ARG21, ARG31), neg(ARG12)))), mul(neg(add(neg(ARG20), sub(ARG31, 0.5389681901610175))), sub(add(neg(neg(mul(protectedDiv(neg(sub(neg(ARG8), mul(ARG50, ARG41))), neg(mul(ARG12, ARG33))), add(mul(add(ARG50, ARG2), neg(sub(ARG13, ARG2))), sub(sub(mul(ARG24, ARG51), protectedDiv(ARG51, ARG53)), sub(neg(ARG23), neg(ARG16))))))), protectedDiv(add(mul(sub(sub(sub(add(ARG38, ARG42), sub(ARG55, ARG51)), sub(add(ARG45, 0.17537478656171446), neg(ARG25))), sub(neg(add(ARG16, ARG1)), sub(add(ARG12, ARG29), protectedDiv(ARG51, ARG52)))), protectedDiv(sub(protectedDiv(protectedDiv(ARG35, ARG5), protectedDiv(ARG24, ARG22)), neg(ARG52)), protectedDiv(ARG46, add(add(ARG49, ARG15), mul(ARG20, ARG7))))), sub(mul(neg(protectedDiv(ARG46, neg(ARG45))), mul(mul(add(ARG47, ARG30), mul(ARG7, ARG36)), mul(protectedDiv(ARG23, ARG54), neg(ARG56)))), protectedDiv(add(neg(neg(ARG24)), mul(ARG20, ARG7)), neg(sub(add(ARG40, ARG44), add(ARG36, ARG33)))))), add(add(neg(sub(sub(protectedDiv(ARG22, ARG25), add(ARG23, ARG43)), sub(mul(ARG21, ARG31), neg(ARG12)))), mul(neg(add(neg(ARG20), sub(ARG31, 0.5389681901610175))), sub(add(add(ARG52, ARG37), protectedDiv(ARG21, ARG23)), add(neg(ARG52), neg(ARG33))))), mul(mul(mul(mul(sub(ARG11, ARG11), mul(ARG46, ARG36)), mul(sub(ARG38, ARG40), add(ARG56, ARG56))), protectedDiv(sub(add(ARG29, ARG48), protectedDiv(add(ARG38, ARG42), ARG24)), add(ARG38, neg(ARG14)))), sub(protectedDiv(mul(mul(ARG16, ARG2), neg(ARG50)), add(sub(ARG7, ARG50), mul(ARG45, ARG35))), add(mul(sub(ARG20, ARG33), sub(ARG34, ARG24)), mul(mul(ARG45, ARG45), neg(ARG40)))))))), add(neg(ARG52), neg(ARG33))))), mul(mul(mul(mul(sub(ARG11, ARG11), mul(ARG46, ARG36)), mul(sub(ARG38, ARG40), add(ARG56, ARG56))), protectedDiv(sub(add(ARG29, ARG48), protectedDiv(ARG35, ARG24)), add(sub(ARG46, ARG31), neg(ARG14)))), sub(protectedDiv(mul(mul(ARG16, neg(sub(ARG23, ARG3))), neg(ARG50)), add(sub(ARG7, ARG50), mul(ARG45, ARG35))), add(mul(sub(ARG20, ARG33), sub(ARG34, ARG24)), mul(protectedDiv(ARG45, ARG45), neg(ARG7))))))))))\n",
      "-- length=858, height=17\n",
      "-- Best Fitness =  357.0\n",
      "\n",
      "\n",
      "Currently on run 28 of 30\n"
     ]
    },
    {
     "name": "stdout",
     "output_type": "stream",
     "text": [
      "-- Best Individual =  mul(protectedDiv(add(mul(mul(neg(protectedDiv(neg(ARG11), mul(ARG5, ARG39))), sub(sub(mul(ARG7, ARG6), neg(ARG17)), add(sub(sub(neg(add(neg(protectedDiv(ARG51, add(ARG44, ARG25))), ARG25)), neg(ARG17)), add(neg(add(mul(neg(ARG11), mul(ARG5, ARG39)), sub(ARG6, ARG42))), ARG15)), sub(ARG6, ARG42)))), ARG6), ARG15), protectedDiv(neg(ARG38), neg(ARG52))), mul(add(neg(neg(add(ARG9, ARG22))), protectedDiv(neg(protectedDiv(ARG47, protectedDiv(neg(protectedDiv(ARG47, ARG36)), neg(add(neg(ARG9), ARG5))))), neg(add(neg(ARG9), ARG25)))), mul(neg(protectedDiv(neg(sub(sub(mul(ARG7, ARG6), neg(ARG17)), add(neg(ARG51), ARG15))), add(ARG44, ARG25))), sub(mul(ARG7, ARG6), add(neg(ARG51), ARG6)))))\n",
      "-- length=108, height=14\n",
      "-- Best Fitness =  370.0\n",
      "\n",
      "\n",
      "Currently on run 29 of 30\n"
     ]
    }
   ],
   "source": [
    "for r in range(0, N_RUNS):\n",
    "    population = toolbox.population(n=POPULATION_SIZE)\n",
    "    # define the hall-of-fame object:\n",
    "    hof = tools.HallOfFame(HALL_OF_FAME_SIZE)   \n",
    "\n",
    "\n",
    "    # Create our statistics\n",
    "    stats_fit = tools.Statistics(lambda ind: ind.fitness.values)\n",
    "    stats_size = tools.Statistics(len)\n",
    "    mstats = tools.MultiStatistics(fitness=stats_fit, size=stats_size)\n",
    "    mstats.register(\"avg\", numpy.mean)\n",
    "    mstats.register(\"std\", numpy.std)\n",
    "    mstats.register(\"min\", numpy.min)\n",
    "    mstats.register(\"max\", numpy.max)\n",
    "    \n",
    "    \n",
    "    # Which run are we on?\n",
    "    print(\"\\n\\nCurrently on run\", r, \"of\",N_RUNS)\n",
    "    \n",
    "    \n",
    "    # It's usually a good idea to turn off verbose when conducting multiple runs\n",
    "    population, logbook = eaSimpleWithElitism(population,\n",
    "                                                  toolbox,\n",
    "                                                  cxpb=P_CROSSOVER,\n",
    "                                                  mutpb=P_MUTATION,\n",
    "                                                  ngen=MAX_GENERATIONS,\n",
    "                                                  stats=mstats,\n",
    "                                                  halloffame=hof,\n",
    "                                                  verbose=False)\n",
    "    \n",
    "    #maxFitnessValues, meanFitnessValues = logbook.chapters['fitness'].select(\"min\", \"avg\")\n",
    "    meanFitnessValues, stdFitnessValues, minFitnessValues, maxFitnessValues  = logbook.chapters['fitness'].select(\"avg\", \"std\", \"min\", \"max\")\n",
    "    meanSizeValues, stdSizeValues, minSizeValues, maxSizeValues  = logbook.chapters['size'].select(\"avg\", \"std\", \"min\", \"max\")\n",
    "\n",
    "\n",
    "    # Save statistics for this run:\n",
    "    avgListFitness.append(meanFitnessValues)\n",
    "    stdListFitness.append(stdFitnessValues)\n",
    "    minListFitness.append(minFitnessValues)\n",
    "    maxListFitness.append(maxFitnessValues)\n",
    "    \n",
    "    avgListSize.append(meanSizeValues)\n",
    "    stdListSize.append(stdSizeValues)\n",
    "    minListSize.append(minSizeValues)\n",
    "    maxListSize.append(maxSizeValues)\n",
    "\n",
    "    # print info for best solution found:\n",
    "    best = hof.items[0]\n",
    "    print(\"-- Best Individual = \", best)\n",
    "    print(\"-- length={}, height={}\".format(len(best), best.height))\n",
    "    print(\"-- Best Fitness = \", best.fitness.values[0])\n",
    "\n"
   ]
  },
  {
   "cell_type": "markdown",
   "metadata": {},
   "source": [
    "Create our graphs using the averages across all the runs. "
   ]
  },
  {
   "cell_type": "code",
   "execution_count": null,
   "metadata": {
    "scrolled": true
   },
   "outputs": [],
   "source": [
    "# Genetic Programming is done (all runs) - plot statistics:\n",
    "x = numpy.arange(0, MAX_GENERATIONS+1)\n",
    "avgArray = numpy.array(avgListFitness)\n",
    "stdArray = numpy.array(stdListFitness)\n",
    "minArray = numpy.array(minListFitness)\n",
    "maxArray = numpy.array(maxListFitness)\n",
    "plt.xlabel('Generation')\n",
    "plt.ylabel('Fitness')\n",
    "plt.title('Best and Average Fitness for Symbolic Regression')\n",
    "#plt.errorbar(x, avgArray.mean(0), yerr=stdArray.mean(0),label=\"Average\",color=\"Red\")\n",
    "plt.errorbar(x, minArray.mean(0), yerr=minArray.std(0),label=\"Best\", color=\"Green\")\n",
    "plt.show()"
   ]
  },
  {
   "cell_type": "markdown",
   "metadata": {},
   "source": [
    "Show the graph for size."
   ]
  },
  {
   "cell_type": "code",
   "execution_count": null,
   "metadata": {},
   "outputs": [],
   "source": [
    "# Genetic Programming is done (all runs) - plot statistics:\n",
    "x = numpy.arange(0, MAX_GENERATIONS+1)\n",
    "avgArray = numpy.array(avgListSize)\n",
    "stdArray = numpy.array(stdListSize)\n",
    "minArray = numpy.array(minListSize)\n",
    "maxArray = numpy.array(maxListSize)\n",
    "plt.xlabel('Generation')\n",
    "plt.ylabel('Size')\n",
    "plt.title('Best and Average Size for Symbolic Regression')\n",
    "plt.errorbar(x, avgArray.mean(0), yerr=stdArray.mean(0),label=\"Average\",color=\"Red\")\n",
    "plt.errorbar(x, minArray.mean(0), yerr=minArray.std(0),label=\"Best\", color=\"Blue\")\n",
    "plt.show()"
   ]
  }
 ],
 "metadata": {
  "kernelspec": {
   "display_name": "Python 3",
   "language": "python",
   "name": "python3"
  },
  "language_info": {
   "codemirror_mode": {
    "name": "ipython",
    "version": 3
   },
   "file_extension": ".py",
   "mimetype": "text/x-python",
   "name": "python",
   "nbconvert_exporter": "python",
   "pygments_lexer": "ipython3",
   "version": "3.8.3"
  }
 },
 "nbformat": 4,
 "nbformat_minor": 4
}
