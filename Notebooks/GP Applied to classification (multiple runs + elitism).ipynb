{
 "cells": [
  {
   "cell_type": "markdown",
   "metadata": {},
   "source": [
    "# GP Multiple runs on an arbitrary Classification Problem."
   ]
  },
  {
   "cell_type": "markdown",
   "metadata": {},
   "source": [
    "In this notebook we tackle classification with GP. It isn't that straightforward to create a notebook that is general enough to be applied to an classification problem as some will have different types. For now, we're going to focus on binary classification with numeric types, and will look at mixed types when we move to Grammatical Evolution."
   ]
  },
  {
   "cell_type": "code",
   "execution_count": 1,
   "metadata": {},
   "outputs": [],
   "source": [
    "from IPython.core.display import display, HTML\n",
    "display(HTML(\"<style>.container { width:100% !important; }</style>\"))\n"
   ]
  },
  {
   "cell_type": "markdown",
   "metadata": {},
   "source": [
    "Install DEAP. "
   ]
  },
  {
   "cell_type": "code",
   "execution_count": 2,
   "metadata": {},
   "outputs": [
    {
     "name": "stdout",
     "output_type": "stream",
     "text": [
      "Requirement already satisfied: deap in /Library/Frameworks/Python.framework/Versions/3.8/lib/python3.8/site-packages (1.3.1)\n",
      "Requirement already satisfied: numpy in /Library/Frameworks/Python.framework/Versions/3.8/lib/python3.8/site-packages (from deap) (1.19.1)\n",
      "\u001b[33mWARNING: You are using pip version 20.2.3; however, version 21.2.4 is available.\n",
      "You should consider upgrading via the '/Library/Frameworks/Python.framework/Versions/3.8/bin/python3.8 -m pip install --upgrade pip' command.\u001b[0m\n"
     ]
    }
   ],
   "source": [
    "!pip install deap"
   ]
  },
  {
   "cell_type": "markdown",
   "metadata": {},
   "source": [
    "Import our tools. "
   ]
  },
  {
   "cell_type": "code",
   "execution_count": 3,
   "metadata": {},
   "outputs": [],
   "source": [
    "import random\n",
    "import operator\n",
    "import csv\n",
    "import itertools\n",
    "import math\n",
    "\n",
    "import numpy\n",
    "\n",
    "from deap import algorithms\n",
    "from deap import base\n",
    "from deap import creator\n",
    "from deap import tools\n",
    "from deap import gp\n",
    "\n",
    "import csv\n",
    "from elitism import eaSimpleWithElitism\n",
    "\n",
    "\n",
    "import matplotlib.pyplot as plt\n",
    "\n",
    "import networkx as nx\n",
    "\n"
   ]
  },
  {
   "cell_type": "markdown",
   "metadata": {},
   "source": [
    "Set our Genetic Programming parameters, including the number of runs."
   ]
  },
  {
   "cell_type": "code",
   "execution_count": 4,
   "metadata": {},
   "outputs": [],
   "source": [
    "# Genetic Programming constants:\n",
    "POPULATION_SIZE = 200\n",
    "P_CROSSOVER = 0.9\n",
    "P_MUTATION = 0.01\n",
    "MAX_GENERATIONS = 50\n",
    "HALL_OF_FAME_SIZE = 10\n",
    "\n",
    "N_RUNS = 30\n",
    "\n",
    "\n"
   ]
  },
  {
   "cell_type": "markdown",
   "metadata": {},
   "source": [
    "Set the random seed. "
   ]
  },
  {
   "cell_type": "code",
   "execution_count": 5,
   "metadata": {},
   "outputs": [],
   "source": [
    "RANDOM_SEED = 412\n",
    "random.seed(RANDOM_SEED)"
   ]
  },
  {
   "cell_type": "markdown",
   "metadata": {},
   "source": [
    "GP-Specific constants."
   ]
  },
  {
   "cell_type": "code",
   "execution_count": 6,
   "metadata": {},
   "outputs": [],
   "source": [
    "MIN_TREE_HEIGHT = 5\n",
    "MAX_TREE_HEIGHT = 12\n",
    "LIMIT_TREE_HEIGHT = 17\n",
    "MUT_MIN_TREE_HEIGHT = 0\n",
    "MUT_MAX_TREE_HEIGHT = 2"
   ]
  },
  {
   "cell_type": "markdown",
   "metadata": {},
   "source": [
    "Read in the data."
   ]
  },
  {
   "cell_type": "code",
   "execution_count": 7,
   "metadata": {},
   "outputs": [],
   "source": [
    "with open(\"spambase.csv\") as classificationData:\n",
    "    n_rows = sum(1 for line in classificationData)\n",
    "with open(\"spambase.csv\") as classificationData:\n",
    "    reader = csv.reader(classificationData)\n",
    "    data = list(list(float(elem) for elem in row) for row in reader)"
   ]
  },
  {
   "cell_type": "markdown",
   "metadata": {},
   "source": [
    "This is a helpful function to turn numeric values into Boolean. We're going to assume that a value greater than 0 is **True** and anything else is **False**. Note that that the standard **bool** function only returns False if the value passed is zero; this is not what we want as it will bias the results to True (because it is more likely that individuals will return a number other than zero than zero i"
   ]
  },
  {
   "cell_type": "code",
   "execution_count": 8,
   "metadata": {},
   "outputs": [],
   "source": [
    "def turnBool(pred):\n",
    "    return (pred>0)"
   ]
  },
  {
   "cell_type": "markdown",
   "metadata": {},
   "source": [
    "Define our fitness function. This time there's an extra step. First we get all our predictions, which will be in numeric form, then we convert them to Boolean, and only then do we evaluate the fitness."
   ]
  },
  {
   "cell_type": "code",
   "execution_count": 9,
   "metadata": {},
   "outputs": [],
   "source": [
    "def evalClassification(individual):\n",
    "    # Transform the tree expression in a callable function\n",
    "    func = toolbox.compile(expr=individual)\n",
    "    #predictions = map(func,data)\n",
    "    spam_samp = random.sample(data, 400)\n",
    "#    result = sum(bool(func(*mail[:57])) is bool(mail[57]) for mail in spam_samp)\n",
    "    result = sum(turnBool(func(*mail[:57])) is bool(mail[57]) for mail in spam_samp)\n",
    "\n",
    "    nodes, edges, labels = gp.graph(individual)\n",
    "    return result, len(nodes)"
   ]
  },
  {
   "cell_type": "markdown",
   "metadata": {},
   "source": [
    "Define a protected division function."
   ]
  },
  {
   "cell_type": "code",
   "execution_count": 10,
   "metadata": {},
   "outputs": [],
   "source": [
    "def protectedDiv(left, right):\n",
    "    try:\n",
    "        return left / right\n",
    "    except ZeroDivisionError:\n",
    "        return 1"
   ]
  },
  {
   "cell_type": "markdown",
   "metadata": {},
   "source": [
    "Add our functions and terminals. "
   ]
  },
  {
   "cell_type": "code",
   "execution_count": 11,
   "metadata": {},
   "outputs": [],
   "source": [
    "pset = gp.PrimitiveSet(\"MAIN\", 57) # number of inputs!!!\n",
    "pset.addPrimitive(operator.add, 2)\n",
    "pset.addPrimitive(operator.sub, 2)\n",
    "pset.addPrimitive(operator.mul, 2)\n",
    "pset.addPrimitive(protectedDiv, 2)\n",
    "pset.addPrimitive(operator.neg, 1)\n",
    "\n",
    "pset.addEphemeralConstant(\"rand101\", lambda: random.random())\n"
   ]
  },
  {
   "cell_type": "markdown",
   "metadata": {},
   "source": [
    "Create our toolbox. This is very similar to the Symbolic Regression notebook except we are using the parameters declared up above."
   ]
  },
  {
   "cell_type": "code",
   "execution_count": 12,
   "metadata": {},
   "outputs": [],
   "source": [
    "toolbox = base.Toolbox()\n",
    "\n",
    "#creator.create(\"FitnessMin\", base.Fitness, weights=(-1.0,-1.0))\n",
    "#creator.create(\"Individual\", gp.PrimitiveTree, fitness=creator.FitnessMin)\n",
    "\n",
    "creator.create(\"FitnessMax\", base.Fitness, weights=(1.0,))\n",
    "creator.create(\"Individual\", gp.PrimitiveTree, fitness=creator.FitnessMax)\n",
    "\n",
    "\n",
    "toolbox.register(\"expr\", gp.genHalfAndHalf, pset=pset, min_=MIN_TREE_HEIGHT, max_=MAX_TREE_HEIGHT)\n",
    "toolbox.register(\"individual\", tools.initIterate, creator.Individual, toolbox.expr)\n",
    "toolbox.register(\"population\", tools.initRepeat, list, toolbox.individual)\n",
    "toolbox.register(\"compile\", gp.compile, pset=pset)\n",
    "\n",
    "toolbox.register(\"evaluate\", evalClassification)\n",
    "#toolbox.register(\"select\", tools.selNSGA2)\n",
    "toolbox.register(\"select\", tools.selTournament, tournsize=5)\n",
    "\n",
    "toolbox.register(\"mate\", gp.cxOnePoint)\n",
    "toolbox.register(\"expr_mut\", gp.genFull, min_=0, max_=5)\n",
    "toolbox.register(\"mutate\", gp.mutUniform, expr=toolbox.expr_mut, pset=pset)\n",
    "\n",
    "toolbox.decorate(\"mate\", gp.staticLimit(key=operator.attrgetter(\"height\"), max_value=17))\n",
    "toolbox.decorate(\"mutate\", gp.staticLimit(key=operator.attrgetter(\"height\"), max_value=17))"
   ]
  },
  {
   "cell_type": "markdown",
   "metadata": {},
   "source": [
    "Create our statistics. These are a bit more complex than the GA ones because we want to keep track of fitness and size for all runs."
   ]
  },
  {
   "cell_type": "code",
   "execution_count": 13,
   "metadata": {},
   "outputs": [],
   "source": [
    "maxListFitness = []\n",
    "avgListFitness = []\n",
    "minListFitness = []\n",
    "stdListFitness = []\n",
    "\n",
    "maxListSize = []\n",
    "avgListSize = []\n",
    "minListSize = []\n",
    "stdListSize = []"
   ]
  },
  {
   "cell_type": "markdown",
   "metadata": {},
   "source": [
    "Conduct **N_RUNS** times. "
   ]
  },
  {
   "cell_type": "code",
   "execution_count": null,
   "metadata": {},
   "outputs": [
    {
     "name": "stdout",
     "output_type": "stream",
     "text": [
      "\n",
      "\n",
      "Currently on run 0 of 30\n",
      "-- Best Individual =  sub(add(add(sub(ARG51, protectedDiv(ARG45, ARG20)), mul(protectedDiv(neg(ARG27), sub(neg(mul(ARG50, sub(ARG33, neg(mul(ARG0, ARG48))))), neg(ARG34))), ARG52)), neg(mul(ARG52, ARG24))), protectedDiv(add(sub(protectedDiv(ARG24, ARG51), mul(ARG13, ARG20)), neg(mul(mul(ARG52, ARG52), sub(ARG56, ARG40)))), protectedDiv(mul(mul(ARG52, protectedDiv(ARG24, ARG51)), sub(ARG56, ARG40)), protectedDiv(ARG24, ARG51))))\n",
      "-- length=59, height=11\n",
      "-- Best Fitness =  371.0\n",
      "\n",
      "\n",
      "Currently on run 1 of 30\n",
      "-- Best Individual =  sub(add(sub(mul(add(ARG56, 0.47335686137680666), sub(ARG51, ARG24)), protectedDiv(sub(ARG29, ARG27), mul(ARG12, neg(add(ARG15, ARG35))))), protectedDiv(protectedDiv(add(neg(neg(sub(ARG9, ARG13))), neg(neg(mul(ARG32, ARG28)))), add(neg(mul(sub(ARG14, ARG11), add(ARG37, ARG6))), protectedDiv(ARG51, add(mul(ARG20, ARG1), neg(ARG0))))), mul(mul(ARG17, ARG2), add(mul(ARG51, add(mul(ARG51, ARG1), neg(ARG0))), neg(ARG4))))), protectedDiv(sub(neg(mul(ARG20, ARG1)), add(mul(ARG32, ARG28), protectedDiv(ARG28, ARG1))), sub(ARG6, ARG27)))\n",
      "-- length=81, height=8\n",
      "-- Best Fitness =  361.0\n",
      "\n",
      "\n",
      "Currently on run 2 of 30\n",
      "-- Best Individual =  add(neg(add(neg(mul(sub(mul(neg(neg(ARG50)), add(add(ARG17, ARG21), mul(protectedDiv(ARG37, sub(protectedDiv(ARG49, ARG6), mul(ARG3, ARG23))), sub(ARG43, ARG30)))), ARG51), neg(ARG52))), mul(neg(neg(ARG50)), add(add(ARG17, ARG21), mul(protectedDiv(ARG37, sub(protectedDiv(mul(ARG43, ARG44), ARG6), ARG16)), sub(ARG43, ARG30)))))), mul(mul(add(add(mul(ARG43, ARG44), neg(sub(ARG6, sub(ARG36, ARG23)))), add(sub(ARG6, ARG6), neg(ARG15))), add(protectedDiv(mul(ARG53, ARG23), mul(ARG31, ARG6)), neg(mul(ARG43, ARG28)))), neg(protectedDiv(add(mul(sub(ARG6, neg(protectedDiv(mul(mul(ARG14, ARG3), ARG8), sub(mul(ARG56, ARG34), add(mul(ARG39, 0.22688898255211198), mul(ARG42, ARG0)))))), ARG34), protectedDiv(ARG7, ARG40)), sub(protectedDiv(ARG49, ARG6), mul(ARG3, ARG16))))))\n",
      "-- length=117, height=12\n",
      "-- Best Fitness =  376.0\n",
      "\n",
      "\n",
      "Currently on run 3 of 30\n",
      "-- Best Individual =  add(neg(sub(mul(neg(ARG41), ARG38), sub(neg(sub(mul(neg(ARG41), ARG6), sub(neg(sub(neg(neg(ARG41)), protectedDiv(neg(sub(mul(ARG21, ARG38), sub(ARG52, ARG36))), protectedDiv(sub(protectedDiv(ARG40, ARG30), sub(mul(ARG21, neg(sub(mul(ARG21, ARG38), sub(ARG52, ARG36)))), sub(ARG30, ARG37))), ARG46)))), ARG37))), sub(mul(ARG21, ARG38), sub(neg(sub(neg(neg(ARG41)), sub(ARG52, ARG37))), neg(sub(mul(neg(ARG41), mul(ARG52, sub(mul(ARG21, ARG37), sub(ARG52, ARG37)))), sub(neg(sub(mul(ARG21, ARG38), sub(ARG52, ARG37))), ARG37)))))))), ARG6)\n",
      "-- length=88, height=17\n",
      "-- Best Fitness =  366.0\n",
      "\n",
      "\n",
      "Currently on run 4 of 30\n",
      "-- Best Individual =  protectedDiv(sub(neg(neg(add(ARG19, ARG20))), add(sub(sub(sub(ARG33, ARG10), sub(ARG4, ARG29)), neg(ARG30)), protectedDiv(ARG5, add(ARG5, ARG21)))), protectedDiv(protectedDiv(protectedDiv(sub(ARG13, ARG25), protectedDiv(protectedDiv(add(neg(sub(protectedDiv(sub(ARG13, ARG25), protectedDiv(protectedDiv(ARG21, protectedDiv(protectedDiv(ARG5, ARG5), ARG29)), ARG21)), sub(sub(ARG55, ARG14), protectedDiv(add(neg(sub(ARG19, neg(add(ARG19, ARG20)))), protectedDiv(sub(mul(ARG19, ARG43), ARG44), sub(ARG4, ARG29))), ARG21)))), protectedDiv(sub(mul(ARG33, ARG43), protectedDiv(protectedDiv(sub(sub(ARG33, ARG10), sub(ARG4, ARG29)), neg(protectedDiv(ARG5, sub(ARG13, ARG25)))), neg(ARG41))), sub(ARG4, ARG29))), ARG21), ARG1)), ARG19), ARG11))\n",
      "-- length=99, height=16\n",
      "-- Best Fitness =  345.0\n",
      "\n",
      "\n",
      "Currently on run 5 of 30\n",
      "-- Best Individual =  neg(sub(sub(add(protectedDiv(sub(sub(add(protectedDiv(ARG45, protectedDiv(ARG54, ARG12)), mul(ARG26, ARG0)), mul(protectedDiv(protectedDiv(sub(ARG32, ARG37), mul(neg(neg(add(ARG34, ARG45))), ARG32)), ARG4), mul(protectedDiv(sub(mul(ARG26, ARG32), ARG37), mul(ARG29, ARG32)), mul(protectedDiv(ARG12, ARG45), neg(ARG25))))), mul(neg(protectedDiv(ARG42, ARG25)), sub(sub(ARG33, ARG6), add(ARG21, ARG15)))), protectedDiv(ARG54, ARG12)), protectedDiv(ARG45, protectedDiv(ARG54, ARG12))), mul(protectedDiv(ARG42, mul(ARG26, ARG32)), ARG23)), mul(neg(protectedDiv(ARG42, ARG25)), ARG26)))\n",
      "-- length=79, height=14\n",
      "-- Best Fitness =  371.0\n",
      "\n",
      "\n",
      "Currently on run 6 of 30\n",
      "-- Best Individual =  add(neg(add(ARG31, ARG24)), protectedDiv(protectedDiv(neg(sub(mul(add(ARG31, neg(protectedDiv(neg(sub(mul(add(ARG31, neg(ARG15)), ARG47), ARG6)), protectedDiv(neg(ARG24), ARG24)))), ARG47), ARG6)), protectedDiv(neg(ARG24), sub(neg(ARG17), ARG15))), sub(add(protectedDiv(add(ARG31, ARG24), ARG33), sub(ARG51, ARG30)), mul(add(ARG31, mul(add(add(ARG43, ARG47), neg(sub(ARG17, ARG6))), ARG47)), neg(add(mul(sub(0.13849191013040751, ARG46), ARG42), mul(mul(ARG33, mul(add(ARG31, neg(sub(ARG17, ARG6))), ARG24)), add(ARG24, ARG42))))))))\n",
      "-- length=80, height=14\n",
      "-- Best Fitness =  362.0\n",
      "\n",
      "\n",
      "Currently on run 7 of 30\n",
      "-- Best Individual =  sub(protectedDiv(add(ARG22, mul(add(protectedDiv(add(ARG8, mul(add(protectedDiv(ARG49, ARG30), add(neg(sub(sub(protectedDiv(mul(ARG43, ARG38), add(ARG0, ARG44)), protectedDiv(mul(ARG37, ARG30), sub(ARG43, ARG4))), protectedDiv(add(neg(ARG25), sub(ARG19, ARG38)), add(add(ARG52, ARG2), sub(ARG29, ARG47))))), ARG39)), ARG34)), mul(neg(protectedDiv(ARG32, ARG2)), ARG2)), add(ARG29, ARG39)), ARG9)), mul(neg(mul(neg(ARG2), mul(ARG34, ARG44))), add(mul(protectedDiv(ARG3, ARG13), add(ARG51, ARG22)), sub(protectedDiv(ARG48, ARG9), protectedDiv(ARG12, ARG13))))), add(add(ARG24, add(protectedDiv(sub(sub(sub(mul(neg(ARG33), mul(ARG42, ARG24)), add(mul(ARG12, mul(ARG34, ARG44)), protectedDiv(ARG32, ARG31))), add(neg(add(ARG52, ARG6)), protectedDiv(protectedDiv(ARG32, ARG55), sub(mul(ARG34, ARG44), ARG41)))), ARG3), ARG6), sub(neg(ARG52), ARG3))), neg(neg(ARG48))))\n",
      "-- length=127, height=15\n",
      "-- Best Fitness =  369.0\n",
      "\n",
      "\n",
      "Currently on run 8 of 30\n"
     ]
    }
   ],
   "source": [
    "for r in range(0, N_RUNS):\n",
    "    population = toolbox.population(n=POPULATION_SIZE)\n",
    "    # define the hall-of-fame object:\n",
    "    hof = tools.HallOfFame(HALL_OF_FAME_SIZE)   \n",
    "\n",
    "\n",
    "    # Create our statistics\n",
    "    stats_fit = tools.Statistics(lambda ind: ind.fitness.values)\n",
    "    stats_size = tools.Statistics(len)\n",
    "    mstats = tools.MultiStatistics(fitness=stats_fit, size=stats_size)\n",
    "    mstats.register(\"avg\", numpy.mean)\n",
    "    mstats.register(\"std\", numpy.std)\n",
    "    mstats.register(\"min\", numpy.min)\n",
    "    mstats.register(\"max\", numpy.max)\n",
    "    \n",
    "    \n",
    "    # Which run are we on?\n",
    "    print(\"\\n\\nCurrently on run\", r, \"of\",N_RUNS)\n",
    "    \n",
    "    \n",
    "    # It's usually a good idea to turn off verbose when conducting multiple runs\n",
    "    population, logbook = eaSimpleWithElitism(population,\n",
    "                                                  toolbox,\n",
    "                                                  cxpb=P_CROSSOVER,\n",
    "                                                  mutpb=P_MUTATION,\n",
    "                                                  ngen=MAX_GENERATIONS,\n",
    "                                                  stats=mstats,\n",
    "                                                  halloffame=hof,\n",
    "                                                  verbose=False)\n",
    "    \n",
    "    #maxFitnessValues, meanFitnessValues = logbook.chapters['fitness'].select(\"min\", \"avg\")\n",
    "    meanFitnessValues, stdFitnessValues, minFitnessValues, maxFitnessValues  = logbook.chapters['fitness'].select(\"avg\", \"std\", \"min\", \"max\")\n",
    "    meanSizeValues, stdSizeValues, minSizeValues, maxSizeValues  = logbook.chapters['size'].select(\"avg\", \"std\", \"min\", \"max\")\n",
    "\n",
    "\n",
    "    # Save statistics for this run:\n",
    "    avgListFitness.append(meanFitnessValues)\n",
    "    stdListFitness.append(stdFitnessValues)\n",
    "    minListFitness.append(minFitnessValues)\n",
    "    maxListFitness.append(maxFitnessValues)\n",
    "    \n",
    "    avgListSize.append(meanSizeValues)\n",
    "    stdListSize.append(stdSizeValues)\n",
    "    minListSize.append(minSizeValues)\n",
    "    maxListSize.append(maxSizeValues)\n",
    "\n",
    "    # print info for best solution found:\n",
    "    best = hof.items[0]\n",
    "    print(\"-- Best Individual = \", best)\n",
    "    print(\"-- length={}, height={}\".format(len(best), best.height))\n",
    "    print(\"-- Best Fitness = \", best.fitness.values[0])\n",
    "\n"
   ]
  },
  {
   "cell_type": "markdown",
   "metadata": {},
   "source": [
    "Create our graphs using the averages across all the runs. "
   ]
  },
  {
   "cell_type": "code",
   "execution_count": null,
   "metadata": {
    "scrolled": true
   },
   "outputs": [],
   "source": [
    "# Genetic Programming is done (all runs) - plot statistics:\n",
    "x = numpy.arange(0, MAX_GENERATIONS+1)\n",
    "avgArray = numpy.array(avgListFitness)\n",
    "stdArray = numpy.array(stdListFitness)\n",
    "minArray = numpy.array(minListFitness)\n",
    "maxArray = numpy.array(maxListFitness)\n",
    "plt.xlabel('Generation')\n",
    "plt.ylabel('Fitness')\n",
    "plt.title('Best and Average Fitness for Binary Classification')\n",
    "plt.errorbar(x, avgArray.mean(0), yerr=stdArray.mean(0),label=\"Average\",color=\"Red\")\n",
    "plt.errorbar(x, maxArray.mean(0), yerr=maxArray.std(0),label=\"Best\", color=\"Green\")\n",
    "plt.show()"
   ]
  },
  {
   "cell_type": "markdown",
   "metadata": {},
   "source": [
    "Show the graph for size."
   ]
  },
  {
   "cell_type": "code",
   "execution_count": null,
   "metadata": {},
   "outputs": [],
   "source": [
    "# Genetic Programming is done (all runs) - plot statistics:\n",
    "x = numpy.arange(0, MAX_GENERATIONS+1)\n",
    "avgArray = numpy.array(avgListSize)\n",
    "stdArray = numpy.array(stdListSize)\n",
    "minArray = numpy.array(minListSize)\n",
    "maxArray = numpy.array(maxListSize)\n",
    "plt.xlabel('Generation')\n",
    "plt.ylabel('Size')\n",
    "plt.title('Best and Average Size for Binary Classification')\n",
    "plt.errorbar(x, avgArray.mean(0), yerr=stdArray.mean(0),label=\"Average\",color=\"Red\")\n",
    "plt.errorbar(x, minArray.mean(0), yerr=minArray.std(0),label=\"Best\", color=\"Blue\")\n",
    "plt.show()"
   ]
  }
 ],
 "metadata": {
  "kernelspec": {
   "display_name": "Python 3",
   "language": "python",
   "name": "python3"
  },
  "language_info": {
   "codemirror_mode": {
    "name": "ipython",
    "version": 3
   },
   "file_extension": ".py",
   "mimetype": "text/x-python",
   "name": "python",
   "nbconvert_exporter": "python",
   "pygments_lexer": "ipython3",
   "version": "3.8.3"
  }
 },
 "nbformat": 4,
 "nbformat_minor": 4
}
