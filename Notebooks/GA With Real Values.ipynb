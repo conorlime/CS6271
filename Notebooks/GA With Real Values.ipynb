{
 "cells": [
  {
   "cell_type": "markdown",
   "metadata": {},
   "source": [
    "# GA With Real Values"
   ]
  },
  {
   "cell_type": "markdown",
   "metadata": {},
   "source": [
    "Here we present a real valued GA. Note how similar this notebook is to the GP notebooks with multiple runs in terms of flow. This notebook is applied to the **Eggholder** function."
   ]
  },
  {
   "cell_type": "code",
   "execution_count": 1,
   "metadata": {},
   "outputs": [
    {
     "data": {
      "text/html": [
       "<style>.container { width:100% !important; }</style>"
      ],
      "text/plain": [
       "<IPython.core.display.HTML object>"
      ]
     },
     "metadata": {},
     "output_type": "display_data"
    }
   ],
   "source": [
    "from IPython.core.display import display, HTML\n",
    "display(HTML(\"<style>.container { width:100% !important; }</style>\"))\n"
   ]
  },
  {
   "cell_type": "markdown",
   "metadata": {},
   "source": [
    "Import our tools. This time we also use **csv**."
   ]
  },
  {
   "cell_type": "code",
   "execution_count": 14,
   "metadata": {},
   "outputs": [],
   "source": [
    "import operator\n",
    "import math\n",
    "import random\n",
    "\n",
    "import numpy as np\n",
    "\n",
    "from deap import algorithms\n",
    "from deap import base\n",
    "from deap import creator\n",
    "from deap import tools\n",
    "from deap import gp\n",
    "\n",
    "import csv\n",
    "from elitism import eaSimpleWithElitism\n",
    "\n",
    "\n",
    "import matplotlib.pyplot as plt\n",
    "\n",
    "import itertools\n",
    "import networkx as nx\n",
    "\n"
   ]
  },
  {
   "cell_type": "markdown",
   "metadata": {},
   "source": [
    "Set our Genetic Algorithm parameters, including the number of runs."
   ]
  },
  {
   "cell_type": "code",
   "execution_count": 4,
   "metadata": {},
   "outputs": [],
   "source": [
    "# Genetic Algorithm constants:\n",
    "POPULATION_SIZE = 300\n",
    "P_CROSSOVER = 0.9  # probability for crossover\n",
    "P_MUTATION = 0.1   # (try also 0.5) probability for mutating an individual\n",
    "MAX_GENERATIONS = 300\n",
    "HALL_OF_FAME_SIZE = 30\n",
    "CROWDING_FACTOR = 20.0  # crowding factor for crossover and mutation\n",
    "\n",
    "N_RUNS = 5\n",
    "\n",
    "\n"
   ]
  },
  {
   "cell_type": "markdown",
   "metadata": {},
   "source": [
    "Set the random seed. "
   ]
  },
  {
   "cell_type": "code",
   "execution_count": 4,
   "metadata": {
    "collapsed": true
   },
   "outputs": [],
   "source": [
    "RANDOM_SEED = 412\n",
    "random.seed(RANDOM_SEED)"
   ]
  },
  {
   "cell_type": "markdown",
   "metadata": {},
   "source": [
    "Problem-specific parameters."
   ]
  },
  {
   "cell_type": "code",
   "execution_count": 5,
   "metadata": {},
   "outputs": [],
   "source": [
    "# problem constants:\n",
    "DIMENSIONS = 2  # number of dimensions\n",
    "BOUND_LOW, BOUND_UP = -512.0, 512.0  # boundaries for all dimensions"
   ]
  },
  {
   "cell_type": "markdown",
   "metadata": {},
   "source": [
    "Helper function for creating random real numbers uniformly distributed within a given range [low, up]"
   ]
  },
  {
   "cell_type": "code",
   "execution_count": 6,
   "metadata": {},
   "outputs": [],
   "source": [
    "# it assumes that the range is the same for every dimension\n",
    "def randomFloat(low, up):\n",
    "    return [random.uniform(l, u) for l, u in zip([low] * DIMENSIONS, [up] * DIMENSIONS)]\n"
   ]
  },
  {
   "cell_type": "markdown",
   "metadata": {},
   "source": [
    "Eggholder function as the fitness function."
   ]
  },
  {
   "cell_type": "code",
   "execution_count": 7,
   "metadata": {},
   "outputs": [],
   "source": [
    "def eggholder(individual):\n",
    "    x = individual[0]\n",
    "    y = individual[1]\n",
    "    f = (-(y + 47.0) * np.sin(np.sqrt(abs(x/2.0 + (y + 47.0)))) - x * np.sin(np.sqrt(abs(x - (y + 47.0)))))\n",
    "    return f,  # return a tuple"
   ]
  },
  {
   "cell_type": "markdown",
   "metadata": {},
   "source": [
    "Create our toolbox. This is very similar to the Symbolic Regression notebook except we are using the parameters declared up above."
   ]
  },
  {
   "cell_type": "code",
   "execution_count": 8,
   "metadata": {},
   "outputs": [],
   "source": [
    "toolbox = base.Toolbox()\n",
    "\n",
    "# define a single objective, minimizing fitness strategy:\n",
    "creator.create(\"FitnessMin\", base.Fitness, weights=(-1.0,))\n",
    "\n",
    "# create the Individual class based on list:\n",
    "creator.create(\"Individual\", list, fitness=creator.FitnessMin)\n",
    "\n",
    "# create an operator that randomly returns a float in the desired range and dimension:\n",
    "toolbox.register(\"attrFloat\", randomFloat, BOUND_LOW, BOUND_UP)\n",
    "\n",
    "# create the individual operator to fill up an Individual instance:\n",
    "toolbox.register(\"individualCreator\", tools.initIterate, creator.Individual, toolbox.attrFloat)\n",
    "\n",
    "# create the population operator to generate a list of individuals:\n",
    "toolbox.register(\"populationCreator\", tools.initRepeat, list, toolbox.individualCreator)\n",
    "\n",
    "\n",
    "\n",
    "\n",
    "toolbox.register(\"evaluate\", eggholder)\n",
    "\n",
    "# genetic operators:\n",
    "toolbox.register(\"select\", tools.selTournament, tournsize=2)\n",
    "toolbox.register(\"mate\", tools.cxSimulatedBinaryBounded, low=BOUND_LOW, up=BOUND_UP, eta=CROWDING_FACTOR)\n",
    "toolbox.register(\"mutate\", tools.mutPolynomialBounded, low=BOUND_LOW, up=BOUND_UP, eta=CROWDING_FACTOR, indpb=1.0/DIMENSIONS)"
   ]
  },
  {
   "cell_type": "markdown",
   "metadata": {},
   "source": [
    "Create our statistics. This time we're back to only using fitness."
   ]
  },
  {
   "cell_type": "code",
   "execution_count": 9,
   "metadata": {},
   "outputs": [],
   "source": [
    "maxListFitness = []\n",
    "avgListFitness = []\n",
    "minListFitness = []\n",
    "stdListFitness = []\n"
   ]
  },
  {
   "cell_type": "markdown",
   "metadata": {},
   "source": [
    "Now the magic happens and we run **N_RUNS** times. Always start with a small number of runs and generations to make sure that everything is working properly before you commit to a larger number. That way, if something goes horribly wrong, Python won't replicate it 30 times before giving you back control!"
   ]
  },
  {
   "cell_type": "code",
   "execution_count": 16,
   "metadata": {},
   "outputs": [
    {
     "name": "stdout",
     "output_type": "stream",
     "text": [
      "\n",
      "\n",
      "Currently on run 0 of 5\n",
      "-- Best Individual =  [512.0, 404.2330254926496]\n",
      "-- Best Fitness =  -959.6406610277284\n",
      "\n",
      "\n",
      "Currently on run 1 of 5\n",
      "-- Best Individual =  [481.6921733672283, 432.21464177839096]\n",
      "-- Best Fitness =  -956.8351566549554\n",
      "\n",
      "\n",
      "Currently on run 2 of 5\n",
      "-- Best Individual =  [482.35431301550966, 432.88000407356657]\n",
      "-- Best Fitness =  -956.9182314346758\n",
      "\n",
      "\n",
      "Currently on run 3 of 5\n",
      "-- Best Individual =  [-465.69489157691305, 385.71685500753193]\n",
      "-- Best Fitness =  -894.5789003254183\n",
      "\n",
      "\n",
      "Currently on run 4 of 5\n",
      "-- Best Individual =  [511.8009354875674, 403.8648240811113]\n",
      "-- Best Fitness =  -958.9198116379291\n"
     ]
    }
   ],
   "source": [
    "for r in range(0, N_RUNS):\n",
    "    population = toolbox.populationCreator(n=POPULATION_SIZE)\n",
    "    # define the hall-of-fame object:\n",
    "    hof = tools.HallOfFame(HALL_OF_FAME_SIZE)   \n",
    "\n",
    "\n",
    "    # Create our statistics\n",
    "    stats = tools.Statistics(lambda ind: ind.fitness.values)\n",
    "    stats.register(\"max\", numpy.max)\n",
    "    stats.register(\"avg\", numpy.mean)\n",
    "    \n",
    "    \n",
    "    # Which run are we on?\n",
    "    print(\"\\n\\nCurrently on run\", r, \"of\",N_RUNS)\n",
    "    \n",
    "    \n",
    "    # It's usually a good idea to turn off verbose when conducting multiple runs\n",
    "    population, logbook = eaSimpleWithElitism(population,\n",
    "                                                  toolbox,\n",
    "                                                  cxpb=P_CROSSOVER,\n",
    "                                                  mutpb=P_MUTATION,\n",
    "                                                  ngen=MAX_GENERATIONS,\n",
    "                                                  stats=mstats,\n",
    "                                                  halloffame=hof,\n",
    "                                                  verbose=False)\n",
    "    \n",
    "    minFitnessValues, meanFitnessValues = logbook.chapters['fitness'].select(\"min\", \"avg\")\n",
    "\n",
    "\n",
    "    # Save statistics for this run:\n",
    "    avgListFitness.append(meanFitnessValues)\n",
    "    minListFitness.append(minFitnessValues)\n",
    "    \n",
    "\n",
    "\n",
    "    # print info for best solution found:\n",
    "    best = hof.items[0]\n",
    "    print(\"-- Best Individual = \", best)\n",
    "    print(\"-- Best Fitness = \", best.fitness.values[0])\n",
    "\n"
   ]
  },
  {
   "cell_type": "markdown",
   "metadata": {},
   "source": [
    "Create our graphs using the averages across all the runs. \n"
   ]
  },
  {
   "cell_type": "code",
   "execution_count": 21,
   "metadata": {
    "scrolled": true
   },
   "outputs": [
    {
     "data": {
      "image/png": "[encoded data removed]",
      "text/plain": [
       "<Figure size 432x288 with 1 Axes>"
      ]
     },
     "metadata": {
      "needs_background": "light"
     },
     "output_type": "display_data"
    }
   ],
   "source": [
    "# Genetic Programming is done (all runs) - plot statistics:\n",
    "x = numpy.arange(0, MAX_GENERATIONS+1)\n",
    "avgArray = numpy.array(avgListFitness)\n",
    "minArray = numpy.array(minListFitness)\n",
    "plt.xlabel('Generation')\n",
    "plt.ylabel('Fitness')\n",
    "plt.title('Best and Average Fitness for Symbolic Regression')\n",
    "#plt.errorbar(x, avgArray.mean(0), yerr=avgArray.mean(0),label=\"Average\",color=\"Red\")\n",
    "plt.errorbar(x, minArray.mean(0), yerr=minArray.std(0),label=\"Best\", color=\"Green\")\n",
    "plt.show()"
   ]
  }
 ],
 "metadata": {
  "kernelspec": {
   "display_name": "Python 3",
   "language": "python",
   "name": "python3"
  },
  "language_info": {
   "codemirror_mode": {
    "name": "ipython",
    "version": 3
   },
   "file_extension": ".py",
   "mimetype": "text/x-python",
   "name": "python",
   "nbconvert_exporter": "python",
   "pygments_lexer": "ipython3",
   "version": "3.8.3"
  }
 },
 "nbformat": 4,
 "nbformat_minor": 4
}
