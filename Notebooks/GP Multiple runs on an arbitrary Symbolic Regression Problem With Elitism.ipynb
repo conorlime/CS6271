{
 "cells": [
  {
   "cell_type": "markdown",
   "metadata": {},
   "source": [
    "# GP Multiple runs on an arbitrary Symbolic Regression Problem."
   ]
  },
  {
   "cell_type": "markdown",
   "metadata": {},
   "source": [
    "To make our code truly general, it is important to be able to read data in from a file and perform Symbolic Regression on it."
   ]
  },
  {
   "cell_type": "code",
   "execution_count": 1,
   "metadata": {},
   "outputs": [
    {
     "data": {
      "text/html": [
       "<style>.container { width:100% !important; }</style>"
      ],
      "text/plain": [
       "<IPython.core.display.HTML object>"
      ]
     },
     "metadata": {},
     "output_type": "display_data"
    }
   ],
   "source": [
    "from IPython.core.display import display, HTML\n",
    "display(HTML(\"<style>.container { width:100% !important; }</style>\"))\n"
   ]
  },
  {
   "cell_type": "markdown",
   "metadata": {},
   "source": [
    "Install DEAP. "
   ]
  },
  {
   "cell_type": "code",
   "execution_count": null,
   "metadata": {},
   "outputs": [],
   "source": [
    "!pip install deap"
   ]
  },
  {
   "cell_type": "markdown",
   "metadata": {},
   "source": [
    "Import our tools. This time we also use **csv**."
   ]
  },
  {
   "cell_type": "code",
   "execution_count": 2,
   "metadata": {},
   "outputs": [],
   "source": [
    "import operator\n",
    "import math\n",
    "import random\n",
    "\n",
    "import numpy\n",
    "\n",
    "from deap import algorithms\n",
    "from deap import base\n",
    "from deap import creator\n",
    "from deap import tools\n",
    "from deap import gp\n",
    "\n",
    "import csv\n",
    "from elitism import eaSimpleWithElitism\n",
    "\n",
    "\n",
    "import matplotlib.pyplot as plt\n",
    "\n",
    "import itertools\n",
    "import networkx as nx\n",
    "\n"
   ]
  },
  {
   "cell_type": "markdown",
   "metadata": {},
   "source": [
    "Set our Genetic Programming parameters, one of which is now the number of runs."
   ]
  },
  {
   "cell_type": "code",
   "execution_count": 3,
   "metadata": {},
   "outputs": [],
   "source": [
    "# Genetic Programming constants:\n",
    "POPULATION_SIZE = 20\n",
    "P_CROSSOVER = 0.9\n",
    "P_MUTATION = 0.01\n",
    "MAX_GENERATIONS = 50\n",
    "HALL_OF_FAME_SIZE = 10\n",
    "\n",
    "N_RUNS = 5\n",
    "\n",
    "\n"
   ]
  },
  {
   "cell_type": "markdown",
   "metadata": {},
   "source": [
    "Set the random seed. "
   ]
  },
  {
   "cell_type": "code",
   "execution_count": 4,
   "metadata": {},
   "outputs": [],
   "source": [
    "RANDOM_SEED = 412\n",
    "random.seed(RANDOM_SEED)"
   ]
  },
  {
   "cell_type": "markdown",
   "metadata": {},
   "source": [
    "GP-Specific constants."
   ]
  },
  {
   "cell_type": "code",
   "execution_count": 5,
   "metadata": {},
   "outputs": [],
   "source": [
    "MIN_TREE_HEIGHT = 3\n",
    "MAX_TREE_HEIGHT = 5\n",
    "LIMIT_TREE_HEIGHT = 17\n",
    "MUT_MIN_TREE_HEIGHT = 0\n",
    "MUT_MAX_TREE_HEIGHT = 2"
   ]
  },
  {
   "cell_type": "markdown",
   "metadata": {},
   "source": [
    "Read in the data."
   ]
  },
  {
   "cell_type": "code",
   "execution_count": 6,
   "metadata": {},
   "outputs": [],
   "source": [
    "with open(\"randomData.csv\") as symbRegData:\n",
    "    n_rows = sum(1 for line in symbRegData)\n",
    "with open(\"randomData.csv\") as symbRegData:\n",
    "    reader = csv.reader(symbRegData)\n",
    "    data = list(list(float(elem) for elem in row) for row in reader)"
   ]
  },
  {
   "cell_type": "markdown",
   "metadata": {},
   "source": [
    "Define our fitness function."
   ]
  },
  {
   "cell_type": "code",
   "execution_count": 7,
   "metadata": {},
   "outputs": [],
   "source": [
    "def evalSymbReg(individual):\n",
    "    # Transform the tree expression in a callable function\n",
    "    func = toolbox.compile(expr=individual)\n",
    "    # Evaluate the sum of squared difference between the expression and the target values\n",
    "    diff = sum((func(*row[:-1]) - row[-1])**2 for row in data)\n",
    "    error = diff/n_rows\n",
    "    if (error>10):\n",
    "        error=10\n",
    "    #return error, individual.height\n",
    "    nodes, edges, labels = gp.graph(individual)\n",
    "    return error, len(nodes)"
   ]
  },
  {
   "cell_type": "markdown",
   "metadata": {},
   "source": [
    "Define a protected division function."
   ]
  },
  {
   "cell_type": "code",
   "execution_count": 8,
   "metadata": {},
   "outputs": [],
   "source": [
    "def protectedDiv(left, right):\n",
    "    try:\n",
    "        return left / right\n",
    "    except ZeroDivisionError:\n",
    "        return 1"
   ]
  },
  {
   "cell_type": "markdown",
   "metadata": {},
   "source": [
    "Add our functions and terminals. "
   ]
  },
  {
   "cell_type": "code",
   "execution_count": 9,
   "metadata": {},
   "outputs": [],
   "source": [
    "pset = gp.PrimitiveSet(\"MAIN\", 5) # number of inputs!!!\n",
    "pset.addPrimitive(operator.add, 2)\n",
    "pset.addPrimitive(operator.sub, 2)\n",
    "pset.addPrimitive(operator.mul, 2)\n",
    "pset.addPrimitive(protectedDiv, 2)\n",
    "pset.addPrimitive(operator.neg, 1)\n",
    "pset.addPrimitive(math.cos, 1)\n",
    "pset.addPrimitive(math.sin, 1)\n",
    "pset.addEphemeralConstant(\"rand101\", lambda: random.random())\n"
   ]
  },
  {
   "cell_type": "markdown",
   "metadata": {},
   "source": [
    "Create our toolbox. This is very similar to the Symbolic Regression notebook except we are using the parameters declared up above."
   ]
  },
  {
   "cell_type": "code",
   "execution_count": 10,
   "metadata": {},
   "outputs": [],
   "source": [
    "toolbox = base.Toolbox()\n",
    "\n",
    "creator.create(\"FitnessMin\", base.Fitness, weights=(-1.0,-1.0))\n",
    "creator.create(\"Individual\", gp.PrimitiveTree, fitness=creator.FitnessMin)\n",
    "\n",
    "toolbox.register(\"expr\", gp.genHalfAndHalf, pset=pset, min_=1, max_=2)\n",
    "toolbox.register(\"individual\", tools.initIterate, creator.Individual, toolbox.expr)\n",
    "toolbox.register(\"population\", tools.initRepeat, list, toolbox.individual)\n",
    "toolbox.register(\"compile\", gp.compile, pset=pset)\n",
    "\n",
    "toolbox.register(\"evaluate\", evalSymbReg)\n",
    "#toolbox.register(\"select\", tools.selNSGA2)\n",
    "toolbox.register(\"select\", tools.selTournament, tournsize=5)\n",
    "\n",
    "toolbox.register(\"mate\", gp.cxOnePoint)\n",
    "toolbox.register(\"expr_mut\", gp.genFull, min_=0, max_=5)\n",
    "toolbox.register(\"mutate\", gp.mutUniform, expr=toolbox.expr_mut, pset=pset)\n",
    "\n",
    "toolbox.decorate(\"mate\", gp.staticLimit(key=operator.attrgetter(\"height\"), max_value=17))\n",
    "toolbox.decorate(\"mutate\", gp.staticLimit(key=operator.attrgetter(\"height\"), max_value=17))"
   ]
  },
  {
   "cell_type": "markdown",
   "metadata": {},
   "source": [
    "Create our statistics. These are a bit more complex than the GA ones because we want to keep track of fitness and size for all runs."
   ]
  },
  {
   "cell_type": "code",
   "execution_count": 11,
   "metadata": {},
   "outputs": [],
   "source": [
    "maxListFitness = []\n",
    "avgListFitness = []\n",
    "minListFitness = []\n",
    "stdListFitness = []\n",
    "\n",
    "maxListSize = []\n",
    "avgListSize = []\n",
    "minListSize = []\n",
    "stdListSize = []"
   ]
  },
  {
   "cell_type": "markdown",
   "metadata": {},
   "source": [
    "Now the magic happens and we run **N_RUNS** times. Always start with a small number of runs and generations to make sure that everything is working properly before you commit to a larger number. That way, if something goes horribly wrong, Python won't replicate it 30 times before giving you back control!"
   ]
  },
  {
   "cell_type": "code",
   "execution_count": 12,
   "metadata": {},
   "outputs": [
    {
     "name": "stdout",
     "output_type": "stream",
     "text": [
      "\n",
      "\n",
      "Currently on run 0 of 5\n",
      "-- Best Individual =  add(ARG0, 0.1932322756140583)\n",
      "-- length=3, height=1\n",
      "-- Best Fitness =  0.09712817476386296\n",
      "\n",
      "\n",
      "Currently on run 1 of 5\n",
      "-- Best Individual =  add(ARG0, 0.2844410568675728)\n",
      "-- length=3, height=1\n",
      "-- Best Fitness =  0.09598948314544539\n",
      "\n",
      "\n",
      "Currently on run 2 of 5\n",
      "-- Best Individual =  sin(protectedDiv(sin(ARG0), sin(cos(protectedDiv(ARG1, ARG1)))))\n",
      "-- length=9, height=5\n",
      "-- Best Fitness =  0.11174928068235755\n",
      "\n",
      "\n",
      "Currently on run 3 of 5\n",
      "-- Best Individual =  add(sub(ARG0, 0.07495629517706737), mul(mul(ARG2, 0.7422222789974481), 0.7422222789974481))\n",
      "-- length=9, height=3\n",
      "-- Best Fitness =  0.07279055860562375\n",
      "\n",
      "\n",
      "Currently on run 4 of 5\n",
      "-- Best Individual =  add(mul(ARG4, ARG2), ARG0)\n",
      "-- length=5, height=2\n",
      "-- Best Fitness =  0.062196087076787636\n"
     ]
    }
   ],
   "source": [
    "for r in range(0, N_RUNS):\n",
    "    population = toolbox.population(n=POPULATION_SIZE)\n",
    "    # define the hall-of-fame object:\n",
    "    hof = tools.HallOfFame(HALL_OF_FAME_SIZE)   \n",
    "\n",
    "\n",
    "    # Create our statistics\n",
    "    stats_fit = tools.Statistics(lambda ind: ind.fitness.values)\n",
    "    stats_size = tools.Statistics(len)\n",
    "    mstats = tools.MultiStatistics(fitness=stats_fit, size=stats_size)\n",
    "    mstats.register(\"avg\", numpy.mean)\n",
    "    mstats.register(\"std\", numpy.std)\n",
    "    mstats.register(\"min\", numpy.min)\n",
    "    mstats.register(\"max\", numpy.max)\n",
    "    \n",
    "    \n",
    "    # Which run are we on?\n",
    "    print(\"\\n\\nCurrently on run\", r, \"of\",N_RUNS)\n",
    "    \n",
    "    \n",
    "    # It's usually a good idea to turn off verbose when conducting multiple runs\n",
    "    population, logbook = eaSimpleWithElitism(population,\n",
    "                                                  toolbox,\n",
    "                                                  cxpb=P_CROSSOVER,\n",
    "                                                  mutpb=P_MUTATION,\n",
    "                                                  ngen=MAX_GENERATIONS,\n",
    "                                                  stats=mstats,\n",
    "                                                  halloffame=hof,\n",
    "                                                  verbose=False)\n",
    "    \n",
    "    #maxFitnessValues, meanFitnessValues = logbook.chapters['fitness'].select(\"min\", \"avg\")\n",
    "    meanFitnessValues, stdFitnessValues, minFitnessValues, maxFitnessValues  = logbook.chapters['fitness'].select(\"avg\", \"std\", \"min\", \"max\")\n",
    "    meanSizeValues, stdSizeValues, minSizeValues, maxSizeValues  = logbook.chapters['size'].select(\"avg\", \"std\", \"min\", \"max\")\n",
    "\n",
    "\n",
    "    # Save statistics for this run:\n",
    "    avgListFitness.append(meanFitnessValues)\n",
    "    stdListFitness.append(stdFitnessValues)\n",
    "    minListFitness.append(minFitnessValues)\n",
    "    maxListFitness.append(maxFitnessValues)\n",
    "    \n",
    "    avgListSize.append(meanSizeValues)\n",
    "    stdListSize.append(stdSizeValues)\n",
    "    minListSize.append(minSizeValues)\n",
    "    maxListSize.append(maxSizeValues)\n",
    "\n",
    "    # print info for best solution found:\n",
    "    best = hof.items[0]\n",
    "    print(\"-- Best Individual = \", best)\n",
    "    print(\"-- length={}, height={}\".format(len(best), best.height))\n",
    "    print(\"-- Best Fitness = \", best.fitness.values[0])\n",
    "\n"
   ]
  },
  {
   "cell_type": "markdown",
   "metadata": {},
   "source": [
    "Create our graphs using the averages across all the runs. Notice how we use standard deviation to show how much variation there is in the runs. \n",
    "\n",
    "Notice that if there's a big discrepancy between best and average the graphs can look like there's virtually no variation in the best score. If this happens, the first thing to do is verify if that is actually happening; you can do that by commenting out this line:\n",
    "\n",
    "**plt.errorbar(x, avgArray.mean(0), yerr=stdArray.mean(0),label=\"Average\",color=\"Red\")**"
   ]
  },
  {
   "cell_type": "code",
   "execution_count": 13,
   "metadata": {
    "scrolled": true
   },
   "outputs": [
    {
     "data": {
      "image/png": "[encoded data removed]",
      "text/plain": [
       "<Figure size 432x288 with 1 Axes>"
      ]
     },
     "metadata": {
      "needs_background": "light"
     },
     "output_type": "display_data"
    }
   ],
   "source": [
    "# Genetic Programming is done (all runs) - plot statistics:\n",
    "x = numpy.arange(0, MAX_GENERATIONS+1)\n",
    "avgArray = numpy.array(avgListFitness)\n",
    "stdArray = numpy.array(stdListFitness)\n",
    "minArray = numpy.array(minListFitness)\n",
    "maxArray = numpy.array(maxListFitness)\n",
    "plt.xlabel('Generation')\n",
    "plt.ylabel('Fitness')\n",
    "plt.title('Best and Average Fitness for Symbolic Regression')\n",
    "#plt.errorbar(x, avgArray.mean(0), yerr=stdArray.mean(0),label=\"Average\",color=\"Red\")\n",
    "plt.errorbar(x, minArray.mean(0), yerr=minArray.std(0),label=\"Best\", color=\"Green\")\n",
    "plt.show()"
   ]
  },
  {
   "cell_type": "markdown",
   "metadata": {},
   "source": [
    "Show the graph for size."
   ]
  },
  {
   "cell_type": "code",
   "execution_count": 14,
   "metadata": {},
   "outputs": [
    {
     "data": {
      "image/png": "[encoded data removed]",
      "text/plain": [
       "<Figure size 432x288 with 1 Axes>"
      ]
     },
     "metadata": {
      "needs_background": "light"
     },
     "output_type": "display_data"
    }
   ],
   "source": [
    "# Genetic Programming is done (all runs) - plot statistics:\n",
    "x = numpy.arange(0, MAX_GENERATIONS+1)\n",
    "avgArray = numpy.array(avgListSize)\n",
    "stdArray = numpy.array(stdListSize)\n",
    "minArray = numpy.array(minListSize)\n",
    "maxArray = numpy.array(maxListSize)\n",
    "plt.xlabel('Generation')\n",
    "plt.ylabel('Size')\n",
    "plt.title('Best and Average Size for Symbolic Regression')\n",
    "plt.errorbar(x, avgArray.mean(0), yerr=stdArray.mean(0),label=\"Average\",color=\"Red\")\n",
    "plt.errorbar(x, minArray.mean(0), yerr=minArray.std(0),label=\"Best\", color=\"Blue\")\n",
    "plt.show()"
   ]
  }
 ],
 "metadata": {
  "kernelspec": {
   "display_name": "Python 3",
   "language": "python",
   "name": "python3"
  },
  "language_info": {
   "codemirror_mode": {
    "name": "ipython",
    "version": 3
   },
   "file_extension": ".py",
   "mimetype": "text/x-python",
   "name": "python",
   "nbconvert_exporter": "python",
   "pygments_lexer": "ipython3",
   "version": "3.8.3"
  }
 },
 "nbformat": 4,
 "nbformat_minor": 4
}
