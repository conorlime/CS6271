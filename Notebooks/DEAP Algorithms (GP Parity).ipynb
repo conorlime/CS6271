{
 "cells": [
  {
   "cell_type": "markdown",
   "metadata": {},
   "source": [
    "# GP Applied to the Even-Parity Problem"
   ]
  },
  {
   "cell_type": "markdown",
   "metadata": {},
   "source": [
    "This time we apply GP to a Boolean problem -- this has a different type and different operators, but the algorithm remains the same.\n",
    "\n",
    "The code in this notebook is a bit tighter, that is, although slightly more difficult to read, it is a lot more reusable. First of all, here's a nice piece of code to widen our notebook to make to easier to read the output we get later on."
   ]
  },
  {
   "cell_type": "code",
   "execution_count": 1,
   "metadata": {},
   "outputs": [
    {
     "data": {
      "text/html": [
       "<style>.container { width:100% !important; }</style>"
      ],
      "text/plain": [
       "<IPython.core.display.HTML object>"
      ]
     },
     "metadata": {},
     "output_type": "display_data"
    }
   ],
   "source": [
    "from IPython.core.display import display, HTML\n",
    "display(HTML(\"<style>.container { width:100% !important; }</style>\"))\n"
   ]
  },
  {
   "cell_type": "markdown",
   "metadata": {},
   "source": [
    "Import our tools as before, except this time we also include **itertools** and **networks** which contain some nice iterative tools (for creating our test set) and graph drawing functionality, respectively."
   ]
  },
  {
   "cell_type": "code",
   "execution_count": 2,
   "metadata": {},
   "outputs": [],
   "source": [
    "import operator\n",
    "import math\n",
    "import random\n",
    "\n",
    "import numpy\n",
    "\n",
    "from deap import algorithms\n",
    "from deap import base\n",
    "from deap import creator\n",
    "from deap import tools\n",
    "from deap import gp\n",
    "\n",
    "\n",
    "import matplotlib.pyplot as plt\n",
    "\n",
    "import itertools\n",
    "import networkx as nx\n",
    "\n"
   ]
  },
  {
   "cell_type": "markdown",
   "metadata": {},
   "source": [
    "Set our Genetic Programming parameters.  Notice that these are virtually the same as the GA ones."
   ]
  },
  {
   "cell_type": "code",
   "execution_count": 3,
   "metadata": {},
   "outputs": [],
   "source": [
    "# Genetic Programming constants:\n",
    "POPULATION_SIZE = 2000\n",
    "P_CROSSOVER = 0.9\n",
    "P_MUTATION = 0.01\n",
    "MAX_GENERATIONS = 50\n",
    "HALL_OF_FAME_SIZE = 10\n"
   ]
  },
  {
   "cell_type": "markdown",
   "metadata": {},
   "source": [
    "Set the random seed. "
   ]
  },
  {
   "cell_type": "code",
   "execution_count": 4,
   "metadata": {},
   "outputs": [],
   "source": [
    "RANDOM_SEED = 412\n",
    "random.seed(RANDOM_SEED)"
   ]
  },
  {
   "cell_type": "markdown",
   "metadata": {},
   "source": [
    "Here are some GP-specific constants. Keeping them together like this will make later editing easier."
   ]
  },
  {
   "cell_type": "code",
   "execution_count": 5,
   "metadata": {},
   "outputs": [],
   "source": [
    "MIN_TREE_HEIGHT = 3\n",
    "MAX_TREE_HEIGHT = 5\n",
    "LIMIT_TREE_HEIGHT = 17\n",
    "MUT_MIN_TREE_HEIGHT = 0\n",
    "MUT_MAX_TREE_HEIGHT = 2"
   ]
  },
  {
   "cell_type": "markdown",
   "metadata": {},
   "source": [
    "Some problem constants. One nice thing about this problem is that it is of scalable difficulty, so we name make it more difficult simply by increasing the number of inputs."
   ]
  },
  {
   "cell_type": "code",
   "execution_count": 6,
   "metadata": {},
   "outputs": [],
   "source": [
    "NUM_INPUTS = 6\n",
    "NUM_COMBINATIONS = 2 ** NUM_INPUTS"
   ]
  },
  {
   "cell_type": "markdown",
   "metadata": {},
   "source": [
    "Here's our fitness function. This is a bit more involved than before as we first create all our test cases and then write a function to calculate the party error. We declare a wrapper function, **getCost** to make this code more resuable. This way we can change the fitness function and we only need to change the name in **getCost**."
   ]
  },
  {
   "cell_type": "code",
   "execution_count": 7,
   "metadata": {},
   "outputs": [],
   "source": [
    "# calculate the truth table of even parity check:\n",
    "parityIn = list(itertools.product([0, 1], repeat=NUM_INPUTS))\n",
    "parityOut = []\n",
    "for row in parityIn:\n",
    "    parityOut.append(sum(row) % 2)\n",
    "    \n",
    "# calculate the difference between the results of the\n",
    "# generated function and the expected parity results:\n",
    "def parityError(individual):\n",
    "    func = toolbox.compile(expr=individual)\n",
    "    return sum(func(*pIn) != pOut for pIn, pOut in zip(parityIn, parityOut))\n",
    "\n",
    "# fitness measure:\n",
    "def getCost(individual):\n",
    "    return parityError(individual), # return a tuple"
   ]
  },
  {
   "cell_type": "markdown",
   "metadata": {},
   "source": [
    "Add our functions and terminals. This time we are using Boolean operators and values."
   ]
  },
  {
   "cell_type": "code",
   "execution_count": 8,
   "metadata": {},
   "outputs": [],
   "source": [
    "# create the primitive set:\n",
    "primitiveSet = gp.PrimitiveSet(\"main\", NUM_INPUTS, \"in_\")\n",
    "primitiveSet.addPrimitive(operator.and_, 2)\n",
    "primitiveSet.addPrimitive(operator.or_, 2)\n",
    "primitiveSet.addPrimitive(operator.xor, 2)\n",
    "primitiveSet.addPrimitive(operator.not_, 1)\n",
    "\n",
    "# add terminal values:\n",
    "primitiveSet.addTerminal(1)\n",
    "primitiveSet.addTerminal(0)"
   ]
  },
  {
   "cell_type": "markdown",
   "metadata": {},
   "source": [
    "Create our toolbox. This is very similar to the Symbolic Regression notebook except we are using the parameters declared up above."
   ]
  },
  {
   "cell_type": "code",
   "execution_count": 9,
   "metadata": {},
   "outputs": [],
   "source": [
    "toolbox = base.Toolbox()\n",
    "\n",
    "# define a single objective, minimizing fitness strategy:\n",
    "creator.create(\"FitnessMin\", base.Fitness, weights=(-1.0,))\n",
    "\n",
    "# create the Individual class based on the primitive tree:\n",
    "creator.create(\"Individual\", gp.PrimitiveTree, fitness=creator.FitnessMin)\n",
    "\n",
    "# create a helper function for creating random trees using the primitive set:\n",
    "toolbox.register(\"expr\", gp.genFull, pset=primitiveSet, min_=MIN_TREE_HEIGHT, max_=MAX_TREE_HEIGHT)\n",
    "\n",
    "# create the individual operator to fill up an Individual instance:\n",
    "toolbox.register(\"individualCreator\", tools.initIterate, creator.Individual, toolbox.expr)\n",
    "\n",
    "# create the population operator to generate a list of individuals:\n",
    "toolbox.register(\"populationCreator\", tools.initRepeat, list, toolbox.individualCreator)\n",
    "\n",
    "# create an operator to compile the primitive tree into python code:\n",
    "toolbox.register(\"compile\", gp.compile, pset=primitiveSet)\n",
    "\n",
    "toolbox.register(\"evaluate\", getCost)\n",
    "\n",
    "# genetic operators:\n",
    "toolbox.register(\"select\", tools.selTournament, tournsize=2)\n",
    "toolbox.register(\"mate\", gp.cxOnePoint)\n",
    "toolbox.register(\"expr_mut\", gp.genGrow, min_=MUT_MIN_TREE_HEIGHT, max_=MUT_MAX_TREE_HEIGHT)\n",
    "toolbox.register(\"mutate\", gp.mutUniform, expr=toolbox.expr_mut, pset=primitiveSet)\n",
    "\n",
    "# bloat control:\n",
    "toolbox.decorate(\"mate\", gp.staticLimit(key=operator.attrgetter(\"height\"), max_value=LIMIT_TREE_HEIGHT))\n",
    "toolbox.decorate(\"mutate\", gp.staticLimit(key=operator.attrgetter(\"height\"), max_value=LIMIT_TREE_HEIGHT))\n",
    "\n"
   ]
  },
  {
   "cell_type": "markdown",
   "metadata": {},
   "source": [
    "Set up our population as before"
   ]
  },
  {
   "cell_type": "code",
   "execution_count": 10,
   "metadata": {},
   "outputs": [],
   "source": [
    "population = toolbox.populationCreator(n=POPULATION_SIZE)\n",
    "# define the hall-of-fame object:\n",
    "hof = tools.HallOfFame(HALL_OF_FAME_SIZE)   \n"
   ]
  },
  {
   "cell_type": "markdown",
   "metadata": {},
   "source": [
    "Create a statistics object. This time we're going to use the **MultiStatistics** tool because we want to record statistics about **size** as well as **fitness**."
   ]
  },
  {
   "cell_type": "code",
   "execution_count": 11,
   "metadata": {},
   "outputs": [],
   "source": [
    "stats_fit = tools.Statistics(lambda ind: ind.fitness.values)\n",
    "stats_size = tools.Statistics(len)\n",
    "mstats = tools.MultiStatistics(fitness=stats_fit, size=stats_size)\n",
    "mstats.register(\"avg\", numpy.mean)\n",
    "mstats.register(\"std\", numpy.std)\n",
    "mstats.register(\"min\", numpy.min)\n",
    "mstats.register(\"max\", numpy.max)\n"
   ]
  },
  {
   "cell_type": "markdown",
   "metadata": {},
   "source": [
    "Run our GP. Notice how much slower this one is, due to the much larger population size. "
   ]
  },
  {
   "cell_type": "code",
   "execution_count": 12,
   "metadata": {},
   "outputs": [
    {
     "name": "stdout",
     "output_type": "stream",
     "text": [
      "   \t      \t                    fitness                     \t                     size                     \n",
      "   \t      \t------------------------------------------------\t----------------------------------------------\n",
      "gen\tnevals\tavg   \tgen\tmax\tmin\tnevals\tstd     \tavg    \tgen\tmax\tmin\tnevals\tstd   \n",
      "0  \t2000  \t32.009\t0  \t40 \t24 \t2000  \t0.671505\t22.5945\t0  \t60 \t4  \t2000  \t13.194\n",
      "1  \t1816  \t31.9305\t1  \t40 \t24 \t1816  \t0.6969  \t23.144 \t1  \t69 \t2  \t1816  \t14.243\n",
      "2  \t1778  \t31.8885\t2  \t40 \t16 \t1778  \t0.924158\t24.1045\t2  \t81 \t1  \t1778  \t15.3416\n",
      "3  \t1801  \t31.865 \t3  \t40 \t16 \t1801  \t1.03527 \t25.423 \t3  \t81 \t2  \t1801  \t16.1789\n",
      "4  \t1796  \t31.791 \t4  \t40 \t22 \t1796  \t1.12708 \t26.556 \t4  \t92 \t2  \t1796  \t17.4976\n",
      "5  \t1817  \t31.6685\t5  \t40 \t23 \t1817  \t1.2902  \t27.6965\t5  \t91 \t1  \t1817  \t18.3071\n",
      "6  \t1810  \t31.5675\t6  \t38 \t22 \t1810  \t1.48608 \t30.0145\t6  \t113\t2  \t1810  \t19.427 \n",
      "7  \t1802  \t31.3585\t7  \t40 \t20 \t1802  \t1.79999 \t33.1   \t7  \t113\t2  \t1802  \t21.2185\n",
      "8  \t1802  \t31.089 \t8  \t40 \t20 \t1802  \t2.0727  \t38.0255\t8  \t150\t1  \t1802  \t22.0814\n",
      "9  \t1797  \t30.835 \t9  \t40 \t22 \t1797  \t2.27811 \t41.5225\t9  \t144\t2  \t1797  \t22.9631\n",
      "10 \t1813  \t30.683 \t10 \t46 \t16 \t1813  \t2.48103 \t46.098 \t10 \t143\t1  \t1813  \t23.016 \n",
      "11 \t1773  \t30.48  \t11 \t40 \t16 \t1773  \t2.65981 \t49.872 \t11 \t145\t1  \t1773  \t22.8239\n",
      "12 \t1817  \t30.18  \t12 \t40 \t16 \t1817  \t2.77229 \t54.0065\t12 \t137\t2  \t1817  \t23.3377\n",
      "13 \t1833  \t29.7575\t13 \t45 \t16 \t1833  \t2.99695 \t57.8665\t13 \t166\t1  \t1833  \t23.6264\n",
      "14 \t1790  \t29.4415\t14 \t46 \t16 \t1790  \t3.25462 \t59.721 \t14 \t154\t1  \t1790  \t23.7256\n",
      "15 \t1812  \t29.0685\t15 \t40 \t16 \t1812  \t3.45004 \t62.233 \t15 \t158\t3  \t1812  \t23.8786\n",
      "16 \t1812  \t28.551 \t16 \t40 \t16 \t1812  \t3.52355 \t65.4145\t16 \t173\t4  \t1812  \t24.8963\n",
      "17 \t1829  \t28.257 \t17 \t48 \t16 \t1829  \t3.84174 \t67.7755\t17 \t159\t3  \t1829  \t25.8378\n",
      "18 \t1824  \t27.6665\t18 \t38 \t12 \t1824  \t3.9592  \t70.329 \t18 \t191\t5  \t1824  \t26.8558\n",
      "19 \t1768  \t27.344 \t19 \t44 \t10 \t1768  \t4.32281 \t72.7945\t19 \t193\t1  \t1768  \t28.5554\n",
      "20 \t1777  \t26.723 \t20 \t48 \t10 \t1777  \t4.53059 \t75.9175\t20 \t193\t3  \t1777  \t29.2501\n",
      "21 \t1820  \t26.111 \t21 \t48 \t10 \t1820  \t4.62587 \t78.466 \t21 \t196\t8  \t1820  \t29.5465\n",
      "22 \t1805  \t25.5725\t22 \t48 \t8  \t1805  \t4.78014 \t80.6695\t22 \t196\t3  \t1805  \t31.6797\n",
      "23 \t1787  \t24.959 \t23 \t49 \t8  \t1787  \t5.09817 \t83.3435\t23 \t216\t3  \t1787  \t31.384 \n",
      "24 \t1808  \t24.168 \t24 \t48 \t8  \t1808  \t5.48605 \t85.071 \t24 \t204\t3  \t1808  \t30.6699\n",
      "25 \t1825  \t23.449 \t25 \t52 \t8  \t1825  \t5.73048 \t87.004 \t25 \t206\t6  \t1825  \t30.7209\n",
      "26 \t1788  \t22.772 \t26 \t48 \t10 \t1788  \t5.8614  \t87.2195\t26 \t206\t1  \t1788  \t29.5055\n",
      "27 \t1802  \t22.06  \t27 \t48 \t6  \t1802  \t6.14251 \t89.5875\t27 \t186\t1  \t1802  \t29.0653\n",
      "28 \t1780  \t21.2665\t28 \t48 \t6  \t1780  \t6.26223 \t90.715 \t28 \t196\t15 \t1780  \t29.2105\n",
      "29 \t1795  \t20.7515\t29 \t48 \t6  \t1795  \t6.55101 \t90.332 \t29 \t219\t13 \t1795  \t29.9565\n",
      "30 \t1812  \t20.3755\t30 \t54 \t4  \t1812  \t7.05716 \t90.452 \t30 \t215\t12 \t1812  \t31.1994\n",
      "31 \t1797  \t19.856 \t31 \t54 \t4  \t1797  \t7.13809 \t90.2645\t31 \t215\t12 \t1797  \t31.4891\n",
      "32 \t1785  \t19.14  \t32 \t49 \t0  \t1785  \t7.16948 \t91.413 \t32 \t215\t9  \t1785  \t32.3144\n",
      "33 \t1808  \t18.7275\t33 \t52 \t0  \t1808  \t7.40657 \t94.1475\t33 \t265\t6  \t1808  \t33.7822\n",
      "34 \t1818  \t18.196 \t34 \t50 \t0  \t1818  \t7.40713 \t95.0235\t34 \t213\t5  \t1818  \t34.1396\n",
      "35 \t1835  \t17.6305\t35 \t53 \t0  \t1835  \t7.4619  \t97.0095\t35 \t213\t9  \t1835  \t34.3636\n",
      "36 \t1771  \t17.0415\t36 \t64 \t4  \t1771  \t7.72656 \t97.0615\t36 \t226\t3  \t1771  \t35.0762\n",
      "37 \t1828  \t16.0505\t37 \t48 \t0  \t1828  \t7.58459 \t98.282 \t37 \t214\t5  \t1828  \t34.8745\n",
      "38 \t1809  \t15.983 \t38 \t56 \t0  \t1809  \t8.284   \t98.2695\t38 \t201\t7  \t1809  \t34.6452\n",
      "39 \t1811  \t15.4415\t39 \t56 \t0  \t1811  \t8.59026 \t96.5065\t39 \t229\t12 \t1811  \t35.3676\n",
      "40 \t1784  \t15.067 \t40 \t56 \t0  \t1784  \t8.55351 \t96.3245\t40 \t261\t10 \t1784  \t35.1746\n",
      "41 \t1787  \t14.5065\t41 \t64 \t0  \t1787  \t8.69643 \t97.3625\t41 \t237\t10 \t1787  \t34.852 \n",
      "42 \t1817  \t13.6455\t42 \t64 \t0  \t1817  \t8.69901 \t97.2945\t42 \t264\t18 \t1817  \t34.1343\n",
      "43 \t1834  \t13.4845\t43 \t64 \t0  \t1834  \t9.1761  \t97.5105\t43 \t218\t11 \t1834  \t33.2425\n",
      "44 \t1808  \t12.796 \t44 \t60 \t0  \t1808  \t9.31077 \t98.323 \t44 \t218\t1  \t1808  \t32.5576\n",
      "45 \t1816  \t12.1975\t45 \t62 \t0  \t1816  \t9.68538 \t100.484\t45 \t218\t8  \t1816  \t32.6803\n",
      "46 \t1803  \t11.6125\t46 \t64 \t0  \t1803  \t9.78281 \t101.522\t46 \t219\t14 \t1803  \t32.5204\n",
      "47 \t1782  \t11.2955\t47 \t64 \t0  \t1782  \t10.2933 \t102.072\t47 \t257\t16 \t1782  \t33.2059\n",
      "48 \t1820  \t11.04  \t48 \t64 \t0  \t1820  \t10.7908 \t101.005\t48 \t230\t3  \t1820  \t32.9278\n",
      "49 \t1791  \t10.385 \t49 \t64 \t0  \t1791  \t10.8662 \t99.278 \t49 \t260\t8  \t1791  \t32.45  \n",
      "50 \t1787  \t10.173 \t50 \t64 \t0  \t1787  \t11.0378 \t99.2425\t50 \t227\t13 \t1787  \t32.3823\n"
     ]
    }
   ],
   "source": [
    "population, logbook = algorithms.eaSimple(population,\n",
    "                                                  toolbox,\n",
    "                                                  cxpb=P_CROSSOVER,\n",
    "                                                  mutpb=P_MUTATION,\n",
    "                                                  ngen=MAX_GENERATIONS,\n",
    "                                                  stats=mstats,\n",
    "                                                  halloffame=hof,\n",
    "                                                  verbose=True)"
   ]
  },
  {
   "cell_type": "markdown",
   "metadata": {},
   "source": [
    "Extract our statistcs. This time our logbook has *chapters* because we have maintained multiple statistics."
   ]
  },
  {
   "cell_type": "code",
   "execution_count": 13,
   "metadata": {},
   "outputs": [
    {
     "name": "stdout",
     "output_type": "stream",
     "text": [
      "-- Best Individual =  xor(xor(in_2, xor(xor(not_(in_5), and_(1, or_(and_(and_(and_(in_1, in_1), xor(1, in_3)), or_(in_4, not_(in_1))), or_(in_4, in_4)))), xor(not_(xor(in_1, in_3)), and_(or_(and_(in_0, or_(in_0, in_4)), not_(and_(not_(in_5), in_5))), in_0)))), and_(0, and_(xor(or_(in_2, in_1), 1), or_(not_(in_3), not_(in_2)))))\n",
      "-- length=56, height=9\n",
      "-- Best Fitness =  0.0\n"
     ]
    },
    {
     "data": {
      "image/png": "[encoded data removed]",
      "text/plain": [
       "<Figure size 432x288 with 1 Axes>"
      ]
     },
     "metadata": {
      "needs_background": "light"
     },
     "output_type": "display_data"
    }
   ],
   "source": [
    "maxFitnessValues, meanFitnessValues = logbook.chapters['fitness'].select(\"min\", \"avg\")\n",
    "\n",
    "\n",
    "# print info for best solution found:\n",
    "best = hof.items[0]\n",
    "print(\"-- Best Individual = \", best)\n",
    "print(\"-- length={}, height={}\".format(len(best), best.height))\n",
    "print(\"-- Best Fitness = \", best.fitness.values[0])\n",
    "\n",
    "plt.plot(maxFitnessValues, color='red')\n",
    "plt.plot(meanFitnessValues, color='green')\n",
    "plt.xlabel('Generation')\n",
    "plt.ylabel('Max / Average Fitness')\n",
    "plt.title('Max and Average Fitness over Generations')\n",
    "plt.show()"
   ]
  },
  {
   "cell_type": "markdown",
   "metadata": {},
   "source": [
    "Now, this looks way more interesting than the Symbolic Regression graph as GP is really being made to work hard here!"
   ]
  },
  {
   "cell_type": "code",
   "execution_count": null,
   "metadata": {},
   "outputs": [],
   "source": []
  }
 ],
 "metadata": {
  "kernelspec": {
   "display_name": "Python 3",
   "language": "python",
   "name": "python3"
  },
  "language_info": {
   "codemirror_mode": {
    "name": "ipython",
    "version": 3
   },
   "file_extension": ".py",
   "mimetype": "text/x-python",
   "name": "python",
   "nbconvert_exporter": "python",
   "pygments_lexer": "ipython3",
   "version": "3.8.3"
  }
 },
 "nbformat": 4,
 "nbformat_minor": 4
}
