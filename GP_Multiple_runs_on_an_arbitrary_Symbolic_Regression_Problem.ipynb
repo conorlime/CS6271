{
  "nbformat": 4,
  "nbformat_minor": 0,
  "metadata": {
    "kernelspec": {
      "display_name": "Python 3",
      "language": "python",
      "name": "python3"
    },
    "language_info": {
      "codemirror_mode": {
        "name": "ipython",
        "version": 3
      },
      "file_extension": ".py",
      "mimetype": "text/x-python",
      "name": "python",
      "nbconvert_exporter": "python",
      "pygments_lexer": "ipython3",
      "version": "3.8.3"
    },
    "colab": {
      "name": "GP Multiple runs on an arbitrary Symbolic Regression Problem.ipynb",
      "provenance": [],
      "collapsed_sections": [],
      "include_colab_link": true
    }
  },
  "cells": [
    {
      "cell_type": "markdown",
      "metadata": {
        "id": "view-in-github",
        "colab_type": "text"
      },
      "source": [
        "<a href=\"https://colab.research.google.com/github/conorlime/CS6271/blob/main/GP_Multiple_runs_on_an_arbitrary_Symbolic_Regression_Problem.ipynb\" target=\"_parent\"><img src=\"https://colab.research.google.com/assets/colab-badge.svg\" alt=\"Open In Colab\"/></a>"
      ]
    },
    {
      "cell_type": "code",
      "metadata": {
        "id": "ahXBWon2K6qj"
      },
      "source": [
        ""
      ],
      "execution_count": 35,
      "outputs": []
    },
    {
      "cell_type": "markdown",
      "metadata": {
        "id": "T5sNDxPc-vsl"
      },
      "source": [
        "# GP Multiple runs on an arbitrary Symbolic Regression Problem."
      ]
    },
    {
      "cell_type": "markdown",
      "metadata": {
        "id": "Iwm8oAgw-vso"
      },
      "source": [
        "To make our code truly general, it is important to be able to read data in from a file and perform Symbolic Regression on it.\n",
        "\n",
        "One big step up from previous notebooks is that we need to store our data somewhere that the notebook can get at."
      ]
    },
    {
      "cell_type": "markdown",
      "metadata": {
        "id": "6p83FZCt97gy"
      },
      "source": [
        "Install DEAP. "
      ]
    },
    {
      "cell_type": "code",
      "metadata": {
        "id": "ptCMZ5_A97gz",
        "colab": {
          "base_uri": "https://localhost:8080/"
        },
        "outputId": "74780dc8-3db9-4133-c818-256ab01f70a7"
      },
      "source": [
        "!pip install deap"
      ],
      "execution_count": 1,
      "outputs": [
        {
          "output_type": "stream",
          "name": "stdout",
          "text": [
            "Collecting deap\n",
            "  Downloading deap-1.3.1-cp37-cp37m-manylinux_2_5_x86_64.manylinux1_x86_64.manylinux_2_12_x86_64.manylinux2010_x86_64.whl (160 kB)\n",
            "\u001b[?25l\r\u001b[K     |██                              | 10 kB 17.7 MB/s eta 0:00:01\r\u001b[K     |████                            | 20 kB 22.2 MB/s eta 0:00:01\r\u001b[K     |██████                          | 30 kB 23.2 MB/s eta 0:00:01\r\u001b[K     |████████▏                       | 40 kB 24.6 MB/s eta 0:00:01\r\u001b[K     |██████████▏                     | 51 kB 19.9 MB/s eta 0:00:01\r\u001b[K     |████████████▏                   | 61 kB 13.4 MB/s eta 0:00:01\r\u001b[K     |██████████████▎                 | 71 kB 12.3 MB/s eta 0:00:01\r\u001b[K     |████████████████▎               | 81 kB 13.6 MB/s eta 0:00:01\r\u001b[K     |██████████████████▎             | 92 kB 14.1 MB/s eta 0:00:01\r\u001b[K     |████████████████████▍           | 102 kB 14.7 MB/s eta 0:00:01\r\u001b[K     |██████████████████████▍         | 112 kB 14.7 MB/s eta 0:00:01\r\u001b[K     |████████████████████████▍       | 122 kB 14.7 MB/s eta 0:00:01\r\u001b[K     |██████████████████████████▌     | 133 kB 14.7 MB/s eta 0:00:01\r\u001b[K     |████████████████████████████▌   | 143 kB 14.7 MB/s eta 0:00:01\r\u001b[K     |██████████████████████████████▌ | 153 kB 14.7 MB/s eta 0:00:01\r\u001b[K     |████████████████████████████████| 160 kB 14.7 MB/s \n",
            "\u001b[?25hRequirement already satisfied: numpy in /usr/local/lib/python3.7/dist-packages (from deap) (1.19.5)\n",
            "Installing collected packages: deap\n",
            "Successfully installed deap-1.3.1\n"
          ]
        }
      ]
    },
    {
      "cell_type": "code",
      "metadata": {
        "id": "6WUMoPjs-vso",
        "colab": {
          "base_uri": "https://localhost:8080/",
          "height": 17
        },
        "outputId": "d0b0cc13-a1bb-4556-fc78-f9b8369ebb61"
      },
      "source": [
        "from IPython.core.display import display, HTML\n",
        "display(HTML(\"<style>.container { width:100% !important; }</style>\"))\n"
      ],
      "execution_count": 2,
      "outputs": [
        {
          "output_type": "display_data",
          "data": {
            "text/html": [
              "<style>.container { width:100% !important; }</style>"
            ],
            "text/plain": [
              "<IPython.core.display.HTML object>"
            ]
          },
          "metadata": {}
        }
      ]
    },
    {
      "cell_type": "markdown",
      "metadata": {
        "id": "Fbwx74bsEKjl"
      },
      "source": [
        "Clone the data folder from the class git repository and create a local copy for us to read. First, we need to create some space. You will be asked for confirmation by Google to do this."
      ]
    },
    {
      "cell_type": "code",
      "metadata": {
        "colab": {
          "base_uri": "https://localhost:8080/"
        },
        "id": "bj4JuDiyEXtf",
        "outputId": "1ee98660-5e5d-407f-e5d4-0bca4708281c"
      },
      "source": [
        "from google.colab import drive\n",
        "drive.mount('/content/drive', force_remount=True)"
      ],
      "execution_count": 3,
      "outputs": [
        {
          "output_type": "stream",
          "name": "stdout",
          "text": [
            "Mounted at /content/drive\n"
          ]
        }
      ]
    },
    {
      "cell_type": "markdown",
      "metadata": {
        "id": "WSS-hNz7Er4o"
      },
      "source": [
        "Clone the data from the repository. Note that we can't clone **just** a folder, so we're actually bringing everything down."
      ]
    },
    {
      "cell_type": "code",
      "metadata": {
        "colab": {
          "base_uri": "https://localhost:8080/"
        },
        "id": "JbZZ7keoE1og",
        "outputId": "9b65a2ce-aa5b-4fe1-aff1-027eb1c4d436"
      },
      "source": [
        "!git clone https://github.com/conorlime/CS6271"
      ],
      "execution_count": 4,
      "outputs": [
        {
          "output_type": "stream",
          "name": "stdout",
          "text": [
            "Cloning into 'CS6271'...\n",
            "remote: Enumerating objects: 134, done.\u001b[K\n",
            "remote: Counting objects: 100% (134/134), done.\u001b[K\n",
            "remote: Compressing objects: 100% (129/129), done.\u001b[K\n",
            "remote: Total 134 (delta 50), reused 0 (delta 0), pack-reused 0\u001b[K\n",
            "Receiving objects: 100% (134/134), 2.61 MiB | 818.00 KiB/s, done.\n",
            "Resolving deltas: 100% (50/50), done.\n"
          ]
        }
      ]
    },
    {
      "cell_type": "markdown",
      "metadata": {
        "id": "2Gw5SWrXFmBD"
      },
      "source": [
        "We can navigate through our drive here using standard Unix commands."
      ]
    },
    {
      "cell_type": "code",
      "metadata": {
        "colab": {
          "base_uri": "https://localhost:8080/",
          "height": 37
        },
        "id": "M5gnBtZmFReF",
        "outputId": "4cfde6e5-3c9b-448b-83b9-d2249d65410c"
      },
      "source": [
        "pwd"
      ],
      "execution_count": 10,
      "outputs": [
        {
          "output_type": "execute_result",
          "data": {
            "application/vnd.google.colaboratory.intrinsic+json": {
              "type": "string"
            },
            "text/plain": [
              "'/content'"
            ]
          },
          "metadata": {},
          "execution_count": 10
        }
      ]
    },
    {
      "cell_type": "code",
      "metadata": {
        "colab": {
          "base_uri": "https://localhost:8080/"
        },
        "id": "nSQiJMe2Fvcf",
        "outputId": "a249767d-7683-44f9-a0c1-94a185fd9759"
      },
      "source": [
        "ls"
      ],
      "execution_count": 11,
      "outputs": [
        {
          "output_type": "stream",
          "name": "stdout",
          "text": [
            "\u001b[0m\u001b[01;34mCS6271\u001b[0m/  \u001b[01;34mdrive\u001b[0m/  \u001b[01;34msample_data\u001b[0m/\n"
          ]
        }
      ]
    },
    {
      "cell_type": "code",
      "metadata": {
        "colab": {
          "base_uri": "https://localhost:8080/"
        },
        "id": "Bz85I_NBFxZD",
        "outputId": "2cdd942c-aa64-49a4-e966-6fe658ceb7f8"
      },
      "source": [
        "cd CS6271/Notebooks/data/"
      ],
      "execution_count": 12,
      "outputs": [
        {
          "output_type": "stream",
          "name": "stdout",
          "text": [
            "/content/CS6271/Notebooks/data\n"
          ]
        }
      ]
    },
    {
      "cell_type": "code",
      "metadata": {
        "colab": {
          "base_uri": "https://localhost:8080/"
        },
        "id": "bQpPdNaYF59x",
        "outputId": "089e2d65-8b5f-4daf-9244-b6a1072b173b"
      },
      "source": [
        "ls"
      ],
      "execution_count": 13,
      "outputs": [
        {
          "output_type": "stream",
          "name": "stdout",
          "text": [
            "kotanchek_2d.csv  randomData.csv  sample.csv  spambase.csv\n"
          ]
        }
      ]
    },
    {
      "cell_type": "markdown",
      "metadata": {
        "id": "WpfLQTfQ-vsp"
      },
      "source": [
        "Import our tools."
      ]
    },
    {
      "cell_type": "code",
      "metadata": {
        "id": "n3N--WdM-vsq"
      },
      "source": [
        "import operator\n",
        "import math\n",
        "import random\n",
        "\n",
        "import numpy\n",
        "\n",
        "from deap import algorithms\n",
        "from deap import base\n",
        "from deap import creator\n",
        "from deap import tools\n",
        "from deap import gp\n",
        "\n",
        "import csv\n",
        "\n",
        "\n",
        "\n",
        "import matplotlib.pyplot as plt\n",
        "\n",
        "import itertools\n",
        "import networkx as nx\n",
        "\n"
      ],
      "execution_count": 5,
      "outputs": []
    },
    {
      "cell_type": "markdown",
      "metadata": {
        "id": "XzITfdC0-vsq"
      },
      "source": [
        "Set our Genetic Programming parameters, one of which is now the number of runs."
      ]
    },
    {
      "cell_type": "code",
      "metadata": {
        "id": "Uxoyd3a8-vsr"
      },
      "source": [
        "# Genetic Programming constants:\n",
        "POPULATION_SIZE = 20\n",
        "P_CROSSOVER = 0.9\n",
        "P_MUTATION = 0.01\n",
        "MAX_GENERATIONS = 50\n",
        "HALL_OF_FAME_SIZE = 10\n",
        "\n",
        "N_RUNS = 2\n",
        "\n",
        "\n"
      ],
      "execution_count": 6,
      "outputs": []
    },
    {
      "cell_type": "markdown",
      "metadata": {
        "id": "lWuiXovN-vsr"
      },
      "source": [
        "Set the random seed. "
      ]
    },
    {
      "cell_type": "code",
      "metadata": {
        "id": "bEDDa8NR-vss"
      },
      "source": [
        "RANDOM_SEED = 412\n",
        "random.seed(RANDOM_SEED)"
      ],
      "execution_count": 7,
      "outputs": []
    },
    {
      "cell_type": "markdown",
      "metadata": {
        "id": "jpoMMpV8-vss"
      },
      "source": [
        "GP-Specific constants."
      ]
    },
    {
      "cell_type": "code",
      "metadata": {
        "id": "Qobbjp8e-vss"
      },
      "source": [
        "MIN_TREE_HEIGHT = 3\n",
        "MAX_TREE_HEIGHT = 5\n",
        "LIMIT_TREE_HEIGHT = 17\n",
        "MUT_MIN_TREE_HEIGHT = 0\n",
        "MUT_MAX_TREE_HEIGHT = 2"
      ],
      "execution_count": 8,
      "outputs": []
    },
    {
      "cell_type": "markdown",
      "metadata": {
        "id": "4IIrISgN-vst"
      },
      "source": [
        "Read in the data."
      ]
    },
    {
      "cell_type": "code",
      "metadata": {
        "id": "cHjEIFel-vst"
      },
      "source": [
        "with open(\"randomData.csv\") as symbRegData:\n",
        "    n_rows = sum(1 for line in symbRegData)\n",
        "with open(\"randomData.csv\") as symbRegData:\n",
        "    reader = csv.reader(symbRegData)\n",
        "    data = list(list(float(elem) for elem in row) for row in reader)"
      ],
      "execution_count": 14,
      "outputs": []
    },
    {
      "cell_type": "markdown",
      "metadata": {
        "id": "aJfurX7u-vst"
      },
      "source": [
        "Define our fitness function."
      ]
    },
    {
      "cell_type": "code",
      "metadata": {
        "id": "B1nTzpHr-vsu"
      },
      "source": [
        "def evalSymbReg(individual):\n",
        "    # Transform the tree expression in a callable function\n",
        "    func = toolbox.compile(expr=individual)\n",
        "    # Evaluate the sum of squared difference between the expression and the target values\n",
        "    diff = sum((func(*row[:-1]) - row[-1])**2 for row in data)\n",
        "    error = diff/n_rows\n",
        "    if (error>10):\n",
        "        error=10\n",
        "    #return error, individual.height\n",
        "    nodes, edges, labels = gp.graph(individual)\n",
        "    return error, len(nodes)"
      ],
      "execution_count": 15,
      "outputs": []
    },
    {
      "cell_type": "markdown",
      "metadata": {
        "id": "sMWEFcTw-vsu"
      },
      "source": [
        "Define a protected division function."
      ]
    },
    {
      "cell_type": "code",
      "metadata": {
        "id": "-wbqeCpr-vsu"
      },
      "source": [
        "def protectedDiv(left, right):\n",
        "    try:\n",
        "        return left / right\n",
        "    except ZeroDivisionError:\n",
        "        return 1"
      ],
      "execution_count": 16,
      "outputs": []
    },
    {
      "cell_type": "markdown",
      "metadata": {
        "id": "lfHo4vyS-vsv"
      },
      "source": [
        "Add our functions and terminals. "
      ]
    },
    {
      "cell_type": "code",
      "metadata": {
        "id": "U5zwpnm2-vsv"
      },
      "source": [
        "pset = gp.PrimitiveSet(\"MAIN\", 5) # number of inputs!!!\n",
        "pset.addPrimitive(operator.add, 2)\n",
        "pset.addPrimitive(operator.sub, 2)\n",
        "pset.addPrimitive(operator.mul, 2)\n",
        "pset.addPrimitive(protectedDiv, 2)\n",
        "pset.addPrimitive(operator.neg, 1)\n",
        "pset.addPrimitive(math.cos, 1)\n",
        "pset.addPrimitive(math.sin, 1)\n",
        "pset.addEphemeralConstant(\"rand101\", lambda: random.random())\n"
      ],
      "execution_count": 17,
      "outputs": []
    },
    {
      "cell_type": "markdown",
      "metadata": {
        "id": "R92Wz4PX-vsv"
      },
      "source": [
        "Create our toolbox. "
      ]
    },
    {
      "cell_type": "code",
      "metadata": {
        "id": "XiPJGFzt-vsw"
      },
      "source": [
        "toolbox = base.Toolbox()\n",
        "\n",
        "creator.create(\"FitnessMin\", base.Fitness, weights=(-1.0,-1.0))\n",
        "creator.create(\"Individual\", gp.PrimitiveTree, fitness=creator.FitnessMin)\n",
        "\n",
        "toolbox.register(\"expr\", gp.genHalfAndHalf, pset=pset, min_=1, max_=2)\n",
        "toolbox.register(\"individual\", tools.initIterate, creator.Individual, toolbox.expr)\n",
        "toolbox.register(\"population\", tools.initRepeat, list, toolbox.individual)\n",
        "toolbox.register(\"compile\", gp.compile, pset=pset)\n",
        "\n",
        "toolbox.register(\"evaluate\", evalSymbReg)\n",
        "#toolbox.register(\"select\", tools.selNSGA2)\n",
        "toolbox.register(\"select\", tools.selTournament, tournsize=5)\n",
        "\n",
        "toolbox.register(\"mate\", gp.cxOnePoint)\n",
        "toolbox.register(\"expr_mut\", gp.genFull, min_=0, max_=5)\n",
        "toolbox.register(\"mutate\", gp.mutUniform, expr=toolbox.expr_mut, pset=pset)\n",
        "\n",
        "toolbox.decorate(\"mate\", gp.staticLimit(key=operator.attrgetter(\"height\"), max_value=17))\n",
        "toolbox.decorate(\"mutate\", gp.staticLimit(key=operator.attrgetter(\"height\"), max_value=17))"
      ],
      "execution_count": 18,
      "outputs": []
    },
    {
      "cell_type": "markdown",
      "metadata": {
        "id": "cvYxj8vh-vsw"
      },
      "source": [
        "Create our statistics. These are a bit more complex than the GA ones because we want to keep track of fitness and size for all runs."
      ]
    },
    {
      "cell_type": "code",
      "metadata": {
        "id": "8YoiFtZ2-vsw"
      },
      "source": [
        "maxListFitness = []\n",
        "avgListFitness = []\n",
        "minListFitness = []\n",
        "stdListFitness = []\n",
        "\n",
        "maxListSize = []\n",
        "avgListSize = []\n",
        "minListSize = []\n",
        "stdListSize = []"
      ],
      "execution_count": 19,
      "outputs": []
    },
    {
      "cell_type": "markdown",
      "metadata": {
        "id": "YAtDweow-vsx"
      },
      "source": [
        "Now the magic happens and we run **N_RUNS** times. Always start with a small number of runs and generations to make sure that everything is working properly before you commit to a larger number. That way, if something goes horribly wrong, Python won't replicate it 30 times before giving you back control!"
      ]
    },
    {
      "cell_type": "code",
      "metadata": {
        "id": "cQGQC-XJ-vsx",
        "colab": {
          "base_uri": "https://localhost:8080/"
        },
        "outputId": "e7cb4c1b-21cc-4067-ab85-c3ccccf307c1"
      },
      "source": [
        "for r in range(0, N_RUNS):\n",
        "    population = toolbox.population(n=POPULATION_SIZE)\n",
        "    # define the hall-of-fame object:\n",
        "    hof = tools.HallOfFame(HALL_OF_FAME_SIZE)   \n",
        "\n",
        "\n",
        "    # Create our statistics\n",
        "    stats_fit = tools.Statistics(lambda ind: ind.fitness.values)\n",
        "    stats_size = tools.Statistics(len)\n",
        "    mstats = tools.MultiStatistics(fitness=stats_fit, size=stats_size)\n",
        "    mstats.register(\"avg\", numpy.mean)\n",
        "    mstats.register(\"std\", numpy.std)\n",
        "    mstats.register(\"min\", numpy.min)\n",
        "    mstats.register(\"max\", numpy.max)\n",
        "    \n",
        "    \n",
        "    # Which run are we on?\n",
        "    print(\"\\n\\nCurrently on run\", r, \"of\",N_RUNS)\n",
        "    \n",
        "    \n",
        "    # It's usually a good idea to turn off verbose when conducting multiple runs\n",
        "    population, logbook = algorithms.eaSimple(population,\n",
        "                                                  toolbox,\n",
        "                                                  cxpb=P_CROSSOVER,\n",
        "                                                  mutpb=P_MUTATION,\n",
        "                                                  ngen=MAX_GENERATIONS,\n",
        "                                                  stats=mstats,\n",
        "                                                  halloffame=hof,\n",
        "                                                  verbose=False)\n",
        "    \n",
        "    #maxFitnessValues, meanFitnessValues = logbook.chapters['fitness'].select(\"min\", \"avg\")\n",
        "    meanFitnessValues, stdFitnessValues, minFitnessValues, maxFitnessValues  = logbook.chapters['fitness'].select(\"avg\", \"std\", \"min\", \"max\")\n",
        "    meanSizeValues, stdSizeValues, minSizeValues, maxSizeValues  = logbook.chapters['size'].select(\"avg\", \"std\", \"min\", \"max\")\n",
        "\n",
        "\n",
        "    # Save statistics for this run:\n",
        "    avgListFitness.append(meanFitnessValues)\n",
        "    stdListFitness.append(stdFitnessValues)\n",
        "    minListFitness.append(minFitnessValues)\n",
        "    maxListFitness.append(maxFitnessValues)\n",
        "    \n",
        "    avgListSize.append(meanSizeValues)\n",
        "    stdListSize.append(stdSizeValues)\n",
        "    minListSize.append(minSizeValues)\n",
        "    maxListSize.append(maxSizeValues)\n",
        "\n",
        "    # print info for best solution found:\n",
        "    best = hof.items[0]\n",
        "    print(\"-- Best Individual = \", best)\n",
        "    print(\"-- length={}, height={}\".format(len(best), best.height))\n",
        "    print(\"-- Best Fitness = \", best.fitness.values[0])\n",
        "\n"
      ],
      "execution_count": 20,
      "outputs": [
        {
          "output_type": "stream",
          "name": "stdout",
          "text": [
            "\n",
            "\n",
            "Currently on run 0 of 2\n",
            "-- Best Individual =  protectedDiv(ARG0, 0.7089290380529948)\n",
            "-- length=3, height=1\n",
            "-- Best Fitness =  0.1121353026506795\n",
            "\n",
            "\n",
            "Currently on run 1 of 2\n",
            "-- Best Individual =  cos(cos(add(sub(add(ARG0, ARG1), protectedDiv(ARG1, cos(sin(cos(add(sub(ARG1, ARG1), ARG1)))))), sin(mul(add(sin(sub(add(ARG0, ARG1), protectedDiv(add(sub(ARG1, ARG1), ARG1), cos(sin(cos(add(sub(neg(ARG4), ARG1), ARG1))))))), ARG1), mul(add(sin(sub(add(ARG0, ARG1), protectedDiv(ARG1, cos(sin(cos(add(ARG1, sub(add(ARG0, ARG1), ARG0)))))))), ARG1), ARG2))))))\n",
            "-- length=62, height=16\n",
            "-- Best Fitness =  0.09751538961932724\n"
          ]
        }
      ]
    },
    {
      "cell_type": "markdown",
      "metadata": {
        "id": "1iNO1aSl-vsz"
      },
      "source": [
        "Create our graphs using the averages across all the runs. Notice how we use standard deviation to show how much variation there is in the runs. \n",
        "\n",
        "Notice that if there's a big discrepancy between best and average the graphs can look like there's virtually no variation in the best score. If this happens, the first thing to do is verify if that is actually happening; you can do that by commenting out this line:\n",
        "\n",
        "**plt.errorbar(x, avgArray.mean(0), yerr=stdArray.mean(0),label=\"Average\",color=\"Red\")**"
      ]
    },
    {
      "cell_type": "code",
      "metadata": {
        "scrolled": true,
        "id": "I9pkkX0y-vsz",
        "colab": {
          "base_uri": "https://localhost:8080/",
          "height": 295
        },
        "outputId": "5ec5f626-e852-496a-9fee-23a06639e7cd"
      },
      "source": [
        "# Genetic Programming is done (all runs) - plot statistics:\n",
        "x = numpy.arange(0, MAX_GENERATIONS+1)\n",
        "avgArray = numpy.array(avgListFitness)\n",
        "stdArray = numpy.array(stdListFitness)\n",
        "minArray = numpy.array(minListFitness)\n",
        "maxArray = numpy.array(maxListFitness)\n",
        "plt.xlabel('Generation')\n",
        "plt.ylabel('Fitness')\n",
        "plt.title('Best and Average Fitness for Symbolic Regression')\n",
        "#plt.errorbar(x, avgArray.mean(0), yerr=stdArray.mean(0),label=\"Average\",color=\"Red\")\n",
        "plt.errorbar(x, minArray.mean(0), yerr=minArray.std(0),label=\"Best\", color=\"Green\")\n",
        "plt.show()"
      ],
      "execution_count": 21,
      "outputs": [
        {
          "output_type": "display_data",
          "data": {
            "image/png": "[encoded data removed]",
            "text/plain": [
              "<Figure size 432x288 with 1 Axes>"
            ]
          },
          "metadata": {
            "needs_background": "light"
          }
        }
      ]
    },
    {
      "cell_type": "markdown",
      "metadata": {
        "id": "exs0WZOL-vs0"
      },
      "source": [
        "Show the graph for size."
      ]
    },
    {
      "cell_type": "code",
      "metadata": {
        "id": "FPyIX7JT-vs0",
        "colab": {
          "base_uri": "https://localhost:8080/",
          "height": 295
        },
        "outputId": "cbb2ad31-1a4d-4a31-9a8e-8cb38c56cf5f"
      },
      "source": [
        "# Genetic Programming is done (all runs) - plot statistics:\n",
        "x = numpy.arange(0, MAX_GENERATIONS+1)\n",
        "avgArray = numpy.array(avgListSize)\n",
        "stdArray = numpy.array(stdListSize)\n",
        "minArray = numpy.array(minListSize)\n",
        "maxArray = numpy.array(maxListSize)\n",
        "plt.xlabel('Generation')\n",
        "plt.ylabel('Size')\n",
        "plt.title('Best and Average Size for Symbolic Regression')\n",
        "plt.errorbar(x, avgArray.mean(0), yerr=stdArray.mean(0),label=\"Average\",color=\"Red\")\n",
        "plt.errorbar(x, minArray.mean(0), yerr=minArray.std(0),label=\"Best\", color=\"Blue\")\n",
        "plt.show()"
      ],
      "execution_count": 22,
      "outputs": [
        {
          "output_type": "display_data",
          "data": {
            "image/png": "[encoded data removed]",
            "text/plain": [
              "<Figure size 432x288 with 1 Axes>"
            ]
          },
          "metadata": {
            "needs_background": "light"
          }
        }
      ]
    },
    {
      "cell_type": "code",
      "metadata": {
        "colab": {
          "base_uri": "https://localhost:8080/",
          "height": 37
        },
        "id": "9BPziL80G4ab",
        "outputId": "ba363581-3fba-47a4-9f08-e52dbee67120"
      },
      "source": [
        "pwd"
      ],
      "execution_count": 23,
      "outputs": [
        {
          "output_type": "execute_result",
          "data": {
            "application/vnd.google.colaboratory.intrinsic+json": {
              "type": "string"
            },
            "text/plain": [
              "'/content/CS6271/Notebooks/data'"
            ]
          },
          "metadata": {},
          "execution_count": 23
        }
      ]
    },
    {
      "cell_type": "code",
      "metadata": {
        "colab": {
          "base_uri": "https://localhost:8080/"
        },
        "id": "pwgb0ogrHE2O",
        "outputId": "82f4b80c-e303-44cd-f7d7-f54dae0a6ee0"
      },
      "source": [
        "cd ..\n"
      ],
      "execution_count": 24,
      "outputs": [
        {
          "output_type": "stream",
          "name": "stdout",
          "text": [
            "/content/CS6271/Notebooks\n"
          ]
        }
      ]
    },
    {
      "cell_type": "code",
      "metadata": {
        "colab": {
          "base_uri": "https://localhost:8080/"
        },
        "id": "C2YEhGYtHGPQ",
        "outputId": "d968868c-04bd-41ea-f9e7-5e4e65303e2e"
      },
      "source": [
        "cd ..\n"
      ],
      "execution_count": 25,
      "outputs": [
        {
          "output_type": "stream",
          "name": "stdout",
          "text": [
            "/content/CS6271\n"
          ]
        }
      ]
    },
    {
      "cell_type": "code",
      "metadata": {
        "colab": {
          "base_uri": "https://localhost:8080/"
        },
        "id": "x4jTm7xpHG-m",
        "outputId": "9c930721-3219-4130-cdd1-e0cc893c33b1"
      },
      "source": [
        "ls GP*\n"
      ],
      "execution_count": 26,
      "outputs": [
        {
          "output_type": "stream",
          "name": "stdout",
          "text": [
            "ls: cannot access 'GP*': No such file or directory\n"
          ]
        }
      ]
    },
    {
      "cell_type": "code",
      "metadata": {
        "colab": {
          "base_uri": "https://localhost:8080/"
        },
        "id": "LWjCN41THIzW",
        "outputId": "349bd45d-7447-4d60-bd9f-da838049ed13"
      },
      "source": [
        "cd Notebooks/"
      ],
      "execution_count": 27,
      "outputs": [
        {
          "output_type": "stream",
          "name": "stdout",
          "text": [
            "/content/CS6271/Notebooks\n"
          ]
        }
      ]
    },
    {
      "cell_type": "code",
      "metadata": {
        "colab": {
          "base_uri": "https://localhost:8080/"
        },
        "id": "cvKCp-TuHKbK",
        "outputId": "d3a1bf5f-ea79-4ddb-93a3-bc6031bb1c94"
      },
      "source": [
        "ls GP*"
      ],
      "execution_count": 28,
      "outputs": [
        {
          "output_type": "stream",
          "name": "stdout",
          "text": [
            "'GP Applied to classification (multiple runs + elitism).ipynb'\n",
            "'GP Multiple runs on an arbitrary Symbolic Regression Problem.ipynb'\n",
            "'GP Multiple runs on an arbitrary Symbolic Regression Problem With Elitism.ipynb'\n",
            "'GP with multiple runs (even-parity problem).ipynb'\n",
            "'GP With NSGA II.ipynb'\n"
          ]
        }
      ]
    },
    {
      "cell_type": "code",
      "metadata": {
        "colab": {
          "base_uri": "https://localhost:8080/",
          "height": 37
        },
        "id": "4BqpVoHfHLaN",
        "outputId": "6449402a-a5d5-4a64-87c8-f8a14c34d530"
      },
      "source": [
        "pwd"
      ],
      "execution_count": 29,
      "outputs": [
        {
          "output_type": "execute_result",
          "data": {
            "application/vnd.google.colaboratory.intrinsic+json": {
              "type": "string"
            },
            "text/plain": [
              "'/content/CS6271/Notebooks'"
            ]
          },
          "metadata": {},
          "execution_count": 29
        }
      ]
    },
    {
      "cell_type": "code",
      "metadata": {
        "id": "vIJo5jiHIKg8"
      },
      "source": [
        ""
      ],
      "execution_count": null,
      "outputs": []
    }
  ]
}