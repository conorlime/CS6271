{
  "nbformat": 4,
  "nbformat_minor": 0,
  "metadata": {
    "kernelspec": {
      "display_name": "Python 3",
      "language": "python",
      "name": "python3"
    },
    "language_info": {
      "codemirror_mode": {
        "name": "ipython",
        "version": 3
      },
      "file_extension": ".py",
      "mimetype": "text/x-python",
      "name": "python",
      "nbconvert_exporter": "python",
      "pygments_lexer": "ipython3",
      "version": "3.8.3"
    },
    "colab": {
      "provenance": []
    }
  },
  "cells": [
    {
      "cell_type": "markdown",
      "metadata": {
        "id": "view-in-github"
      },
      "source": [
        "<a href=\"https://colab.research.google.com/github/conorlime/CS6271/blob/main/GP%20Applied%20to%20classification%20(multiple%20runs%20%2B%20elitism).ipynb\" target=\"_parent\"><img src=\"https://colab.research.google.com/assets/colab-badge.svg\" alt=\"Open In Colab\"/></a>"
      ]
    },
    {
      "cell_type": "markdown",
      "metadata": {
        "id": "KY6nYdtPQBc6"
      },
      "source": [
        "# GP Multiple runs on an arbitrary Classification Problem."
      ]
    },
    {
      "cell_type": "markdown",
      "metadata": {
        "id": "kHr0aCVDQBc7"
      },
      "source": [
        "In this notebook we tackle classification with GP. It isn't that straightforward to create a notebook that is general enough to be applied to an classification problem as some will have different types. For now, we're going to focus on binary classification with numeric types, and will look at mixed types when we move to Grammatical Evolution."
      ]
    },
    {
      "cell_type": "code",
      "metadata": {
        "colab": {
          "base_uri": "https://localhost:8080/",
          "height": 17
        },
        "id": "5ZN_DCCOQBc7",
        "outputId": "7b4065bf-4f83-4157-ef5c-63c9099036e9"
      },
      "source": [
        "from IPython.core.display import display, HTML\n",
        "display(HTML(\"<style>.container { width:100% !important; }</style>\"))\n"
      ],
      "execution_count": 1,
      "outputs": [
        {
          "output_type": "display_data",
          "data": {
            "text/plain": [
              "<IPython.core.display.HTML object>"
            ],
            "text/html": [
              "<style>.container { width:100% !important; }</style>"
            ]
          },
          "metadata": {}
        }
      ]
    },
    {
      "cell_type": "markdown",
      "metadata": {
        "id": "FnxRtJe0QBc8"
      },
      "source": [
        "Install DEAP."
      ]
    },
    {
      "cell_type": "code",
      "metadata": {
        "colab": {
          "base_uri": "https://localhost:8080/"
        },
        "id": "F0cL4TJaQBc8",
        "outputId": "dfd4fb7f-7128-4e7e-d5ca-c24a70e029d4"
      },
      "source": [
        "!pip install deap==1.3.1"
      ],
      "execution_count": 2,
      "outputs": [
        {
          "output_type": "stream",
          "name": "stdout",
          "text": [
            "Requirement already satisfied: deap==1.3.1 in /usr/local/lib/python3.10/dist-packages (1.3.1)\n",
            "Requirement already satisfied: numpy in /usr/local/lib/python3.10/dist-packages (from deap==1.3.1) (1.26.4)\n"
          ]
        }
      ]
    },
    {
      "cell_type": "markdown",
      "metadata": {
        "id": "Fbwx74bsEKjl"
      },
      "source": [
        "Mount our folder."
      ]
    },
    {
      "cell_type": "code",
      "metadata": {
        "id": "bj4JuDiyEXtf",
        "colab": {
          "base_uri": "https://localhost:8080/"
        },
        "outputId": "285dd427-d721-4efd-cee3-17aaf61dc2a0"
      },
      "source": [
        "from google.colab import drive\n",
        "drive.mount('/content/drive', force_remount=True)"
      ],
      "execution_count": 3,
      "outputs": [
        {
          "output_type": "stream",
          "name": "stdout",
          "text": [
            "Mounted at /content/drive\n"
          ]
        }
      ]
    },
    {
      "cell_type": "markdown",
      "metadata": {
        "id": "WSS-hNz7Er4o"
      },
      "source": [
        "Clone the class repository."
      ]
    },
    {
      "cell_type": "code",
      "metadata": {
        "colab": {
          "base_uri": "https://localhost:8080/"
        },
        "id": "JbZZ7keoE1og",
        "outputId": "785b412d-00b5-4c24-b71a-f34704132505"
      },
      "source": [
        "!git clone https://github.com/conorlime/CS6271"
      ],
      "execution_count": 4,
      "outputs": [
        {
          "output_type": "stream",
          "name": "stdout",
          "text": [
            "fatal: destination path 'CS6271' already exists and is not an empty directory.\n"
          ]
        }
      ]
    },
    {
      "cell_type": "markdown",
      "metadata": {
        "id": "BxnMLW6YQstp"
      },
      "source": [
        "Navigate to the Utilities folder."
      ]
    },
    {
      "cell_type": "code",
      "metadata": {
        "colab": {
          "base_uri": "https://localhost:8080/"
        },
        "id": "R7zKnPWhQvkk",
        "outputId": "0f5a63a6-ca1b-496a-871d-e87d3d44ca21"
      },
      "source": [
        "cd CS6271/Utilities/"
      ],
      "execution_count": 5,
      "outputs": [
        {
          "output_type": "stream",
          "name": "stdout",
          "text": [
            "/content/CS6271/Utilities\n"
          ]
        }
      ]
    },
    {
      "cell_type": "markdown",
      "metadata": {
        "id": "KcEiEEUJQBc9"
      },
      "source": [
        "Import our tools."
      ]
    },
    {
      "cell_type": "code",
      "metadata": {
        "id": "70NFY3DyQBc9"
      },
      "source": [
        "import random\n",
        "import operator\n",
        "import csv\n",
        "import itertools\n",
        "import math\n",
        "\n",
        "import numpy\n",
        "\n",
        "from deap import algorithms\n",
        "from deap import base\n",
        "from deap import creator\n",
        "from deap import tools\n",
        "from deap import gp\n",
        "\n",
        "import csv\n",
        "from elitism import eaSimpleWithElitism\n",
        "\n",
        "\n",
        "import matplotlib.pyplot as plt\n",
        "\n",
        "import networkx as nx\n",
        "\n"
      ],
      "execution_count": 6,
      "outputs": []
    },
    {
      "cell_type": "markdown",
      "metadata": {
        "id": "eJUkncMGQBc-"
      },
      "source": [
        "Set our Genetic Programming parameters, including the number of runs."
      ]
    },
    {
      "cell_type": "code",
      "metadata": {
        "id": "jZeJFe7_QBc-"
      },
      "source": [
        "# Genetic Programming constants:\n",
        "POPULATION_SIZE = 200\n",
        "P_CROSSOVER = 0.9\n",
        "P_MUTATION = 0.01\n",
        "MAX_GENERATIONS = 50\n",
        "HALL_OF_FAME_SIZE = 10\n",
        "\n",
        "N_RUNS = 2\n",
        "\n",
        "\n"
      ],
      "execution_count": 7,
      "outputs": []
    },
    {
      "cell_type": "markdown",
      "metadata": {
        "id": "lCuJt5xxQBc-"
      },
      "source": [
        "Set the random seed."
      ]
    },
    {
      "cell_type": "code",
      "metadata": {
        "id": "5Pbw7QH-QBc_"
      },
      "source": [
        "RANDOM_SEED = 412\n",
        "random.seed(RANDOM_SEED)"
      ],
      "execution_count": 8,
      "outputs": []
    },
    {
      "cell_type": "markdown",
      "metadata": {
        "id": "loj7GeSDQBc_"
      },
      "source": [
        "GP-Specific constants."
      ]
    },
    {
      "cell_type": "code",
      "metadata": {
        "id": "Nt55EYesQBc_"
      },
      "source": [
        "MIN_TREE_HEIGHT = 5\n",
        "MAX_TREE_HEIGHT = 12\n",
        "LIMIT_TREE_HEIGHT = 17\n",
        "MUT_MIN_TREE_HEIGHT = 0\n",
        "MUT_MAX_TREE_HEIGHT = 2"
      ],
      "execution_count": 9,
      "outputs": []
    },
    {
      "cell_type": "markdown",
      "metadata": {
        "id": "AkRDVP6TQBdA"
      },
      "source": [
        "Read in the data."
      ]
    },
    {
      "cell_type": "code",
      "metadata": {
        "id": "wVK0buegQBdA"
      },
      "source": [
        "with open(\"../data/spambase.csv\") as classificationData:\n",
        "    n_rows = sum(1 for line in classificationData)\n",
        "with open(\"../data/spambase.csv\") as classificationData:\n",
        "    reader = csv.reader(classificationData)\n",
        "    data = list(list(float(elem) for elem in row) for row in reader)"
      ],
      "execution_count": 10,
      "outputs": []
    },
    {
      "cell_type": "markdown",
      "metadata": {
        "id": "cOOmVaLaQBdA"
      },
      "source": [
        "This is a helpful function to turn numeric values into Boolean. We're going to assume that a value greater than 0 is **True** and anything else is **False**. Note that that the standard **bool** function only returns False if the value passed is zero; this is not what we want as it will bias the results to True (because it is more likely that individuals will return a number other than zero than zero itself)."
      ]
    },
    {
      "cell_type": "code",
      "metadata": {
        "id": "dCm8et2NQBdB"
      },
      "source": [
        "def turnBool(pred):\n",
        "    return (pred>0)"
      ],
      "execution_count": 11,
      "outputs": []
    },
    {
      "cell_type": "markdown",
      "metadata": {
        "id": "RXl7kS1RQBdB"
      },
      "source": [
        "Define our fitness function. This time there's an extra step. First we get all our predictions, which will be in numeric form, then we convert them to Boolean, and only then do we evaluate the fitness.\n",
        "\n",
        "Notice that it is safe to use **bool** on the data because we can be confident that all those numbers are either 1 or 0."
      ]
    },
    {
      "cell_type": "code",
      "metadata": {
        "id": "7vZRe1K0QBdB"
      },
      "source": [
        "def evalClassification(individual):\n",
        "    # Transform the tree expression in a callable function\n",
        "    func = toolbox.compile(expr=individual)\n",
        "    #predictions = map(func,data)\n",
        "    spam_samp = random.sample(data, 400)\n",
        "    result = sum(turnBool(func(*mail[:57])) is bool(mail[57]) for mail in spam_samp)\n",
        "\n",
        "    nodes, edges, labels = gp.graph(individual)\n",
        "    return result, #len(nodes)"
      ],
      "execution_count": 12,
      "outputs": []
    },
    {
      "cell_type": "markdown",
      "metadata": {
        "id": "4s_tX-UMQBdB"
      },
      "source": [
        "Define a protected division function."
      ]
    },
    {
      "cell_type": "code",
      "metadata": {
        "id": "gMuMiLSMQBdC"
      },
      "source": [
        "def protectedDiv(left, right):\n",
        "    try:\n",
        "        return left / right\n",
        "    except ZeroDivisionError:\n",
        "        return 1"
      ],
      "execution_count": 13,
      "outputs": []
    },
    {
      "cell_type": "markdown",
      "metadata": {
        "id": "Jg1WDisaQBdC"
      },
      "source": [
        "Add our functions and terminals."
      ]
    },
    {
      "cell_type": "code",
      "metadata": {
        "id": "_piCJXINQBdC"
      },
      "source": [
        "pset = gp.PrimitiveSet(\"MAIN\", 57) # number of inputs!!!\n",
        "pset.addPrimitive(operator.add, 2)\n",
        "pset.addPrimitive(operator.sub, 2)\n",
        "pset.addPrimitive(operator.mul, 2)\n",
        "pset.addPrimitive(protectedDiv, 2)\n",
        "pset.addPrimitive(operator.neg, 1)\n",
        "\n",
        "pset.addEphemeralConstant(\"rand101\", lambda: random.random())\n"
      ],
      "execution_count": 14,
      "outputs": []
    },
    {
      "cell_type": "markdown",
      "metadata": {
        "id": "IcxFHFhdQBdC"
      },
      "source": [
        "Create our toolbox. This is very similar to the Symbolic Regression notebook except we are using the parameters declared up above."
      ]
    },
    {
      "cell_type": "code",
      "metadata": {
        "id": "EYVFDMNIQBdD"
      },
      "source": [
        "toolbox = base.Toolbox()\n",
        "\n",
        "#creator.create(\"FitnessMin\", base.Fitness, weights=(-1.0,-1.0))\n",
        "#creator.create(\"Individual\", gp.PrimitiveTree, fitness=creator.FitnessMin)\n",
        "\n",
        "creator.create(\"FitnessMax\", base.Fitness, weights=(1.0,))\n",
        "creator.create(\"Individual\", gp.PrimitiveTree, fitness=creator.FitnessMax)\n",
        "\n",
        "\n",
        "toolbox.register(\"expr\", gp.genHalfAndHalf, pset=pset, min_=MIN_TREE_HEIGHT, max_=MAX_TREE_HEIGHT)\n",
        "toolbox.register(\"individual\", tools.initIterate, creator.Individual, toolbox.expr)\n",
        "toolbox.register(\"population\", tools.initRepeat, list, toolbox.individual)\n",
        "toolbox.register(\"compile\", gp.compile, pset=pset)\n",
        "\n",
        "toolbox.register(\"evaluate\", evalClassification)\n",
        "#toolbox.register(\"select\", tools.selNSGA2)\n",
        "toolbox.register(\"select\", tools.selTournament, tournsize=5)\n",
        "\n",
        "toolbox.register(\"mate\", gp.cxOnePoint)\n",
        "toolbox.register(\"expr_mut\", gp.genFull, min_=0, max_=5)\n",
        "toolbox.register(\"mutate\", gp.mutUniform, expr=toolbox.expr_mut, pset=pset)\n",
        "\n",
        "toolbox.decorate(\"mate\", gp.staticLimit(key=operator.attrgetter(\"height\"), max_value=17))\n",
        "toolbox.decorate(\"mutate\", gp.staticLimit(key=operator.attrgetter(\"height\"), max_value=17))"
      ],
      "execution_count": 15,
      "outputs": []
    },
    {
      "cell_type": "markdown",
      "metadata": {
        "id": "mfm1kdz0QBdD"
      },
      "source": [
        "Create our statistics."
      ]
    },
    {
      "cell_type": "code",
      "metadata": {
        "id": "vFZC-iUeQBdE"
      },
      "source": [
        "maxListFitness = []\n",
        "avgListFitness = []\n",
        "minListFitness = []\n",
        "stdListFitness = []\n",
        "\n",
        "maxListSize = []\n",
        "avgListSize = []\n",
        "minListSize = []\n",
        "stdListSize = []"
      ],
      "execution_count": 16,
      "outputs": []
    },
    {
      "cell_type": "markdown",
      "metadata": {
        "id": "B4uSwipeQBdE"
      },
      "source": [
        "Conduct **N_RUNS** times."
      ]
    },
    {
      "cell_type": "code",
      "metadata": {
        "colab": {
          "base_uri": "https://localhost:8080/"
        },
        "id": "0FhZl8TgQBdE",
        "outputId": "c544c72d-9374-4775-abb9-7c12176010e8"
      },
      "source": [
        "for r in range(0, N_RUNS):\n",
        "    population = toolbox.population(n=POPULATION_SIZE)\n",
        "    # define the hall-of-fame object:\n",
        "    hof = tools.HallOfFame(HALL_OF_FAME_SIZE)\n",
        "\n",
        "\n",
        "    # Create our statistics\n",
        "    stats_fit = tools.Statistics(lambda ind: ind.fitness.values)\n",
        "    stats_size = tools.Statistics(len)\n",
        "    mstats = tools.MultiStatistics(fitness=stats_fit, size=stats_size)\n",
        "    mstats.register(\"avg\", numpy.mean)\n",
        "    mstats.register(\"std\", numpy.std)\n",
        "    mstats.register(\"min\", numpy.min)\n",
        "    mstats.register(\"max\", numpy.max)\n",
        "\n",
        "\n",
        "    # Which run are we on?\n",
        "    print(\"\\n\\nCurrently on run\", r, \"of\",N_RUNS)\n",
        "\n",
        "\n",
        "    population, logbook = eaSimpleWithElitism(population,\n",
        "                                                  toolbox,\n",
        "                                                  cxpb=P_CROSSOVER,\n",
        "                                                  mutpb=P_MUTATION,\n",
        "                                                  ngen=MAX_GENERATIONS,\n",
        "                                                  stats=mstats,\n",
        "                                                  halloffame=hof)\n",
        "\n",
        "    #maxFitnessValues, meanFitnessValues = logbook.chapters['fitness'].select(\"min\", \"avg\")\n",
        "    meanFitnessValues, stdFitnessValues, minFitnessValues, maxFitnessValues  = logbook.chapters['fitness'].select(\"avg\", \"std\", \"min\", \"max\")\n",
        "    meanSizeValues, stdSizeValues, minSizeValues, maxSizeValues  = logbook.chapters['size'].select(\"avg\", \"std\", \"min\", \"max\")\n",
        "\n",
        "\n",
        "    # Save statistics for this run:\n",
        "    avgListFitness.append(meanFitnessValues)\n",
        "    stdListFitness.append(stdFitnessValues)\n",
        "    minListFitness.append(minFitnessValues)\n",
        "    maxListFitness.append(maxFitnessValues)\n",
        "\n",
        "    avgListSize.append(meanSizeValues)\n",
        "    stdListSize.append(stdSizeValues)\n",
        "    minListSize.append(minSizeValues)\n",
        "    maxListSize.append(maxSizeValues)\n",
        "\n",
        "    # print info for best solution found:\n",
        "    best = hof.items[0]\n",
        "    print(\"-- Best Individual = \", best)\n",
        "    print(\"-- length={}, height={}\".format(len(best), best.height))\n",
        "    print(\"-- Best Fitness = \", best.fitness.values[0])\n",
        "\n",
        "\n"
      ],
      "execution_count": 17,
      "outputs": [
        {
          "output_type": "stream",
          "name": "stdout",
          "text": [
            "\n",
            "\n",
            "Currently on run 0 of 2\n",
            "   \t      \t                    fitness                    \t                      size                     \n",
            "   \t      \t-----------------------------------------------\t-----------------------------------------------\n",
            "gen\tnevals\tavg    \tgen\tmax\tmin\tnevals\tstd    \tavg    \tgen\tmax \tmin\tnevals\tstd    \n",
            "0  \t200   \t209.235\t0  \t313\t98 \t200   \t43.1395\t415.095\t0  \t4325\t12 \t200   \t775.622\n",
            "1  \t182   \t252.68 \t1  \t335\t168\t182   \t23.6042\t197.695\t1  \t3468\t8  \t182   \t494.988\n",
            "2  \t166   \t266.43 \t2  \t335\t135\t166   \t34.2034\t161.755\t2  \t3459\t4  \t166   \t448.433\n",
            "3  \t170   \t290.825\t3  \t349\t138\t170   \t34.4001\t61.305 \t3  \t564 \t10 \t170   \t52.9544\n",
            "4  \t170   \t307.65 \t4  \t349\t128\t170   \t31.4803\t59.51  \t4  \t102 \t22 \t170   \t13.4261\n",
            "5  \t174   \t316.765\t5  \t349\t199\t174   \t26.1616\t65.505 \t5  \t112 \t25 \t174   \t15.1944\n",
            "6  \t164   \t317.425\t6  \t349\t170\t164   \t29.8864\t68.735 \t6  \t120 \t46 \t164   \t12.0468\n",
            "7  \t168   \t320.585\t7  \t349\t198\t168   \t26.6933\t69.945 \t7  \t120 \t40 \t168   \t13.1226\n",
            "8  \t164   \t320.925\t8  \t357\t154\t164   \t29.8712\t70.91  \t8  \t119 \t32 \t164   \t14.5004\n",
            "9  \t162   \t323.97 \t9  \t357\t228\t162   \t26.0088\t70.41  \t9  \t125 \t27 \t162   \t15.61  \n",
            "10 \t174   \t323.795\t10 \t357\t167\t174   \t25.6051\t70.1   \t10 \t130 \t25 \t174   \t15.5145\n",
            "11 \t180   \t322.205\t11 \t357\t164\t180   \t28.9888\t70.885 \t11 \t112 \t40 \t180   \t13.1329\n",
            "12 \t168   \t326.42 \t12 \t357\t203\t168   \t26.1768\t68.74  \t12 \t110 \t33 \t168   \t11.6048\n",
            "13 \t163   \t326.275\t13 \t357\t168\t163   \t28.8428\t67.815 \t13 \t106 \t31 \t163   \t10.3436\n",
            "14 \t166   \t329.965\t14 \t357\t205\t166   \t22.8728\t67.46  \t14 \t125 \t18 \t166   \t13.0954\n",
            "15 \t174   \t324.36 \t15 \t362\t153\t174   \t34.4957\t68.57  \t15 \t131 \t11 \t174   \t15.8791\n",
            "16 \t170   \t331.515\t16 \t362\t153\t170   \t27.2075\t70.51  \t16 \t134 \t9  \t170   \t17.6148\n",
            "17 \t168   \t332.14 \t17 \t362\t164\t168   \t27.8424\t73.49  \t17 \t126 \t29 \t168   \t15.5647\n",
            "18 \t166   \t334.97 \t18 \t365\t165\t166   \t25.554 \t73.14  \t18 \t137 \t26 \t166   \t16.4195\n",
            "19 \t162   \t334.5  \t19 \t365\t165\t162   \t30.0353\t72.99  \t19 \t127 \t26 \t162   \t16.6394\n",
            "20 \t168   \t335.955\t20 \t365\t156\t168   \t25.7415\t72.955 \t20 \t134 \t30 \t168   \t17.2428\n",
            "21 \t171   \t333.975\t21 \t365\t149\t171   \t31.5972\t76.39  \t21 \t140 \t7  \t171   \t19.2067\n",
            "22 \t174   \t336.655\t22 \t365\t217\t174   \t24.3445\t75.6   \t22 \t141 \t26 \t174   \t16.6397\n",
            "23 \t181   \t335.555\t23 \t365\t158\t181   \t27.7407\t76.77  \t23 \t155 \t28 \t181   \t19.7835\n",
            "24 \t170   \t337.325\t24 \t365\t216\t170   \t22.6064\t75.71  \t24 \t134 \t28 \t170   \t18.4563\n",
            "25 \t178   \t336.955\t25 \t365\t159\t178   \t27.2307\t78.74  \t25 \t134 \t17 \t178   \t20.5928\n",
            "26 \t172   \t336.95 \t26 \t369\t164\t172   \t31.1828\t82.84  \t26 \t132 \t35 \t172   \t21.3107\n",
            "27 \t172   \t340.665\t27 \t369\t162\t172   \t25.5183\t83.82  \t27 \t149 \t26 \t172   \t22.6914\n",
            "28 \t176   \t337.435\t28 \t369\t173\t176   \t28.8017\t88.84  \t28 \t149 \t30 \t176   \t24.0382\n",
            "29 \t168   \t341.805\t29 \t369\t163\t168   \t25.9757\t89.445 \t29 \t166 \t30 \t168   \t23.713 \n",
            "30 \t172   \t340.655\t30 \t369\t162\t172   \t28.1369\t86.885 \t30 \t141 \t37 \t172   \t22.2767\n",
            "31 \t172   \t344.225\t31 \t369\t238\t172   \t19.5024\t84.61  \t31 \t140 \t39 \t172   \t21.3319\n",
            "32 \t172   \t338.52 \t32 \t369\t160\t172   \t34.218 \t81.615 \t32 \t140 \t21 \t172   \t22.7349\n",
            "33 \t156   \t343.775\t33 \t369\t83 \t156   \t25.4657\t76.665 \t33 \t150 \t9  \t156   \t26.2668\n",
            "34 \t166   \t346.355\t34 \t369\t254\t166   \t16.4408\t78.54  \t34 \t144 \t31 \t166   \t26.7138\n",
            "35 \t166   \t343.905\t35 \t369\t151\t166   \t26.6673\t77.225 \t35 \t144 \t32 \t166   \t27.8473\n",
            "36 \t182   \t339.17 \t36 \t369\t152\t182   \t32.9597\t78.49  \t36 \t166 \t32 \t182   \t27.079 \n",
            "37 \t166   \t342.365\t37 \t369\t154\t166   \t28.2271\t81.175 \t37 \t154 \t32 \t166   \t27.0325\n",
            "38 \t174   \t342.07 \t38 \t371\t150\t174   \t29.7628\t82.195 \t38 \t178 \t23 \t174   \t30.9843\n",
            "39 \t166   \t344.735\t39 \t371\t192\t166   \t21.7618\t87.93  \t39 \t184 \t17 \t166   \t33.2652\n",
            "40 \t174   \t343.42 \t40 \t371\t166\t174   \t27.3321\t89.135 \t40 \t184 \t24 \t174   \t30.8097\n",
            "41 \t170   \t338.895\t41 \t371\t129\t170   \t36.5925\t90.14  \t41 \t182 \t22 \t170   \t32.0518\n",
            "42 \t165   \t345.455\t42 \t371\t192\t165   \t21.7476\t90.705 \t42 \t181 \t3  \t165   \t31.6629\n",
            "43 \t166   \t341.51 \t43 \t371\t154\t166   \t29.4387\t91.45  \t43 \t161 \t24 \t166   \t31.1719\n",
            "44 \t182   \t340.965\t44 \t371\t153\t182   \t27.5409\t88.555 \t44 \t179 \t30 \t182   \t33.0213\n",
            "45 \t168   \t343.05 \t45 \t371\t134\t168   \t28.6007\t81.14  \t45 \t166 \t30 \t168   \t31.652 \n",
            "46 \t162   \t344.7  \t46 \t371\t165\t162   \t27.4044\t83.525 \t46 \t193 \t24 \t162   \t30.3312\n",
            "47 \t156   \t348.325\t47 \t371\t158\t156   \t20.9308\t83.385 \t47 \t154 \t24 \t156   \t27.0721\n",
            "48 \t162   \t346.485\t48 \t371\t234\t162   \t21.0575\t83.4   \t48 \t162 \t22 \t162   \t30.6351\n",
            "49 \t170   \t343.37 \t49 \t371\t141\t170   \t32.0826\t83.905 \t49 \t152 \t22 \t170   \t30.8569\n",
            "50 \t179   \t341.14 \t50 \t371\t156\t179   \t29.415 \t84.32  \t50 \t171 \t17 \t179   \t31.0863\n",
            "-- Best Individual =  sub(add(add(sub(ARG51, protectedDiv(ARG45, ARG20)), mul(protectedDiv(neg(ARG27), sub(neg(mul(ARG50, sub(ARG33, neg(mul(ARG0, ARG48))))), neg(ARG34))), ARG52)), neg(mul(ARG52, ARG24))), protectedDiv(add(sub(protectedDiv(ARG24, ARG51), mul(ARG13, ARG20)), neg(mul(mul(ARG52, ARG52), sub(ARG56, ARG40)))), protectedDiv(mul(mul(ARG52, protectedDiv(ARG24, ARG51)), sub(ARG56, ARG40)), protectedDiv(ARG24, ARG51))))\n",
            "-- length=59, height=11\n",
            "-- Best Fitness =  371.0\n",
            "\n",
            "\n",
            "Currently on run 1 of 2\n",
            "   \t      \t                    fitness                    \t                      size                     \n",
            "   \t      \t-----------------------------------------------\t-----------------------------------------------\n",
            "gen\tnevals\tavg    \tgen\tmax\tmin\tnevals\tstd    \tavg    \tgen\tmax \tmin\tnevals\tstd    \n",
            "0  \t200   \t217.445\t0  \t327\t127\t200   \t42.2366\t359.545\t0  \t3494\t16 \t200   \t686.921\n",
            "1  \t184   \t256.895\t1  \t344\t145\t184   \t36.4774\t164.69 \t1  \t3494\t2  \t184   \t434.721\n",
            "2  \t165   \t283.48 \t2  \t348\t115\t165   \t37.5064\t79.935 \t2  \t2531\t5  \t165   \t187.819\n",
            "3  \t168   \t300.665\t3  \t348\t127\t168   \t46.6298\t66.645 \t3  \t2531\t2  \t168   \t175.332\n",
            "4  \t176   \t320.075\t4  \t348\t149\t176   \t33.132 \t59.89  \t4  \t94  \t7  \t176   \t12.6023\n",
            "5  \t180   \t317.425\t5  \t352\t173\t180   \t36.4087\t60.2   \t5  \t93  \t30 \t180   \t12.1889\n",
            "6  \t178   \t321.395\t6  \t352\t154\t178   \t33.176 \t60.02  \t6  \t116 \t18 \t178   \t16.3524\n",
            "7  \t176   \t315.87 \t7  \t352\t131\t176   \t41.8511\t58.31  \t7  \t105 \t20 \t176   \t16.4589\n",
            "8  \t181   \t313.85 \t8  \t352\t127\t181   \t42.3132\t58.32  \t8  \t119 \t3  \t181   \t16.0327\n",
            "9  \t168   \t318.735\t9  \t352\t74 \t168   \t40.0933\t58.7   \t9  \t115 \t3  \t168   \t15.5387\n",
            "10 \t170   \t323.485\t10 \t352\t144\t170   \t31.183 \t58.51  \t10 \t114 \t23 \t170   \t14.2874\n",
            "11 \t176   \t323.255\t11 \t352\t167\t176   \t30.9985\t55.985 \t11 \t97  \t5  \t176   \t13.1979\n",
            "12 \t164   \t327.26 \t12 \t352\t226\t164   \t22.484 \t54.03  \t12 \t101 \t19 \t164   \t15.2951\n",
            "13 \t176   \t324.03 \t13 \t355\t146\t176   \t32.8782\t57.42  \t13 \t132 \t21 \t176   \t20.7823\n",
            "14 \t173   \t324.635\t14 \t355\t88 \t173   \t33.9077\t58.65  \t14 \t123 \t14 \t173   \t21.0527\n",
            "15 \t164   \t326.145\t15 \t355\t145\t164   \t31.7488\t57.25  \t15 \t147 \t14 \t164   \t24.1404\n",
            "16 \t171   \t322.81 \t16 \t355\t128\t171   \t34.5442\t59.19  \t16 \t149 \t21 \t171   \t23.6652\n",
            "17 \t169   \t326.18 \t17 \t358\t118\t169   \t32.6237\t63.755 \t17 \t161 \t19 \t169   \t23.7545\n",
            "18 \t171   \t325.32 \t18 \t358\t162\t171   \t33.2171\t64.455 \t18 \t181 \t14 \t171   \t25.2505\n",
            "19 \t178   \t326.505\t19 \t358\t202\t178   \t27.8146\t65.115 \t19 \t118 \t25 \t178   \t24.2475\n",
            "20 \t174   \t326.29 \t20 \t358\t152\t174   \t32.718 \t67.645 \t20 \t149 \t24 \t174   \t26.5486\n",
            "21 \t173   \t328.82 \t21 \t359\t151\t173   \t27.5809\t67.555 \t21 \t136 \t14 \t173   \t25.4888\n",
            "22 \t178   \t323.67 \t22 \t359\t148\t178   \t33.6174\t69.405 \t22 \t131 \t20 \t178   \t26.8347\n",
            "23 \t178   \t327.585\t23 \t359\t153\t178   \t28.1859\t69.705 \t23 \t158 \t15 \t178   \t25.0002\n",
            "24 \t172   \t331.705\t24 \t361\t127\t172   \t26.8985\t72.995 \t24 \t142 \t14 \t172   \t24.4633\n",
            "25 \t154   \t331.24 \t25 \t361\t165\t154   \t26.6064\t73.295 \t25 \t146 \t14 \t154   \t26.0301\n",
            "26 \t180   \t329.85 \t26 \t361\t150\t180   \t29.521 \t72.735 \t26 \t158 \t7  \t180   \t26.9866\n",
            "27 \t166   \t331.155\t27 \t361\t163\t166   \t28.1693\t74.085 \t27 \t146 \t20 \t166   \t23.9085\n",
            "28 \t170   \t328.335\t28 \t361\t79 \t170   \t34.4304\t71.57  \t28 \t146 \t14 \t170   \t24.31  \n",
            "29 \t183   \t328.17 \t29 \t361\t62 \t183   \t33.791 \t69.185 \t29 \t144 \t18 \t183   \t23.3866\n",
            "30 \t178   \t328.78 \t30 \t361\t133\t178   \t33.2994\t68.915 \t30 \t142 \t17 \t178   \t22.8078\n",
            "31 \t164   \t332.86 \t31 \t361\t192\t164   \t24.4399\t71.75  \t31 \t142 \t20 \t164   \t22.412 \n",
            "32 \t161   \t327.55 \t32 \t361\t68 \t161   \t41.8631\t73.225 \t32 \t162 \t15 \t161   \t24.3626\n",
            "33 \t160   \t334.335\t33 \t361\t149\t160   \t26.5653\t70.33  \t33 \t148 \t18 \t160   \t20.6417\n",
            "34 \t171   \t331.285\t34 \t361\t71 \t171   \t33.5071\t69.235 \t34 \t153 \t18 \t171   \t20.9688\n",
            "35 \t178   \t331.36 \t35 \t361\t170\t178   \t24.8966\t70.575 \t35 \t135 \t18 \t178   \t21.0643\n",
            "36 \t176   \t329.775\t36 \t361\t153\t176   \t32.0154\t75.245 \t36 \t157 \t32 \t176   \t23.3012\n",
            "37 \t165   \t333.305\t37 \t361\t170\t165   \t26.5468\t73.135 \t37 \t152 \t28 \t165   \t21.7487\n",
            "38 \t162   \t332.025\t38 \t361\t181\t162   \t26.4621\t71.165 \t38 \t143 \t20 \t162   \t22.2393\n",
            "39 \t162   \t334.29 \t39 \t361\t213\t162   \t22.5199\t68.465 \t39 \t158 \t20 \t162   \t20.1566\n",
            "40 \t174   \t330.89 \t40 \t361\t139\t174   \t28.7626\t67.93  \t40 \t125 \t19 \t174   \t17.7864\n",
            "41 \t174   \t331.81 \t41 \t361\t162\t174   \t26.1014\t72.135 \t41 \t143 \t30 \t174   \t21.2423\n",
            "42 \t158   \t332.35 \t42 \t361\t198\t158   \t22.6163\t69.705 \t42 \t141 \t18 \t158   \t22.4439\n",
            "43 \t178   \t332.85 \t43 \t361\t203\t178   \t23.9129\t70.005 \t43 \t151 \t25 \t178   \t22.0262\n",
            "44 \t168   \t330.295\t44 \t361\t160\t168   \t28.1608\t71.595 \t44 \t154 \t20 \t168   \t24.7477\n",
            "45 \t189   \t329.36 \t45 \t361\t147\t189   \t28.7012\t73.72  \t45 \t164 \t22 \t189   \t22.5011\n",
            "46 \t166   \t329.65 \t46 \t361\t146\t166   \t33.6988\t77.525 \t46 \t198 \t17 \t166   \t25.4177\n",
            "47 \t174   \t333.35 \t47 \t361\t124\t174   \t27.3965\t80.06  \t47 \t165 \t22 \t174   \t21.9544\n",
            "48 \t172   \t331.575\t48 \t361\t153\t172   \t29.2753\t79.255 \t48 \t150 \t23 \t172   \t19.9484\n",
            "49 \t168   \t332.95 \t49 \t361\t157\t168   \t26.5988\t79.9   \t49 \t130 \t23 \t168   \t21.4807\n",
            "50 \t172   \t334.15 \t50 \t361\t206\t172   \t20.6915\t79.06  \t50 \t166 \t25 \t172   \t23.8652\n",
            "-- Best Individual =  sub(add(sub(mul(add(ARG56, 0.47335686137680666), sub(ARG51, ARG24)), protectedDiv(sub(ARG29, ARG27), mul(ARG12, neg(add(ARG15, ARG35))))), protectedDiv(protectedDiv(add(neg(neg(sub(ARG9, ARG13))), neg(neg(mul(ARG32, ARG28)))), add(neg(mul(sub(ARG14, ARG11), add(ARG37, ARG6))), protectedDiv(ARG51, add(mul(ARG20, ARG1), neg(ARG0))))), mul(mul(ARG17, ARG2), add(mul(ARG51, add(mul(ARG51, ARG1), neg(ARG0))), neg(ARG4))))), protectedDiv(sub(neg(mul(ARG20, ARG1)), add(mul(ARG32, ARG28), protectedDiv(ARG28, ARG1))), sub(ARG6, ARG27)))\n",
            "-- length=81, height=8\n",
            "-- Best Fitness =  361.0\n"
          ]
        }
      ]
    },
    {
      "cell_type": "markdown",
      "metadata": {
        "id": "VY6zTHqVQBdF"
      },
      "source": [
        "Create our graphs using the averages across all the runs."
      ]
    },
    {
      "cell_type": "code",
      "metadata": {
        "scrolled": true,
        "colab": {
          "base_uri": "https://localhost:8080/",
          "height": 472
        },
        "id": "udKZaRZdQBdF",
        "outputId": "0f762ad1-9e1c-49db-b6c8-f151eda9fe47"
      },
      "source": [
        "# Genetic Programming is done (all runs) - plot statistics:\n",
        "x = numpy.arange(0, MAX_GENERATIONS+1)\n",
        "avgArray = numpy.array(avgListFitness)\n",
        "stdArray = numpy.array(stdListFitness)\n",
        "minArray = numpy.array(minListFitness)\n",
        "maxArray = numpy.array(maxListFitness)\n",
        "plt.xlabel('Generation')\n",
        "plt.ylabel('Fitness')\n",
        "plt.title('Best and Average Fitness for Binary Classification')\n",
        "plt.errorbar(x, avgArray.mean(0), yerr=stdArray.mean(0),label=\"Average\",color=\"Red\")\n",
        "plt.errorbar(x, maxArray.mean(0), yerr=maxArray.std(0),label=\"Best\", color=\"Green\")\n",
        "plt.show()"
      ],
      "execution_count": 18,
      "outputs": [
        {
          "output_type": "display_data",
          "data": {
            "text/plain": [
              "<Figure size 640x480 with 1 Axes>"
            ],
            "image/png": "[encoded data removed]"
          },
          "metadata": {}
        }
      ]
    },
    {
      "cell_type": "markdown",
      "metadata": {
        "id": "iiHVYgqDQBdF"
      },
      "source": [
        "Show the graph for size."
      ]
    },
    {
      "cell_type": "code",
      "metadata": {
        "colab": {
          "base_uri": "https://localhost:8080/",
          "height": 472
        },
        "id": "IQjCt6PHQBdG",
        "outputId": "df7819c8-45a9-482c-f38a-2638d9076357"
      },
      "source": [
        "# Genetic Programming is done (all runs) - plot statistics:\n",
        "x = numpy.arange(0, MAX_GENERATIONS+1)\n",
        "avgArray = numpy.array(avgListSize)\n",
        "stdArray = numpy.array(stdListSize)\n",
        "minArray = numpy.array(minListSize)\n",
        "maxArray = numpy.array(maxListSize)\n",
        "plt.xlabel('Generation')\n",
        "plt.ylabel('Size')\n",
        "plt.title('Best and Average Size for Binary Classification')\n",
        "plt.errorbar(x, avgArray.mean(0), yerr=stdArray.mean(0),label=\"Average\",color=\"Red\")\n",
        "plt.errorbar(x, minArray.mean(0), yerr=minArray.std(0),label=\"Best\", color=\"Blue\")\n",
        "plt.show()"
      ],
      "execution_count": 19,
      "outputs": [
        {
          "output_type": "display_data",
          "data": {
            "text/plain": [
              "<Figure size 640x480 with 1 Axes>"
            ],
            "image/png": "[encoded data removed]"
          },
          "metadata": {}
        }
      ]
    }
  ]
}