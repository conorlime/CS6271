{
  "nbformat": 4,
  "nbformat_minor": 0,
  "metadata": {
    "kernelspec": {
      "display_name": "Python 3",
      "language": "python",
      "name": "python3"
    },
    "language_info": {
      "codemirror_mode": {
        "name": "ipython",
        "version": 3
      },
      "file_extension": ".py",
      "mimetype": "text/x-python",
      "name": "python",
      "nbconvert_exporter": "python",
      "pygments_lexer": "ipython3",
      "version": "3.8.3"
    },
    "colab": {
      "name": "GP With NSGA II.ipynb",
      "provenance": [],
      "include_colab_link": true
    }
  },
  "cells": [
    {
      "cell_type": "markdown",
      "metadata": {
        "id": "view-in-github",
        "colab_type": "text"
      },
      "source": [
        "<a href=\"https://colab.research.google.com/github/conorlime/CS6271/blob/main/GP%20With%20NSGA%20II.ipynb\" target=\"_parent\"><img src=\"https://colab.research.google.com/assets/colab-badge.svg\" alt=\"Open In Colab\"/></a>"
      ]
    },
    {
      "cell_type": "markdown",
      "metadata": {
        "id": "wfCy4PLF0Pue"
      },
      "source": [
        "# Implementation of NSGA II using GP"
      ]
    },
    {
      "cell_type": "markdown",
      "metadata": {
        "id": "e-ZvWoJg0Pug"
      },
      "source": [
        "In this notebook we use GP with NSGA II as its selection method. Recall that NSGA II can be used with virtually **any** EA, despite what its name might suggest."
      ]
    },
    {
      "cell_type": "code",
      "metadata": {
        "id": "G_OUFuJD0Puh",
        "outputId": "c6ec4561-2daf-439e-b08d-d829a887b80b",
        "colab": {
          "base_uri": "https://localhost:8080/",
          "height": 17
        }
      },
      "source": [
        "from IPython.core.display import display, HTML\n",
        "display(HTML(\"<style>.container { width:100% !important; }</style>\"))\n"
      ],
      "execution_count": 2,
      "outputs": [
        {
          "output_type": "display_data",
          "data": {
            "text/html": [
              "<style>.container { width:100% !important; }</style>"
            ],
            "text/plain": [
              "<IPython.core.display.HTML object>"
            ]
          },
          "metadata": {}
        }
      ]
    },
    {
      "cell_type": "markdown",
      "metadata": {
        "id": "FnxRtJe0QBc8"
      },
      "source": [
        "Install DEAP. "
      ]
    },
    {
      "cell_type": "code",
      "metadata": {
        "colab": {
          "base_uri": "https://localhost:8080/"
        },
        "id": "F0cL4TJaQBc8",
        "outputId": "b7f73677-9c9f-4155-b6b7-17d70f037852"
      },
      "source": [
        "!pip install deap==1.3"
      ],
      "execution_count": 3,
      "outputs": [
        {
          "output_type": "stream",
          "name": "stdout",
          "text": [
            "Collecting deap==1.3\n",
            "  Downloading deap-1.3.0-cp37-cp37m-manylinux2010_x86_64.whl (152 kB)\n",
            "\u001b[?25l\r\u001b[K     |██▏                             | 10 kB 26.9 MB/s eta 0:00:01\r\u001b[K     |████▎                           | 20 kB 10.7 MB/s eta 0:00:01\r\u001b[K     |██████▍                         | 30 kB 9.0 MB/s eta 0:00:01\r\u001b[K     |████████▋                       | 40 kB 8.1 MB/s eta 0:00:01\r\u001b[K     |██████████▊                     | 51 kB 5.0 MB/s eta 0:00:01\r\u001b[K     |████████████▉                   | 61 kB 5.2 MB/s eta 0:00:01\r\u001b[K     |███████████████                 | 71 kB 5.3 MB/s eta 0:00:01\r\u001b[K     |█████████████████▏              | 81 kB 6.0 MB/s eta 0:00:01\r\u001b[K     |███████████████████▎            | 92 kB 4.7 MB/s eta 0:00:01\r\u001b[K     |█████████████████████▍          | 102 kB 5.1 MB/s eta 0:00:01\r\u001b[K     |███████████████████████▋        | 112 kB 5.1 MB/s eta 0:00:01\r\u001b[K     |█████████████████████████▊      | 122 kB 5.1 MB/s eta 0:00:01\r\u001b[K     |███████████████████████████▉    | 133 kB 5.1 MB/s eta 0:00:01\r\u001b[K     |██████████████████████████████  | 143 kB 5.1 MB/s eta 0:00:01\r\u001b[K     |████████████████████████████████| 152 kB 5.1 MB/s \n",
            "\u001b[?25hRequirement already satisfied: numpy in /usr/local/lib/python3.7/dist-packages (from deap==1.3) (1.19.5)\n",
            "Installing collected packages: deap\n",
            "Successfully installed deap-1.3.0\n"
          ]
        }
      ]
    },
    {
      "cell_type": "markdown",
      "metadata": {
        "id": "Fbwx74bsEKjl"
      },
      "source": [
        "Mount our folder."
      ]
    },
    {
      "cell_type": "code",
      "metadata": {
        "id": "bj4JuDiyEXtf",
        "colab": {
          "base_uri": "https://localhost:8080/"
        },
        "outputId": "3aa9acc1-2ae9-42f6-8073-91734b218379"
      },
      "source": [
        "from google.colab import drive\n",
        "drive.mount('/content/drive', force_remount=True)"
      ],
      "execution_count": 5,
      "outputs": [
        {
          "output_type": "stream",
          "name": "stdout",
          "text": [
            "Mounted at /content/drive\n"
          ]
        }
      ]
    },
    {
      "cell_type": "markdown",
      "metadata": {
        "id": "WSS-hNz7Er4o"
      },
      "source": [
        "Clone the class repository. "
      ]
    },
    {
      "cell_type": "code",
      "metadata": {
        "colab": {
          "base_uri": "https://localhost:8080/"
        },
        "id": "JbZZ7keoE1og",
        "outputId": "eadb1ab4-06ab-4c8b-8dab-140a6432de53"
      },
      "source": [
        "!git clone https://github.com/conorlime/CS6271"
      ],
      "execution_count": 6,
      "outputs": [
        {
          "output_type": "stream",
          "name": "stdout",
          "text": [
            "Cloning into 'CS6271'...\n",
            "remote: Enumerating objects: 167, done.\u001b[K\n",
            "remote: Counting objects: 100% (167/167), done.\u001b[K\n",
            "remote: Compressing objects: 100% (161/161), done.\u001b[K\n",
            "remote: Total 167 (delta 65), reused 16 (delta 1), pack-reused 0\u001b[K\n",
            "Receiving objects: 100% (167/167), 2.83 MiB | 8.59 MiB/s, done.\n",
            "Resolving deltas: 100% (65/65), done.\n"
          ]
        }
      ]
    },
    {
      "cell_type": "markdown",
      "metadata": {
        "id": "BxnMLW6YQstp"
      },
      "source": [
        "Navigate to the Utilities folder."
      ]
    },
    {
      "cell_type": "code",
      "metadata": {
        "colab": {
          "base_uri": "https://localhost:8080/"
        },
        "id": "R7zKnPWhQvkk",
        "outputId": "7a29b893-0472-4eb6-f81d-568440c46da5"
      },
      "source": [
        "cd CS6271/Utilities/"
      ],
      "execution_count": 7,
      "outputs": [
        {
          "output_type": "stream",
          "name": "stdout",
          "text": [
            "/content/CS6271/Utilities\n"
          ]
        }
      ]
    },
    {
      "cell_type": "markdown",
      "metadata": {
        "id": "qn5_sdjm0Pui"
      },
      "source": [
        "Import our tools. "
      ]
    },
    {
      "cell_type": "code",
      "metadata": {
        "id": "jP_RWjRi0Puj"
      },
      "source": [
        "import operator\n",
        "import math\n",
        "import random\n",
        "\n",
        "import numpy\n",
        "\n",
        "from deap import algorithms\n",
        "from deap import base\n",
        "from deap import creator\n",
        "from deap import tools\n",
        "from deap import gp\n",
        "\n",
        "import csv\n",
        "\n",
        "from elitism import eaSimpleWithElitism \n",
        "\n",
        "\n",
        "import matplotlib.pyplot as plt\n",
        "\n",
        "import itertools\n",
        "import networkx as nx\n",
        "\n"
      ],
      "execution_count": 8,
      "outputs": []
    },
    {
      "cell_type": "markdown",
      "metadata": {
        "id": "TctS_h2I0Puj"
      },
      "source": [
        "Set our Genetic Programming parameters."
      ]
    },
    {
      "cell_type": "code",
      "metadata": {
        "id": "hhGs9vid0Puj"
      },
      "source": [
        "# Genetic Programming constants:\n",
        "POPULATION_SIZE = 200\n",
        "P_CROSSOVER = 0.9\n",
        "P_MUTATION = 0.01\n",
        "MAX_GENERATIONS = 50\n",
        "HALL_OF_FAME_SIZE = 10\n",
        "\n",
        "N_RUNS = 2\n",
        "\n",
        "\n"
      ],
      "execution_count": 9,
      "outputs": []
    },
    {
      "cell_type": "markdown",
      "metadata": {
        "id": "uiX7rliU0Puk"
      },
      "source": [
        "Set the random seed. "
      ]
    },
    {
      "cell_type": "code",
      "metadata": {
        "id": "KdkYZOGI0Pul"
      },
      "source": [
        "RANDOM_SEED = 412\n",
        "random.seed(RANDOM_SEED)"
      ],
      "execution_count": 10,
      "outputs": []
    },
    {
      "cell_type": "markdown",
      "metadata": {
        "id": "uKm98Fhd0Pul"
      },
      "source": [
        "GP-Specific constants."
      ]
    },
    {
      "cell_type": "code",
      "metadata": {
        "id": "vt7mLwwe0Pul"
      },
      "source": [
        "MIN_TREE_HEIGHT = 3\n",
        "MAX_TREE_HEIGHT = 5\n",
        "LIMIT_TREE_HEIGHT = 17\n",
        "MUT_MIN_TREE_HEIGHT = 0\n",
        "MUT_MAX_TREE_HEIGHT = 2"
      ],
      "execution_count": 11,
      "outputs": []
    },
    {
      "cell_type": "markdown",
      "metadata": {
        "id": "1--DkPO_0Pum"
      },
      "source": [
        "Read in the data."
      ]
    },
    {
      "cell_type": "code",
      "metadata": {
        "id": "oyBh3Jx00Pum"
      },
      "source": [
        "with open(\"../data/randomData.csv\") as symbRegData:\n",
        "    n_rows = sum(1 for line in symbRegData)\n",
        "with open(\"../data/randomData.csv\") as symbRegData:\n",
        "    reader = csv.reader(symbRegData)\n",
        "    data = list(list(float(elem) for elem in row) for row in reader)"
      ],
      "execution_count": 13,
      "outputs": []
    },
    {
      "cell_type": "markdown",
      "metadata": {
        "id": "coOIYmhv0Pum"
      },
      "source": [
        "Define our fitness function."
      ]
    },
    {
      "cell_type": "code",
      "metadata": {
        "id": "eo7Jc1ZB0Pum"
      },
      "source": [
        "def evalSymbReg(individual):\n",
        "    # Transform the tree expression in a callable function\n",
        "    func = toolbox.compile(expr=individual)\n",
        "    # Evaluate the sum of squared difference between the expression and the target values\n",
        "    diff = sum((func(*row[:-1]) - row[-1])**2 for row in data)\n",
        "    error = diff/n_rows\n",
        "    if (error>10):\n",
        "        error=10\n",
        "    #return error, individual.height\n",
        "    nodes, edges, labels = gp.graph(individual)\n",
        "    return error, len(nodes)"
      ],
      "execution_count": 14,
      "outputs": []
    },
    {
      "cell_type": "markdown",
      "metadata": {
        "id": "DshKGQ8I0Pun"
      },
      "source": [
        "Define a protected division function."
      ]
    },
    {
      "cell_type": "code",
      "metadata": {
        "id": "B4bH0tzM0Pun"
      },
      "source": [
        "def protectedDiv(left, right):\n",
        "    try:\n",
        "        return left / right\n",
        "    except ZeroDivisionError:\n",
        "        return 1"
      ],
      "execution_count": 15,
      "outputs": []
    },
    {
      "cell_type": "markdown",
      "metadata": {
        "id": "VLo5jE3-0Pun"
      },
      "source": [
        "Add our functions and terminals. "
      ]
    },
    {
      "cell_type": "code",
      "metadata": {
        "id": "TzP-MGKy0Pun"
      },
      "source": [
        "pset = gp.PrimitiveSet(\"MAIN\", 5) # number of inputs!!!\n",
        "pset.addPrimitive(operator.add, 2)\n",
        "pset.addPrimitive(operator.sub, 2)\n",
        "pset.addPrimitive(operator.mul, 2)\n",
        "pset.addPrimitive(protectedDiv, 2)\n",
        "pset.addPrimitive(operator.neg, 1)\n",
        "pset.addPrimitive(math.cos, 1)\n",
        "pset.addPrimitive(math.sin, 1)\n",
        "pset.addEphemeralConstant(\"rand101\", lambda: random.random())\n"
      ],
      "execution_count": 16,
      "outputs": []
    },
    {
      "cell_type": "markdown",
      "metadata": {
        "id": "rUVdSfTg0Puo"
      },
      "source": [
        "Create our toolbox. This is very similar to earlier ones except we now use NSGA II as our selection method."
      ]
    },
    {
      "cell_type": "code",
      "metadata": {
        "id": "vKGliMcq0Puo"
      },
      "source": [
        "toolbox = base.Toolbox()\n",
        "\n",
        "creator.create(\"FitnessMin\", base.Fitness, weights=(-1.0,-1.0))\n",
        "creator.create(\"Individual\", gp.PrimitiveTree, fitness=creator.FitnessMin)\n",
        "\n",
        "toolbox.register(\"expr\", gp.genHalfAndHalf, pset=pset, min_=1, max_=2)\n",
        "toolbox.register(\"individual\", tools.initIterate, creator.Individual, toolbox.expr)\n",
        "toolbox.register(\"population\", tools.initRepeat, list, toolbox.individual)\n",
        "toolbox.register(\"compile\", gp.compile, pset=pset)\n",
        "\n",
        "toolbox.register(\"evaluate\", evalSymbReg)\n",
        "toolbox.register(\"select\", tools.selNSGA2)\n",
        "#toolbox.register(\"select\", tools.selTournament, tournsize=5)\n",
        "\n",
        "toolbox.register(\"mate\", gp.cxOnePoint)\n",
        "toolbox.register(\"expr_mut\", gp.genFull, min_=0, max_=5)\n",
        "toolbox.register(\"mutate\", gp.mutUniform, expr=toolbox.expr_mut, pset=pset)\n",
        "\n",
        "toolbox.decorate(\"mate\", gp.staticLimit(key=operator.attrgetter(\"height\"), max_value=17))\n",
        "toolbox.decorate(\"mutate\", gp.staticLimit(key=operator.attrgetter(\"height\"), max_value=17))"
      ],
      "execution_count": 17,
      "outputs": []
    },
    {
      "cell_type": "markdown",
      "metadata": {
        "id": "0it7p3w00Puo"
      },
      "source": [
        "Create our statistics. These are a bit more complex than the GA ones because we want to keep track of fitness and size for all runs."
      ]
    },
    {
      "cell_type": "code",
      "metadata": {
        "id": "m_19-3FR0Puo"
      },
      "source": [
        "maxListFitness = []\n",
        "avgListFitness = []\n",
        "minListFitness = []\n",
        "stdListFitness = []\n",
        "maxListSize = []\n",
        "avgListSize = []\n",
        "minListSize = []\n",
        "stdListSize = []"
      ],
      "execution_count": 18,
      "outputs": []
    },
    {
      "cell_type": "markdown",
      "metadata": {
        "id": "ZPljhK9n0Pup"
      },
      "source": [
        "Main run -- notice that we are use **eaSimple** here, although the code to run with Elitism is there too. Try each of them and see if you can figure out why the results are different (or, if they're the same, why is that the case?)."
      ]
    },
    {
      "cell_type": "code",
      "metadata": {
        "id": "_jFeUojQ0Pup",
        "outputId": "a1ab1666-7fac-4cbd-e7a3-9e078b420acf",
        "colab": {
          "base_uri": "https://localhost:8080/",
          "height": 725
        }
      },
      "source": [
        "for r in range(0, N_RUNS):\n",
        "    population = toolbox.population(n=POPULATION_SIZE)\n",
        "    # define the hall-of-fame object:\n",
        "    hof = tools.HallOfFame(HALL_OF_FAME_SIZE)   \n",
        "\n",
        "\n",
        "    # Create our statistics\n",
        "    stats_fit = tools.Statistics(lambda ind: ind.fitness.values)\n",
        "    stats_size = tools.Statistics(len)\n",
        "    mstats = tools.MultiStatistics(fitness=stats_fit, size=stats_size)\n",
        "    mstats.register(\"avg\", numpy.mean)\n",
        "    mstats.register(\"std\", numpy.std)\n",
        "    mstats.register(\"min\", numpy.min)\n",
        "    mstats.register(\"max\", numpy.max)\n",
        "    \n",
        "    \n",
        "    # Which run are we on?\n",
        "    print(\"\\n\\nCurrently on run\", r, \"of\",N_RUNS)\n",
        "    \n",
        "    \n",
        "\n",
        "    # It's usually a good idea to turn off verbose when conducting multiple runs\n",
        "    population, logbook = algorithms.eaSimple(population,toolbox,cxpb=P_CROSSOVER,mutpb=P_MUTATION,ngen=MAX_GENERATIONS,stats=mstats,halloffame=hof,verbose=False)\n",
        "    \n",
        "    # It's usually a good idea to turn off verbose when conducting multiple runs\n",
        "    #population, logbook = eaSimpleWithElitism(population,toolbox,cxpb=P_CROSSOVER,mutpb=P_MUTATION,ngen=MAX_GENERATIONS,stats=mstats,halloffame=hof,verbose=False)\n",
        "\n",
        "\n",
        "    \n",
        "    # Calculate the fronts\n",
        "    fronts = tools.emo.sortLogNondominated(population, len(population))\n",
        "\n",
        "    \n",
        "    #maxFitnessValues, meanFitnessValues = logbook.chapters['fitness'].select(\"min\", \"avg\")\n",
        "    meanFitnessValues, stdFitnessValues, minFitnessValues, maxFitnessValues  = logbook.chapters['fitness'].select(\"avg\", \"std\", \"min\", \"max\")\n",
        "    meanSizeValues, stdSizeValues, minSizeValues, maxSizeValues  = logbook.chapters['size'].select(\"avg\", \"std\", \"min\", \"max\")\n",
        "\n",
        "\n",
        "    # Save statistics for this run:\n",
        "    avgListFitness.append(meanFitnessValues)\n",
        "    stdListFitness.append(stdFitnessValues)\n",
        "    minListFitness.append(minFitnessValues)\n",
        "    maxListFitness.append(maxFitnessValues)\n",
        "    \n",
        "    avgListSize.append(meanSizeValues)\n",
        "    stdListSize.append(stdSizeValues)\n",
        "    minListSize.append(minSizeValues)\n",
        "    maxListSize.append(maxSizeValues)\n",
        "\n",
        "    # print info for best solution found:\n",
        "    best = hof.items[0]\n",
        "    print(\"-- Best Individual = \", best)\n",
        "    print(\"-- length={}, height={}\".format(len(best), best.height))\n",
        "    print(\"-- Best Fitness = \", best.fitness.values[0])\n",
        "\n",
        "    x = list(ind.fitness.values[0] for ind in population)\n",
        "    y = list(ind.fitness.values[1] for ind in population)\n",
        "    plt.xlim(0, 1)\n",
        "    plt.ylim(0, 20)\n",
        "    plt.scatter(x, y, marker=\"+\", color='blue')\n",
        "    x = list(ind.fitness.values[0] for ind in fronts[0])\n",
        "    y = list(ind.fitness.values[1] for ind in fronts[0])\n",
        "    plt.scatter(x, y, marker=\"x\", color='red')\n",
        "    plt.show()\n"
      ],
      "execution_count": 19,
      "outputs": [
        {
          "output_type": "stream",
          "name": "stdout",
          "text": [
            "\n",
            "\n",
            "Currently on run 0 of 2\n",
            "-- Best Individual =  add(ARG0, mul(0.513147606892361, ARG4))\n",
            "-- length=5, height=2\n",
            "-- Best Fitness =  0.07570267643521089\n"
          ]
        },
        {
          "output_type": "display_data",
          "data": {
            "image/png": "[encoded data removed]",
            "text/plain": [
              "<Figure size 432x288 with 1 Axes>"
            ]
          },
          "metadata": {
            "needs_background": "light"
          }
        },
        {
          "output_type": "stream",
          "name": "stdout",
          "text": [
            "\n",
            "\n",
            "Currently on run 1 of 2\n",
            "-- Best Individual =  add(ARG0, mul(0.569463821124054, ARG2))\n",
            "-- length=5, height=2\n",
            "-- Best Fitness =  0.07438237907562678\n"
          ]
        },
        {
          "output_type": "display_data",
          "data": {
            "image/png": "[encoded data removed]",
            "text/plain": [
              "<Figure size 432x288 with 1 Axes>"
            ]
          },
          "metadata": {
            "needs_background": "light"
          }
        }
      ]
    },
    {
      "cell_type": "markdown",
      "metadata": {
        "id": "WXiYEUj20Pup"
      },
      "source": [
        "Create our graphs using the averages across all the runs. Notice how we use standard deviation to show how much variation there is in the runs. \n",
        "\n",
        "Notice that if there's a big discrepancy between best and average the graphs can look like there's virtually no variation in the best score. If this happens, the first thing to do is verify if that is actually happening; you can do that by commenting out this line:\n",
        "\n",
        "**plt.errorbar(x, avgArray.mean(0), yerr=stdArray.mean(0),label=\"Average\",color=\"Red\")**"
      ]
    },
    {
      "cell_type": "code",
      "metadata": {
        "scrolled": true,
        "id": "n8cMo6AA0Pup",
        "outputId": "7c64dc05-756c-451f-b18a-d6713606cc35",
        "colab": {
          "base_uri": "https://localhost:8080/",
          "height": 295
        }
      },
      "source": [
        "# Genetic Programming is done (all runs) - plot statistics:\n",
        "x = numpy.arange(0, MAX_GENERATIONS+1)\n",
        "avgArray = numpy.array(avgListFitness)\n",
        "stdArray = numpy.array(stdListFitness)\n",
        "minArray = numpy.array(minListFitness)\n",
        "maxArray = numpy.array(maxListFitness)\n",
        "plt.xlabel('Generation')\n",
        "plt.ylabel('Fitness')\n",
        "plt.title('Best and Average Fitness for Symbolic Regression')\n",
        "#plt.errorbar(x, avgArray.mean(0), yerr=stdArray.mean(0),label=\"Average\",color=\"Red\")\n",
        "plt.errorbar(x, minArray.mean(0), yerr=minArray.std(0),label=\"Best\", color=\"Green\")\n",
        "plt.show()"
      ],
      "execution_count": 20,
      "outputs": [
        {
          "output_type": "display_data",
          "data": {
            "image/png": "[encoded data removed]",
            "text/plain": [
              "<Figure size 432x288 with 1 Axes>"
            ]
          },
          "metadata": {
            "needs_background": "light"
          }
        }
      ]
    }
  ]
}