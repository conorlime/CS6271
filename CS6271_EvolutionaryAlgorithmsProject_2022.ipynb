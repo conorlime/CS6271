{
  "nbformat": 4,
  "nbformat_minor": 0,
  "metadata": {
    "colab": {
      "provenance": [],
      "collapsed_sections": []
    },
    "kernelspec": {
      "display_name": "Python 3",
      "name": "python3"
    },
    "language_info": {
      "name": "python"
    }
  },
  "cells": [
    {
      "cell_type": "markdown",
      "metadata": {
        "id": "-XOdi_QPFAhs"
      },
      "source": [
        "<div>\n",
        "<img src=\"https://www.ul.ie/themes/custom/ul/logo.jpg\" />\n",
        "</div> \n",
        "\n",
        "#**MSc in Artificial Intelligence and Machine Learning**\n",
        "##CS6271 - Evolutionary Algorithms and Humanoid Robotics 2022\n",
        "### Kaggle Competition\n",
        "\n",
        "\n",
        "Module Leader: Conor Ryan\n",
        "\n",
        "Developer: Allan De Lima"
      ]
    },
    {
      "cell_type": "markdown",
      "metadata": {
        "id": "bTCSqsLKpNUm"
      },
      "source": [
        "## Introduction"
      ]
    },
    {
      "cell_type": "markdown",
      "metadata": {
        "id": "lix_hvw6pPfW"
      },
      "source": [
        "The Spaceship Titanic is a Machine Learning competition currently running on Kaggle with the participation of more than 2,000 teams.\n",
        "\n",
        "As final project in this module, we will run a small competition using a smaller dataset, and you will need to use GP or GE to evolve a solution."
      ]
    },
    {
      "cell_type": "markdown",
      "source": [
        "## Description"
      ],
      "metadata": {
        "id": "5RFhhtgMEM5L"
      }
    },
    {
      "cell_type": "markdown",
      "source": [
        "Welcome to the year 2912, where your data science skills are needed to solve a cosmic mystery. We've received a transmission from four lightyears away and things aren't looking good.\n",
        "\n",
        "The Spaceship Titanic was an interstellar passenger liner launched a month ago. With almost 13,000 passengers on board, the vessel set out on its maiden voyage transporting emigrants from our solar system to three newly habitable exoplanets orbiting nearby stars.\n",
        "\n",
        "While rounding Alpha Centauri en route to its first destination—the torrid 55 Cancri E—the unwary Spaceship Titanic collided with a spacetime anomaly hidden within a dust cloud. Sadly, it met a similar fate as its namesake from 1000 years before. Though the ship stayed intact, almost half of the passengers were transported to an alternate dimension!\n",
        "\n",
        "To help rescue crews and retrieve the lost passengers, you are challenged to predict which passengers were transported by the anomaly using records recovered from the spaceship’s damaged computer system.\n",
        "\n",
        "Help save them and change history!"
      ],
      "metadata": {
        "id": "h9ZN17VrET-b"
      }
    },
    {
      "cell_type": "code",
      "metadata": {
        "id": "HIEqtVydu7fj"
      },
      "source": [
        "# Libraries\n",
        "import numpy as np\n",
        "import pandas as pd\n",
        "import matplotlib.pyplot as plt"
      ],
      "execution_count": null,
      "outputs": []
    },
    {
      "cell_type": "markdown",
      "metadata": {
        "id": "4vQB8et9rEpq"
      },
      "source": [
        "## Dataset"
      ]
    },
    {
      "cell_type": "markdown",
      "metadata": {
        "id": "QscZZ7V1p-hE"
      },
      "source": [
        "The dataset provides 12 input variables that are a mixture of categorical, ordinal, boolean and numerical data types:\n",
        "\n",
        "1. PassengerId\n",
        "2. HomePlanet\n",
        "3. CryoSleep\n",
        "4. Destination\n",
        "5. Age\n",
        "6. VIP\n",
        "7. RoomService\n",
        "8. FoodCourt\n",
        "9. ShoppingMall\n",
        "10. Spa\n",
        "11. VRDeck\n",
        "12. Name\n"
      ]
    },
    {
      "cell_type": "markdown",
      "metadata": {
        "id": "CKQt8K-Iqq7z"
      },
      "source": [
        "This is a binary classification problem where the task is to predict whether a passenger was transported to an alternate dimension. "
      ]
    },
    {
      "cell_type": "markdown",
      "metadata": {
        "id": "BIGPTYpVreAH"
      },
      "source": [
        "### Load the dataset"
      ]
    },
    {
      "cell_type": "code",
      "metadata": {
        "id": "S5YbcZQU7xfz"
      },
      "source": [
        "# Suppressing Warnings:\n",
        "import warnings\n",
        "warnings.filterwarnings(\"ignore\")"
      ],
      "execution_count": null,
      "outputs": []
    },
    {
      "cell_type": "code",
      "metadata": {
        "id": "qkRwXuzOZ_ci",
        "colab": {
          "base_uri": "https://localhost:8080/"
        },
        "outputId": "44930912-5673-46d0-ac93-184caef17a74"
      },
      "source": [
        "## mount your Google drive\n",
        "# 1) click on the link\n",
        "# 2) sign in\n",
        "# 3) copy the provided code\n",
        "# 4) paste it in the text box bellow\n",
        "# 5) click the folder icon at the right\n",
        "# 6) verify your drive is mounted\n",
        "\n",
        "from google.colab import drive\n",
        "drive.mount('/content/drive', force_remount=True)"
      ],
      "execution_count": null,
      "outputs": [
        {
          "output_type": "stream",
          "name": "stdout",
          "text": [
            "Mounted at /content/drive\n"
          ]
        }
      ]
    },
    {
      "cell_type": "markdown",
      "metadata": {
        "id": "xrYC0mfKFkh7"
      },
      "source": [
        "Clone the GRAPE repository at first because the dataset to be used is already there."
      ]
    },
    {
      "cell_type": "code",
      "metadata": {
        "id": "lSDPe5O9FOt0",
        "colab": {
          "base_uri": "https://localhost:8080/"
        },
        "outputId": "ab48ef72-962d-4d42-dd92-114f01345bed"
      },
      "source": [
        "import os\n",
        "# Get the library from our BDS research Group\n",
        "# copy the path from your drive\n",
        "PATH = '/content/drive/MyDrive/grape/'\n",
        "\n",
        "# check if 'grape' already exists\n",
        "if os.path.exists(PATH):\n",
        "    print('grape directory already exists')\n",
        "else:\n",
        "    %cd /content/drive/MyDrive/\n",
        "    !git clone https://github.com/UL-BDS/grape.git \n",
        "    print('Cloning grape in your Drive')\n",
        "\n",
        "# change directory to 'grape'\n",
        "%cd /content/drive/MyDrive/grape/"
      ],
      "execution_count": null,
      "outputs": [
        {
          "output_type": "stream",
          "name": "stdout",
          "text": [
            "grape directory already exists\n",
            "/content/drive/MyDrive/grape\n"
          ]
        }
      ]
    },
    {
      "cell_type": "markdown",
      "metadata": {
        "id": "CpHKEV4avk8j"
      },
      "source": [
        "### Train set"
      ]
    },
    {
      "cell_type": "code",
      "metadata": {
        "id": "NjzisImfFrNS"
      },
      "source": [
        "train_file = 'datasets/spaceshipTitanic_train.csv'"
      ],
      "execution_count": null,
      "outputs": []
    },
    {
      "cell_type": "code",
      "metadata": {
        "colab": {
          "base_uri": "https://localhost:8080/",
          "height": 206
        },
        "id": "Iu2IFnaMtrH6",
        "outputId": "317b1c99-e302-418d-9133-b5fa0b8c4d27"
      },
      "source": [
        "# load train set\n",
        "df_train = pd.read_csv(PATH+train_file)\n",
        "df_train.head()"
      ],
      "execution_count": null,
      "outputs": [
        {
          "output_type": "execute_result",
          "data": {
            "text/plain": [
              "   PassengerId HomePlanet  CryoSleep    Destination  Age    VIP  RoomService  \\\n",
              "0            0      Earth      False    55 Cancri e   22  False            0   \n",
              "1            1       Mars       True    TRAPPIST-1e   61  False            0   \n",
              "2            2       Mars       True    TRAPPIST-1e    5  False            0   \n",
              "3            3      Earth      False    55 Cancri e   14  False          653   \n",
              "4            4      Earth      False  PSO J318.5-22    2  False            0   \n",
              "\n",
              "   FoodCourt  ShoppingMall  Spa  VRDeck            Name  Transported  \n",
              "0        833           381    0      12   Miranda Pratt         True  \n",
              "1          0             0    0       0    Isaac Werner         True  \n",
              "2          0             0    0       0  Elisha Rosario         True  \n",
              "3          0             4    0       0    Deshawn Hall        False  \n",
              "4          0             0    0       0  Justice Archer         True  "
            ],
            "text/html": [
              "\n",
              "  <div id=\"df-01237149-d839-4919-adec-b52e6414eb95\">\n",
              "    <div class=\"colab-df-container\">\n",
              "      <div>\n",
              "<style scoped>\n",
              "    .dataframe tbody tr th:only-of-type {\n",
              "        vertical-align: middle;\n",
              "    }\n",
              "\n",
              "    .dataframe tbody tr th {\n",
              "        vertical-align: top;\n",
              "    }\n",
              "\n",
              "    .dataframe thead th {\n",
              "        text-align: right;\n",
              "    }\n",
              "</style>\n",
              "<table border=\"1\" class=\"dataframe\">\n",
              "  <thead>\n",
              "    <tr style=\"text-align: right;\">\n",
              "      <th></th>\n",
              "      <th>PassengerId</th>\n",
              "      <th>HomePlanet</th>\n",
              "      <th>CryoSleep</th>\n",
              "      <th>Destination</th>\n",
              "      <th>Age</th>\n",
              "      <th>VIP</th>\n",
              "      <th>RoomService</th>\n",
              "      <th>FoodCourt</th>\n",
              "      <th>ShoppingMall</th>\n",
              "      <th>Spa</th>\n",
              "      <th>VRDeck</th>\n",
              "      <th>Name</th>\n",
              "      <th>Transported</th>\n",
              "    </tr>\n",
              "  </thead>\n",
              "  <tbody>\n",
              "    <tr>\n",
              "      <th>0</th>\n",
              "      <td>0</td>\n",
              "      <td>Earth</td>\n",
              "      <td>False</td>\n",
              "      <td>55 Cancri e</td>\n",
              "      <td>22</td>\n",
              "      <td>False</td>\n",
              "      <td>0</td>\n",
              "      <td>833</td>\n",
              "      <td>381</td>\n",
              "      <td>0</td>\n",
              "      <td>12</td>\n",
              "      <td>Miranda Pratt</td>\n",
              "      <td>True</td>\n",
              "    </tr>\n",
              "    <tr>\n",
              "      <th>1</th>\n",
              "      <td>1</td>\n",
              "      <td>Mars</td>\n",
              "      <td>True</td>\n",
              "      <td>TRAPPIST-1e</td>\n",
              "      <td>61</td>\n",
              "      <td>False</td>\n",
              "      <td>0</td>\n",
              "      <td>0</td>\n",
              "      <td>0</td>\n",
              "      <td>0</td>\n",
              "      <td>0</td>\n",
              "      <td>Isaac Werner</td>\n",
              "      <td>True</td>\n",
              "    </tr>\n",
              "    <tr>\n",
              "      <th>2</th>\n",
              "      <td>2</td>\n",
              "      <td>Mars</td>\n",
              "      <td>True</td>\n",
              "      <td>TRAPPIST-1e</td>\n",
              "      <td>5</td>\n",
              "      <td>False</td>\n",
              "      <td>0</td>\n",
              "      <td>0</td>\n",
              "      <td>0</td>\n",
              "      <td>0</td>\n",
              "      <td>0</td>\n",
              "      <td>Elisha Rosario</td>\n",
              "      <td>True</td>\n",
              "    </tr>\n",
              "    <tr>\n",
              "      <th>3</th>\n",
              "      <td>3</td>\n",
              "      <td>Earth</td>\n",
              "      <td>False</td>\n",
              "      <td>55 Cancri e</td>\n",
              "      <td>14</td>\n",
              "      <td>False</td>\n",
              "      <td>653</td>\n",
              "      <td>0</td>\n",
              "      <td>4</td>\n",
              "      <td>0</td>\n",
              "      <td>0</td>\n",
              "      <td>Deshawn Hall</td>\n",
              "      <td>False</td>\n",
              "    </tr>\n",
              "    <tr>\n",
              "      <th>4</th>\n",
              "      <td>4</td>\n",
              "      <td>Earth</td>\n",
              "      <td>False</td>\n",
              "      <td>PSO J318.5-22</td>\n",
              "      <td>2</td>\n",
              "      <td>False</td>\n",
              "      <td>0</td>\n",
              "      <td>0</td>\n",
              "      <td>0</td>\n",
              "      <td>0</td>\n",
              "      <td>0</td>\n",
              "      <td>Justice Archer</td>\n",
              "      <td>True</td>\n",
              "    </tr>\n",
              "  </tbody>\n",
              "</table>\n",
              "</div>\n",
              "      <button class=\"colab-df-convert\" onclick=\"convertToInteractive('df-01237149-d839-4919-adec-b52e6414eb95')\"\n",
              "              title=\"Convert this dataframe to an interactive table.\"\n",
              "              style=\"display:none;\">\n",
              "        \n",
              "  <svg xmlns=\"http://www.w3.org/2000/svg\" height=\"24px\"viewBox=\"0 0 24 24\"\n",
              "       width=\"24px\">\n",
              "    <path d=\"M0 0h24v24H0V0z\" fill=\"none\"/>\n",
              "    <path d=\"M18.56 5.44l.94 2.06.94-2.06 2.06-.94-2.06-.94-.94-2.06-.94 2.06-2.06.94zm-11 1L8.5 8.5l.94-2.06 2.06-.94-2.06-.94L8.5 2.5l-.94 2.06-2.06.94zm10 10l.94 2.06.94-2.06 2.06-.94-2.06-.94-.94-2.06-.94 2.06-2.06.94z\"/><path d=\"M17.41 7.96l-1.37-1.37c-.4-.4-.92-.59-1.43-.59-.52 0-1.04.2-1.43.59L10.3 9.45l-7.72 7.72c-.78.78-.78 2.05 0 2.83L4 21.41c.39.39.9.59 1.41.59.51 0 1.02-.2 1.41-.59l7.78-7.78 2.81-2.81c.8-.78.8-2.07 0-2.86zM5.41 20L4 18.59l7.72-7.72 1.47 1.35L5.41 20z\"/>\n",
              "  </svg>\n",
              "      </button>\n",
              "      \n",
              "  <style>\n",
              "    .colab-df-container {\n",
              "      display:flex;\n",
              "      flex-wrap:wrap;\n",
              "      gap: 12px;\n",
              "    }\n",
              "\n",
              "    .colab-df-convert {\n",
              "      background-color: #E8F0FE;\n",
              "      border: none;\n",
              "      border-radius: 50%;\n",
              "      cursor: pointer;\n",
              "      display: none;\n",
              "      fill: #1967D2;\n",
              "      height: 32px;\n",
              "      padding: 0 0 0 0;\n",
              "      width: 32px;\n",
              "    }\n",
              "\n",
              "    .colab-df-convert:hover {\n",
              "      background-color: #E2EBFA;\n",
              "      box-shadow: 0px 1px 2px rgba(60, 64, 67, 0.3), 0px 1px 3px 1px rgba(60, 64, 67, 0.15);\n",
              "      fill: #174EA6;\n",
              "    }\n",
              "\n",
              "    [theme=dark] .colab-df-convert {\n",
              "      background-color: #3B4455;\n",
              "      fill: #D2E3FC;\n",
              "    }\n",
              "\n",
              "    [theme=dark] .colab-df-convert:hover {\n",
              "      background-color: #434B5C;\n",
              "      box-shadow: 0px 1px 3px 1px rgba(0, 0, 0, 0.15);\n",
              "      filter: drop-shadow(0px 1px 2px rgba(0, 0, 0, 0.3));\n",
              "      fill: #FFFFFF;\n",
              "    }\n",
              "  </style>\n",
              "\n",
              "      <script>\n",
              "        const buttonEl =\n",
              "          document.querySelector('#df-01237149-d839-4919-adec-b52e6414eb95 button.colab-df-convert');\n",
              "        buttonEl.style.display =\n",
              "          google.colab.kernel.accessAllowed ? 'block' : 'none';\n",
              "\n",
              "        async function convertToInteractive(key) {\n",
              "          const element = document.querySelector('#df-01237149-d839-4919-adec-b52e6414eb95');\n",
              "          const dataTable =\n",
              "            await google.colab.kernel.invokeFunction('convertToInteractive',\n",
              "                                                     [key], {});\n",
              "          if (!dataTable) return;\n",
              "\n",
              "          const docLinkHtml = 'Like what you see? Visit the ' +\n",
              "            '<a target=\"_blank\" href=https://colab.research.google.com/notebooks/data_table.ipynb>data table notebook</a>'\n",
              "            + ' to learn more about interactive tables.';\n",
              "          element.innerHTML = '';\n",
              "          dataTable['output_type'] = 'display_data';\n",
              "          await google.colab.output.renderOutput(dataTable, element);\n",
              "          const docLink = document.createElement('div');\n",
              "          docLink.innerHTML = docLinkHtml;\n",
              "          element.appendChild(docLink);\n",
              "        }\n",
              "      </script>\n",
              "    </div>\n",
              "  </div>\n",
              "  "
            ]
          },
          "metadata": {},
          "execution_count": 6
        }
      ]
    },
    {
      "cell_type": "code",
      "metadata": {
        "id": "SBQDVfs4vQNP",
        "colab": {
          "base_uri": "https://localhost:8080/",
          "height": 300
        },
        "outputId": "a88cbd15-a5a2-4dc8-c8c4-49610037f930"
      },
      "source": [
        "df_train.describe()"
      ],
      "execution_count": 7,
      "outputs": [
        {
          "output_type": "execute_result",
          "data": {
            "text/plain": [
              "       PassengerId          Age  RoomService     FoodCourt  ShoppingMall  \\\n",
              "count  2000.000000  2000.000000  2000.000000   2000.000000   2000.000000   \n",
              "mean    999.500000    28.555500   213.460500    497.902500    166.237000   \n",
              "std     577.494589    14.629112   615.762402   1763.257082    509.568841   \n",
              "min       0.000000     0.000000     0.000000      0.000000      0.000000   \n",
              "25%     499.750000    20.000000     0.000000      0.000000      0.000000   \n",
              "50%     999.500000    26.000000     0.000000      0.000000      0.000000   \n",
              "75%    1499.250000    37.000000    32.000000     61.250000     23.000000   \n",
              "max    1999.000000    79.000000  6899.000000  27723.000000  10424.000000   \n",
              "\n",
              "                Spa        VRDeck  \n",
              "count   2000.000000   2000.000000  \n",
              "mean     342.252000    269.211000  \n",
              "std     1236.474773   1021.074852  \n",
              "min        0.000000      0.000000  \n",
              "25%        0.000000      0.000000  \n",
              "50%        0.000000      0.000000  \n",
              "75%       67.250000     37.000000  \n",
              "max    18572.000000  14485.000000  "
            ],
            "text/html": [
              "\n",
              "  <div id=\"df-0257465e-3dcf-4ba0-bf14-37b756d05788\">\n",
              "    <div class=\"colab-df-container\">\n",
              "      <div>\n",
              "<style scoped>\n",
              "    .dataframe tbody tr th:only-of-type {\n",
              "        vertical-align: middle;\n",
              "    }\n",
              "\n",
              "    .dataframe tbody tr th {\n",
              "        vertical-align: top;\n",
              "    }\n",
              "\n",
              "    .dataframe thead th {\n",
              "        text-align: right;\n",
              "    }\n",
              "</style>\n",
              "<table border=\"1\" class=\"dataframe\">\n",
              "  <thead>\n",
              "    <tr style=\"text-align: right;\">\n",
              "      <th></th>\n",
              "      <th>PassengerId</th>\n",
              "      <th>Age</th>\n",
              "      <th>RoomService</th>\n",
              "      <th>FoodCourt</th>\n",
              "      <th>ShoppingMall</th>\n",
              "      <th>Spa</th>\n",
              "      <th>VRDeck</th>\n",
              "    </tr>\n",
              "  </thead>\n",
              "  <tbody>\n",
              "    <tr>\n",
              "      <th>count</th>\n",
              "      <td>2000.000000</td>\n",
              "      <td>2000.000000</td>\n",
              "      <td>2000.000000</td>\n",
              "      <td>2000.000000</td>\n",
              "      <td>2000.000000</td>\n",
              "      <td>2000.000000</td>\n",
              "      <td>2000.000000</td>\n",
              "    </tr>\n",
              "    <tr>\n",
              "      <th>mean</th>\n",
              "      <td>999.500000</td>\n",
              "      <td>28.555500</td>\n",
              "      <td>213.460500</td>\n",
              "      <td>497.902500</td>\n",
              "      <td>166.237000</td>\n",
              "      <td>342.252000</td>\n",
              "      <td>269.211000</td>\n",
              "    </tr>\n",
              "    <tr>\n",
              "      <th>std</th>\n",
              "      <td>577.494589</td>\n",
              "      <td>14.629112</td>\n",
              "      <td>615.762402</td>\n",
              "      <td>1763.257082</td>\n",
              "      <td>509.568841</td>\n",
              "      <td>1236.474773</td>\n",
              "      <td>1021.074852</td>\n",
              "    </tr>\n",
              "    <tr>\n",
              "      <th>min</th>\n",
              "      <td>0.000000</td>\n",
              "      <td>0.000000</td>\n",
              "      <td>0.000000</td>\n",
              "      <td>0.000000</td>\n",
              "      <td>0.000000</td>\n",
              "      <td>0.000000</td>\n",
              "      <td>0.000000</td>\n",
              "    </tr>\n",
              "    <tr>\n",
              "      <th>25%</th>\n",
              "      <td>499.750000</td>\n",
              "      <td>20.000000</td>\n",
              "      <td>0.000000</td>\n",
              "      <td>0.000000</td>\n",
              "      <td>0.000000</td>\n",
              "      <td>0.000000</td>\n",
              "      <td>0.000000</td>\n",
              "    </tr>\n",
              "    <tr>\n",
              "      <th>50%</th>\n",
              "      <td>999.500000</td>\n",
              "      <td>26.000000</td>\n",
              "      <td>0.000000</td>\n",
              "      <td>0.000000</td>\n",
              "      <td>0.000000</td>\n",
              "      <td>0.000000</td>\n",
              "      <td>0.000000</td>\n",
              "    </tr>\n",
              "    <tr>\n",
              "      <th>75%</th>\n",
              "      <td>1499.250000</td>\n",
              "      <td>37.000000</td>\n",
              "      <td>32.000000</td>\n",
              "      <td>61.250000</td>\n",
              "      <td>23.000000</td>\n",
              "      <td>67.250000</td>\n",
              "      <td>37.000000</td>\n",
              "    </tr>\n",
              "    <tr>\n",
              "      <th>max</th>\n",
              "      <td>1999.000000</td>\n",
              "      <td>79.000000</td>\n",
              "      <td>6899.000000</td>\n",
              "      <td>27723.000000</td>\n",
              "      <td>10424.000000</td>\n",
              "      <td>18572.000000</td>\n",
              "      <td>14485.000000</td>\n",
              "    </tr>\n",
              "  </tbody>\n",
              "</table>\n",
              "</div>\n",
              "      <button class=\"colab-df-convert\" onclick=\"convertToInteractive('df-0257465e-3dcf-4ba0-bf14-37b756d05788')\"\n",
              "              title=\"Convert this dataframe to an interactive table.\"\n",
              "              style=\"display:none;\">\n",
              "        \n",
              "  <svg xmlns=\"http://www.w3.org/2000/svg\" height=\"24px\"viewBox=\"0 0 24 24\"\n",
              "       width=\"24px\">\n",
              "    <path d=\"M0 0h24v24H0V0z\" fill=\"none\"/>\n",
              "    <path d=\"M18.56 5.44l.94 2.06.94-2.06 2.06-.94-2.06-.94-.94-2.06-.94 2.06-2.06.94zm-11 1L8.5 8.5l.94-2.06 2.06-.94-2.06-.94L8.5 2.5l-.94 2.06-2.06.94zm10 10l.94 2.06.94-2.06 2.06-.94-2.06-.94-.94-2.06-.94 2.06-2.06.94z\"/><path d=\"M17.41 7.96l-1.37-1.37c-.4-.4-.92-.59-1.43-.59-.52 0-1.04.2-1.43.59L10.3 9.45l-7.72 7.72c-.78.78-.78 2.05 0 2.83L4 21.41c.39.39.9.59 1.41.59.51 0 1.02-.2 1.41-.59l7.78-7.78 2.81-2.81c.8-.78.8-2.07 0-2.86zM5.41 20L4 18.59l7.72-7.72 1.47 1.35L5.41 20z\"/>\n",
              "  </svg>\n",
              "      </button>\n",
              "      \n",
              "  <style>\n",
              "    .colab-df-container {\n",
              "      display:flex;\n",
              "      flex-wrap:wrap;\n",
              "      gap: 12px;\n",
              "    }\n",
              "\n",
              "    .colab-df-convert {\n",
              "      background-color: #E8F0FE;\n",
              "      border: none;\n",
              "      border-radius: 50%;\n",
              "      cursor: pointer;\n",
              "      display: none;\n",
              "      fill: #1967D2;\n",
              "      height: 32px;\n",
              "      padding: 0 0 0 0;\n",
              "      width: 32px;\n",
              "    }\n",
              "\n",
              "    .colab-df-convert:hover {\n",
              "      background-color: #E2EBFA;\n",
              "      box-shadow: 0px 1px 2px rgba(60, 64, 67, 0.3), 0px 1px 3px 1px rgba(60, 64, 67, 0.15);\n",
              "      fill: #174EA6;\n",
              "    }\n",
              "\n",
              "    [theme=dark] .colab-df-convert {\n",
              "      background-color: #3B4455;\n",
              "      fill: #D2E3FC;\n",
              "    }\n",
              "\n",
              "    [theme=dark] .colab-df-convert:hover {\n",
              "      background-color: #434B5C;\n",
              "      box-shadow: 0px 1px 3px 1px rgba(0, 0, 0, 0.15);\n",
              "      filter: drop-shadow(0px 1px 2px rgba(0, 0, 0, 0.3));\n",
              "      fill: #FFFFFF;\n",
              "    }\n",
              "  </style>\n",
              "\n",
              "      <script>\n",
              "        const buttonEl =\n",
              "          document.querySelector('#df-0257465e-3dcf-4ba0-bf14-37b756d05788 button.colab-df-convert');\n",
              "        buttonEl.style.display =\n",
              "          google.colab.kernel.accessAllowed ? 'block' : 'none';\n",
              "\n",
              "        async function convertToInteractive(key) {\n",
              "          const element = document.querySelector('#df-0257465e-3dcf-4ba0-bf14-37b756d05788');\n",
              "          const dataTable =\n",
              "            await google.colab.kernel.invokeFunction('convertToInteractive',\n",
              "                                                     [key], {});\n",
              "          if (!dataTable) return;\n",
              "\n",
              "          const docLinkHtml = 'Like what you see? Visit the ' +\n",
              "            '<a target=\"_blank\" href=https://colab.research.google.com/notebooks/data_table.ipynb>data table notebook</a>'\n",
              "            + ' to learn more about interactive tables.';\n",
              "          element.innerHTML = '';\n",
              "          dataTable['output_type'] = 'display_data';\n",
              "          await google.colab.output.renderOutput(dataTable, element);\n",
              "          const docLink = document.createElement('div');\n",
              "          docLink.innerHTML = docLinkHtml;\n",
              "          element.appendChild(docLink);\n",
              "        }\n",
              "      </script>\n",
              "    </div>\n",
              "  </div>\n",
              "  "
            ]
          },
          "metadata": {},
          "execution_count": 7
        }
      ]
    },
    {
      "cell_type": "code",
      "metadata": {
        "id": "6NtyRPmvx4sq"
      },
      "source": [
        "X_train = df_train.copy()\n",
        "# warning: cannot drop it more than once\n",
        "X_train.drop(['Transported'], axis=1, inplace=True)"
      ],
      "execution_count": 8,
      "outputs": []
    },
    {
      "cell_type": "code",
      "metadata": {
        "id": "iV-mN0J2xMdk"
      },
      "source": [
        "# class labels\n",
        "l, _ = X_train.shape\n",
        "\n",
        "y_train = np.zeros([l,], dtype=bool)\n",
        "\n",
        "for i in range(l):\n",
        "  y_train[i] = df_train['Transported'].iloc[i]"
      ],
      "execution_count": 9,
      "outputs": []
    },
    {
      "cell_type": "code",
      "metadata": {
        "id": "te26rlaBjLXd",
        "colab": {
          "base_uri": "https://localhost:8080/"
        },
        "outputId": "018d8370-a38f-4a7f-f46a-ea54f78d0c8e"
      },
      "source": [
        "#y_train.head()\n",
        "print(y_train[0:5])"
      ],
      "execution_count": 10,
      "outputs": [
        {
          "output_type": "stream",
          "name": "stdout",
          "text": [
            "[ True  True  True False  True]\n"
          ]
        }
      ]
    },
    {
      "cell_type": "markdown",
      "metadata": {
        "id": "CwAxKV7nvpZ8"
      },
      "source": [
        "### Test set"
      ]
    },
    {
      "cell_type": "code",
      "metadata": {
        "id": "1IzzBvGUvtkI"
      },
      "source": [
        "test_file = 'datasets/spaceshipTitanic_test.csv'"
      ],
      "execution_count": 11,
      "outputs": []
    },
    {
      "cell_type": "code",
      "metadata": {
        "id": "DbAn0FpFvPhO",
        "colab": {
          "base_uri": "https://localhost:8080/",
          "height": 206
        },
        "outputId": "6f53b1ce-0ec0-465c-e7dd-b7c90617592f"
      },
      "source": [
        "# load test set\n",
        "df_test = pd.read_csv(PATH+test_file)\n",
        "df_test.head()"
      ],
      "execution_count": 12,
      "outputs": [
        {
          "output_type": "execute_result",
          "data": {
            "text/plain": [
              "   PassengerId HomePlanet  CryoSleep  Destination  Age    VIP  RoomService  \\\n",
              "0         2000       Mars      False  TRAPPIST-1e   54  False          676   \n",
              "1         2001       Mars      False  TRAPPIST-1e   43  False          336   \n",
              "2         2002     Europa      False  55 Cancri e   33  False           77   \n",
              "3         2003      Earth       True  55 Cancri e   30  False            0   \n",
              "4         2004     Europa      False  TRAPPIST-1e   31  False            0   \n",
              "\n",
              "   FoodCourt  ShoppingMall   Spa  VRDeck            Name  \n",
              "0          0           231   379       0     Dawson Knox  \n",
              "1         11           796    15       0  Jaylee Navarro  \n",
              "2       2381             0  3656     150      Dario Hart  \n",
              "3          0             0     0       0    Alden Parker  \n",
              "4         53             0  2963    1017      Gina Frank  "
            ],
            "text/html": [
              "\n",
              "  <div id=\"df-6a63d30e-ffa5-4570-8534-df76e1c04f17\">\n",
              "    <div class=\"colab-df-container\">\n",
              "      <div>\n",
              "<style scoped>\n",
              "    .dataframe tbody tr th:only-of-type {\n",
              "        vertical-align: middle;\n",
              "    }\n",
              "\n",
              "    .dataframe tbody tr th {\n",
              "        vertical-align: top;\n",
              "    }\n",
              "\n",
              "    .dataframe thead th {\n",
              "        text-align: right;\n",
              "    }\n",
              "</style>\n",
              "<table border=\"1\" class=\"dataframe\">\n",
              "  <thead>\n",
              "    <tr style=\"text-align: right;\">\n",
              "      <th></th>\n",
              "      <th>PassengerId</th>\n",
              "      <th>HomePlanet</th>\n",
              "      <th>CryoSleep</th>\n",
              "      <th>Destination</th>\n",
              "      <th>Age</th>\n",
              "      <th>VIP</th>\n",
              "      <th>RoomService</th>\n",
              "      <th>FoodCourt</th>\n",
              "      <th>ShoppingMall</th>\n",
              "      <th>Spa</th>\n",
              "      <th>VRDeck</th>\n",
              "      <th>Name</th>\n",
              "    </tr>\n",
              "  </thead>\n",
              "  <tbody>\n",
              "    <tr>\n",
              "      <th>0</th>\n",
              "      <td>2000</td>\n",
              "      <td>Mars</td>\n",
              "      <td>False</td>\n",
              "      <td>TRAPPIST-1e</td>\n",
              "      <td>54</td>\n",
              "      <td>False</td>\n",
              "      <td>676</td>\n",
              "      <td>0</td>\n",
              "      <td>231</td>\n",
              "      <td>379</td>\n",
              "      <td>0</td>\n",
              "      <td>Dawson Knox</td>\n",
              "    </tr>\n",
              "    <tr>\n",
              "      <th>1</th>\n",
              "      <td>2001</td>\n",
              "      <td>Mars</td>\n",
              "      <td>False</td>\n",
              "      <td>TRAPPIST-1e</td>\n",
              "      <td>43</td>\n",
              "      <td>False</td>\n",
              "      <td>336</td>\n",
              "      <td>11</td>\n",
              "      <td>796</td>\n",
              "      <td>15</td>\n",
              "      <td>0</td>\n",
              "      <td>Jaylee Navarro</td>\n",
              "    </tr>\n",
              "    <tr>\n",
              "      <th>2</th>\n",
              "      <td>2002</td>\n",
              "      <td>Europa</td>\n",
              "      <td>False</td>\n",
              "      <td>55 Cancri e</td>\n",
              "      <td>33</td>\n",
              "      <td>False</td>\n",
              "      <td>77</td>\n",
              "      <td>2381</td>\n",
              "      <td>0</td>\n",
              "      <td>3656</td>\n",
              "      <td>150</td>\n",
              "      <td>Dario Hart</td>\n",
              "    </tr>\n",
              "    <tr>\n",
              "      <th>3</th>\n",
              "      <td>2003</td>\n",
              "      <td>Earth</td>\n",
              "      <td>True</td>\n",
              "      <td>55 Cancri e</td>\n",
              "      <td>30</td>\n",
              "      <td>False</td>\n",
              "      <td>0</td>\n",
              "      <td>0</td>\n",
              "      <td>0</td>\n",
              "      <td>0</td>\n",
              "      <td>0</td>\n",
              "      <td>Alden Parker</td>\n",
              "    </tr>\n",
              "    <tr>\n",
              "      <th>4</th>\n",
              "      <td>2004</td>\n",
              "      <td>Europa</td>\n",
              "      <td>False</td>\n",
              "      <td>TRAPPIST-1e</td>\n",
              "      <td>31</td>\n",
              "      <td>False</td>\n",
              "      <td>0</td>\n",
              "      <td>53</td>\n",
              "      <td>0</td>\n",
              "      <td>2963</td>\n",
              "      <td>1017</td>\n",
              "      <td>Gina Frank</td>\n",
              "    </tr>\n",
              "  </tbody>\n",
              "</table>\n",
              "</div>\n",
              "      <button class=\"colab-df-convert\" onclick=\"convertToInteractive('df-6a63d30e-ffa5-4570-8534-df76e1c04f17')\"\n",
              "              title=\"Convert this dataframe to an interactive table.\"\n",
              "              style=\"display:none;\">\n",
              "        \n",
              "  <svg xmlns=\"http://www.w3.org/2000/svg\" height=\"24px\"viewBox=\"0 0 24 24\"\n",
              "       width=\"24px\">\n",
              "    <path d=\"M0 0h24v24H0V0z\" fill=\"none\"/>\n",
              "    <path d=\"M18.56 5.44l.94 2.06.94-2.06 2.06-.94-2.06-.94-.94-2.06-.94 2.06-2.06.94zm-11 1L8.5 8.5l.94-2.06 2.06-.94-2.06-.94L8.5 2.5l-.94 2.06-2.06.94zm10 10l.94 2.06.94-2.06 2.06-.94-2.06-.94-.94-2.06-.94 2.06-2.06.94z\"/><path d=\"M17.41 7.96l-1.37-1.37c-.4-.4-.92-.59-1.43-.59-.52 0-1.04.2-1.43.59L10.3 9.45l-7.72 7.72c-.78.78-.78 2.05 0 2.83L4 21.41c.39.39.9.59 1.41.59.51 0 1.02-.2 1.41-.59l7.78-7.78 2.81-2.81c.8-.78.8-2.07 0-2.86zM5.41 20L4 18.59l7.72-7.72 1.47 1.35L5.41 20z\"/>\n",
              "  </svg>\n",
              "      </button>\n",
              "      \n",
              "  <style>\n",
              "    .colab-df-container {\n",
              "      display:flex;\n",
              "      flex-wrap:wrap;\n",
              "      gap: 12px;\n",
              "    }\n",
              "\n",
              "    .colab-df-convert {\n",
              "      background-color: #E8F0FE;\n",
              "      border: none;\n",
              "      border-radius: 50%;\n",
              "      cursor: pointer;\n",
              "      display: none;\n",
              "      fill: #1967D2;\n",
              "      height: 32px;\n",
              "      padding: 0 0 0 0;\n",
              "      width: 32px;\n",
              "    }\n",
              "\n",
              "    .colab-df-convert:hover {\n",
              "      background-color: #E2EBFA;\n",
              "      box-shadow: 0px 1px 2px rgba(60, 64, 67, 0.3), 0px 1px 3px 1px rgba(60, 64, 67, 0.15);\n",
              "      fill: #174EA6;\n",
              "    }\n",
              "\n",
              "    [theme=dark] .colab-df-convert {\n",
              "      background-color: #3B4455;\n",
              "      fill: #D2E3FC;\n",
              "    }\n",
              "\n",
              "    [theme=dark] .colab-df-convert:hover {\n",
              "      background-color: #434B5C;\n",
              "      box-shadow: 0px 1px 3px 1px rgba(0, 0, 0, 0.15);\n",
              "      filter: drop-shadow(0px 1px 2px rgba(0, 0, 0, 0.3));\n",
              "      fill: #FFFFFF;\n",
              "    }\n",
              "  </style>\n",
              "\n",
              "      <script>\n",
              "        const buttonEl =\n",
              "          document.querySelector('#df-6a63d30e-ffa5-4570-8534-df76e1c04f17 button.colab-df-convert');\n",
              "        buttonEl.style.display =\n",
              "          google.colab.kernel.accessAllowed ? 'block' : 'none';\n",
              "\n",
              "        async function convertToInteractive(key) {\n",
              "          const element = document.querySelector('#df-6a63d30e-ffa5-4570-8534-df76e1c04f17');\n",
              "          const dataTable =\n",
              "            await google.colab.kernel.invokeFunction('convertToInteractive',\n",
              "                                                     [key], {});\n",
              "          if (!dataTable) return;\n",
              "\n",
              "          const docLinkHtml = 'Like what you see? Visit the ' +\n",
              "            '<a target=\"_blank\" href=https://colab.research.google.com/notebooks/data_table.ipynb>data table notebook</a>'\n",
              "            + ' to learn more about interactive tables.';\n",
              "          element.innerHTML = '';\n",
              "          dataTable['output_type'] = 'display_data';\n",
              "          await google.colab.output.renderOutput(dataTable, element);\n",
              "          const docLink = document.createElement('div');\n",
              "          docLink.innerHTML = docLinkHtml;\n",
              "          element.appendChild(docLink);\n",
              "        }\n",
              "      </script>\n",
              "    </div>\n",
              "  </div>\n",
              "  "
            ]
          },
          "metadata": {},
          "execution_count": 12
        }
      ]
    },
    {
      "cell_type": "code",
      "metadata": {
        "id": "_Q0uvjTzvfLU",
        "colab": {
          "base_uri": "https://localhost:8080/",
          "height": 300
        },
        "outputId": "40d01ac0-c06a-4518-c074-99f9d4c4319d"
      },
      "source": [
        "df_test.describe()"
      ],
      "execution_count": 13,
      "outputs": [
        {
          "output_type": "execute_result",
          "data": {
            "text/plain": [
              "       PassengerId          Age   RoomService     FoodCourt  ShoppingMall  \\\n",
              "count  4923.000000  4923.000000   4923.000000   4923.000000   4923.000000   \n",
              "mean   4461.000000    29.028235    231.206175    473.335568    184.646354   \n",
              "std    1421.292018    14.466997    696.138873   1634.705363    677.528376   \n",
              "min    2000.000000     0.000000      0.000000      0.000000      0.000000   \n",
              "25%    3230.500000    19.000000      0.000000      0.000000      0.000000   \n",
              "50%    4461.000000    27.000000      0.000000      0.000000      0.000000   \n",
              "75%    5691.500000    38.000000     59.000000     84.000000     31.000000   \n",
              "max    6922.000000    79.000000  14327.000000  29813.000000  23492.000000   \n",
              "\n",
              "                Spa        VRDeck  \n",
              "count   4923.000000   4923.000000  \n",
              "mean     308.407678    317.807434  \n",
              "std     1126.346091   1164.989135  \n",
              "min        0.000000      0.000000  \n",
              "25%        0.000000      0.000000  \n",
              "50%        0.000000      0.000000  \n",
              "75%       63.000000     59.500000  \n",
              "max    22408.000000  20336.000000  "
            ],
            "text/html": [
              "\n",
              "  <div id=\"df-63aab44d-e2e6-4ba0-8044-405e5f12b9f4\">\n",
              "    <div class=\"colab-df-container\">\n",
              "      <div>\n",
              "<style scoped>\n",
              "    .dataframe tbody tr th:only-of-type {\n",
              "        vertical-align: middle;\n",
              "    }\n",
              "\n",
              "    .dataframe tbody tr th {\n",
              "        vertical-align: top;\n",
              "    }\n",
              "\n",
              "    .dataframe thead th {\n",
              "        text-align: right;\n",
              "    }\n",
              "</style>\n",
              "<table border=\"1\" class=\"dataframe\">\n",
              "  <thead>\n",
              "    <tr style=\"text-align: right;\">\n",
              "      <th></th>\n",
              "      <th>PassengerId</th>\n",
              "      <th>Age</th>\n",
              "      <th>RoomService</th>\n",
              "      <th>FoodCourt</th>\n",
              "      <th>ShoppingMall</th>\n",
              "      <th>Spa</th>\n",
              "      <th>VRDeck</th>\n",
              "    </tr>\n",
              "  </thead>\n",
              "  <tbody>\n",
              "    <tr>\n",
              "      <th>count</th>\n",
              "      <td>4923.000000</td>\n",
              "      <td>4923.000000</td>\n",
              "      <td>4923.000000</td>\n",
              "      <td>4923.000000</td>\n",
              "      <td>4923.000000</td>\n",
              "      <td>4923.000000</td>\n",
              "      <td>4923.000000</td>\n",
              "    </tr>\n",
              "    <tr>\n",
              "      <th>mean</th>\n",
              "      <td>4461.000000</td>\n",
              "      <td>29.028235</td>\n",
              "      <td>231.206175</td>\n",
              "      <td>473.335568</td>\n",
              "      <td>184.646354</td>\n",
              "      <td>308.407678</td>\n",
              "      <td>317.807434</td>\n",
              "    </tr>\n",
              "    <tr>\n",
              "      <th>std</th>\n",
              "      <td>1421.292018</td>\n",
              "      <td>14.466997</td>\n",
              "      <td>696.138873</td>\n",
              "      <td>1634.705363</td>\n",
              "      <td>677.528376</td>\n",
              "      <td>1126.346091</td>\n",
              "      <td>1164.989135</td>\n",
              "    </tr>\n",
              "    <tr>\n",
              "      <th>min</th>\n",
              "      <td>2000.000000</td>\n",
              "      <td>0.000000</td>\n",
              "      <td>0.000000</td>\n",
              "      <td>0.000000</td>\n",
              "      <td>0.000000</td>\n",
              "      <td>0.000000</td>\n",
              "      <td>0.000000</td>\n",
              "    </tr>\n",
              "    <tr>\n",
              "      <th>25%</th>\n",
              "      <td>3230.500000</td>\n",
              "      <td>19.000000</td>\n",
              "      <td>0.000000</td>\n",
              "      <td>0.000000</td>\n",
              "      <td>0.000000</td>\n",
              "      <td>0.000000</td>\n",
              "      <td>0.000000</td>\n",
              "    </tr>\n",
              "    <tr>\n",
              "      <th>50%</th>\n",
              "      <td>4461.000000</td>\n",
              "      <td>27.000000</td>\n",
              "      <td>0.000000</td>\n",
              "      <td>0.000000</td>\n",
              "      <td>0.000000</td>\n",
              "      <td>0.000000</td>\n",
              "      <td>0.000000</td>\n",
              "    </tr>\n",
              "    <tr>\n",
              "      <th>75%</th>\n",
              "      <td>5691.500000</td>\n",
              "      <td>38.000000</td>\n",
              "      <td>59.000000</td>\n",
              "      <td>84.000000</td>\n",
              "      <td>31.000000</td>\n",
              "      <td>63.000000</td>\n",
              "      <td>59.500000</td>\n",
              "    </tr>\n",
              "    <tr>\n",
              "      <th>max</th>\n",
              "      <td>6922.000000</td>\n",
              "      <td>79.000000</td>\n",
              "      <td>14327.000000</td>\n",
              "      <td>29813.000000</td>\n",
              "      <td>23492.000000</td>\n",
              "      <td>22408.000000</td>\n",
              "      <td>20336.000000</td>\n",
              "    </tr>\n",
              "  </tbody>\n",
              "</table>\n",
              "</div>\n",
              "      <button class=\"colab-df-convert\" onclick=\"convertToInteractive('df-63aab44d-e2e6-4ba0-8044-405e5f12b9f4')\"\n",
              "              title=\"Convert this dataframe to an interactive table.\"\n",
              "              style=\"display:none;\">\n",
              "        \n",
              "  <svg xmlns=\"http://www.w3.org/2000/svg\" height=\"24px\"viewBox=\"0 0 24 24\"\n",
              "       width=\"24px\">\n",
              "    <path d=\"M0 0h24v24H0V0z\" fill=\"none\"/>\n",
              "    <path d=\"M18.56 5.44l.94 2.06.94-2.06 2.06-.94-2.06-.94-.94-2.06-.94 2.06-2.06.94zm-11 1L8.5 8.5l.94-2.06 2.06-.94-2.06-.94L8.5 2.5l-.94 2.06-2.06.94zm10 10l.94 2.06.94-2.06 2.06-.94-2.06-.94-.94-2.06-.94 2.06-2.06.94z\"/><path d=\"M17.41 7.96l-1.37-1.37c-.4-.4-.92-.59-1.43-.59-.52 0-1.04.2-1.43.59L10.3 9.45l-7.72 7.72c-.78.78-.78 2.05 0 2.83L4 21.41c.39.39.9.59 1.41.59.51 0 1.02-.2 1.41-.59l7.78-7.78 2.81-2.81c.8-.78.8-2.07 0-2.86zM5.41 20L4 18.59l7.72-7.72 1.47 1.35L5.41 20z\"/>\n",
              "  </svg>\n",
              "      </button>\n",
              "      \n",
              "  <style>\n",
              "    .colab-df-container {\n",
              "      display:flex;\n",
              "      flex-wrap:wrap;\n",
              "      gap: 12px;\n",
              "    }\n",
              "\n",
              "    .colab-df-convert {\n",
              "      background-color: #E8F0FE;\n",
              "      border: none;\n",
              "      border-radius: 50%;\n",
              "      cursor: pointer;\n",
              "      display: none;\n",
              "      fill: #1967D2;\n",
              "      height: 32px;\n",
              "      padding: 0 0 0 0;\n",
              "      width: 32px;\n",
              "    }\n",
              "\n",
              "    .colab-df-convert:hover {\n",
              "      background-color: #E2EBFA;\n",
              "      box-shadow: 0px 1px 2px rgba(60, 64, 67, 0.3), 0px 1px 3px 1px rgba(60, 64, 67, 0.15);\n",
              "      fill: #174EA6;\n",
              "    }\n",
              "\n",
              "    [theme=dark] .colab-df-convert {\n",
              "      background-color: #3B4455;\n",
              "      fill: #D2E3FC;\n",
              "    }\n",
              "\n",
              "    [theme=dark] .colab-df-convert:hover {\n",
              "      background-color: #434B5C;\n",
              "      box-shadow: 0px 1px 3px 1px rgba(0, 0, 0, 0.15);\n",
              "      filter: drop-shadow(0px 1px 2px rgba(0, 0, 0, 0.3));\n",
              "      fill: #FFFFFF;\n",
              "    }\n",
              "  </style>\n",
              "\n",
              "      <script>\n",
              "        const buttonEl =\n",
              "          document.querySelector('#df-63aab44d-e2e6-4ba0-8044-405e5f12b9f4 button.colab-df-convert');\n",
              "        buttonEl.style.display =\n",
              "          google.colab.kernel.accessAllowed ? 'block' : 'none';\n",
              "\n",
              "        async function convertToInteractive(key) {\n",
              "          const element = document.querySelector('#df-63aab44d-e2e6-4ba0-8044-405e5f12b9f4');\n",
              "          const dataTable =\n",
              "            await google.colab.kernel.invokeFunction('convertToInteractive',\n",
              "                                                     [key], {});\n",
              "          if (!dataTable) return;\n",
              "\n",
              "          const docLinkHtml = 'Like what you see? Visit the ' +\n",
              "            '<a target=\"_blank\" href=https://colab.research.google.com/notebooks/data_table.ipynb>data table notebook</a>'\n",
              "            + ' to learn more about interactive tables.';\n",
              "          element.innerHTML = '';\n",
              "          dataTable['output_type'] = 'display_data';\n",
              "          await google.colab.output.renderOutput(dataTable, element);\n",
              "          const docLink = document.createElement('div');\n",
              "          docLink.innerHTML = docLinkHtml;\n",
              "          element.appendChild(docLink);\n",
              "        }\n",
              "      </script>\n",
              "    </div>\n",
              "  </div>\n",
              "  "
            ]
          },
          "metadata": {},
          "execution_count": 13
        }
      ]
    },
    {
      "cell_type": "code",
      "metadata": {
        "id": "4Vu3FBV70F-M"
      },
      "source": [
        "X_test = df_test.copy()"
      ],
      "execution_count": 14,
      "outputs": []
    },
    {
      "cell_type": "markdown",
      "metadata": {
        "id": "xogSlXT5v6GQ"
      },
      "source": [
        "We need to prepare both training and test datasets before working with a Machine Learning method. \n",
        "\n",
        "Consider the following tips:\n",
        "\n",
        "1.   Remove columns that you think does not influence the class label (for example 'PassengerId');\n",
        "2.   Use some encoding method with categorical data.\n",
        "\n",
        "You are free to use any other pre-processing ideas. \n",
        "\n",
        "You could use for instance, one-hot encoding with categorical data, as was shown when we studied the heart disease dataset.\n"
      ]
    },
    {
      "cell_type": "markdown",
      "metadata": {
        "id": "efkMdpZoT3tg"
      },
      "source": [
        "Number of categories on each categorical data:\n",
        "\n",
        "\n",
        "\n",
        "1.   HomePlanet: 3\n",
        "2.   Destination: 3\n",
        "\n"
      ]
    },
    {
      "cell_type": "code",
      "source": [
        "#Include your code here"
      ],
      "metadata": {
        "id": "3gWHFwiDZLNH"
      },
      "execution_count": null,
      "outputs": []
    },
    {
      "cell_type": "markdown",
      "metadata": {
        "id": "2OqYdgmy_GDa"
      },
      "source": [
        "Convert the datasets to NumPy to easily use them."
      ]
    },
    {
      "cell_type": "code",
      "metadata": {
        "id": "lW9tL2ydv9kl"
      },
      "source": [
        "# data features\n",
        "X_train = X_train.to_numpy()\n",
        "X_test = X_test.to_numpy()\n"
      ],
      "execution_count": null,
      "outputs": []
    },
    {
      "cell_type": "markdown",
      "metadata": {
        "id": "K8b5xrjIrqD_"
      },
      "source": [
        "## GRAPE"
      ]
    },
    {
      "cell_type": "markdown",
      "metadata": {
        "id": "UJ05U2S409Dl"
      },
      "source": [
        "<div>\n",
        "<img src=\"https://drive.google.com/uc?export=view&id=1hw43Oi3lGTCkspQ0ged2bZB8q2EpcPhz\" width=\"150\"/>\n",
        "</div> \n",
        "\n",
        "GRammatical Algorithms in Python for Evolution (GRAPE)\n"
      ]
    },
    {
      "cell_type": "code",
      "metadata": {
        "id": "be7FcJqpWnJM",
        "colab": {
          "base_uri": "https://localhost:8080/"
        },
        "outputId": "046579ac-c1fe-4a1e-d6cf-b1b127acce98"
      },
      "source": [
        "!pip install deap==1.3 \n",
        "\n",
        "import grape\n",
        "import algorithms\n",
        "\n",
        "from os import path\n",
        "from deap import creator, base, tools\n",
        "import random\n",
        "import csv"
      ],
      "execution_count": 15,
      "outputs": [
        {
          "output_type": "stream",
          "name": "stdout",
          "text": [
            "Looking in indexes: https://pypi.org/simple, https://us-python.pkg.dev/colab-wheels/public/simple/\n",
            "Collecting deap==1.3\n",
            "  Downloading deap-1.3.0-cp37-cp37m-manylinux2010_x86_64.whl (152 kB)\n",
            "\u001b[K     |████████████████████████████████| 152 kB 9.2 MB/s \n",
            "\u001b[?25hRequirement already satisfied: numpy in /usr/local/lib/python3.7/dist-packages (from deap==1.3) (1.21.6)\n",
            "Installing collected packages: deap\n",
            "Successfully installed deap-1.3.0\n"
          ]
        }
      ]
    },
    {
      "cell_type": "markdown",
      "metadata": {
        "id": "HKB9j6fmlFEr"
      },
      "source": [
        "You can import functions to be used with your grammar from [functions.py](https://github.com/UL-BDS/grape/blob/main/functions.py) on GRAPE repository and / or you can define your own functions."
      ]
    },
    {
      "cell_type": "code",
      "metadata": {
        "id": "FMu0U8j-loXC"
      },
      "source": [
        "from functions import add, sub, mul, pdiv#, psqrt, plog, neg, and_, or_, not_, less_than_or_equal, greater_than_or_equal"
      ],
      "execution_count": 16,
      "outputs": []
    },
    {
      "cell_type": "markdown",
      "metadata": {
        "id": "W7sMFCXtoCyb"
      },
      "source": [
        "'heartDisease.bnf' is a grammar used for another problem just to check if everything is working well.\n",
        "\n",
        "Write your own grammar in a text file and save it in your Drive account.\n",
        "\n",
        "Put the whole address on GRAMMAR_FILE and print to check it."
      ]
    },
    {
      "cell_type": "code",
      "metadata": {
        "id": "7Xc60pTemiIb",
        "colab": {
          "base_uri": "https://localhost:8080/"
        },
        "outputId": "a903624d-237d-483f-a145-b754f6141bbf"
      },
      "source": [
        "#GRAMMAR_FILE = '/content/drive/MyDrive/data/example.bnf' #put the whole address of your own grammar and remove the # in the beginning of this line\n",
        "GRAMMAR_FILE = 'heartDisease.bnf' #remove this line when you are using your own grammar\n",
        "\n",
        "#f = open(GRAMMAR_FILE, \"r\") #remove the # in the beginning of this line when you are using your own grammar\n",
        "f = open(\"grammars/\" + GRAMMAR_FILE, \"r\") #remove this line when you are using your own grammar\n",
        "print(f.read())\n",
        "f.close() \n"
      ],
      "execution_count": 17,
      "outputs": [
        {
          "output_type": "stream",
          "name": "stdout",
          "text": [
            "<log_op> ::= <conditional_branches> | and_(<log_op>,<log_op>) | or_(<log_op>,<log_op>) | not_(<log_op>) | <boolean_feature>\n",
            "<c>  ::= 0 | 1 | 2 | 3 | 4 | 5 | 6 | 7 | 8 | 9\n",
            "<conditional_branches> ::= less_than_or_equal(<num_op>,<num_op>) | greater_than_or_equal(<num_op>, <num_op>)\n",
            "<num_op>   ::= add(<num_op>,<num_op>) | sub(<num_op>,<num_op>) | mul(<num_op>,<num_op>) | pdiv(<num_op>,<num_op>) | <nonboolean_feature>\n",
            "<boolean_feature> ::= x[1]|x[4]|x[6]|x[8]|x[9]|x[10]|x[11]|x[12]|x[13]|x[14]|x[15]|x[16]|x[17]|x[18]|x[19]|x[20]|x[21]|x[22]|x[23]|x[24]\n",
            "<nonboolean_feature> ::= x[0]|x[2]|x[3]|x[5]|x[7]|<c><c>.<c><c>\n"
          ]
        }
      ]
    },
    {
      "cell_type": "markdown",
      "metadata": {
        "id": "082ga8rppORi"
      },
      "source": [
        "Run the following cell to put your grammar on the class Grammar."
      ]
    },
    {
      "cell_type": "code",
      "metadata": {
        "id": "JEJcyIJKnUoz"
      },
      "source": [
        "#BNF_GRAMMAR = grape.Grammar(GRAMMAR_FILE) #remove the # in the beginning of this line when you are using your own grammar\n",
        "BNF_GRAMMAR = grape.Grammar(path.join(\"grammars\", GRAMMAR_FILE)) #remove this line when you are using your own grammar"
      ],
      "execution_count": 18,
      "outputs": []
    },
    {
      "cell_type": "markdown",
      "metadata": {
        "id": "FOZl1P-spq3Y"
      },
      "source": [
        "The fitness function is the percentage of outputs wrongly predicted.\n",
        "\n",
        "You can use any other fitness function, but you need to maintain the comma at the end of the returning lines.\n",
        "\n",
        "In this notebook, GRAPE is being used only for minimisation, so the fitness function needs to consider it. If you want to maximise, you also need to change the weights in the toolbox.\n",
        "\n",
        "Moreover, this fitness functions considers the predicted output as True or False. If your grammar allow individuals with other outputs, you need to change the fitness function."
      ]
    },
    {
      "cell_type": "code",
      "metadata": {
        "id": "Mt5IJHTFprTz"
      },
      "source": [
        "def fitness_eval(individual, points):\n",
        "    \"\"\"\n",
        "    Fitness Function\n",
        "    \"\"\"\n",
        "\n",
        "    x = points[0]\n",
        "    Y = points[1]\n",
        "    \n",
        "    if individual.invalid == True:\n",
        "        return np.NaN,\n",
        "\n",
        "    # Evaluate the expression\n",
        "    try:\n",
        "        pred = eval(individual.phenotype)\n",
        "    except (FloatingPointError, ZeroDivisionError, OverflowError,\n",
        "            MemoryError):\n",
        "        return np.NaN,\n",
        "    assert np.isrealobj(pred)\n",
        "\n",
        "    compare = np.equal(Y,pred)\n",
        "    fitness = 1 - np.mean(compare)\n",
        "   \n",
        "    return fitness,"
      ],
      "execution_count": 19,
      "outputs": []
    },
    {
      "cell_type": "markdown",
      "metadata": {
        "id": "EJ5ZUKRYWXRi"
      },
      "source": [
        "To use properly the fitness function above with GRAPE, the features must be in the lines, and the samples must be in the columns, so if your data is not like that, you need to transpose the matrix.\n",
        "\n",
        "Take a look at the print. If you run this cell two times, the matrix will be transposed again and will not work properly."
      ]
    },
    {
      "cell_type": "code",
      "metadata": {
        "id": "UPJQ-iGUVutk",
        "colab": {
          "base_uri": "https://localhost:8080/"
        },
        "outputId": "4f659c69-b663-45bd-b476-df696ab2bbda"
      },
      "source": [
        "X_train = np.transpose(X_train)\n",
        "X_test = np.transpose(X_test) \n",
        "\n",
        "print('Training (X,Y):\\t', X_train.shape, y_train.shape)\n",
        "print('Test (X):\\t', X_test.shape)"
      ],
      "execution_count": 20,
      "outputs": [
        {
          "output_type": "stream",
          "name": "stdout",
          "text": [
            "Training (X,Y):\t (12, 2000) (2000,)\n",
            "Test (X):\t (12, 4923)\n"
          ]
        }
      ]
    },
    {
      "cell_type": "markdown",
      "metadata": {
        "id": "1FZt9KkAqtUS"
      },
      "source": [
        "Set the Grammatical Evolution parameters."
      ]
    },
    {
      "cell_type": "code",
      "metadata": {
        "id": "YHxhHk5uqwFa"
      },
      "source": [
        "POPULATION_SIZE = \n",
        "MAX_GENERATIONS = \n",
        "P_CROSSOVER = \n",
        "P_MUTATION = \n",
        "ELITE_SIZE = \n",
        "HALLOFFAME_SIZE =\n",
        "\n",
        "TOURNAMENT_SIZE = \n",
        "RANDOM_SEED = \n",
        "random.seed(RANDOM_SEED) \n",
        "\n",
        "CODON_CONSUMPTION = 'lazy'\n",
        "GENOME_REPRESENTATION = 'list'\n",
        "MAX_GENOME_LENGTH = None\n",
        "\n",
        "MAX_INIT_TREE_DEPTH = \n",
        "MIN_INIT_TREE_DEPTH = \n",
        "MAX_TREE_DEPTH = \n",
        "MAX_WRAPS = 0\n",
        "CODON_SIZE = 255\n",
        "\n",
        "REPORT_ITEMS = ['gen', 'invalid', 'avg', 'std', 'min', 'max', \n",
        "                'best_ind_length', 'avg_length', \n",
        "                'best_ind_nodes', 'avg_nodes', \n",
        "                'best_ind_depth', 'avg_depth', \n",
        "                'avg_used_codons', 'best_ind_used_codons', \n",
        "                'structural_diversity', 'fitness_diversity',\n",
        "                'selection_time', 'generation_time']"
      ],
      "execution_count": null,
      "outputs": []
    },
    {
      "cell_type": "markdown",
      "metadata": {
        "id": "FfpeXPO_q9By"
      },
      "source": [
        "Create a toolbox."
      ]
    },
    {
      "cell_type": "code",
      "metadata": {
        "id": "Mh3DJnexq-oy"
      },
      "source": [
        "toolbox = base.Toolbox()\n",
        "\n",
        "# define a single objective, minimising fitness strategy:\n",
        "creator.create(\"FitnessMin\", base.Fitness, weights=(-1.0,))\n",
        "\n",
        "creator.create('Individual', grape.Individual, fitness=creator.FitnessMin)\n",
        "\n",
        "toolbox.register(\"populationCreator\", grape.sensible_initialisation, creator.Individual) \n",
        "\n",
        "toolbox.register(\"evaluate\", fitness_eval)\n",
        "\n",
        "# Tournament selection:\n",
        "toolbox.register(\"select\", tools.selTournament, tournsize=TOURNAMENT_SIZE)\n",
        "\n",
        "# Single-point crossover:\n",
        "toolbox.register(\"mate\", grape.crossover_onepoint)\n",
        "\n",
        "# Flip-int mutation:\n",
        "toolbox.register(\"mutate\", grape.mutation_int_flip_per_codon)"
      ],
      "execution_count": null,
      "outputs": []
    },
    {
      "cell_type": "code",
      "metadata": {
        "id": "yhCmqPRHrMHJ"
      },
      "source": [
        "# create initial population (generation 0):\n",
        "population = toolbox.populationCreator(pop_size=POPULATION_SIZE, \n",
        "                                           bnf_grammar=BNF_GRAMMAR, \n",
        "                                           min_init_depth=MIN_INIT_TREE_DEPTH,\n",
        "                                           max_init_depth=MAX_INIT_TREE_DEPTH,\n",
        "                                           codon_size=CODON_SIZE,\n",
        "                                           codon_consumption=CODON_CONSUMPTION,\n",
        "                                           genome_representation=GENOME_REPRESENTATION\n",
        "                                            )\n",
        "\n",
        "# define the hall-of-fame object:\n",
        "hof = tools.HallOfFame(HALL_OF_FAME_SIZE)\n",
        "\n",
        "# prepare the statistics object:\n",
        "stats = tools.Statistics(key=lambda ind: ind.fitness.values)\n",
        "stats.register(\"avg\", np.nanmean)\n",
        "stats.register(\"std\", np.nanstd)\n",
        "stats.register(\"min\", np.nanmin)\n",
        "stats.register(\"max\", np.nanmax)"
      ],
      "execution_count": null,
      "outputs": []
    },
    {
      "cell_type": "markdown",
      "metadata": {
        "id": "ByAiFpujrXmL"
      },
      "source": [
        "Run Grammatical Evolution."
      ]
    },
    {
      "cell_type": "code",
      "metadata": {
        "id": "Si071Z_2raLB"
      },
      "source": [
        "population, logbook = algorithms.ge_eaSimpleWithElitism(population, toolbox, cxpb=P_CROSSOVER, mutpb=P_MUTATION,\n",
        "                                              ngen=MAX_GENERATIONS, elite_size=ELITE_SIZE,\n",
        "                                              bnf_grammar=BNF_GRAMMAR, \n",
        "                                              codon_size=CODON_SIZE, \n",
        "                                              max_tree_depth=MAX_TREE_DEPTH,\n",
        "                                              max_genome_length=MAX_GENOME_LENGTH,\n",
        "                                              points_train=[X_train, Y_train], \n",
        "                                              codon_consumption=CODON_CONSUMPTION,\n",
        "                                              report_items=REPORT_ITEMS,\n",
        "                                              genome_representation=GENOME_REPRESENTATION,                                              \n",
        "                                              stats=stats, halloffame=hof, verbose=False)"
      ],
      "execution_count": null,
      "outputs": []
    },
    {
      "cell_type": "markdown",
      "metadata": {
        "id": "tLXak5uTuVuh"
      },
      "source": [
        "Show the best individual as an expression."
      ]
    },
    {
      "cell_type": "code",
      "metadata": {
        "id": "00RD1VvMtr5J"
      },
      "source": [
        "# Best individual\n",
        "import textwrap\n",
        "best = hof.items[0].phenotype\n",
        "print(\"Best individual: \\n\",\"\\n\".join(textwrap.wrap(best,80)))\n",
        "print(\"\\nTraining Fitness: \", hof.items[0].fitness.values[0])\n",
        "print(\"Depth: \", hof.items[0].depth)\n",
        "print(\"Length of the genome: \", len(hof.items[0].genome))\n",
        "print(f'Used portion of the genome: {hof.items[0].used_codons/len(hof.items[0].genome):.2f}')"
      ],
      "execution_count": null,
      "outputs": []
    },
    {
      "cell_type": "markdown",
      "metadata": {
        "id": "gnwyfFGmunWR"
      },
      "source": [
        "Define a function to predict values."
      ]
    },
    {
      "cell_type": "code",
      "metadata": {
        "id": "BJgW2-ZFt2-Z"
      },
      "source": [
        "def predict(individual, X):\n",
        "    x = X\n",
        "    \n",
        "    if individual.invalid == True:\n",
        "        return np.NaN,\n",
        "\n",
        "    # Evaluate the expression\n",
        "    try:\n",
        "        pred = eval(individual.phenotype)\n",
        "    except (FloatingPointError, ZeroDivisionError, OverflowError,\n",
        "            MemoryError):\n",
        "        return np.NaN,\n",
        "    assert np.isrealobj(pred)\n",
        "    \n",
        "    _, c = x.shape\n",
        "    \n",
        "    try:\n",
        "        Y_class = [True if pred[i] > 0 else False for i in range(c)]\n",
        "    except (IndexError, TypeError):\n",
        "        return np.NaN,\n",
        "   \n",
        "    return Y_class"
      ],
      "execution_count": null,
      "outputs": []
    },
    {
      "cell_type": "markdown",
      "metadata": {
        "id": "U87HYdwKud_x"
      },
      "source": [
        "Predict the classes of the test set."
      ]
    },
    {
      "cell_type": "code",
      "metadata": {
        "id": "Um-DsUo4uefK"
      },
      "source": [
        "y_pred = predict(hof.items[0], X_test)\n",
        "print(\"Predicted classes of the test set: \", y_pred)"
      ],
      "execution_count": null,
      "outputs": []
    },
    {
      "cell_type": "markdown",
      "metadata": {
        "id": "cvilz5ApvV05"
      },
      "source": [
        "Save it in a .csv file and submit it in the Kaggle competition.\n",
        "\n",
        "The format is as follows:\n",
        "1. First column is the original `PassengerId` column in the test set;\n",
        "2. Second column is named `Transported` and contains the predictions (only 0's or 1's)."
      ]
    },
    {
      "cell_type": "code",
      "metadata": {
        "id": "8ap20PzQz3aq"
      },
      "source": [
        "df_id = df_test['PassengerId']\n",
        "df_class = pd.DataFrame(data=y_pred, columns = ['Transported'])\n",
        "df_pred = pd.concat([df_id, df_class], axis=1)\n",
        "\n",
        "df_pred.to_csv('predictions.csv', sep=',', index=False)"
      ],
      "execution_count": null,
      "outputs": []
    },
    {
      "cell_type": "markdown",
      "metadata": {
        "id": "nAl7VAL3J-CB"
      },
      "source": [
        "## Genetic Programming"
      ]
    },
    {
      "cell_type": "markdown",
      "source": [
        "If you do not want to use GE, you can use GP in this project."
      ],
      "metadata": {
        "id": "ZSLOuhTVZgSO"
      }
    },
    {
      "cell_type": "code",
      "metadata": {
        "id": "KiVlsJdaeHp7"
      },
      "source": [
        "from deap import gp\n",
        "from deap import algorithms\n",
        "#base, creator and tools were already imported"
      ],
      "execution_count": null,
      "outputs": []
    },
    {
      "cell_type": "markdown",
      "metadata": {
        "id": "bBtUbsNgbpmY"
      },
      "source": [
        "Set GP parameters."
      ]
    },
    {
      "cell_type": "code",
      "metadata": {
        "id": "7Uq-lDzSb2jx"
      },
      "source": [
        "POPULATION_SIZE = \n",
        "P_CROSSOVER =\n",
        "P_MUTATION = \n",
        "MAX_GENERATIONS = \n",
        "HALL_OF_FAME_SIZE = \n",
        "\n",
        "MIN_TREE_HEIGHT = \n",
        "MAX_TREE_HEIGHT = \n",
        "LIMIT_TREE_HEIGHT = \n",
        "MUT_MIN_TREE_HEIGHT = \n",
        "MUT_MAX_TREE_HEIGHT = "
      ],
      "execution_count": null,
      "outputs": []
    },
    {
      "cell_type": "markdown",
      "metadata": {
        "id": "BTdFeqi8cHLp"
      },
      "source": [
        "Next steps:\n",
        "\n",
        "1. Define a fitness function;\n",
        "2. Add functions and terminals to `gp.PrimitiveSet`. Maybe you will need to define some functions before that;\n",
        "3. Create the toolbox;\n",
        "4. Run GP;\n",
        "5. Define a function to predict samples using a GP individual;\n",
        "6. Predict the test set, save a .csv file and submit it in the [Kaggle competition](https://www.kaggle.com/c/cs6271-kagglecompetition/submit) to see if the results are better than when using GRAPE. \n",
        "\n",
        "Hint: \n",
        "    \n",
        "    Maybe you will need to change the format of the data on X_train and X_test."
      ]
    },
    {
      "cell_type": "code",
      "metadata": {
        "id": "zVtudXsjKBRR"
      },
      "source": [
        "# your code here"
      ],
      "execution_count": null,
      "outputs": []
    },
    {
      "cell_type": "markdown",
      "metadata": {
        "id": "oJK4hMZrYSG2"
      },
      "source": [
        "## Summary\n",
        "\n"
      ]
    },
    {
      "cell_type": "markdown",
      "metadata": {
        "id": "d6phFI_7YcWf"
      },
      "source": [
        "Your summary here."
      ]
    }
  ]
}
