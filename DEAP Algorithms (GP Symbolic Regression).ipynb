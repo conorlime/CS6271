{
 "cells": [
  {
   "cell_type": "markdown",
   "metadata": {},
   "source": [
    "# GP Toolbox for DEAP"
   ]
  },
  {
   "cell_type": "markdown",
   "metadata": {},
   "source": [
    "Here we use DEAP to implement GP. This notebook is based on the *DEAP Algorithms (GA)* notebook we used earlier and only does a **single** run to keep thing simple.\n",
    "\n",
    "GP is a lot more complex than GA so we will import more packages and do a bit more housekeeping before we run out algorithm."
   ]
  },
  {
   "cell_type": "markdown",
   "metadata": {},
   "source": [
    "Install DEAP. "
   ]
  },
  {
   "cell_type": "code",
   "execution_count": null,
   "metadata": {},
   "outputs": [],
   "source": [
    "!pip install deap"
   ]
  },
  {
   "cell_type": "markdown",
   "metadata": {},
   "source": [
    "Import the DEAP tools and useful libraries . Notice this time we have some extra ones because of the symbolic nature of GP."
   ]
  },
  {
   "cell_type": "code",
   "execution_count": 1,
   "metadata": {},
   "outputs": [],
   "source": [
    "import operator\n",
    "import math\n",
    "import random\n",
    "\n",
    "import numpy\n",
    "\n",
    "from deap import algorithms\n",
    "from deap import base\n",
    "from deap import creator\n",
    "from deap import tools\n",
    "from deap import gp\n",
    "\n",
    "\n",
    "import matplotlib.pyplot as plt"
   ]
  },
  {
   "cell_type": "markdown",
   "metadata": {},
   "source": [
    "Set our Genetic Programming parameters.  Notice that these are virtually the same as the GA ones."
   ]
  },
  {
   "cell_type": "code",
   "execution_count": 2,
   "metadata": {},
   "outputs": [],
   "source": [
    "# Genetic Programming constants:\n",
    "POPULATION_SIZE = 5\n",
    "P_CROSSOVER = 0.7  # probability for crossover\n",
    "P_MUTATION = 0.01   # probability for mutating an individual\n",
    "MAX_GENERATIONS = 10\n",
    "HALL_OF_FAME_SIZE = 10\n"
   ]
  },
  {
   "cell_type": "markdown",
   "metadata": {},
   "source": [
    "Set the random seed. "
   ]
  },
  {
   "cell_type": "code",
   "execution_count": 3,
   "metadata": {},
   "outputs": [],
   "source": [
    "RANDOM_SEED = 412\n",
    "random.seed(RANDOM_SEED)"
   ]
  },
  {
   "cell_type": "markdown",
   "metadata": {},
   "source": [
    "Because GP can mix and match operators and operands in an unconstrained way, we need to protect some our operators to prevent them from causing a crash."
   ]
  },
  {
   "cell_type": "code",
   "execution_count": 4,
   "metadata": {},
   "outputs": [],
   "source": [
    "# Define new functions\n",
    "def protectedDiv(left, right):\n",
    "    try:\n",
    "        return left / right\n",
    "    except ZeroDivisionError:\n",
    "        return 1"
   ]
  },
  {
   "cell_type": "markdown",
   "metadata": {},
   "source": [
    "Add our functions and terminals."
   ]
  },
  {
   "cell_type": "code",
   "execution_count": 5,
   "metadata": {},
   "outputs": [],
   "source": [
    "pset = gp.PrimitiveSet(\"MAIN\", 1)\n",
    "pset.addPrimitive(operator.add, 2)\n",
    "pset.addPrimitive(operator.sub, 2)\n",
    "pset.addPrimitive(operator.mul, 2)\n",
    "pset.addPrimitive(protectedDiv, 2)\n",
    "pset.addPrimitive(operator.neg, 1)\n",
    "pset.addPrimitive(math.cos, 1)\n",
    "pset.addPrimitive(math.sin, 1)\n",
    "pset.addEphemeralConstant(\"rand101\", lambda: random.randint(-1,1))\n",
    "pset.renameArguments(ARG0='x')"
   ]
  },
  {
   "cell_type": "markdown",
   "metadata": {},
   "source": [
    "Define our fitness function. This one is a bit more involved than early examples for the GA, as we need to calculate the error. In this case we want to compare the returned (predicted) values from an individual compared to what **should** have been returned. If the error is huge (defined as > 1000 here), we put a ceiling of 1000 on it.\n"
   ]
  },
  {
   "cell_type": "code",
   "execution_count": 6,
   "metadata": {},
   "outputs": [],
   "source": [
    "def evalSymbReg(individual, points):\n",
    "    # Transform the tree expression in a callable function\n",
    "    func = toolbox.compile(expr=individual)\n",
    "    # Evaluate the mean squared error between the expression\n",
    "    # and the real function : x**4 + x**3 + x**2 + x\n",
    "    sqerrors = ((func(x) - x**6 - x**5 - x**4 - x**3 - x**2 - x)**2 for x in points)\n",
    "    #sqerrors = ((func(x) - x - 23)**2 for x in points)\n",
    "    myError = math.fsum(sqerrors) / len(points)\n",
    "    if myError>1000:\n",
    "       myError=1000\n",
    "    return myError,"
   ]
  },
  {
   "cell_type": "markdown",
   "metadata": {},
   "source": [
    "Create our toolbox. We have a number of key differences here, so pay attention to the following:\n",
    "\n",
    "* In this case (and usually with Symbolic Regression in GP) we are looking to **minimize** error\n",
    "* Our individuals are **trees** rather than lists\n",
    "* Some operators, e.g. mutation, operate differently for GP so take them from the gp package\n"
   ]
  },
  {
   "cell_type": "code",
   "execution_count": 7,
   "metadata": {},
   "outputs": [],
   "source": [
    "creator.create(\"FitnessMin\", base.Fitness, weights=(-1.0,))\n",
    "creator.create(\"Individual\", gp.PrimitiveTree, fitness=creator.FitnessMin)\n",
    "\n",
    "toolbox = base.Toolbox()\n",
    "toolbox.register(\"expr\", gp.genHalfAndHalf, pset=pset, min_=1, max_=2)\n",
    "toolbox.register(\"individual\", tools.initIterate, creator.Individual, toolbox.expr)\n",
    "toolbox.register(\"population\", tools.initRepeat, list, toolbox.individual)\n",
    "toolbox.register(\"compile\", gp.compile, pset=pset)\n",
    "\n",
    "toolbox.register(\"evaluate\", evalSymbReg, points=[x/10. for x in range(-5,5)])\n",
    "toolbox.register(\"select\", tools.selTournament, tournsize=5)\n",
    "toolbox.register(\"mate\", gp.cxOnePoint)\n",
    "toolbox.register(\"expr_mut\", gp.genFull, min_=0, max_=5)\n",
    "toolbox.register(\"mutate\", gp.mutUniform, expr=toolbox.expr_mut, pset=pset)\n",
    "\n",
    "toolbox.decorate(\"mate\", gp.staticLimit(key=operator.attrgetter(\"height\"), max_value=17))\n",
    "toolbox.decorate(\"mutate\", gp.staticLimit(key=operator.attrgetter(\"height\"), max_value=17))\n"
   ]
  },
  {
   "cell_type": "markdown",
   "metadata": {},
   "source": [
    "Set up our population as before"
   ]
  },
  {
   "cell_type": "code",
   "execution_count": 8,
   "metadata": {},
   "outputs": [],
   "source": [
    "population = toolbox.population(n=POPULATION_SIZE)\n",
    "# define the hall-of-fame object:\n",
    "hof = tools.HallOfFame(HALL_OF_FAME_SIZE)   \n"
   ]
  },
  {
   "cell_type": "markdown",
   "metadata": {},
   "source": [
    "Create a statistics object. This time we're going to use the **MultiStatistics** tool because we want to record statistics about **size** as well as **fitness**."
   ]
  },
  {
   "cell_type": "code",
   "execution_count": 9,
   "metadata": {},
   "outputs": [],
   "source": [
    "stats_fit = tools.Statistics(lambda ind: ind.fitness.values)\n",
    "stats_size = tools.Statistics(len)\n",
    "mstats = tools.MultiStatistics(fitness=stats_fit, size=stats_size)\n",
    "mstats.register(\"avg\", numpy.mean)\n",
    "mstats.register(\"std\", numpy.std)\n",
    "mstats.register(\"min\", numpy.min)\n",
    "mstats.register(\"max\", numpy.max)"
   ]
  },
  {
   "cell_type": "markdown",
   "metadata": {},
   "source": [
    "Let's run our GP -- notice how it's almost the same as running the GA."
   ]
  },
  {
   "cell_type": "code",
   "execution_count": 10,
   "metadata": {},
   "outputs": [
    {
     "name": "stdout",
     "output_type": "stream",
     "text": [
      "   \t      \t                        fitness                         \t                      size                     \n",
      "   \t      \t--------------------------------------------------------\t-----------------------------------------------\n",
      "gen\tnevals\tavg    \tgen\tmax   \tmin      \tnevals\tstd     \tavg\tgen\tmax\tmin\tnevals\tstd    \n",
      "0  \t5     \t0.50714\t0  \t1.0272\t0.0998331\t5     \t0.363206\t4  \t0  \t7  \t2  \t5     \t2.09762\n",
      "1  \t4     \t0.122622\t1  \t0.213776\t0.0998331\t4     \t0.0455773\t3.6\t1  \t6  \t3  \t4     \t1.2    \n",
      "2  \t2     \t0.0998331\t2  \t0.0998331\t0.0998331\t2     \t0        \t3  \t2  \t3  \t3  \t2     \t0      \n",
      "3  \t4     \t0.0998331\t3  \t0.0998331\t0.0998331\t4     \t0        \t3  \t3  \t3  \t3  \t4     \t0      \n",
      "4  \t2     \t0.0998331\t4  \t0.0998331\t0.0998331\t2     \t0        \t3  \t4  \t3  \t3  \t2     \t0      \n",
      "5  \t0     \t0.0998331\t5  \t0.0998331\t0.0998331\t0     \t0        \t3  \t5  \t3  \t3  \t0     \t0      \n",
      "6  \t2     \t0.0998331\t6  \t0.0998331\t0.0998331\t2     \t0        \t3  \t6  \t3  \t3  \t2     \t0      \n",
      "7  \t4     \t0.0998331\t7  \t0.0998331\t0.0998331\t4     \t0        \t3  \t7  \t3  \t3  \t4     \t0      \n",
      "8  \t4     \t0.0998331\t8  \t0.0998331\t0.0998331\t4     \t0        \t3  \t8  \t3  \t3  \t4     \t0      \n",
      "9  \t2     \t0.0998331\t9  \t0.0998331\t0.0998331\t2     \t0        \t3  \t9  \t3  \t3  \t2     \t0      \n",
      "10 \t2     \t0.0998331\t10 \t0.0998331\t0.0998331\t2     \t0        \t3  \t10 \t3  \t3  \t2     \t0      \n"
     ]
    }
   ],
   "source": [
    "population, logbook = algorithms.eaSimple(population, toolbox, cxpb=P_CROSSOVER, mutpb=P_MUTATION,\n",
    "                                               ngen=MAX_GENERATIONS, stats=mstats,\n",
    "                               halloffame=hof, verbose=True)"
   ]
  },
  {
   "cell_type": "markdown",
   "metadata": {},
   "source": [
    "Extract our statistcs. This time our logbook has *chapters* because we have maintained multiple statistics."
   ]
  },
  {
   "cell_type": "code",
   "execution_count": 11,
   "metadata": {},
   "outputs": [
    {
     "data": {
      "image/png": "[encoded data removed]",
      "text/plain": [
       "<Figure size 432x288 with 1 Axes>"
      ]
     },
     "metadata": {
      "needs_background": "light"
     },
     "output_type": "display_data"
    }
   ],
   "source": [
    "maxFitnessValues, meanFitnessValues = logbook.chapters['fitness'].select(\"min\", \"avg\")\n",
    "\n",
    "plt.plot(maxFitnessValues, color='red')\n",
    "plt.plot(meanFitnessValues, color='green')\n",
    "plt.xlabel('Generation')\n",
    "plt.ylabel('Max / Average Fitness')\n",
    "plt.title('Max and Average Fitness over Generations')\n",
    "plt.show()"
   ]
  },
  {
   "cell_type": "markdown",
   "metadata": {},
   "source": [
    "Not much evolution going on here for the max fitness, but that's okay as this is an easy problem. What's important is that we can see that the average fitness decreases quickly too."
   ]
  },
  {
   "cell_type": "code",
   "execution_count": null,
   "metadata": {},
   "outputs": [],
   "source": []
  }
 ],
 "metadata": {
  "kernelspec": {
   "display_name": "Python 3",
   "language": "python",
   "name": "python3"
  },
  "language_info": {
   "codemirror_mode": {
    "name": "ipython",
    "version": 3
   },
   "file_extension": ".py",
   "mimetype": "text/x-python",
   "name": "python",
   "nbconvert_exporter": "python",
   "pygments_lexer": "ipython3",
   "version": "3.8.3"
  }
 },
 "nbformat": 4,
 "nbformat_minor": 4
}
