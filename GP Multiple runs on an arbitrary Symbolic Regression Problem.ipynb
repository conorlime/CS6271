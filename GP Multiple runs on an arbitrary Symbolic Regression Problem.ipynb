{
  "nbformat": 4,
  "nbformat_minor": 0,
  "metadata": {
    "kernelspec": {
      "display_name": "Python 3",
      "language": "python",
      "name": "python3"
    },
    "language_info": {
      "codemirror_mode": {
        "name": "ipython",
        "version": 3
      },
      "file_extension": ".py",
      "mimetype": "text/x-python",
      "name": "python",
      "nbconvert_exporter": "python",
      "pygments_lexer": "ipython3",
      "version": "3.8.3"
    },
    "colab": {
      "name": "GP Multiple runs on an arbitrary Symbolic Regression Problem.ipynb",
      "provenance": [],
      "collapsed_sections": [],
      "include_colab_link": true
    }
  },
  "cells": [
    {
      "cell_type": "markdown",
      "metadata": {
        "id": "view-in-github",
        "colab_type": "text"
      },
      "source": [
        "<a href=\"https://colab.research.google.com/github/conorlime/CS6271/blob/main/GP%20Multiple%20runs%20on%20an%20arbitrary%20Symbolic%20Regression%20Problem.ipynb\" target=\"_parent\"><img src=\"https://colab.research.google.com/assets/colab-badge.svg\" alt=\"Open In Colab\"/></a>"
      ]
    },
    {
      "cell_type": "code",
      "metadata": {
        "id": "ahXBWon2K6qj"
      },
      "source": [
        ""
      ],
      "execution_count": null,
      "outputs": []
    },
    {
      "cell_type": "markdown",
      "metadata": {
        "id": "T5sNDxPc-vsl"
      },
      "source": [
        "# GP Multiple runs on an arbitrary Symbolic Regression Problem."
      ]
    },
    {
      "cell_type": "markdown",
      "metadata": {
        "id": "Iwm8oAgw-vso"
      },
      "source": [
        "To make our code truly general, it is important to be able to read data in from a file and perform Symbolic Regression on it.\n",
        "\n",
        "One big step up from previous notebooks is that we need to store our data somewhere that the notebook can get at."
      ]
    },
    {
      "cell_type": "markdown",
      "metadata": {
        "id": "6p83FZCt97gy"
      },
      "source": [
        "Install DEAP. "
      ]
    },
    {
      "cell_type": "code",
      "metadata": {
        "id": "ptCMZ5_A97gz",
        "colab": {
          "base_uri": "https://localhost:8080/"
        },
        "outputId": "d92ca6f5-7263-4483-a4e0-0258e9e1dd6a"
      },
      "source": [
        "!pip install deap"
      ],
      "execution_count": 1,
      "outputs": [
        {
          "output_type": "stream",
          "name": "stdout",
          "text": [
            "Collecting deap\n",
            "  Downloading deap-1.3.1-cp37-cp37m-manylinux_2_5_x86_64.manylinux1_x86_64.manylinux_2_12_x86_64.manylinux2010_x86_64.whl (160 kB)\n",
            "\u001b[?25l\r\u001b[K     |██                              | 10 kB 15.4 MB/s eta 0:00:01\r\u001b[K     |████                            | 20 kB 21.4 MB/s eta 0:00:01\r\u001b[K     |██████                          | 30 kB 23.1 MB/s eta 0:00:01\r\u001b[K     |████████▏                       | 40 kB 13.0 MB/s eta 0:00:01\r\u001b[K     |██████████▏                     | 51 kB 11.0 MB/s eta 0:00:01\r\u001b[K     |████████████▏                   | 61 kB 12.4 MB/s eta 0:00:01\r\u001b[K     |██████████████▎                 | 71 kB 9.3 MB/s eta 0:00:01\r\u001b[K     |████████████████▎               | 81 kB 10.2 MB/s eta 0:00:01\r\u001b[K     |██████████████████▎             | 92 kB 9.4 MB/s eta 0:00:01\r\u001b[K     |████████████████████▍           | 102 kB 9.4 MB/s eta 0:00:01\r\u001b[K     |██████████████████████▍         | 112 kB 9.4 MB/s eta 0:00:01\r\u001b[K     |████████████████████████▍       | 122 kB 9.4 MB/s eta 0:00:01\r\u001b[K     |██████████████████████████▌     | 133 kB 9.4 MB/s eta 0:00:01\r\u001b[K     |████████████████████████████▌   | 143 kB 9.4 MB/s eta 0:00:01\r\u001b[K     |██████████████████████████████▌ | 153 kB 9.4 MB/s eta 0:00:01\r\u001b[K     |████████████████████████████████| 160 kB 9.4 MB/s \n",
            "\u001b[?25hRequirement already satisfied: numpy in /usr/local/lib/python3.7/dist-packages (from deap) (1.19.5)\n",
            "Installing collected packages: deap\n",
            "Successfully installed deap-1.3.1\n"
          ]
        }
      ]
    },
    {
      "cell_type": "code",
      "metadata": {
        "id": "6WUMoPjs-vso",
        "colab": {
          "base_uri": "https://localhost:8080/",
          "height": 17
        },
        "outputId": "84d6ca6d-a00f-423c-c65d-420db5f90321"
      },
      "source": [
        "from IPython.core.display import display, HTML\n",
        "display(HTML(\"<style>.container { width:100% !important; }</style>\"))\n"
      ],
      "execution_count": 2,
      "outputs": [
        {
          "output_type": "display_data",
          "data": {
            "text/html": [
              "<style>.container { width:100% !important; }</style>"
            ],
            "text/plain": [
              "<IPython.core.display.HTML object>"
            ]
          },
          "metadata": {}
        }
      ]
    },
    {
      "cell_type": "markdown",
      "metadata": {
        "id": "Fbwx74bsEKjl"
      },
      "source": [
        "Clone the data folder from the class git repository and create a local copy for us to read. First, we need to create some space. You will be asked for confirmation by Google to do this."
      ]
    },
    {
      "cell_type": "code",
      "metadata": {
        "colab": {
          "base_uri": "https://localhost:8080/"
        },
        "id": "bj4JuDiyEXtf",
        "outputId": "a7f3b6da-fdac-4890-904b-5180ebe1a370"
      },
      "source": [
        "from google.colab import drive\n",
        "drive.mount('/content/drive', force_remount=True)"
      ],
      "execution_count": 3,
      "outputs": [
        {
          "output_type": "stream",
          "name": "stdout",
          "text": [
            "Mounted at /content/drive\n"
          ]
        }
      ]
    },
    {
      "cell_type": "markdown",
      "metadata": {
        "id": "WSS-hNz7Er4o"
      },
      "source": [
        "Clone the data from the repository. Note that we can't clone **just** a folder, so we're actually bringing everything down."
      ]
    },
    {
      "cell_type": "code",
      "metadata": {
        "colab": {
          "base_uri": "https://localhost:8080/"
        },
        "id": "JbZZ7keoE1og",
        "outputId": "1cc6461b-b5d0-4e1a-aac3-c895c96cd824"
      },
      "source": [
        "!git clone https://github.com/conorlime/CS6271"
      ],
      "execution_count": 4,
      "outputs": [
        {
          "output_type": "stream",
          "name": "stdout",
          "text": [
            "Cloning into 'CS6271'...\n",
            "remote: Enumerating objects: 153, done.\u001b[K\n",
            "remote: Counting objects: 100% (153/153), done.\u001b[K\n",
            "remote: Compressing objects: 100% (147/147), done.\u001b[K\n",
            "remote: Total 153 (delta 59), reused 16 (delta 1), pack-reused 0\u001b[K\n",
            "Receiving objects: 100% (153/153), 2.65 MiB | 4.31 MiB/s, done.\n",
            "Resolving deltas: 100% (59/59), done.\n"
          ]
        }
      ]
    },
    {
      "cell_type": "markdown",
      "metadata": {
        "id": "2Gw5SWrXFmBD"
      },
      "source": [
        "We can navigate through our drive here using standard Unix commands."
      ]
    },
    {
      "cell_type": "code",
      "metadata": {
        "colab": {
          "base_uri": "https://localhost:8080/",
          "height": 37
        },
        "id": "M5gnBtZmFReF",
        "outputId": "12eaa317-af51-4a23-8e00-60cc80f1348d"
      },
      "source": [
        "pwd"
      ],
      "execution_count": 5,
      "outputs": [
        {
          "output_type": "execute_result",
          "data": {
            "application/vnd.google.colaboratory.intrinsic+json": {
              "type": "string"
            },
            "text/plain": [
              "'/content'"
            ]
          },
          "metadata": {},
          "execution_count": 5
        }
      ]
    },
    {
      "cell_type": "code",
      "metadata": {
        "colab": {
          "base_uri": "https://localhost:8080/"
        },
        "id": "nSQiJMe2Fvcf",
        "outputId": "8b21d12e-b85f-457b-9a87-be63b7539f48"
      },
      "source": [
        "ls"
      ],
      "execution_count": 6,
      "outputs": [
        {
          "output_type": "stream",
          "name": "stdout",
          "text": [
            "\u001b[0m\u001b[01;34mCS6271\u001b[0m/  \u001b[01;34mdrive\u001b[0m/  \u001b[01;34msample_data\u001b[0m/\n"
          ]
        }
      ]
    },
    {
      "cell_type": "code",
      "metadata": {
        "colab": {
          "base_uri": "https://localhost:8080/"
        },
        "id": "Bz85I_NBFxZD",
        "outputId": "e79b7fb4-feb6-4dd3-e831-daa27c5fb0a0"
      },
      "source": [
        "cd CS6271/"
      ],
      "execution_count": 14,
      "outputs": [
        {
          "output_type": "stream",
          "name": "stdout",
          "text": [
            "[Errno 2] No such file or directory: 'CS6271/'\n",
            "/content/CS6271\n"
          ]
        }
      ]
    },
    {
      "cell_type": "code",
      "metadata": {
        "colab": {
          "base_uri": "https://localhost:8080/"
        },
        "id": "bQpPdNaYF59x",
        "outputId": "4e195e58-f1ce-4368-a757-6efe8a17d814"
      },
      "source": [
        "ls"
      ],
      "execution_count": 15,
      "outputs": [
        {
          "output_type": "stream",
          "name": "stdout",
          "text": [
            " \u001b[0m\u001b[01;34mdata\u001b[0m/\n",
            "'DEAP Algorithms (GA).ipynb'\n",
            "'DEAP Algorithms (GA with multiple runs).ipynb'\n",
            "'DEAP Algorithms (GP Parity).ipynb'\n",
            "'DEAP Algorithms (GP Parity)- Reduced Function Set.ipynb'\n",
            "'DEAP Algorithms (GP Symbolic Regression).ipynb'\n",
            "'GA OneMax.ipynb'\n",
            "'GA With Real Values.ipynb'\n",
            "'GP Applied to classification (multiple runs + elitism).ipynb'\n",
            "'GP Multiple runs on an arbitrary Symbolic Regression Problem.ipynb'\n",
            " GP_Multiple_runs_on_an_arbitrary_Symbolic_Regression_Problem.ipynb\n",
            "'GP with multiple runs (even-parity problem).ipynb'\n",
            "'GP With NSGA II.ipynb'\n",
            " README.md\n",
            " \u001b[01;34mUtilities\u001b[0m/\n"
          ]
        }
      ]
    },
    {
      "cell_type": "code",
      "metadata": {
        "id": "COROekUOOZIq",
        "outputId": "e5f60a22-0633-4eef-8c67-188781bb0430",
        "colab": {
          "base_uri": "https://localhost:8080/"
        }
      },
      "source": [
        "cd data"
      ],
      "execution_count": 17,
      "outputs": [
        {
          "output_type": "stream",
          "name": "stdout",
          "text": [
            "/content/CS6271/data\n"
          ]
        }
      ]
    },
    {
      "cell_type": "code",
      "metadata": {
        "id": "nZdM6srsOeEO",
        "outputId": "81a749a1-3513-4323-b6d9-c688f6efff6e",
        "colab": {
          "base_uri": "https://localhost:8080/"
        }
      },
      "source": [
        "ls"
      ],
      "execution_count": 18,
      "outputs": [
        {
          "output_type": "stream",
          "name": "stdout",
          "text": [
            "kotanchek_2d.csv  randomData.csv  sample.csv  spambase.csv\n"
          ]
        }
      ]
    },
    {
      "cell_type": "markdown",
      "metadata": {
        "id": "WpfLQTfQ-vsp"
      },
      "source": [
        "Import our tools."
      ]
    },
    {
      "cell_type": "code",
      "metadata": {
        "id": "n3N--WdM-vsq"
      },
      "source": [
        "import operator\n",
        "import math\n",
        "import random\n",
        "\n",
        "import numpy\n",
        "\n",
        "from deap import algorithms\n",
        "from deap import base\n",
        "from deap import creator\n",
        "from deap import tools\n",
        "from deap import gp\n",
        "\n",
        "import csv\n",
        "\n",
        "\n",
        "\n",
        "import matplotlib.pyplot as plt\n",
        "\n",
        "import itertools\n",
        "import networkx as nx\n",
        "\n"
      ],
      "execution_count": 9,
      "outputs": []
    },
    {
      "cell_type": "markdown",
      "metadata": {
        "id": "XzITfdC0-vsq"
      },
      "source": [
        "Set our Genetic Programming parameters, one of which is now the number of runs."
      ]
    },
    {
      "cell_type": "code",
      "metadata": {
        "id": "Uxoyd3a8-vsr"
      },
      "source": [
        "# Genetic Programming constants:\n",
        "POPULATION_SIZE = 20\n",
        "P_CROSSOVER = 0.9\n",
        "P_MUTATION = 0.01\n",
        "MAX_GENERATIONS = 50\n",
        "HALL_OF_FAME_SIZE = 10\n",
        "\n",
        "N_RUNS = 30\n",
        "\n",
        "\n"
      ],
      "execution_count": 10,
      "outputs": []
    },
    {
      "cell_type": "markdown",
      "metadata": {
        "id": "lWuiXovN-vsr"
      },
      "source": [
        "Set the random seed. "
      ]
    },
    {
      "cell_type": "code",
      "metadata": {
        "id": "bEDDa8NR-vss"
      },
      "source": [
        "RANDOM_SEED = 412\n",
        "random.seed(RANDOM_SEED)"
      ],
      "execution_count": 11,
      "outputs": []
    },
    {
      "cell_type": "markdown",
      "metadata": {
        "id": "jpoMMpV8-vss"
      },
      "source": [
        "GP-Specific constants."
      ]
    },
    {
      "cell_type": "code",
      "metadata": {
        "id": "Qobbjp8e-vss"
      },
      "source": [
        "MIN_TREE_HEIGHT = 3\n",
        "MAX_TREE_HEIGHT = 5\n",
        "LIMIT_TREE_HEIGHT = 17\n",
        "MUT_MIN_TREE_HEIGHT = 0\n",
        "MUT_MAX_TREE_HEIGHT = 2"
      ],
      "execution_count": 12,
      "outputs": []
    },
    {
      "cell_type": "markdown",
      "metadata": {
        "id": "4IIrISgN-vst"
      },
      "source": [
        "Read in the data."
      ]
    },
    {
      "cell_type": "code",
      "metadata": {
        "id": "cHjEIFel-vst"
      },
      "source": [
        "with open(\"randomData.csv\") as symbRegData:\n",
        "    n_rows = sum(1 for line in symbRegData)\n",
        "with open(\"randomData.csv\") as symbRegData:\n",
        "    reader = csv.reader(symbRegData)\n",
        "    data = list(list(float(elem) for elem in row) for row in reader)"
      ],
      "execution_count": 19,
      "outputs": []
    },
    {
      "cell_type": "markdown",
      "metadata": {
        "id": "aJfurX7u-vst"
      },
      "source": [
        "Define our fitness function."
      ]
    },
    {
      "cell_type": "code",
      "metadata": {
        "id": "B1nTzpHr-vsu"
      },
      "source": [
        "def evalSymbReg(individual):\n",
        "    # Transform the tree expression in a callable function\n",
        "    func = toolbox.compile(expr=individual)\n",
        "    # Evaluate the sum of squared difference between the expression and the target values\n",
        "    diff = sum((func(*row[:-1]) - row[-1])**2 for row in data)\n",
        "    error = diff/n_rows\n",
        "    if (error>10):\n",
        "        error=10\n",
        "    #return error, individual.height\n",
        "    nodes, edges, labels = gp.graph(individual)\n",
        "    return error, len(nodes)"
      ],
      "execution_count": 20,
      "outputs": []
    },
    {
      "cell_type": "markdown",
      "metadata": {
        "id": "sMWEFcTw-vsu"
      },
      "source": [
        "Define a protected division function."
      ]
    },
    {
      "cell_type": "code",
      "metadata": {
        "id": "-wbqeCpr-vsu"
      },
      "source": [
        "def protectedDiv(left, right):\n",
        "    try:\n",
        "        return left / right\n",
        "    except ZeroDivisionError:\n",
        "        return 1"
      ],
      "execution_count": 21,
      "outputs": []
    },
    {
      "cell_type": "markdown",
      "metadata": {
        "id": "lfHo4vyS-vsv"
      },
      "source": [
        "Add our functions and terminals. "
      ]
    },
    {
      "cell_type": "code",
      "metadata": {
        "id": "U5zwpnm2-vsv"
      },
      "source": [
        "pset = gp.PrimitiveSet(\"MAIN\", 5) # number of inputs!!!\n",
        "pset.addPrimitive(operator.add, 2)\n",
        "pset.addPrimitive(operator.sub, 2)\n",
        "pset.addPrimitive(operator.mul, 2)\n",
        "pset.addPrimitive(protectedDiv, 2)\n",
        "pset.addPrimitive(operator.neg, 1)\n",
        "pset.addPrimitive(math.cos, 1)\n",
        "pset.addPrimitive(math.sin, 1)\n",
        "pset.addEphemeralConstant(\"rand101\", lambda: random.random())\n"
      ],
      "execution_count": 22,
      "outputs": []
    },
    {
      "cell_type": "markdown",
      "metadata": {
        "id": "R92Wz4PX-vsv"
      },
      "source": [
        "Create our toolbox. "
      ]
    },
    {
      "cell_type": "code",
      "metadata": {
        "id": "XiPJGFzt-vsw"
      },
      "source": [
        "toolbox = base.Toolbox()\n",
        "\n",
        "creator.create(\"FitnessMin\", base.Fitness, weights=(-1.0,-1.0))\n",
        "creator.create(\"Individual\", gp.PrimitiveTree, fitness=creator.FitnessMin)\n",
        "\n",
        "toolbox.register(\"expr\", gp.genHalfAndHalf, pset=pset, min_=1, max_=2)\n",
        "toolbox.register(\"individual\", tools.initIterate, creator.Individual, toolbox.expr)\n",
        "toolbox.register(\"population\", tools.initRepeat, list, toolbox.individual)\n",
        "toolbox.register(\"compile\", gp.compile, pset=pset)\n",
        "\n",
        "toolbox.register(\"evaluate\", evalSymbReg)\n",
        "#toolbox.register(\"select\", tools.selNSGA2)\n",
        "toolbox.register(\"select\", tools.selTournament, tournsize=5)\n",
        "\n",
        "toolbox.register(\"mate\", gp.cxOnePoint)\n",
        "toolbox.register(\"expr_mut\", gp.genFull, min_=0, max_=5)\n",
        "toolbox.register(\"mutate\", gp.mutUniform, expr=toolbox.expr_mut, pset=pset)\n",
        "\n",
        "toolbox.decorate(\"mate\", gp.staticLimit(key=operator.attrgetter(\"height\"), max_value=17))\n",
        "toolbox.decorate(\"mutate\", gp.staticLimit(key=operator.attrgetter(\"height\"), max_value=17))"
      ],
      "execution_count": 23,
      "outputs": []
    },
    {
      "cell_type": "markdown",
      "metadata": {
        "id": "cvYxj8vh-vsw"
      },
      "source": [
        "Create our statistics. These are a bit more complex than the GA ones because we want to keep track of fitness and size for all runs."
      ]
    },
    {
      "cell_type": "code",
      "metadata": {
        "id": "8YoiFtZ2-vsw"
      },
      "source": [
        "maxListFitness = []\n",
        "avgListFitness = []\n",
        "minListFitness = []\n",
        "stdListFitness = []\n",
        "\n",
        "maxListSize = []\n",
        "avgListSize = []\n",
        "minListSize = []\n",
        "stdListSize = []"
      ],
      "execution_count": 24,
      "outputs": []
    },
    {
      "cell_type": "markdown",
      "metadata": {
        "id": "YAtDweow-vsx"
      },
      "source": [
        "Now the magic happens and we run **N_RUNS** times. Always start with a small number of runs and generations to make sure that everything is working properly before you commit to a larger number. That way, if something goes horribly wrong, Python won't replicate it 30 times before giving you back control!"
      ]
    },
    {
      "cell_type": "code",
      "metadata": {
        "id": "cQGQC-XJ-vsx",
        "outputId": "5f6e4392-de39-4eda-ffcd-ffd136795ef0",
        "colab": {
          "base_uri": "https://localhost:8080/"
        }
      },
      "source": [
        "for r in range(0, N_RUNS):\n",
        "    population = toolbox.population(n=POPULATION_SIZE)\n",
        "    # define the hall-of-fame object:\n",
        "    hof = tools.HallOfFame(HALL_OF_FAME_SIZE)   \n",
        "\n",
        "\n",
        "    # Create our statistics\n",
        "    stats_fit = tools.Statistics(lambda ind: ind.fitness.values)\n",
        "    stats_size = tools.Statistics(len)\n",
        "    mstats = tools.MultiStatistics(fitness=stats_fit, size=stats_size)\n",
        "    mstats.register(\"avg\", numpy.mean)\n",
        "    mstats.register(\"std\", numpy.std)\n",
        "    mstats.register(\"min\", numpy.min)\n",
        "    mstats.register(\"max\", numpy.max)\n",
        "    \n",
        "    \n",
        "    # Which run are we on?\n",
        "    print(\"\\n\\nCurrently on run\", r, \"of\",N_RUNS)\n",
        "    \n",
        "    \n",
        "    # It's usually a good idea to turn off verbose when conducting multiple runs\n",
        "    population, logbook = algorithms.eaSimple(population,\n",
        "                                                  toolbox,\n",
        "                                                  cxpb=P_CROSSOVER,\n",
        "                                                  mutpb=P_MUTATION,\n",
        "                                                  ngen=MAX_GENERATIONS,\n",
        "                                                  stats=mstats,\n",
        "                                                  halloffame=hof,\n",
        "                                                  verbose=False)\n",
        "    \n",
        "    #maxFitnessValues, meanFitnessValues = logbook.chapters['fitness'].select(\"min\", \"avg\")\n",
        "    meanFitnessValues, stdFitnessValues, minFitnessValues, maxFitnessValues  = logbook.chapters['fitness'].select(\"avg\", \"std\", \"min\", \"max\")\n",
        "    meanSizeValues, stdSizeValues, minSizeValues, maxSizeValues  = logbook.chapters['size'].select(\"avg\", \"std\", \"min\", \"max\")\n",
        "\n",
        "\n",
        "    # Save statistics for this run:\n",
        "    avgListFitness.append(meanFitnessValues)\n",
        "    stdListFitness.append(stdFitnessValues)\n",
        "    minListFitness.append(minFitnessValues)\n",
        "    maxListFitness.append(maxFitnessValues)\n",
        "    \n",
        "    avgListSize.append(meanSizeValues)\n",
        "    stdListSize.append(stdSizeValues)\n",
        "    minListSize.append(minSizeValues)\n",
        "    maxListSize.append(maxSizeValues)\n",
        "\n",
        "    # print info for best solution found:\n",
        "    best = hof.items[0]\n",
        "    print(\"-- Best Individual = \", best)\n",
        "    print(\"-- length={}, height={}\".format(len(best), best.height))\n",
        "    print(\"-- Best Fitness = \", best.fitness.values[0])\n",
        "\n"
      ],
      "execution_count": 25,
      "outputs": [
        {
          "output_type": "stream",
          "name": "stdout",
          "text": [
            "\n",
            "\n",
            "Currently on run 0 of 30\n",
            "-- Best Individual =  protectedDiv(ARG0, 0.7089290380529948)\n",
            "-- length=3, height=1\n",
            "-- Best Fitness =  0.1121353026506795\n",
            "\n",
            "\n",
            "Currently on run 1 of 30\n",
            "-- Best Individual =  cos(cos(add(sub(add(ARG0, ARG1), protectedDiv(ARG1, cos(sin(cos(add(sub(ARG1, ARG1), ARG1)))))), sin(mul(add(sin(sub(add(ARG0, ARG1), protectedDiv(add(sub(ARG1, ARG1), ARG1), cos(sin(cos(add(sub(neg(ARG4), ARG1), ARG1))))))), ARG1), mul(add(sin(sub(add(ARG0, ARG1), protectedDiv(ARG1, cos(sin(cos(add(ARG1, sub(add(ARG0, ARG1), ARG0)))))))), ARG1), ARG2))))))\n",
            "-- length=62, height=16\n",
            "-- Best Fitness =  0.09751538961932724\n",
            "\n",
            "\n",
            "Currently on run 2 of 30\n",
            "-- Best Individual =  sin(add(ARG0, ARG3))\n",
            "-- length=4, height=2\n",
            "-- Best Fitness =  0.09582974731939575\n",
            "\n",
            "\n",
            "Currently on run 3 of 30\n",
            "-- Best Individual =  add(ARG0, mul(ARG4, ARG3))\n",
            "-- length=5, height=2\n",
            "-- Best Fitness =  0.046733916486925334\n",
            "\n",
            "\n",
            "Currently on run 4 of 30\n",
            "-- Best Individual =  neg(neg(ARG0))\n",
            "-- length=3, height=2\n",
            "-- Best Fitness =  0.15450376646003816\n",
            "\n",
            "\n",
            "Currently on run 5 of 30\n",
            "-- Best Individual =  sin(add(ARG3, ARG0))\n",
            "-- length=4, height=2\n",
            "-- Best Fitness =  0.09582974731939575\n",
            "\n",
            "\n",
            "Currently on run 6 of 30\n",
            "-- Best Individual =  add(ARG0, ARG3)\n",
            "-- length=3, height=1\n",
            "-- Best Fitness =  0.15699553490151125\n",
            "\n",
            "\n",
            "Currently on run 7 of 30\n",
            "-- Best Individual =  add(ARG0, mul(mul(0.6960748595974624, ARG3), 0.6960748595974624))\n",
            "-- length=7, height=3\n",
            "-- Best Fitness =  0.07387990551397605\n",
            "\n",
            "\n",
            "Currently on run 8 of 30\n",
            "-- Best Individual =  add(mul(0.7838601976428391, mul(ARG2, mul(0.7838601976428391, 0.7838601976428391))), ARG0)\n",
            "-- length=9, height=4\n",
            "-- Best Fitness =  0.07187645138610455\n",
            "\n",
            "\n",
            "Currently on run 9 of 30\n",
            "-- Best Individual =  add(0.21256416246324483, ARG3)\n",
            "-- length=3, height=1\n",
            "-- Best Fitness =  0.16399458902778713\n",
            "\n",
            "\n",
            "Currently on run 10 of 30\n",
            "-- Best Individual =  add(0.2810106770229709, ARG0)\n",
            "-- length=3, height=1\n",
            "-- Best Fitness =  0.09573119629772692\n",
            "\n",
            "\n",
            "Currently on run 11 of 30\n",
            "-- Best Individual =  ARG0\n",
            "-- length=1, height=0\n",
            "-- Best Fitness =  0.15450376646003816\n",
            "\n",
            "\n",
            "Currently on run 12 of 30\n",
            "-- Best Individual =  sin(add(ARG3, ARG0))\n",
            "-- length=4, height=2\n",
            "-- Best Fitness =  0.09582974731939575\n",
            "\n",
            "\n",
            "Currently on run 13 of 30\n",
            "-- Best Individual =  sub(add(ARG0, 0.04584555785173383), sub(ARG1, ARG1))\n",
            "-- length=7, height=2\n",
            "-- Best Fitness =  0.13413402458649226\n",
            "\n",
            "\n",
            "Currently on run 14 of 30\n",
            "-- Best Individual =  cos(cos(ARG0))\n",
            "-- length=3, height=2\n",
            "-- Best Fitness =  0.1401589151004544\n",
            "\n",
            "\n",
            "Currently on run 15 of 30\n",
            "-- Best Individual =  cos(cos(neg(sub(add(ARG1, ARG1), sub(ARG1, ARG2)))))\n",
            "-- length=10, height=5\n",
            "-- Best Fitness =  0.1738916085413095\n",
            "\n",
            "\n",
            "Currently on run 16 of 30\n",
            "-- Best Individual =  add(0.2796406068369356, ARG0)\n",
            "-- length=3, height=1\n",
            "-- Best Fitness =  0.09563461525542188\n",
            "\n",
            "\n",
            "Currently on run 17 of 30\n",
            "-- Best Individual =  sin(add(ARG0, ARG2))\n",
            "-- length=4, height=2\n",
            "-- Best Fitness =  0.11433252483943653\n",
            "\n",
            "\n",
            "Currently on run 18 of 30\n",
            "-- Best Individual =  add(sin(sin(sin(sin(sin(sin(sin(sin(sin(sin(sin(sin(sin(sin(sin(sin(ARG2)))))))))))))))), ARG0)\n",
            "-- length=19, height=17\n",
            "-- Best Fitness =  0.0771726995563558\n",
            "\n",
            "\n",
            "Currently on run 19 of 30\n",
            "-- Best Individual =  add(sin(ARG0), sin(sin(sin(sin(sin(sin(sin(sin(sin(sin(sin(sin(ARG3)))))))))))))\n",
            "-- length=16, height=13\n",
            "-- Best Fitness =  0.07737723349439739\n",
            "\n",
            "\n",
            "Currently on run 20 of 30\n",
            "-- Best Individual =  add(ARG3, mul(ARG4, ARG2))\n",
            "-- length=5, height=2\n",
            "-- Best Fitness =  0.13281185111793034\n",
            "\n",
            "\n",
            "Currently on run 21 of 30\n",
            "-- Best Individual =  add(ARG3, ARG0)\n",
            "-- length=3, height=1\n",
            "-- Best Fitness =  0.15699553490151125\n",
            "\n",
            "\n",
            "Currently on run 22 of 30\n",
            "-- Best Individual =  add(sin(ARG0), sin(sin(sin(sin(sin(sin(sin(sin(sin(sin(sin(sin(ARG2)))))))))))))\n",
            "-- length=16, height=13\n",
            "-- Best Fitness =  0.07798734949817412\n",
            "\n",
            "\n",
            "Currently on run 23 of 30\n",
            "-- Best Individual =  cos(cos(ARG0))\n",
            "-- length=3, height=2\n",
            "-- Best Fitness =  0.1401589151004544\n",
            "\n",
            "\n",
            "Currently on run 24 of 30\n",
            "-- Best Individual =  cos(neg(0.6642993278924794))\n",
            "-- length=3, height=2\n",
            "-- Best Fitness =  0.18707580406644544\n",
            "\n",
            "\n",
            "Currently on run 25 of 30\n",
            "-- Best Individual =  add(sub(ARG4, 0.4023483932942933), protectedDiv(ARG0, 0.8725670577897996))\n",
            "-- length=7, height=2\n",
            "-- Best Fitness =  0.10455818494144566\n",
            "\n",
            "\n",
            "Currently on run 26 of 30\n",
            "-- Best Individual =  add(sin(ARG0), sin(sin(sin(sin(sin(sin(sin(sin(sin(sin(sin(sin(ARG3)))))))))))))\n",
            "-- length=16, height=13\n",
            "-- Best Fitness =  0.07737723349439739\n",
            "\n",
            "\n",
            "Currently on run 27 of 30\n",
            "-- Best Individual =  cos(cos(ARG0))\n",
            "-- length=3, height=2\n",
            "-- Best Fitness =  0.1401589151004544\n",
            "\n",
            "\n",
            "Currently on run 28 of 30\n",
            "-- Best Individual =  add(ARG0, sin(sin(sin(sin(sin(sin(sin(sin(sin(sin(sin(sin(sin(sin(sin(sin(ARG2)))))))))))))))))\n",
            "-- length=19, height=17\n",
            "-- Best Fitness =  0.0771726995563558\n",
            "\n",
            "\n",
            "Currently on run 29 of 30\n",
            "-- Best Individual =  sin(add(ARG4, ARG0))\n",
            "-- length=4, height=2\n",
            "-- Best Fitness =  0.10495419364165973\n"
          ]
        }
      ]
    },
    {
      "cell_type": "markdown",
      "metadata": {
        "id": "1iNO1aSl-vsz"
      },
      "source": [
        "Create our graphs using the averages across all the runs. Notice how we use standard deviation to show how much variation there is in the runs. \n",
        "\n",
        "Notice that if there's a big discrepancy between best and average the graphs can look like there's virtually no variation in the best score. If this happens, the first thing to do is verify if that is actually happening; you can do that by commenting out this line:\n",
        "\n",
        "**plt.errorbar(x, avgArray.mean(0), yerr=stdArray.mean(0),label=\"Average\",color=\"Red\")**"
      ]
    },
    {
      "cell_type": "code",
      "metadata": {
        "scrolled": true,
        "id": "I9pkkX0y-vsz",
        "outputId": "6db7472e-9838-4a69-ed44-23518f73ccb7",
        "colab": {
          "base_uri": "https://localhost:8080/",
          "height": 295
        }
      },
      "source": [
        "# Genetic Programming is done (all runs) - plot statistics:\n",
        "x = numpy.arange(0, MAX_GENERATIONS+1)\n",
        "avgArray = numpy.array(avgListFitness)\n",
        "stdArray = numpy.array(stdListFitness)\n",
        "minArray = numpy.array(minListFitness)\n",
        "maxArray = numpy.array(maxListFitness)\n",
        "plt.xlabel('Generation')\n",
        "plt.ylabel('Fitness')\n",
        "plt.title('Best and Average Fitness for Symbolic Regression')\n",
        "#plt.errorbar(x, avgArray.mean(0), yerr=stdArray.mean(0),label=\"Average\",color=\"Red\")\n",
        "plt.errorbar(x, minArray.mean(0), yerr=minArray.std(0),label=\"Best\", color=\"Green\")\n",
        "plt.show()"
      ],
      "execution_count": 26,
      "outputs": [
        {
          "output_type": "display_data",
          "data": {
            "image/png": "[encoded data removed]",
            "text/plain": [
              "<Figure size 432x288 with 1 Axes>"
            ]
          },
          "metadata": {
            "needs_background": "light"
          }
        }
      ]
    },
    {
      "cell_type": "markdown",
      "metadata": {
        "id": "exs0WZOL-vs0"
      },
      "source": [
        "Show the graph for size."
      ]
    },
    {
      "cell_type": "code",
      "metadata": {
        "id": "FPyIX7JT-vs0",
        "outputId": "4b04a63a-9445-4b2d-920c-cf57432be479",
        "colab": {
          "base_uri": "https://localhost:8080/",
          "height": 295
        }
      },
      "source": [
        "# Genetic Programming is done (all runs) - plot statistics:\n",
        "x = numpy.arange(0, MAX_GENERATIONS+1)\n",
        "avgArray = numpy.array(avgListSize)\n",
        "stdArray = numpy.array(stdListSize)\n",
        "minArray = numpy.array(minListSize)\n",
        "maxArray = numpy.array(maxListSize)\n",
        "plt.xlabel('Generation')\n",
        "plt.ylabel('Size')\n",
        "plt.title('Best and Average Size for Symbolic Regression')\n",
        "plt.errorbar(x, avgArray.mean(0), yerr=stdArray.mean(0),label=\"Average\",color=\"Red\")\n",
        "plt.errorbar(x, minArray.mean(0), yerr=minArray.std(0),label=\"Best\", color=\"Blue\")\n",
        "plt.show()"
      ],
      "execution_count": 27,
      "outputs": [
        {
          "output_type": "display_data",
          "data": {
            "image/png": "[encoded data removed]",
            "text/plain": [
              "<Figure size 432x288 with 1 Axes>"
            ]
          },
          "metadata": {
            "needs_background": "light"
          }
        }
      ]
    }
  ]
}