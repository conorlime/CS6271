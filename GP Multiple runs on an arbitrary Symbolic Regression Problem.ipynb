{
  "nbformat": 4,
  "nbformat_minor": 0,
  "metadata": {
    "kernelspec": {
      "display_name": "Python 3",
      "language": "python",
      "name": "python3"
    },
    "language_info": {
      "codemirror_mode": {
        "name": "ipython",
        "version": 3
      },
      "file_extension": ".py",
      "mimetype": "text/x-python",
      "name": "python",
      "nbconvert_exporter": "python",
      "pygments_lexer": "ipython3",
      "version": "3.8.3"
    },
    "colab": {
      "name": "GP Multiple runs on an arbitrary Symbolic Regression Problem.ipynb",
      "provenance": [],
      "collapsed_sections": [],
      "include_colab_link": true
    }
  },
  "cells": [
    {
      "cell_type": "markdown",
      "metadata": {
        "id": "view-in-github",
        "colab_type": "text"
      },
      "source": [
        "<a href=\"https://colab.research.google.com/github/conorlime/CS6271/blob/main/GP%20Multiple%20runs%20on%20an%20arbitrary%20Symbolic%20Regression%20Problem.ipynb\" target=\"_parent\"><img src=\"https://colab.research.google.com/assets/colab-badge.svg\" alt=\"Open In Colab\"/></a>"
      ]
    },
    {
      "cell_type": "code",
      "metadata": {
        "id": "ahXBWon2K6qj"
      },
      "source": [
        ""
      ],
      "execution_count": null,
      "outputs": []
    },
    {
      "cell_type": "markdown",
      "metadata": {
        "id": "T5sNDxPc-vsl"
      },
      "source": [
        "# GP Multiple runs on an arbitrary Symbolic Regression Problem."
      ]
    },
    {
      "cell_type": "markdown",
      "metadata": {
        "id": "Iwm8oAgw-vso"
      },
      "source": [
        "To make our code truly general, it is important to be able to read data in from a file and perform Symbolic Regression on it.\n",
        "\n",
        "One big step up from previous notebooks is that we need to store our data somewhere that the notebook can get at."
      ]
    },
    {
      "cell_type": "markdown",
      "metadata": {
        "id": "6p83FZCt97gy"
      },
      "source": [
        "Install DEAP. "
      ]
    },
    {
      "cell_type": "code",
      "metadata": {
        "id": "ptCMZ5_A97gz",
        "colab": {
          "base_uri": "https://localhost:8080/"
        },
        "outputId": "f2173074-fa82-4806-d7ee-008b63fc1bb2"
      },
      "source": [
        "!pip install deap"
      ],
      "execution_count": 1,
      "outputs": [
        {
          "output_type": "stream",
          "name": "stdout",
          "text": [
            "Requirement already satisfied: deap in /usr/local/lib/python3.7/dist-packages (1.3.1)\n",
            "Requirement already satisfied: numpy in /usr/local/lib/python3.7/dist-packages (from deap) (1.19.5)\n"
          ]
        }
      ]
    },
    {
      "cell_type": "code",
      "metadata": {
        "id": "6WUMoPjs-vso",
        "colab": {
          "base_uri": "https://localhost:8080/",
          "height": 17
        },
        "outputId": "75a161ff-857c-4306-8c9f-d67a59e606ac"
      },
      "source": [
        "from IPython.core.display import display, HTML\n",
        "display(HTML(\"<style>.container { width:100% !important; }</style>\"))\n"
      ],
      "execution_count": 2,
      "outputs": [
        {
          "output_type": "display_data",
          "data": {
            "text/html": [
              "<style>.container { width:100% !important; }</style>"
            ],
            "text/plain": [
              "<IPython.core.display.HTML object>"
            ]
          },
          "metadata": {}
        }
      ]
    },
    {
      "cell_type": "markdown",
      "metadata": {
        "id": "Fbwx74bsEKjl"
      },
      "source": [
        "Clone the data folder from the class git repository and create a local copy for us to read. First, we need to create some space. You will be asked for confirmation by Google to do this."
      ]
    },
    {
      "cell_type": "code",
      "metadata": {
        "colab": {
          "base_uri": "https://localhost:8080/"
        },
        "id": "bj4JuDiyEXtf",
        "outputId": "b08364ca-02c1-4679-ab73-c34b8cbe52b9"
      },
      "source": [
        "from google.colab import drive\n",
        "drive.mount('/content/drive', force_remount=True)"
      ],
      "execution_count": 3,
      "outputs": [
        {
          "output_type": "stream",
          "name": "stdout",
          "text": [
            "Mounted at /content/drive\n"
          ]
        }
      ]
    },
    {
      "cell_type": "markdown",
      "metadata": {
        "id": "WSS-hNz7Er4o"
      },
      "source": [
        "Clone the data from the repository. Note that we can't clone **just** a folder, so we're actually bringing everything down."
      ]
    },
    {
      "cell_type": "code",
      "metadata": {
        "colab": {
          "base_uri": "https://localhost:8080/"
        },
        "id": "JbZZ7keoE1og",
        "outputId": "3de4f19e-b1eb-48be-ddaa-934cdc6325af"
      },
      "source": [
        "!git clone https://github.com/conorlime/CS6271"
      ],
      "execution_count": 4,
      "outputs": [
        {
          "output_type": "stream",
          "name": "stdout",
          "text": [
            "fatal: destination path 'CS6271' already exists and is not an empty directory.\n"
          ]
        }
      ]
    },
    {
      "cell_type": "markdown",
      "metadata": {
        "id": "2Gw5SWrXFmBD"
      },
      "source": [
        "We can navigate through our drive here using standard Unix commands."
      ]
    },
    {
      "cell_type": "code",
      "metadata": {
        "colab": {
          "base_uri": "https://localhost:8080/",
          "height": 37
        },
        "id": "M5gnBtZmFReF",
        "outputId": "11e2c74c-cca6-42d1-b247-e9dae8aa06f8"
      },
      "source": [
        "pwd"
      ],
      "execution_count": 5,
      "outputs": [
        {
          "output_type": "execute_result",
          "data": {
            "application/vnd.google.colaboratory.intrinsic+json": {
              "type": "string"
            },
            "text/plain": [
              "'/content'"
            ]
          },
          "metadata": {},
          "execution_count": 5
        }
      ]
    },
    {
      "cell_type": "code",
      "metadata": {
        "colab": {
          "base_uri": "https://localhost:8080/"
        },
        "id": "nSQiJMe2Fvcf",
        "outputId": "ff1619aa-392c-4f42-86b1-8e4e82b09df2"
      },
      "source": [
        "ls"
      ],
      "execution_count": 6,
      "outputs": [
        {
          "output_type": "stream",
          "name": "stdout",
          "text": [
            "\u001b[0m\u001b[01;34mCS6271\u001b[0m/  \u001b[01;34mdrive\u001b[0m/  \u001b[01;34msample_data\u001b[0m/\n"
          ]
        }
      ]
    },
    {
      "cell_type": "code",
      "metadata": {
        "colab": {
          "base_uri": "https://localhost:8080/"
        },
        "id": "Bz85I_NBFxZD",
        "outputId": "8b642a5d-6075-4509-a5c4-3fad2530b899"
      },
      "source": [
        "cd CS6271/"
      ],
      "execution_count": 14,
      "outputs": [
        {
          "output_type": "stream",
          "name": "stdout",
          "text": [
            "[Errno 2] No such file or directory: 'CS6271/'\n",
            "/content/CS6271\n"
          ]
        }
      ]
    },
    {
      "cell_type": "code",
      "metadata": {
        "colab": {
          "base_uri": "https://localhost:8080/"
        },
        "id": "bQpPdNaYF59x",
        "outputId": "65c2e372-2eeb-46dc-8e9f-2eef1f41f54b"
      },
      "source": [
        "cd ..\n"
      ],
      "execution_count": 18,
      "outputs": [
        {
          "output_type": "stream",
          "name": "stdout",
          "text": [
            "/content\n"
          ]
        }
      ]
    },
    {
      "cell_type": "markdown",
      "metadata": {
        "id": "WpfLQTfQ-vsp"
      },
      "source": [
        "Import our tools."
      ]
    },
    {
      "cell_type": "code",
      "metadata": {
        "id": "OFHGGwY_NXMZ"
      },
      "source": [
        "mkdir tmp; cd tmp"
      ],
      "execution_count": 19,
      "outputs": []
    },
    {
      "cell_type": "code",
      "metadata": {
        "colab": {
          "base_uri": "https://localhost:8080/"
        },
        "id": "0wNYDm_nNakQ",
        "outputId": "17a0e7fb-164d-4d0f-a826-39408712323b"
      },
      "source": [
        "!git clone https://github.com/conorlime/CS6271"
      ],
      "execution_count": 20,
      "outputs": [
        {
          "output_type": "stream",
          "name": "stdout",
          "text": [
            "fatal: destination path 'CS6271' already exists and is not an empty directory.\n"
          ]
        }
      ]
    },
    {
      "cell_type": "code",
      "metadata": {
        "id": "n3N--WdM-vsq"
      },
      "source": [
        "import operator\n",
        "import math\n",
        "import random\n",
        "\n",
        "import numpy\n",
        "\n",
        "from deap import algorithms\n",
        "from deap import base\n",
        "from deap import creator\n",
        "from deap import tools\n",
        "from deap import gp\n",
        "\n",
        "import csv\n",
        "\n",
        "\n",
        "\n",
        "import matplotlib.pyplot as plt\n",
        "\n",
        "import itertools\n",
        "import networkx as nx\n",
        "\n"
      ],
      "execution_count": 9,
      "outputs": []
    },
    {
      "cell_type": "markdown",
      "metadata": {
        "id": "XzITfdC0-vsq"
      },
      "source": [
        "Set our Genetic Programming parameters, one of which is now the number of runs."
      ]
    },
    {
      "cell_type": "code",
      "metadata": {
        "id": "Uxoyd3a8-vsr"
      },
      "source": [
        "# Genetic Programming constants:\n",
        "POPULATION_SIZE = 20\n",
        "P_CROSSOVER = 0.9\n",
        "P_MUTATION = 0.01\n",
        "MAX_GENERATIONS = 50\n",
        "HALL_OF_FAME_SIZE = 10\n",
        "\n",
        "N_RUNS = 30\n",
        "\n",
        "\n"
      ],
      "execution_count": 10,
      "outputs": []
    },
    {
      "cell_type": "markdown",
      "metadata": {
        "id": "lWuiXovN-vsr"
      },
      "source": [
        "Set the random seed. "
      ]
    },
    {
      "cell_type": "code",
      "metadata": {
        "id": "bEDDa8NR-vss"
      },
      "source": [
        "RANDOM_SEED = 412\n",
        "random.seed(RANDOM_SEED)"
      ],
      "execution_count": 11,
      "outputs": []
    },
    {
      "cell_type": "markdown",
      "metadata": {
        "id": "jpoMMpV8-vss"
      },
      "source": [
        "GP-Specific constants."
      ]
    },
    {
      "cell_type": "code",
      "metadata": {
        "id": "Qobbjp8e-vss"
      },
      "source": [
        "MIN_TREE_HEIGHT = 3\n",
        "MAX_TREE_HEIGHT = 5\n",
        "LIMIT_TREE_HEIGHT = 17\n",
        "MUT_MIN_TREE_HEIGHT = 0\n",
        "MUT_MAX_TREE_HEIGHT = 2"
      ],
      "execution_count": 12,
      "outputs": []
    },
    {
      "cell_type": "markdown",
      "metadata": {
        "id": "4IIrISgN-vst"
      },
      "source": [
        "Read in the data."
      ]
    },
    {
      "cell_type": "code",
      "metadata": {
        "id": "cHjEIFel-vst",
        "colab": {
          "base_uri": "https://localhost:8080/",
          "height": 232
        },
        "outputId": "5cbc4d95-35e5-4e50-e479-b60eaf67a669"
      },
      "source": [
        "with open(\"randomData.csv\") as symbRegData:\n",
        "    n_rows = sum(1 for line in symbRegData)\n",
        "with open(\"randomData.csv\") as symbRegData:\n",
        "    reader = csv.reader(symbRegData)\n",
        "    data = list(list(float(elem) for elem in row) for row in reader)"
      ],
      "execution_count": 13,
      "outputs": [
        {
          "output_type": "error",
          "ename": "FileNotFoundError",
          "evalue": "ignored",
          "traceback": [
            "\u001b[0;31m---------------------------------------------------------------------------\u001b[0m",
            "\u001b[0;31mFileNotFoundError\u001b[0m                         Traceback (most recent call last)",
            "\u001b[0;32m<ipython-input-13-fb526927c0ed>\u001b[0m in \u001b[0;36m<module>\u001b[0;34m()\u001b[0m\n\u001b[0;32m----> 1\u001b[0;31m \u001b[0;32mwith\u001b[0m \u001b[0mopen\u001b[0m\u001b[0;34m(\u001b[0m\u001b[0;34m\"randomData.csv\"\u001b[0m\u001b[0;34m)\u001b[0m \u001b[0;32mas\u001b[0m \u001b[0msymbRegData\u001b[0m\u001b[0;34m:\u001b[0m\u001b[0;34m\u001b[0m\u001b[0;34m\u001b[0m\u001b[0m\n\u001b[0m\u001b[1;32m      2\u001b[0m     \u001b[0mn_rows\u001b[0m \u001b[0;34m=\u001b[0m \u001b[0msum\u001b[0m\u001b[0;34m(\u001b[0m\u001b[0;36m1\u001b[0m \u001b[0;32mfor\u001b[0m \u001b[0mline\u001b[0m \u001b[0;32min\u001b[0m \u001b[0msymbRegData\u001b[0m\u001b[0;34m)\u001b[0m\u001b[0;34m\u001b[0m\u001b[0;34m\u001b[0m\u001b[0m\n\u001b[1;32m      3\u001b[0m \u001b[0;32mwith\u001b[0m \u001b[0mopen\u001b[0m\u001b[0;34m(\u001b[0m\u001b[0;34m\"randomData.csv\"\u001b[0m\u001b[0;34m)\u001b[0m \u001b[0;32mas\u001b[0m \u001b[0msymbRegData\u001b[0m\u001b[0;34m:\u001b[0m\u001b[0;34m\u001b[0m\u001b[0;34m\u001b[0m\u001b[0m\n\u001b[1;32m      4\u001b[0m     \u001b[0mreader\u001b[0m \u001b[0;34m=\u001b[0m \u001b[0mcsv\u001b[0m\u001b[0;34m.\u001b[0m\u001b[0mreader\u001b[0m\u001b[0;34m(\u001b[0m\u001b[0msymbRegData\u001b[0m\u001b[0;34m)\u001b[0m\u001b[0;34m\u001b[0m\u001b[0;34m\u001b[0m\u001b[0m\n\u001b[1;32m      5\u001b[0m     \u001b[0mdata\u001b[0m \u001b[0;34m=\u001b[0m \u001b[0mlist\u001b[0m\u001b[0;34m(\u001b[0m\u001b[0mlist\u001b[0m\u001b[0;34m(\u001b[0m\u001b[0mfloat\u001b[0m\u001b[0;34m(\u001b[0m\u001b[0melem\u001b[0m\u001b[0;34m)\u001b[0m \u001b[0;32mfor\u001b[0m \u001b[0melem\u001b[0m \u001b[0;32min\u001b[0m \u001b[0mrow\u001b[0m\u001b[0;34m)\u001b[0m \u001b[0;32mfor\u001b[0m \u001b[0mrow\u001b[0m \u001b[0;32min\u001b[0m \u001b[0mreader\u001b[0m\u001b[0;34m)\u001b[0m\u001b[0;34m\u001b[0m\u001b[0;34m\u001b[0m\u001b[0m\n",
            "\u001b[0;31mFileNotFoundError\u001b[0m: [Errno 2] No such file or directory: 'randomData.csv'"
          ]
        }
      ]
    },
    {
      "cell_type": "markdown",
      "metadata": {
        "id": "aJfurX7u-vst"
      },
      "source": [
        "Define our fitness function."
      ]
    },
    {
      "cell_type": "code",
      "metadata": {
        "id": "B1nTzpHr-vsu"
      },
      "source": [
        "def evalSymbReg(individual):\n",
        "    # Transform the tree expression in a callable function\n",
        "    func = toolbox.compile(expr=individual)\n",
        "    # Evaluate the sum of squared difference between the expression and the target values\n",
        "    diff = sum((func(*row[:-1]) - row[-1])**2 for row in data)\n",
        "    error = diff/n_rows\n",
        "    if (error>10):\n",
        "        error=10\n",
        "    #return error, individual.height\n",
        "    nodes, edges, labels = gp.graph(individual)\n",
        "    return error, len(nodes)"
      ],
      "execution_count": null,
      "outputs": []
    },
    {
      "cell_type": "markdown",
      "metadata": {
        "id": "sMWEFcTw-vsu"
      },
      "source": [
        "Define a protected division function."
      ]
    },
    {
      "cell_type": "code",
      "metadata": {
        "id": "-wbqeCpr-vsu"
      },
      "source": [
        "def protectedDiv(left, right):\n",
        "    try:\n",
        "        return left / right\n",
        "    except ZeroDivisionError:\n",
        "        return 1"
      ],
      "execution_count": null,
      "outputs": []
    },
    {
      "cell_type": "markdown",
      "metadata": {
        "id": "lfHo4vyS-vsv"
      },
      "source": [
        "Add our functions and terminals. "
      ]
    },
    {
      "cell_type": "code",
      "metadata": {
        "id": "U5zwpnm2-vsv"
      },
      "source": [
        "pset = gp.PrimitiveSet(\"MAIN\", 5) # number of inputs!!!\n",
        "pset.addPrimitive(operator.add, 2)\n",
        "pset.addPrimitive(operator.sub, 2)\n",
        "pset.addPrimitive(operator.mul, 2)\n",
        "pset.addPrimitive(protectedDiv, 2)\n",
        "pset.addPrimitive(operator.neg, 1)\n",
        "pset.addPrimitive(math.cos, 1)\n",
        "pset.addPrimitive(math.sin, 1)\n",
        "pset.addEphemeralConstant(\"rand101\", lambda: random.random())\n"
      ],
      "execution_count": null,
      "outputs": []
    },
    {
      "cell_type": "markdown",
      "metadata": {
        "id": "R92Wz4PX-vsv"
      },
      "source": [
        "Create our toolbox. "
      ]
    },
    {
      "cell_type": "code",
      "metadata": {
        "id": "XiPJGFzt-vsw"
      },
      "source": [
        "toolbox = base.Toolbox()\n",
        "\n",
        "creator.create(\"FitnessMin\", base.Fitness, weights=(-1.0,-1.0))\n",
        "creator.create(\"Individual\", gp.PrimitiveTree, fitness=creator.FitnessMin)\n",
        "\n",
        "toolbox.register(\"expr\", gp.genHalfAndHalf, pset=pset, min_=1, max_=2)\n",
        "toolbox.register(\"individual\", tools.initIterate, creator.Individual, toolbox.expr)\n",
        "toolbox.register(\"population\", tools.initRepeat, list, toolbox.individual)\n",
        "toolbox.register(\"compile\", gp.compile, pset=pset)\n",
        "\n",
        "toolbox.register(\"evaluate\", evalSymbReg)\n",
        "#toolbox.register(\"select\", tools.selNSGA2)\n",
        "toolbox.register(\"select\", tools.selTournament, tournsize=5)\n",
        "\n",
        "toolbox.register(\"mate\", gp.cxOnePoint)\n",
        "toolbox.register(\"expr_mut\", gp.genFull, min_=0, max_=5)\n",
        "toolbox.register(\"mutate\", gp.mutUniform, expr=toolbox.expr_mut, pset=pset)\n",
        "\n",
        "toolbox.decorate(\"mate\", gp.staticLimit(key=operator.attrgetter(\"height\"), max_value=17))\n",
        "toolbox.decorate(\"mutate\", gp.staticLimit(key=operator.attrgetter(\"height\"), max_value=17))"
      ],
      "execution_count": null,
      "outputs": []
    },
    {
      "cell_type": "markdown",
      "metadata": {
        "id": "cvYxj8vh-vsw"
      },
      "source": [
        "Create our statistics. These are a bit more complex than the GA ones because we want to keep track of fitness and size for all runs."
      ]
    },
    {
      "cell_type": "code",
      "metadata": {
        "id": "8YoiFtZ2-vsw"
      },
      "source": [
        "maxListFitness = []\n",
        "avgListFitness = []\n",
        "minListFitness = []\n",
        "stdListFitness = []\n",
        "\n",
        "maxListSize = []\n",
        "avgListSize = []\n",
        "minListSize = []\n",
        "stdListSize = []"
      ],
      "execution_count": null,
      "outputs": []
    },
    {
      "cell_type": "markdown",
      "metadata": {
        "id": "YAtDweow-vsx"
      },
      "source": [
        "Now the magic happens and we run **N_RUNS** times. Always start with a small number of runs and generations to make sure that everything is working properly before you commit to a larger number. That way, if something goes horribly wrong, Python won't replicate it 30 times before giving you back control!"
      ]
    },
    {
      "cell_type": "code",
      "metadata": {
        "id": "cQGQC-XJ-vsx"
      },
      "source": [
        "for r in range(0, N_RUNS):\n",
        "    population = toolbox.population(n=POPULATION_SIZE)\n",
        "    # define the hall-of-fame object:\n",
        "    hof = tools.HallOfFame(HALL_OF_FAME_SIZE)   \n",
        "\n",
        "\n",
        "    # Create our statistics\n",
        "    stats_fit = tools.Statistics(lambda ind: ind.fitness.values)\n",
        "    stats_size = tools.Statistics(len)\n",
        "    mstats = tools.MultiStatistics(fitness=stats_fit, size=stats_size)\n",
        "    mstats.register(\"avg\", numpy.mean)\n",
        "    mstats.register(\"std\", numpy.std)\n",
        "    mstats.register(\"min\", numpy.min)\n",
        "    mstats.register(\"max\", numpy.max)\n",
        "    \n",
        "    \n",
        "    # Which run are we on?\n",
        "    print(\"\\n\\nCurrently on run\", r, \"of\",N_RUNS)\n",
        "    \n",
        "    \n",
        "    # It's usually a good idea to turn off verbose when conducting multiple runs\n",
        "    population, logbook = algorithms.eaSimple(population,\n",
        "                                                  toolbox,\n",
        "                                                  cxpb=P_CROSSOVER,\n",
        "                                                  mutpb=P_MUTATION,\n",
        "                                                  ngen=MAX_GENERATIONS,\n",
        "                                                  stats=mstats,\n",
        "                                                  halloffame=hof,\n",
        "                                                  verbose=False)\n",
        "    \n",
        "    #maxFitnessValues, meanFitnessValues = logbook.chapters['fitness'].select(\"min\", \"avg\")\n",
        "    meanFitnessValues, stdFitnessValues, minFitnessValues, maxFitnessValues  = logbook.chapters['fitness'].select(\"avg\", \"std\", \"min\", \"max\")\n",
        "    meanSizeValues, stdSizeValues, minSizeValues, maxSizeValues  = logbook.chapters['size'].select(\"avg\", \"std\", \"min\", \"max\")\n",
        "\n",
        "\n",
        "    # Save statistics for this run:\n",
        "    avgListFitness.append(meanFitnessValues)\n",
        "    stdListFitness.append(stdFitnessValues)\n",
        "    minListFitness.append(minFitnessValues)\n",
        "    maxListFitness.append(maxFitnessValues)\n",
        "    \n",
        "    avgListSize.append(meanSizeValues)\n",
        "    stdListSize.append(stdSizeValues)\n",
        "    minListSize.append(minSizeValues)\n",
        "    maxListSize.append(maxSizeValues)\n",
        "\n",
        "    # print info for best solution found:\n",
        "    best = hof.items[0]\n",
        "    print(\"-- Best Individual = \", best)\n",
        "    print(\"-- length={}, height={}\".format(len(best), best.height))\n",
        "    print(\"-- Best Fitness = \", best.fitness.values[0])\n",
        "\n"
      ],
      "execution_count": null,
      "outputs": []
    },
    {
      "cell_type": "markdown",
      "metadata": {
        "id": "1iNO1aSl-vsz"
      },
      "source": [
        "Create our graphs using the averages across all the runs. Notice how we use standard deviation to show how much variation there is in the runs. \n",
        "\n",
        "Notice that if there's a big discrepancy between best and average the graphs can look like there's virtually no variation in the best score. If this happens, the first thing to do is verify if that is actually happening; you can do that by commenting out this line:\n",
        "\n",
        "**plt.errorbar(x, avgArray.mean(0), yerr=stdArray.mean(0),label=\"Average\",color=\"Red\")**"
      ]
    },
    {
      "cell_type": "code",
      "metadata": {
        "scrolled": true,
        "id": "I9pkkX0y-vsz"
      },
      "source": [
        "# Genetic Programming is done (all runs) - plot statistics:\n",
        "x = numpy.arange(0, MAX_GENERATIONS+1)\n",
        "avgArray = numpy.array(avgListFitness)\n",
        "stdArray = numpy.array(stdListFitness)\n",
        "minArray = numpy.array(minListFitness)\n",
        "maxArray = numpy.array(maxListFitness)\n",
        "plt.xlabel('Generation')\n",
        "plt.ylabel('Fitness')\n",
        "plt.title('Best and Average Fitness for Symbolic Regression')\n",
        "#plt.errorbar(x, avgArray.mean(0), yerr=stdArray.mean(0),label=\"Average\",color=\"Red\")\n",
        "plt.errorbar(x, minArray.mean(0), yerr=minArray.std(0),label=\"Best\", color=\"Green\")\n",
        "plt.show()"
      ],
      "execution_count": null,
      "outputs": []
    },
    {
      "cell_type": "markdown",
      "metadata": {
        "id": "exs0WZOL-vs0"
      },
      "source": [
        "Show the graph for size."
      ]
    },
    {
      "cell_type": "code",
      "metadata": {
        "id": "FPyIX7JT-vs0"
      },
      "source": [
        "# Genetic Programming is done (all runs) - plot statistics:\n",
        "x = numpy.arange(0, MAX_GENERATIONS+1)\n",
        "avgArray = numpy.array(avgListSize)\n",
        "stdArray = numpy.array(stdListSize)\n",
        "minArray = numpy.array(minListSize)\n",
        "maxArray = numpy.array(maxListSize)\n",
        "plt.xlabel('Generation')\n",
        "plt.ylabel('Size')\n",
        "plt.title('Best and Average Size for Symbolic Regression')\n",
        "plt.errorbar(x, avgArray.mean(0), yerr=stdArray.mean(0),label=\"Average\",color=\"Red\")\n",
        "plt.errorbar(x, minArray.mean(0), yerr=minArray.std(0),label=\"Best\", color=\"Blue\")\n",
        "plt.show()"
      ],
      "execution_count": null,
      "outputs": []
    }
  ]
}